{
 "cells": [
  {
   "cell_type": "markdown",
   "metadata": {
    "pycharm": {
     "name": "#%% md\n"
    }
   },
   "source": [
    "# CME538 - Introduction to Data Science\n",
    "## Lecture 3.2 - Importing Data from Different Sources\n",
    "\n",
    "### Lecture Structure\n",
    "1. [Delimited Formats](#section1)\n",
    "2. [Loosely Formatted Text](#section2)\n",
    "3. [Hierarchical Formats (JSON)](#section3)\n",
    "4. [Hierarchical Formats (XML)](#section4)\n",
    "5. [Binary Formats (HDF5)](#section5)\n",
    "6. [Web Technologies (HTTP)](#section6)\n",
    "7. [Web Technologies (REST API)](#section7)\n",
    "8. [Web Technologies (HTML)](#section8)\n",
    "9. [Web Technologies (Web Scraping)](#section9)"
   ]
  },
  {
   "cell_type": "markdown",
   "metadata": {
    "pycharm": {
     "name": "#%% md\n"
    }
   },
   "source": [
    "## Setup Notebook"
   ]
  },
  {
   "cell_type": "code",
   "execution_count": 3,
   "metadata": {
    "pycharm": {
     "name": "#%%\n"
    }
   },
   "outputs": [],
   "source": [
    "# Import 3rd party libraries\n",
    "import os\n",
    "import json \n",
    "import requests\n",
    "import numpy as np\n",
    "import pandas as pd\n",
    "import seaborn as sns\n",
    "from bs4 import BeautifulSoup\n",
    "import matplotlib.pyplot as plt\n",
    "import xml.etree.ElementTree as ET\n",
    "\n",
    "# Configure Notebook\n",
    "%matplotlib inline\n",
    "plt.style.use('fivethirtyeight')\n",
    "sns.set_context(\"notebook\")"
   ]
  },
  {
   "cell_type": "markdown",
   "metadata": {
    "pycharm": {
     "name": "#%% md\n"
    }
   },
   "source": [
    "### Install and Import h5py"
   ]
  },
  {
   "cell_type": "code",
   "execution_count": 3,
   "metadata": {
    "pycharm": {
     "name": "#%%\n"
    }
   },
   "outputs": [
    {
     "name": "stdout",
     "output_type": "stream",
     "text": [
      "Requirement already satisfied: h5py in c:\\users\\seb\\anaconda3\\lib\\site-packages (3.7.0)\n",
      "Requirement already satisfied: numpy>=1.14.5 in c:\\users\\seb\\anaconda3\\lib\\site-packages (from h5py) (1.23.5)\n"
     ]
    }
   ],
   "source": [
    "!pip install h5py"
   ]
  },
  {
   "cell_type": "code",
   "execution_count": 4,
   "metadata": {
    "pycharm": {
     "name": "#%%\n"
    }
   },
   "outputs": [],
   "source": [
    "import h5py"
   ]
  },
  {
   "cell_type": "markdown",
   "metadata": {
    "pycharm": {
     "name": "#%% md\n"
    }
   },
   "source": [
    "<a id='section1'></a>\n",
    "## 1. Delimited Formats\n",
    "Text files are human readable, in contrast to binary files, and can be opened using any text editor (Notepad, Sublime, etc.). Tabular (structured) data that is stored as a text file is often delimited using commas `,`, tabs `\\t`, spaces ` `, or pipes `|`. As long as its consistent, any character can be used to delimit a text file. These characters are used to delimit the different columns (fields) in a table. And rows are delimited by a `\\n` at the end of each row.\n",
    "\n",
    "### Comma-Separated Values (CSV)\n",
    "Let's try opening a `.csv`. This file contains 38765 rows of purchase orders from people at a grocery store. "
   ]
  },
  {
   "cell_type": "code",
   "execution_count": 5,
   "metadata": {
    "pycharm": {
     "name": "#%%\n"
    }
   },
   "outputs": [
    {
     "data": {
      "text/plain": [
       "'Member_number,Date,itemDescription\\n1808,21-07-2015,tropical fruit\\n2552,05-01-2015,whole milk\\n2300,19-09-2015,pip fruit\\n1187,12-12-2015,other vegetables\\n3037,01-02-2015,whole milk\\n4941,14-02-2015,rolls/buns\\n4501,08-05-2015,other vegetables\\n3803,23-12-2015,pot plants\\n2762,20-03-2015,whole milk\\n4119,12-02-2015,tropical fruit\\n1340,24-02-2015,citrus fruit\\n2193,14-04-2015,beef\\n1997,21-07-2015,frankfurter\\n4546,03-09-2015,chicken\\n4736,21-07-2015,butter\\n1959,30-03-2015,fruit/vegetable juice\\n1974,03-05-2015,packaged fruit/vegetables\\n2421,02-09-2015,chocolate\\n1513,03-08-2015,specialty bar\\n1905,07-07-2015,other vegetables\\n2810,08-09-2015,butter milk\\n2867,12-11-2015,whole milk\\n3962,18-09-2015,tropical fruit\\n1088,30-11-2015,tropical fruit\\n4976,17-07-2015,bottled water\\n4056,12-06-2015,yogurt\\n3611,13-02-2015,sausage\\n1420,14-01-2015,other vegetables\\n4286,08-03-2015,brown bread\\n4918,27-01-2015,yogurt\\n4783,22-10-2015,hamburger meat\\n3709,26-10-2015,root vegetables\\n4289,08-10-2015,pork\\n1559,03-10-2015,beef'"
      ]
     },
     "execution_count": 5,
     "metadata": {},
     "output_type": "execute_result"
    }
   ],
   "source": [
    "groceries = open('groceries_dataset.csv', 'r')\n",
    "groceries.read()[0:1000]"
   ]
  },
  {
   "cell_type": "code",
   "execution_count": 6,
   "metadata": {
    "pycharm": {
     "name": "#%%\n"
    }
   },
   "outputs": [
    {
     "data": {
      "text/html": [
       "<div>\n",
       "<style scoped>\n",
       "    .dataframe tbody tr th:only-of-type {\n",
       "        vertical-align: middle;\n",
       "    }\n",
       "\n",
       "    .dataframe tbody tr th {\n",
       "        vertical-align: top;\n",
       "    }\n",
       "\n",
       "    .dataframe thead th {\n",
       "        text-align: right;\n",
       "    }\n",
       "</style>\n",
       "<table border=\"1\" class=\"dataframe\">\n",
       "  <thead>\n",
       "    <tr style=\"text-align: right;\">\n",
       "      <th></th>\n",
       "      <th>Member_number</th>\n",
       "      <th>Date</th>\n",
       "      <th>itemDescription</th>\n",
       "    </tr>\n",
       "  </thead>\n",
       "  <tbody>\n",
       "    <tr>\n",
       "      <th>0</th>\n",
       "      <td>1808</td>\n",
       "      <td>21-07-2015</td>\n",
       "      <td>tropical fruit</td>\n",
       "    </tr>\n",
       "    <tr>\n",
       "      <th>1</th>\n",
       "      <td>2552</td>\n",
       "      <td>05-01-2015</td>\n",
       "      <td>whole milk</td>\n",
       "    </tr>\n",
       "    <tr>\n",
       "      <th>2</th>\n",
       "      <td>2300</td>\n",
       "      <td>19-09-2015</td>\n",
       "      <td>pip fruit</td>\n",
       "    </tr>\n",
       "    <tr>\n",
       "      <th>3</th>\n",
       "      <td>1187</td>\n",
       "      <td>12-12-2015</td>\n",
       "      <td>other vegetables</td>\n",
       "    </tr>\n",
       "    <tr>\n",
       "      <th>4</th>\n",
       "      <td>3037</td>\n",
       "      <td>01-02-2015</td>\n",
       "      <td>whole milk</td>\n",
       "    </tr>\n",
       "    <tr>\n",
       "      <th>5</th>\n",
       "      <td>4941</td>\n",
       "      <td>14-02-2015</td>\n",
       "      <td>rolls/buns</td>\n",
       "    </tr>\n",
       "    <tr>\n",
       "      <th>6</th>\n",
       "      <td>4501</td>\n",
       "      <td>08-05-2015</td>\n",
       "      <td>other vegetables</td>\n",
       "    </tr>\n",
       "    <tr>\n",
       "      <th>7</th>\n",
       "      <td>3803</td>\n",
       "      <td>23-12-2015</td>\n",
       "      <td>pot plants</td>\n",
       "    </tr>\n",
       "    <tr>\n",
       "      <th>8</th>\n",
       "      <td>2762</td>\n",
       "      <td>20-03-2015</td>\n",
       "      <td>whole milk</td>\n",
       "    </tr>\n",
       "    <tr>\n",
       "      <th>9</th>\n",
       "      <td>4119</td>\n",
       "      <td>12-02-2015</td>\n",
       "      <td>tropical fruit</td>\n",
       "    </tr>\n",
       "  </tbody>\n",
       "</table>\n",
       "</div>"
      ],
      "text/plain": [
       "   Member_number        Date   itemDescription\n",
       "0           1808  21-07-2015    tropical fruit\n",
       "1           2552  05-01-2015        whole milk\n",
       "2           2300  19-09-2015         pip fruit\n",
       "3           1187  12-12-2015  other vegetables\n",
       "4           3037  01-02-2015        whole milk\n",
       "5           4941  14-02-2015        rolls/buns\n",
       "6           4501  08-05-2015  other vegetables\n",
       "7           3803  23-12-2015        pot plants\n",
       "8           2762  20-03-2015        whole milk\n",
       "9           4119  12-02-2015    tropical fruit"
      ]
     },
     "execution_count": 6,
     "metadata": {},
     "output_type": "execute_result"
    }
   ],
   "source": [
    "groceries = pd.read_csv('groceries_dataset.csv')\n",
    "groceries.head(10)"
   ]
  },
  {
   "cell_type": "markdown",
   "metadata": {
    "pycharm": {
     "name": "#%% md\n"
    }
   },
   "source": [
    "### Tab-Separated Values (TSV)\n",
    "Let's try opening a `.tsv`. "
   ]
  },
  {
   "cell_type": "code",
   "execution_count": 7,
   "metadata": {
    "pycharm": {
     "name": "#%%\n"
    }
   },
   "outputs": [
    {
     "data": {
      "text/plain": [
       "'Member_number\\tDate\\titemDescription\\n1808\\t21-07-2015\\ttropical fruit\\n2552\\t05-01-2015\\twhole milk\\n2300\\t19-09-2015\\tpip fruit\\n1187\\t12-12-2015\\tother vegetables\\n3037\\t01-02-2015\\twhole milk\\n4941\\t14-02-2015\\trolls/buns\\n4501\\t08-05-2015\\tother vegetables\\n3803\\t23-12-2015\\tpot plants\\n2762\\t20-03-2015\\twhole milk\\n4119\\t12-02-2015\\ttropical fruit\\n1340\\t24-02-2015\\tcitrus fruit\\n2193\\t14-04-2015\\tbeef\\n1997\\t21-07-2015\\tfrankfurter\\n4546\\t03-09-2015\\tchicken\\n4736\\t21-07-2015\\tbutter\\n1959\\t30-03-2015\\tfruit/vegetable juice\\n1974\\t03-05-2015\\tpackaged fruit/vegetables\\n2421\\t02-09-2015\\tchocolate\\n1513\\t03-08-2015\\tspecialty bar\\n1905\\t07-07-2015\\tother vegetables\\n2810\\t08-09-2015\\tbutter milk\\n2867\\t12-11-2015\\twhole milk\\n3962\\t18-09-2015\\ttropical fruit\\n1088\\t30-11-2015\\ttropical fruit\\n4976\\t17-07-2015\\tbottled water\\n4056\\t12-06-2015\\tyogurt\\n3611\\t13-02-2015\\tsausage\\n1420\\t14-01-2015\\tother vegetables\\n4286\\t08-03-2015\\tbrown bread\\n4918\\t27-01-2015\\tyogurt\\n4783\\t22-10-2015\\thamburger meat\\n3709\\t26-10-2015\\troot vegetables\\n4289\\t08-10-2015\\tpork\\n1559\\t03-10-2015\\tbeef'"
      ]
     },
     "execution_count": 7,
     "metadata": {},
     "output_type": "execute_result"
    }
   ],
   "source": [
    "groceries = open('groceries_dataset.tsv', 'r')\n",
    "groceries.read()[0:1000]"
   ]
  },
  {
   "cell_type": "code",
   "execution_count": 8,
   "metadata": {
    "pycharm": {
     "name": "#%%\n"
    }
   },
   "outputs": [
    {
     "data": {
      "text/html": [
       "<div>\n",
       "<style scoped>\n",
       "    .dataframe tbody tr th:only-of-type {\n",
       "        vertical-align: middle;\n",
       "    }\n",
       "\n",
       "    .dataframe tbody tr th {\n",
       "        vertical-align: top;\n",
       "    }\n",
       "\n",
       "    .dataframe thead th {\n",
       "        text-align: right;\n",
       "    }\n",
       "</style>\n",
       "<table border=\"1\" class=\"dataframe\">\n",
       "  <thead>\n",
       "    <tr style=\"text-align: right;\">\n",
       "      <th></th>\n",
       "      <th>Member_number</th>\n",
       "      <th>Date</th>\n",
       "      <th>itemDescription</th>\n",
       "    </tr>\n",
       "  </thead>\n",
       "  <tbody>\n",
       "    <tr>\n",
       "      <th>0</th>\n",
       "      <td>1808</td>\n",
       "      <td>21-07-2015</td>\n",
       "      <td>tropical fruit</td>\n",
       "    </tr>\n",
       "    <tr>\n",
       "      <th>1</th>\n",
       "      <td>2552</td>\n",
       "      <td>05-01-2015</td>\n",
       "      <td>whole milk</td>\n",
       "    </tr>\n",
       "    <tr>\n",
       "      <th>2</th>\n",
       "      <td>2300</td>\n",
       "      <td>19-09-2015</td>\n",
       "      <td>pip fruit</td>\n",
       "    </tr>\n",
       "    <tr>\n",
       "      <th>3</th>\n",
       "      <td>1187</td>\n",
       "      <td>12-12-2015</td>\n",
       "      <td>other vegetables</td>\n",
       "    </tr>\n",
       "    <tr>\n",
       "      <th>4</th>\n",
       "      <td>3037</td>\n",
       "      <td>01-02-2015</td>\n",
       "      <td>whole milk</td>\n",
       "    </tr>\n",
       "    <tr>\n",
       "      <th>5</th>\n",
       "      <td>4941</td>\n",
       "      <td>14-02-2015</td>\n",
       "      <td>rolls/buns</td>\n",
       "    </tr>\n",
       "    <tr>\n",
       "      <th>6</th>\n",
       "      <td>4501</td>\n",
       "      <td>08-05-2015</td>\n",
       "      <td>other vegetables</td>\n",
       "    </tr>\n",
       "    <tr>\n",
       "      <th>7</th>\n",
       "      <td>3803</td>\n",
       "      <td>23-12-2015</td>\n",
       "      <td>pot plants</td>\n",
       "    </tr>\n",
       "    <tr>\n",
       "      <th>8</th>\n",
       "      <td>2762</td>\n",
       "      <td>20-03-2015</td>\n",
       "      <td>whole milk</td>\n",
       "    </tr>\n",
       "    <tr>\n",
       "      <th>9</th>\n",
       "      <td>4119</td>\n",
       "      <td>12-02-2015</td>\n",
       "      <td>tropical fruit</td>\n",
       "    </tr>\n",
       "  </tbody>\n",
       "</table>\n",
       "</div>"
      ],
      "text/plain": [
       "   Member_number        Date   itemDescription\n",
       "0           1808  21-07-2015    tropical fruit\n",
       "1           2552  05-01-2015        whole milk\n",
       "2           2300  19-09-2015         pip fruit\n",
       "3           1187  12-12-2015  other vegetables\n",
       "4           3037  01-02-2015        whole milk\n",
       "5           4941  14-02-2015        rolls/buns\n",
       "6           4501  08-05-2015  other vegetables\n",
       "7           3803  23-12-2015        pot plants\n",
       "8           2762  20-03-2015        whole milk\n",
       "9           4119  12-02-2015    tropical fruit"
      ]
     },
     "execution_count": 8,
     "metadata": {},
     "output_type": "execute_result"
    }
   ],
   "source": [
    "groceries = pd.read_csv('groceries_dataset.tsv', sep='\\t')\n",
    "groceries.head(10)"
   ]
  },
  {
   "cell_type": "markdown",
   "metadata": {
    "pycharm": {
     "name": "#%% md\n"
    }
   },
   "source": [
    "### Pipe-Separated Values (PSV) ??\n",
    "Let's try opening a `.psv` (I just made this up). "
   ]
  },
  {
   "cell_type": "code",
   "execution_count": 9,
   "metadata": {
    "pycharm": {
     "name": "#%%\n"
    }
   },
   "outputs": [
    {
     "data": {
      "text/plain": [
       "'Member_number|Date|itemDescription\\n1808|21-07-2015|tropical fruit\\n2552|05-01-2015|whole milk\\n2300|19-09-2015|pip fruit\\n1187|12-12-2015|other vegetables\\n3037|01-02-2015|whole milk\\n4941|14-02-2015|rolls/buns\\n4501|08-05-2015|other vegetables\\n3803|23-12-2015|pot plants\\n2762|20-03-2015|whole milk\\n4119|12-02-2015|tropical fruit\\n1340|24-02-2015|citrus fruit\\n2193|14-04-2015|beef\\n1997|21-07-2015|frankfurter\\n4546|03-09-2015|chicken\\n4736|21-07-2015|butter\\n1959|30-03-2015|fruit/vegetable juice\\n1974|03-05-2015|packaged fruit/vegetables\\n2421|02-09-2015|chocolate\\n1513|03-08-2015|specialty bar\\n1905|07-07-2015|other vegetables\\n2810|08-09-2015|butter milk\\n2867|12-11-2015|whole milk\\n3962|18-09-2015|tropical fruit\\n1088|30-11-2015|tropical fruit\\n4976|17-07-2015|bottled water\\n4056|12-06-2015|yogurt\\n3611|13-02-2015|sausage\\n1420|14-01-2015|other vegetables\\n4286|08-03-2015|brown bread\\n4918|27-01-2015|yogurt\\n4783|22-10-2015|hamburger meat\\n3709|26-10-2015|root vegetables\\n4289|08-10-2015|pork\\n1559|03-10-2015|beef'"
      ]
     },
     "execution_count": 9,
     "metadata": {},
     "output_type": "execute_result"
    }
   ],
   "source": [
    "groceries = open('groceries_dataset.psv', 'r')\n",
    "groceries.read()[0:1000]"
   ]
  },
  {
   "cell_type": "code",
   "execution_count": 10,
   "metadata": {
    "pycharm": {
     "name": "#%%\n"
    }
   },
   "outputs": [
    {
     "data": {
      "text/html": [
       "<div>\n",
       "<style scoped>\n",
       "    .dataframe tbody tr th:only-of-type {\n",
       "        vertical-align: middle;\n",
       "    }\n",
       "\n",
       "    .dataframe tbody tr th {\n",
       "        vertical-align: top;\n",
       "    }\n",
       "\n",
       "    .dataframe thead th {\n",
       "        text-align: right;\n",
       "    }\n",
       "</style>\n",
       "<table border=\"1\" class=\"dataframe\">\n",
       "  <thead>\n",
       "    <tr style=\"text-align: right;\">\n",
       "      <th></th>\n",
       "      <th>Member_number</th>\n",
       "      <th>Date</th>\n",
       "      <th>itemDescription</th>\n",
       "    </tr>\n",
       "  </thead>\n",
       "  <tbody>\n",
       "    <tr>\n",
       "      <th>0</th>\n",
       "      <td>1808</td>\n",
       "      <td>21-07-2015</td>\n",
       "      <td>tropical fruit</td>\n",
       "    </tr>\n",
       "    <tr>\n",
       "      <th>1</th>\n",
       "      <td>2552</td>\n",
       "      <td>05-01-2015</td>\n",
       "      <td>whole milk</td>\n",
       "    </tr>\n",
       "    <tr>\n",
       "      <th>2</th>\n",
       "      <td>2300</td>\n",
       "      <td>19-09-2015</td>\n",
       "      <td>pip fruit</td>\n",
       "    </tr>\n",
       "    <tr>\n",
       "      <th>3</th>\n",
       "      <td>1187</td>\n",
       "      <td>12-12-2015</td>\n",
       "      <td>other vegetables</td>\n",
       "    </tr>\n",
       "    <tr>\n",
       "      <th>4</th>\n",
       "      <td>3037</td>\n",
       "      <td>01-02-2015</td>\n",
       "      <td>whole milk</td>\n",
       "    </tr>\n",
       "    <tr>\n",
       "      <th>5</th>\n",
       "      <td>4941</td>\n",
       "      <td>14-02-2015</td>\n",
       "      <td>rolls/buns</td>\n",
       "    </tr>\n",
       "    <tr>\n",
       "      <th>6</th>\n",
       "      <td>4501</td>\n",
       "      <td>08-05-2015</td>\n",
       "      <td>other vegetables</td>\n",
       "    </tr>\n",
       "    <tr>\n",
       "      <th>7</th>\n",
       "      <td>3803</td>\n",
       "      <td>23-12-2015</td>\n",
       "      <td>pot plants</td>\n",
       "    </tr>\n",
       "    <tr>\n",
       "      <th>8</th>\n",
       "      <td>2762</td>\n",
       "      <td>20-03-2015</td>\n",
       "      <td>whole milk</td>\n",
       "    </tr>\n",
       "    <tr>\n",
       "      <th>9</th>\n",
       "      <td>4119</td>\n",
       "      <td>12-02-2015</td>\n",
       "      <td>tropical fruit</td>\n",
       "    </tr>\n",
       "  </tbody>\n",
       "</table>\n",
       "</div>"
      ],
      "text/plain": [
       "   Member_number        Date   itemDescription\n",
       "0           1808  21-07-2015    tropical fruit\n",
       "1           2552  05-01-2015        whole milk\n",
       "2           2300  19-09-2015         pip fruit\n",
       "3           1187  12-12-2015  other vegetables\n",
       "4           3037  01-02-2015        whole milk\n",
       "5           4941  14-02-2015        rolls/buns\n",
       "6           4501  08-05-2015  other vegetables\n",
       "7           3803  23-12-2015        pot plants\n",
       "8           2762  20-03-2015        whole milk\n",
       "9           4119  12-02-2015    tropical fruit"
      ]
     },
     "execution_count": 10,
     "metadata": {},
     "output_type": "execute_result"
    }
   ],
   "source": [
    "groceries = pd.read_csv('groceries_dataset.psv', sep='|')\n",
    "groceries.head(10)"
   ]
  },
  {
   "cell_type": "markdown",
   "metadata": {
    "pycharm": {
     "name": "#%% md\n"
    }
   },
   "source": [
    "Most of the time, you'll be dealing with `.csv` files when working with tabular files."
   ]
  },
  {
   "cell_type": "markdown",
   "metadata": {
    "pycharm": {
     "name": "#%% md\n"
    }
   },
   "source": [
    "<a id='section2'></a>\n",
    "## 2. Loosely Formatted Text\n",
    "The [NOAA - Great Lakes Environmental Research Laboratory](https://www.glerl.noaa.gov/res/glcfs/) (GLERL) dataset contains forecasts and measurements for Ice Cover, Wave Height, Current Direction, Wind Speed, and others. \n",
    "<br>\n",
    "<img src=\"images/noaa.gif\" alt=\"drawing\" width=\"700\"/>\n",
    "<br>\n",
    "The file is human readable, however, it is not tabular and therefore, cannot be easily imported into a Pandas DataFrame. Don't believe me? Let's give it a try.\n",
    "\n",
    "First, let's take a look at the file in a text editor. I recommend using [Sublime](https://www.sublimetext.com/). From the text editor, we can see that the fields seems to be delimited by tabs or spaces so lets used `.read_csv` to import our file."
   ]
  },
  {
   "cell_type": "code",
   "execution_count": 11,
   "metadata": {
    "pycharm": {
     "name": "#%%\n"
    }
   },
   "outputs": [
    {
     "data": {
      "text/html": [
       "<div>\n",
       "<style scoped>\n",
       "    .dataframe tbody tr th:only-of-type {\n",
       "        vertical-align: middle;\n",
       "    }\n",
       "\n",
       "    .dataframe tbody tr th {\n",
       "        vertical-align: top;\n",
       "    }\n",
       "\n",
       "    .dataframe thead th {\n",
       "        text-align: right;\n",
       "    }\n",
       "</style>\n",
       "<table border=\"1\" class=\"dataframe\">\n",
       "  <thead>\n",
       "    <tr style=\"text-align: right;\">\n",
       "      <th></th>\n",
       "      <th>2020 277 13     /glcfs/bathy/erie2km.dat       WAVES                  6436</th>\n",
       "    </tr>\n",
       "  </thead>\n",
       "  <tbody>\n",
       "    <tr>\n",
       "      <th>0</th>\n",
       "      <td>1   0.121  119  1.7</td>\n",
       "    </tr>\n",
       "    <tr>\n",
       "      <th>1</th>\n",
       "      <td>2   0.174  124  2.0</td>\n",
       "    </tr>\n",
       "    <tr>\n",
       "      <th>2</th>\n",
       "      <td>3   0.079   98  1.2</td>\n",
       "    </tr>\n",
       "    <tr>\n",
       "      <th>3</th>\n",
       "      <td>4   0.153  103  1.9</td>\n",
       "    </tr>\n",
       "    <tr>\n",
       "      <th>4</th>\n",
       "      <td>5   0.212  114  2.3</td>\n",
       "    </tr>\n",
       "    <tr>\n",
       "      <th>5</th>\n",
       "      <td>6   0.252  117  2.5</td>\n",
       "    </tr>\n",
       "    <tr>\n",
       "      <th>6</th>\n",
       "      <td>7   0.285  113  2.6</td>\n",
       "    </tr>\n",
       "    <tr>\n",
       "      <th>7</th>\n",
       "      <td>8   0.310  113  2.7</td>\n",
       "    </tr>\n",
       "    <tr>\n",
       "      <th>8</th>\n",
       "      <td>9   0.055   88  0.9</td>\n",
       "    </tr>\n",
       "    <tr>\n",
       "      <th>9</th>\n",
       "      <td>10   0.122   99  1.5</td>\n",
       "    </tr>\n",
       "  </tbody>\n",
       "</table>\n",
       "</div>"
      ],
      "text/plain": [
       "  2020 277 13     /glcfs/bathy/erie2km.dat       WAVES                  6436\n",
       "0                                1   0.121  119  1.7                        \n",
       "1                                2   0.174  124  2.0                        \n",
       "2                                3   0.079   98  1.2                        \n",
       "3                                4   0.153  103  1.9                        \n",
       "4                                5   0.212  114  2.3                        \n",
       "5                                6   0.252  117  2.5                        \n",
       "6                                7   0.285  113  2.6                        \n",
       "7                                8   0.310  113  2.7                        \n",
       "8                                9   0.055   88  0.9                        \n",
       "9                               10   0.122   99  1.5                        "
      ]
     },
     "execution_count": 11,
     "metadata": {},
     "output_type": "execute_result"
    }
   ],
   "source": [
    "noaa = pd.read_csv('e202027712.0.wav', sep='\\t')\n",
    "noaa.head(10)"
   ]
  },
  {
   "cell_type": "markdown",
   "metadata": {
    "pycharm": {
     "name": "#%% md\n"
    }
   },
   "source": [
    "Something doesn't look right here. Let's try opening the file using the `open()` function which returns a file object, which has helpful methods (`.read()`, `.readline()`) for reading the content of the file. "
   ]
  },
  {
   "cell_type": "code",
   "execution_count": 12,
   "metadata": {
    "pycharm": {
     "name": "#%%\n"
    }
   },
   "outputs": [
    {
     "name": "stdout",
     "output_type": "stream",
     "text": [
      "<_io.TextIOWrapper name='e202027712.0.wav' mode='r' encoding='cp1252'>\n"
     ]
    }
   ],
   "source": [
    "noaa = open('e202027712.0.wav', 'r')\n",
    "print(noaa)"
   ]
  },
  {
   "cell_type": "markdown",
   "metadata": {
    "pycharm": {
     "name": "#%% md\n"
    }
   },
   "source": [
    "We can see that the `noaa` variable is a file object. The file class hass a method for reading one line of a file."
   ]
  },
  {
   "cell_type": "code",
   "execution_count": 13,
   "metadata": {
    "pycharm": {
     "name": "#%%\n"
    }
   },
   "outputs": [
    {
     "name": "stdout",
     "output_type": "stream",
     "text": [
      "2020 277 13     /glcfs/bathy/erie2km.dat       WAVES                  6436\n",
      "\n"
     ]
    }
   ],
   "source": [
    "print(noaa.readline())"
   ]
  },
  {
   "cell_type": "code",
   "execution_count": 14,
   "metadata": {
    "pycharm": {
     "name": "#%%\n"
    }
   },
   "outputs": [
    {
     "name": "stdout",
     "output_type": "stream",
     "text": [
      "     1   0.121  119  1.7\n",
      "\n"
     ]
    }
   ],
   "source": [
    "print(noaa.readline())"
   ]
  },
  {
   "cell_type": "code",
   "execution_count": 15,
   "metadata": {
    "pycharm": {
     "name": "#%%\n"
    }
   },
   "outputs": [
    {
     "name": "stdout",
     "output_type": "stream",
     "text": [
      "     2   0.174  124  2.0\n",
      "\n"
     ]
    }
   ],
   "source": [
    "print(noaa.readline())"
   ]
  },
  {
   "cell_type": "code",
   "execution_count": 16,
   "metadata": {
    "pycharm": {
     "name": "#%%\n"
    }
   },
   "outputs": [
    {
     "name": "stdout",
     "output_type": "stream",
     "text": [
      "     3   0.079   98  1.2\n",
      "\n"
     ]
    }
   ],
   "source": [
    "print(noaa.readline())"
   ]
  },
  {
   "cell_type": "markdown",
   "metadata": {
    "pycharm": {
     "name": "#%% md\n"
    }
   },
   "source": [
    "We can also use `.readline()` in a `for` loop."
   ]
  },
  {
   "cell_type": "code",
   "execution_count": 17,
   "metadata": {
    "pycharm": {
     "name": "#%%\n"
    }
   },
   "outputs": [
    {
     "name": "stdout",
     "output_type": "stream",
     "text": [
      "     4   0.153  103  1.9\n",
      "\n",
      "     5   0.212  114  2.3\n",
      "\n",
      "     6   0.252  117  2.5\n",
      "\n",
      "     7   0.285  113  2.6\n",
      "\n",
      "     8   0.310  113  2.7\n",
      "\n",
      "     9   0.055   88  0.9\n",
      "\n",
      "    10   0.122   99  1.5\n",
      "\n",
      "    11   0.193  100  2.0\n",
      "\n",
      "    12   0.249  101  2.3\n",
      "\n",
      "    13   0.296  102  2.7\n",
      "\n"
     ]
    }
   ],
   "source": [
    "for _ in range(10):\n",
    "    print(noaa.readline())"
   ]
  },
  {
   "cell_type": "markdown",
   "metadata": {
    "pycharm": {
     "name": "#%% md\n"
    }
   },
   "source": [
    "If we want to return to the beginning of the file, we must open the file again. "
   ]
  },
  {
   "cell_type": "code",
   "execution_count": 18,
   "metadata": {
    "pycharm": {
     "name": "#%%\n"
    }
   },
   "outputs": [
    {
     "name": "stdout",
     "output_type": "stream",
     "text": [
      "2020 277 13     /glcfs/bathy/erie2km.dat       WAVES                  6436\n",
      "\n",
      "     1   0.121  119  1.7\n",
      "\n",
      "     2   0.174  124  2.0\n",
      "\n",
      "     3   0.079   98  1.2\n",
      "\n",
      "     4   0.153  103  1.9\n",
      "\n",
      "     5   0.212  114  2.3\n",
      "\n",
      "     6   0.252  117  2.5\n",
      "\n",
      "     7   0.285  113  2.6\n",
      "\n",
      "     8   0.310  113  2.7\n",
      "\n",
      "     9   0.055   88  0.9\n",
      "\n"
     ]
    }
   ],
   "source": [
    "noaa = open('e202027712.0.wav', 'r')\n",
    "for _ in range(10):\n",
    "    print(noaa.readline())"
   ]
  },
  {
   "cell_type": "markdown",
   "metadata": {
    "pycharm": {
     "name": "#%% md\n"
    }
   },
   "source": [
    "The `.read()` method, on the other hand, reads the file as an individual string, and allows for relatively easy file-wide manipulations. Below, lets display the first 1000 characters from the file."
   ]
  },
  {
   "cell_type": "code",
   "execution_count": 19,
   "metadata": {
    "pycharm": {
     "name": "#%%\n"
    },
    "scrolled": true
   },
   "outputs": [
    {
     "data": {
      "text/plain": [
       "'2020 277 13     /glcfs/bathy/erie2km.dat       WAVES                  6436\\n     1   0.121  119  1.7\\n     2   0.174  124  2.0\\n     3   0.079   98  1.2\\n     4   0.153  103  1.9\\n     5   0.212  114  2.3\\n     6   0.252  117  2.5\\n     7   0.285  113  2.6\\n     8   0.310  113  2.7\\n     9   0.055   88  0.9\\n    10   0.122   99  1.5\\n    11   0.193  100  2.0\\n    12   0.249  101  2.3\\n    13   0.296  102  2.7\\n    14   0.333  103  2.8\\n    15   0.361  105  2.9\\n    16   0.384  105  3.0\\n    17   0.402  106  3.1\\n    18   0.121   51  1.3\\n    19   0.145   66  1.5\\n    20   0.193   84  1.8\\n    21   0.257   93  2.2\\n    22   0.307   95  2.5\\n    23   0.343   96  2.7\\n    24   0.373   96  2.9\\n    25   0.395   97  3.0\\n    26   0.410   99  3.1\\n    27   0.427  101  3.2\\n    28   0.442  101  3.3\\n    29   0.456  102  3.3\\n    30   0.472  102  3.4\\n    31   0.488  103  3.4\\n    32   0.504  103  3.5\\n    33   0.037   88  0.7\\n    34   0.040   85  0.7\\n    35   0.081   87  1.1\\n    36   0.158   89  1.6\\n    37   0.221   89  2.0\\n'"
      ]
     },
     "execution_count": 19,
     "metadata": {},
     "output_type": "execute_result"
    }
   ],
   "source": [
    "noaa = open('e202027712.0.wav', 'r')\n",
    "noaa.read()[0:1000]"
   ]
  },
  {
   "cell_type": "markdown",
   "metadata": {
    "pycharm": {
     "name": "#%% md\n"
    }
   },
   "source": [
    "And now lets print the first 1000 characters from the file, which created a new line from `\\n` newline character."
   ]
  },
  {
   "cell_type": "code",
   "execution_count": 20,
   "metadata": {
    "pycharm": {
     "name": "#%%\n"
    }
   },
   "outputs": [
    {
     "name": "stdout",
     "output_type": "stream",
     "text": [
      "2020 277 13     /glcfs/bathy/erie2km.dat       WAVES                  6436\n",
      "     1   0.121  119  1.7\n",
      "     2   0.174  124  2.0\n",
      "     3   0.079   98  1.2\n",
      "     4   0.153  103  1.9\n",
      "     5   0.212  114  2.3\n",
      "     6   0.252  117  2.5\n",
      "     7   0.285  113  2.6\n",
      "     8   0.310  113  2.7\n",
      "     9   0.055   88  0.9\n",
      "    10   0.122   99  1.5\n",
      "    11   0.193  100  2.0\n",
      "    12   0.249  101  2.3\n",
      "    13   0.296  102  2.7\n",
      "    14   0.333  103  2.8\n",
      "    15   0.361  105  2.9\n",
      "    16   0.384  105  3.0\n",
      "    17   0.402  106  3.1\n",
      "    18   0.121   51  1.3\n",
      "    19   0.145   66  1.5\n",
      "    20   0.193   84  1.8\n",
      "    21   0.257   93  2.2\n",
      "    22   0.307   95  2.5\n",
      "    23   0.343   96  2.7\n",
      "    24   0.373   96  2.9\n",
      "    25   0.395   97  3.0\n",
      "    26   0.410   99  3.1\n",
      "    27   0.427  101  3.2\n",
      "    28   0.442  101  3.3\n",
      "    29   0.456  102  3.3\n",
      "    30   0.472  102  3.4\n",
      "    31   0.488  103  3.4\n",
      "    32   0.504  103  3.5\n",
      "    33   0.037   88  0.7\n",
      "    34   0.040   85  0.7\n",
      "    35   0.081   87  1.1\n",
      "    36   0.158   89  1.6\n",
      "    37   0.221   89  2.0\n",
      "\n"
     ]
    }
   ],
   "source": [
    "noaa = open('e202027712.0.wav', 'r')\n",
    "print(noaa.read()[0:1000])\n",
    "noaa.close()"
   ]
  },
  {
   "cell_type": "markdown",
   "metadata": {
    "pycharm": {
     "name": "#%% md\n"
    }
   },
   "source": [
    "<a id='section3'></a>\n",
    "## 3. Hierarchical Formats (JSON)\n",
    "JavaScript Object Notation (JSON) is a lightweight data format that easy for humans to read and write. JSON is easy for machines to parse and generate and is based on the JavaScript Programming Language Standard. JSON is a text format that is programming language independent and can be early parsed using Python, Ruby, Pearl and many others.\n",
    "\n",
    "JSON is built on two structures:\n",
    "\n",
    "1. A collection of name/value pairs. This is realized as an object, record, dictionary, hash table, keyed list, or associative array.\n",
    "2. An ordered list of values. This is realized as an array, vector, list, or sequence.\n",
    "\n",
    "There are several third party packages that can be used to program with JSON files, however, Python includes a native package `json`, which we imported at the start of this notebook.\n",
    "\n",
    "```python\n",
    "import json\n",
    "```\n",
    "\n",
    "The JSON format is used primarily to transmit data between a server and web application, which we'll see more of in Section 7 [API](#section7) and 8 [HTML](#section8). As as example, we'll be working with the [Twitter](https://twitter.com/) JSON structure for tweets. \n",
    "\n",
    "Let's take a look at the Twitter tweet below,\n",
    "<br>\n",
    "<img src=\"images/tweet.png\" alt=\"drawing\" width=\"500\"/>\n",
    "<br>\n",
    "and the associated JSON file.\n",
    "```json\n",
    "{\n",
    "  \"created_at\": \"Thu Apr 06 15:24:15 +0000 2017\",\n",
    "  \"id_str\": \"850006245121695744\",\n",
    "  \"text\": \"1\\/ Today we\\u2019re sharing our vision for the future of the Twitter API platform!\\nhttps:\\/\\/t.co\\/XweGngmxlP\",\n",
    "  \"user\": {\n",
    "    \"id\": 2244994945,\n",
    "    \"name\": \"Twitter Dev\",\n",
    "    \"screen_name\": \"TwitterDev\",\n",
    "    \"location\": \"Internet\",\n",
    "    \"url\": \"https:\\/\\/dev.twitter.com\\/\",\n",
    "    \"description\": \"Your official source for Twitter Platform news, updates & events. Need technical help? Visit https:\\/\\/twittercommunity.com\\/ \\u2328\\ufe0f #TapIntoTwitter\"\n",
    "  },\n",
    "  \"place\": {   \n",
    "  },\n",
    "  \"entities\": {\n",
    "    \"hashtags\": [      \n",
    "    ],\n",
    "    \"urls\": [\n",
    "      {\n",
    "        \"url\": \"https:\\/\\/t.co\\/XweGngmxlP\",\n",
    "        \"unwound\": {\n",
    "          \"url\": \"https:\\/\\/cards.twitter.com\\/cards\\/18ce53wgo4h\\/3xo1c\",\n",
    "          \"title\": \"Building the Future of the Twitter API Platform\"\n",
    "        }\n",
    "      }\n",
    "    ],\n",
    "    \"user_mentions\": [     \n",
    "    ]\n",
    "  }\n",
    "}\n",
    "```\n",
    "You'll notice that the data structure is very similar to Python Dictionaries. \n",
    "\n",
    "#### Import\n",
    "First, let's learn how to load a JSON file into Python as a Dictionary. There are two methods for parsing JSON, `json.load()` and `json.loads()`. \n",
    "\n",
    "**`json.load()`** can deserialize a file (it accepts a file object)."
   ]
  },
  {
   "cell_type": "code",
   "execution_count": 21,
   "metadata": {
    "pycharm": {
     "name": "#%%\n"
    }
   },
   "outputs": [
    {
     "data": {
      "text/plain": [
       "{'created_at': 'Thu Apr 06 15:24:15 +0000 2017',\n",
       " 'id_str': '850006245121695744',\n",
       " 'text': '1/ Today we’re sharing our vision for the future of the Twitter API platform!\\nhttps://t.co/XweGngmxlP',\n",
       " 'user': {'id': 2244994945,\n",
       "  'name': 'Twitter Dev',\n",
       "  'screen_name': 'TwitterDev',\n",
       "  'location': 'Internet',\n",
       "  'url': 'https://dev.twitter.com/',\n",
       "  'description': 'Your official source for Twitter Platform news, updates & events. Need technical help? Visit https://twittercommunity.com/ ⌨️ #TapIntoTwitter'},\n",
       " 'place': {},\n",
       " 'entities': {'hashtags': [],\n",
       "  'urls': [{'url': 'https://t.co/XweGngmxlP',\n",
       "    'unwound': {'url': 'https://cards.twitter.com/cards/18ce53wgo4h/3xo1c',\n",
       "     'title': 'Building the Future of the Twitter API Platform'}}],\n",
       "  'user_mentions': []}}"
      ]
     },
     "execution_count": 21,
     "metadata": {},
     "output_type": "execute_result"
    }
   ],
   "source": [
    "tweet = json.load(open('tweet.json'))\n",
    "tweet"
   ]
  },
  {
   "cell_type": "markdown",
   "metadata": {
    "pycharm": {
     "name": "#%% md\n"
    }
   },
   "source": [
    "The following is a useful function for printing JSONs with the correct indentation to improve readability."
   ]
  },
  {
   "cell_type": "code",
   "execution_count": 22,
   "metadata": {
    "pycharm": {
     "name": "#%%\n"
    }
   },
   "outputs": [],
   "source": [
    "def json_print(obj):\n",
    "    text = json.dumps(obj, sort_keys=True, indent=4)\n",
    "    print(text)"
   ]
  },
  {
   "cell_type": "code",
   "execution_count": 23,
   "metadata": {
    "pycharm": {
     "name": "#%%\n"
    }
   },
   "outputs": [
    {
     "name": "stdout",
     "output_type": "stream",
     "text": [
      "{\n",
      "    \"created_at\": \"Thu Apr 06 15:24:15 +0000 2017\",\n",
      "    \"entities\": {\n",
      "        \"hashtags\": [],\n",
      "        \"urls\": [\n",
      "            {\n",
      "                \"unwound\": {\n",
      "                    \"title\": \"Building the Future of the Twitter API Platform\",\n",
      "                    \"url\": \"https://cards.twitter.com/cards/18ce53wgo4h/3xo1c\"\n",
      "                },\n",
      "                \"url\": \"https://t.co/XweGngmxlP\"\n",
      "            }\n",
      "        ],\n",
      "        \"user_mentions\": []\n",
      "    },\n",
      "    \"id_str\": \"850006245121695744\",\n",
      "    \"place\": {},\n",
      "    \"text\": \"1/ Today we\\u2019re sharing our vision for the future of the Twitter API platform!\\nhttps://t.co/XweGngmxlP\",\n",
      "    \"user\": {\n",
      "        \"description\": \"Your official source for Twitter Platform news, updates & events. Need technical help? Visit https://twittercommunity.com/ \\u2328\\ufe0f #TapIntoTwitter\",\n",
      "        \"id\": 2244994945,\n",
      "        \"location\": \"Internet\",\n",
      "        \"name\": \"Twitter Dev\",\n",
      "        \"screen_name\": \"TwitterDev\",\n",
      "        \"url\": \"https://dev.twitter.com/\"\n",
      "    }\n",
      "}\n"
     ]
    }
   ],
   "source": [
    "json_print(tweet)"
   ]
  },
  {
   "cell_type": "markdown",
   "metadata": {
    "pycharm": {
     "name": "#%% md\n"
    }
   },
   "source": [
    "The variable `tweet` is now a Python Dictionary."
   ]
  },
  {
   "cell_type": "code",
   "execution_count": 24,
   "metadata": {
    "pycharm": {
     "name": "#%%\n"
    }
   },
   "outputs": [
    {
     "data": {
      "text/plain": [
       "dict"
      ]
     },
     "execution_count": 24,
     "metadata": {},
     "output_type": "execute_result"
    }
   ],
   "source": [
    "type(tweet)"
   ]
  },
  {
   "cell_type": "markdown",
   "metadata": {
    "pycharm": {
     "name": "#%% md\n"
    }
   },
   "source": [
    "**`json.loads()`** deserializes a string (the `s` stands for String - \"load string\")."
   ]
  },
  {
   "cell_type": "code",
   "execution_count": 25,
   "metadata": {
    "pycharm": {
     "name": "#%%\n"
    }
   },
   "outputs": [
    {
     "data": {
      "text/plain": [
       "{'name': 'Sebastian', 'age': 35}"
      ]
     },
     "execution_count": 25,
     "metadata": {},
     "output_type": "execute_result"
    }
   ],
   "source": [
    "json_string = '{\"name\": \"Sebastian\", \"age\": 35}'\n",
    "json_dict = json.loads(json_string)\n",
    "json_dict"
   ]
  },
  {
   "cell_type": "markdown",
   "metadata": {
    "pycharm": {
     "name": "#%% md\n"
    }
   },
   "source": [
    "#### Save\n",
    "Like with importing JSONs, there are two functions for saving JSON files, `json.dump()` and `json.dumps()`.\n",
    "\n",
    "**`json.dump()`** is used to write Python serialized object as JSON formatted data into a file. For example, if we take the `tweet` dictionary, we can save it to a file using `json.dump()`."
   ]
  },
  {
   "cell_type": "code",
   "execution_count": 29,
   "metadata": {
    "pycharm": {
     "name": "#%%\n"
    }
   },
   "outputs": [],
   "source": [
    "with open('test_file.json', 'w') as f:\n",
    "    json.dump(tweet, f) # indent=4"
   ]
  },
  {
   "cell_type": "markdown",
   "metadata": {
    "pycharm": {
     "name": "#%% md\n"
    }
   },
   "source": [
    "**`json.dumps()`** encodes any Python object into JSON formatted String. For example, if we take the `tweet` dictionary, we can save it to a string using `json.dumps()`."
   ]
  },
  {
   "cell_type": "code",
   "execution_count": 27,
   "metadata": {
    "pycharm": {
     "name": "#%%\n"
    }
   },
   "outputs": [
    {
     "data": {
      "text/plain": [
       "'{\"created_at\": \"Thu Apr 06 15:24:15 +0000 2017\", \"id_str\": \"850006245121695744\", \"text\": \"1/ Today we\\\\u2019re sharing our vision for the future of the Twitter API platform!\\\\nhttps://t.co/XweGngmxlP\", \"user\": {\"id\": 2244994945, \"name\": \"Twitter Dev\", \"screen_name\": \"TwitterDev\", \"location\": \"Internet\", \"url\": \"https://dev.twitter.com/\", \"description\": \"Your official source for Twitter Platform news, updates & events. Need technical help? Visit https://twittercommunity.com/ \\\\u2328\\\\ufe0f #TapIntoTwitter\"}, \"place\": {}, \"entities\": {\"hashtags\": [], \"urls\": [{\"url\": \"https://t.co/XweGngmxlP\", \"unwound\": {\"url\": \"https://cards.twitter.com/cards/18ce53wgo4h/3xo1c\", \"title\": \"Building the Future of the Twitter API Platform\"}}], \"user_mentions\": []}}'"
      ]
     },
     "execution_count": 27,
     "metadata": {},
     "output_type": "execute_result"
    }
   ],
   "source": [
    "json_string = json.dumps(tweet)\n",
    "json_string "
   ]
  },
  {
   "cell_type": "markdown",
   "metadata": {
    "pycharm": {
     "name": "#%% md\n"
    }
   },
   "source": [
    "Although they appear similar, there are some important differences between Python Dictionaries and JSONs.\n",
    "\n",
    "| Python  | JSON   |\n",
    "|---------|--------|\n",
    "|dict\t  | Object | \n",
    "|list\t  | Array  | \n",
    "|tuple\t  | Array  |\n",
    "|str\t  | String |\n",
    "|int\t  | Number |\n",
    "|float\t  | Number |\n",
    "|True\t  | true   |\n",
    "|False\t  | false  |\n",
    "|None\t  | null   |\n",
    "\n",
    "For example, this means that you cannot include a tuple or a list in a JSON. They will both be incoded as an array. Similarly, you cannot encode a NumPy array in a JSON. Let's give it a try."
   ]
  },
  {
   "cell_type": "code",
   "execution_count": 28,
   "metadata": {
    "pycharm": {
     "name": "#%%\n"
    }
   },
   "outputs": [
    {
     "ename": "TypeError",
     "evalue": "Object of type ndarray is not JSON serializable",
     "output_type": "error",
     "traceback": [
      "\u001b[1;31m---------------------------------------------------------------------------\u001b[0m",
      "\u001b[1;31mTypeError\u001b[0m                                 Traceback (most recent call last)",
      "Cell \u001b[1;32mIn[28], line 2\u001b[0m\n\u001b[0;32m      1\u001b[0m sample_data \u001b[38;5;241m=\u001b[39m {\u001b[38;5;124m'\u001b[39m\u001b[38;5;124mcounts\u001b[39m\u001b[38;5;124m'\u001b[39m: np\u001b[38;5;241m.\u001b[39marray([\u001b[38;5;241m0\u001b[39m, \u001b[38;5;241m5\u001b[39m, \u001b[38;5;241m4\u001b[39m, \u001b[38;5;241m10\u001b[39m, \u001b[38;5;241m45\u001b[39m])} \n\u001b[1;32m----> 2\u001b[0m json_string \u001b[38;5;241m=\u001b[39m \u001b[43mjson\u001b[49m\u001b[38;5;241;43m.\u001b[39;49m\u001b[43mdumps\u001b[49m\u001b[43m(\u001b[49m\u001b[43msample_data\u001b[49m\u001b[43m)\u001b[49m\n\u001b[0;32m      3\u001b[0m json_string\n",
      "File \u001b[1;32m~\\anaconda3\\lib\\json\\__init__.py:231\u001b[0m, in \u001b[0;36mdumps\u001b[1;34m(obj, skipkeys, ensure_ascii, check_circular, allow_nan, cls, indent, separators, default, sort_keys, **kw)\u001b[0m\n\u001b[0;32m    226\u001b[0m \u001b[38;5;66;03m# cached encoder\u001b[39;00m\n\u001b[0;32m    227\u001b[0m \u001b[38;5;28;01mif\u001b[39;00m (\u001b[38;5;129;01mnot\u001b[39;00m skipkeys \u001b[38;5;129;01mand\u001b[39;00m ensure_ascii \u001b[38;5;129;01mand\u001b[39;00m\n\u001b[0;32m    228\u001b[0m     check_circular \u001b[38;5;129;01mand\u001b[39;00m allow_nan \u001b[38;5;129;01mand\u001b[39;00m\n\u001b[0;32m    229\u001b[0m     \u001b[38;5;28mcls\u001b[39m \u001b[38;5;129;01mis\u001b[39;00m \u001b[38;5;28;01mNone\u001b[39;00m \u001b[38;5;129;01mand\u001b[39;00m indent \u001b[38;5;129;01mis\u001b[39;00m \u001b[38;5;28;01mNone\u001b[39;00m \u001b[38;5;129;01mand\u001b[39;00m separators \u001b[38;5;129;01mis\u001b[39;00m \u001b[38;5;28;01mNone\u001b[39;00m \u001b[38;5;129;01mand\u001b[39;00m\n\u001b[0;32m    230\u001b[0m     default \u001b[38;5;129;01mis\u001b[39;00m \u001b[38;5;28;01mNone\u001b[39;00m \u001b[38;5;129;01mand\u001b[39;00m \u001b[38;5;129;01mnot\u001b[39;00m sort_keys \u001b[38;5;129;01mand\u001b[39;00m \u001b[38;5;129;01mnot\u001b[39;00m kw):\n\u001b[1;32m--> 231\u001b[0m     \u001b[38;5;28;01mreturn\u001b[39;00m \u001b[43m_default_encoder\u001b[49m\u001b[38;5;241;43m.\u001b[39;49m\u001b[43mencode\u001b[49m\u001b[43m(\u001b[49m\u001b[43mobj\u001b[49m\u001b[43m)\u001b[49m\n\u001b[0;32m    232\u001b[0m \u001b[38;5;28;01mif\u001b[39;00m \u001b[38;5;28mcls\u001b[39m \u001b[38;5;129;01mis\u001b[39;00m \u001b[38;5;28;01mNone\u001b[39;00m:\n\u001b[0;32m    233\u001b[0m     \u001b[38;5;28mcls\u001b[39m \u001b[38;5;241m=\u001b[39m JSONEncoder\n",
      "File \u001b[1;32m~\\anaconda3\\lib\\json\\encoder.py:199\u001b[0m, in \u001b[0;36mJSONEncoder.encode\u001b[1;34m(self, o)\u001b[0m\n\u001b[0;32m    195\u001b[0m         \u001b[38;5;28;01mreturn\u001b[39;00m encode_basestring(o)\n\u001b[0;32m    196\u001b[0m \u001b[38;5;66;03m# This doesn't pass the iterator directly to ''.join() because the\u001b[39;00m\n\u001b[0;32m    197\u001b[0m \u001b[38;5;66;03m# exceptions aren't as detailed.  The list call should be roughly\u001b[39;00m\n\u001b[0;32m    198\u001b[0m \u001b[38;5;66;03m# equivalent to the PySequence_Fast that ''.join() would do.\u001b[39;00m\n\u001b[1;32m--> 199\u001b[0m chunks \u001b[38;5;241m=\u001b[39m \u001b[38;5;28;43mself\u001b[39;49m\u001b[38;5;241;43m.\u001b[39;49m\u001b[43miterencode\u001b[49m\u001b[43m(\u001b[49m\u001b[43mo\u001b[49m\u001b[43m,\u001b[49m\u001b[43m \u001b[49m\u001b[43m_one_shot\u001b[49m\u001b[38;5;241;43m=\u001b[39;49m\u001b[38;5;28;43;01mTrue\u001b[39;49;00m\u001b[43m)\u001b[49m\n\u001b[0;32m    200\u001b[0m \u001b[38;5;28;01mif\u001b[39;00m \u001b[38;5;129;01mnot\u001b[39;00m \u001b[38;5;28misinstance\u001b[39m(chunks, (\u001b[38;5;28mlist\u001b[39m, \u001b[38;5;28mtuple\u001b[39m)):\n\u001b[0;32m    201\u001b[0m     chunks \u001b[38;5;241m=\u001b[39m \u001b[38;5;28mlist\u001b[39m(chunks)\n",
      "File \u001b[1;32m~\\anaconda3\\lib\\json\\encoder.py:257\u001b[0m, in \u001b[0;36mJSONEncoder.iterencode\u001b[1;34m(self, o, _one_shot)\u001b[0m\n\u001b[0;32m    252\u001b[0m \u001b[38;5;28;01melse\u001b[39;00m:\n\u001b[0;32m    253\u001b[0m     _iterencode \u001b[38;5;241m=\u001b[39m _make_iterencode(\n\u001b[0;32m    254\u001b[0m         markers, \u001b[38;5;28mself\u001b[39m\u001b[38;5;241m.\u001b[39mdefault, _encoder, \u001b[38;5;28mself\u001b[39m\u001b[38;5;241m.\u001b[39mindent, floatstr,\n\u001b[0;32m    255\u001b[0m         \u001b[38;5;28mself\u001b[39m\u001b[38;5;241m.\u001b[39mkey_separator, \u001b[38;5;28mself\u001b[39m\u001b[38;5;241m.\u001b[39mitem_separator, \u001b[38;5;28mself\u001b[39m\u001b[38;5;241m.\u001b[39msort_keys,\n\u001b[0;32m    256\u001b[0m         \u001b[38;5;28mself\u001b[39m\u001b[38;5;241m.\u001b[39mskipkeys, _one_shot)\n\u001b[1;32m--> 257\u001b[0m \u001b[38;5;28;01mreturn\u001b[39;00m \u001b[43m_iterencode\u001b[49m\u001b[43m(\u001b[49m\u001b[43mo\u001b[49m\u001b[43m,\u001b[49m\u001b[43m \u001b[49m\u001b[38;5;241;43m0\u001b[39;49m\u001b[43m)\u001b[49m\n",
      "File \u001b[1;32m~\\anaconda3\\lib\\json\\encoder.py:179\u001b[0m, in \u001b[0;36mJSONEncoder.default\u001b[1;34m(self, o)\u001b[0m\n\u001b[0;32m    160\u001b[0m \u001b[38;5;28;01mdef\u001b[39;00m \u001b[38;5;21mdefault\u001b[39m(\u001b[38;5;28mself\u001b[39m, o):\n\u001b[0;32m    161\u001b[0m     \u001b[38;5;124;03m\"\"\"Implement this method in a subclass such that it returns\u001b[39;00m\n\u001b[0;32m    162\u001b[0m \u001b[38;5;124;03m    a serializable object for ``o``, or calls the base implementation\u001b[39;00m\n\u001b[0;32m    163\u001b[0m \u001b[38;5;124;03m    (to raise a ``TypeError``).\u001b[39;00m\n\u001b[1;32m   (...)\u001b[0m\n\u001b[0;32m    177\u001b[0m \n\u001b[0;32m    178\u001b[0m \u001b[38;5;124;03m    \"\"\"\u001b[39;00m\n\u001b[1;32m--> 179\u001b[0m     \u001b[38;5;28;01mraise\u001b[39;00m \u001b[38;5;167;01mTypeError\u001b[39;00m(\u001b[38;5;124mf\u001b[39m\u001b[38;5;124m'\u001b[39m\u001b[38;5;124mObject of type \u001b[39m\u001b[38;5;132;01m{\u001b[39;00mo\u001b[38;5;241m.\u001b[39m\u001b[38;5;18m__class__\u001b[39m\u001b[38;5;241m.\u001b[39m\u001b[38;5;18m__name__\u001b[39m\u001b[38;5;132;01m}\u001b[39;00m\u001b[38;5;124m \u001b[39m\u001b[38;5;124m'\u001b[39m\n\u001b[0;32m    180\u001b[0m                     \u001b[38;5;124mf\u001b[39m\u001b[38;5;124m'\u001b[39m\u001b[38;5;124mis not JSON serializable\u001b[39m\u001b[38;5;124m'\u001b[39m)\n",
      "\u001b[1;31mTypeError\u001b[0m: Object of type ndarray is not JSON serializable"
     ]
    }
   ],
   "source": [
    "sample_data = {'counts': np.array([0, 5, 4, 10, 45])} \n",
    "json_string = json.dumps(sample_data)\n",
    "json_string "
   ]
  },
  {
   "cell_type": "markdown",
   "metadata": {
    "pycharm": {
     "name": "#%% md\n"
    }
   },
   "source": [
    "You can learn more about the JSONs by visiting its official [page](https://docs.python.org/3.6/library/json.html) on the Python website."
   ]
  },
  {
   "cell_type": "markdown",
   "metadata": {
    "pycharm": {
     "name": "#%% md\n"
    }
   },
   "source": [
    "<a id='section4'></a>\n",
    "## 4. Hierarchical Formats (XML)\n",
    "Extensible Markup Language (XML) is a markup language that defines a set of rules for encoding documents in a format that is both human-readable and machine-readable. XML is similar to HTML. Python contains a native module for reading XML which we imported at the start of the notebook.\n",
    "```python\n",
    "import xml.etree.ElementTree as ET\n",
    "```\n",
    "Below is an example of the XML file structure containing the names of employees at a company.\n",
    "```xml\n",
    "<employees>\n",
    "  <employee>\n",
    "    <firstName>John</firstName> <lastName>Doe</lastName>\n",
    "  </employee>\n",
    "  <employee>\n",
    "    <firstName>Anna</firstName> <lastName>Smith</lastName>\n",
    "  </employee>\n",
    "  <employee>\n",
    "    <firstName>Peter</firstName> <lastName>Jones</lastName>\n",
    "  </employee>\n",
    "</employees>\n",
    "```\n",
    "Let's try importing a sample XML file."
   ]
  },
  {
   "cell_type": "code",
   "execution_count": 28,
   "metadata": {
    "pycharm": {
     "name": "#%%\n"
    }
   },
   "outputs": [],
   "source": [
    "tree = ET.parse('books.xml')\n",
    "root = tree.getroot()"
   ]
  },
  {
   "cell_type": "markdown",
   "metadata": {
    "pycharm": {
     "name": "#%% md\n"
    }
   },
   "source": [
    "The file we opened `books.xml` looks like this.\n",
    "```xml\n",
    "<catalog>\n",
    "   <book id=\"bk101\">\n",
    "      <author>Gambardella, Matthew</author>\n",
    "      <title>XML Developer's Guide</title>\n",
    "      <genre>Computer</genre>\n",
    "      <price>44.95</price>\n",
    "      <publish_date>2000-10-01</publish_date>\n",
    "      <description>An in-depth look at creating applications \n",
    "      with XML.</description>\n",
    "   </book>\n",
    "   <book id=\"bk102\">\n",
    "      <author>Ralls, Kim</author>\n",
    "      <title>Midnight Rain</title>\n",
    "      <genre>Fantasy</genre>\n",
    "      <price>5.95</price>\n",
    "      <publish_date>2000-12-16</publish_date>\n",
    "      <description>A former architect battles corporate zombies, \n",
    "      an evil sorceress, and her own childhood to become queen \n",
    "      of the world.</description>\n",
    "   </book>\n",
    "   <book id=\"bk103\">\n",
    "      <author>Corets, Eva</author>\n",
    "      <title>Maeve Ascendant</title>\n",
    "      <genre>Fantasy</genre>\n",
    "      <price>5.95</price>\n",
    "      <publish_date>2000-11-17</publish_date>\n",
    "      <description>After the collapse of a nanotechnology \n",
    "      society in England, the young survivors lay the \n",
    "      foundation for a new society.</description>\n",
    "   </book>\n",
    "   <book id=\"bk104\">\n",
    "      <author>Corets, Eva</author>\n",
    "      <title>Oberon's Legacy</title>\n",
    "      <genre>Fantasy</genre>\n",
    "      <price>5.95</price>\n",
    "      <publish_date>2001-03-10</publish_date>\n",
    "      <description>In post-apocalypse England, the mysterious \n",
    "      agent known only as Oberon helps to create a new life \n",
    "      for the inhabitants of London. Sequel to Maeve \n",
    "      Ascendant.</description>\n",
    "   </book>\n",
    "   <book id=\"bk105\">\n",
    "      <author>Corets, Eva</author>\n",
    "      <title>The Sundered Grail</title>\n",
    "      <genre>Fantasy</genre>\n",
    "      <price>5.95</price>\n",
    "      <publish_date>2001-09-10</publish_date>\n",
    "      <description>The two daughters of Maeve, half-sisters, \n",
    "      battle one another for control of England. Sequel to \n",
    "      Oberon's Legacy.</description>\n",
    "   </book>\n",
    "   <book id=\"bk106\">\n",
    "      <author>Randall, Cynthia</author>\n",
    "      <title>Lover Birds</title>\n",
    "      <genre>Romance</genre>\n",
    "      <price>4.95</price>\n",
    "      <publish_date>2000-09-02</publish_date>\n",
    "      <description>When Carla meets Paul at an ornithology \n",
    "      conference, tempers fly as feathers get ruffled.</description>\n",
    "   </book>\n",
    "   <book id=\"bk107\">\n",
    "      <author>Thurman, Paula</author>\n",
    "      <title>Splish Splash</title>\n",
    "      <genre>Romance</genre>\n",
    "      <price>4.95</price>\n",
    "      <publish_date>2000-11-02</publish_date>\n",
    "      <description>A deep sea diver finds true love twenty \n",
    "      thousand leagues beneath the sea.</description>\n",
    "   </book>\n",
    "   <book id=\"bk108\">\n",
    "      <author>Knorr, Stefan</author>\n",
    "      <title>Creepy Crawlies</title>\n",
    "      <genre>Horror</genre>\n",
    "      <price>4.95</price>\n",
    "      <publish_date>2000-12-06</publish_date>\n",
    "      <description>An anthology of horror stories about roaches,\n",
    "      centipedes, scorpions  and other insects.</description>\n",
    "   </book>\n",
    "   <book id=\"bk109\">\n",
    "      <author>Kress, Peter</author>\n",
    "      <title>Paradox Lost</title>\n",
    "      <genre>Science Fiction</genre>\n",
    "      <price>6.95</price>\n",
    "      <publish_date>2000-11-02</publish_date>\n",
    "      <description>After an inadvertant trip through a Heisenberg\n",
    "      Uncertainty Device, James Salway discovers the problems \n",
    "      of being quantum.</description>\n",
    "   </book>\n",
    "   <book id=\"bk110\">\n",
    "      <author>O'Brien, Tim</author>\n",
    "      <title>Microsoft .NET: The Programming Bible</title>\n",
    "      <genre>Computer</genre>\n",
    "      <price>36.95</price>\n",
    "      <publish_date>2000-12-09</publish_date>\n",
    "      <description>Microsoft's .NET initiative is explored in \n",
    "      detail in this deep programmer's reference.</description>\n",
    "   </book>\n",
    "   <book id=\"bk111\">\n",
    "      <author>O'Brien, Tim</author>\n",
    "      <title>MSXML3: A Comprehensive Guide</title>\n",
    "      <genre>Computer</genre>\n",
    "      <price>36.95</price>\n",
    "      <publish_date>2000-12-01</publish_date>\n",
    "      <description>The Microsoft MSXML3 parser is covered in \n",
    "      detail, with attention to XML DOM interfaces, XSLT processing, \n",
    "      SAX and more.</description>\n",
    "   </book>\n",
    "   <book id=\"bk112\">\n",
    "      <author>Galos, Mike</author>\n",
    "      <title>Visual Studio 7: A Comprehensive Guide</title>\n",
    "      <genre>Computer</genre>\n",
    "      <price>49.95</price>\n",
    "      <publish_date>2001-04-16</publish_date>\n",
    "      <description>Microsoft Visual Studio 7 is explored in depth,\n",
    "      looking at how Visual Basic, Visual C++, C#, and ASP+ are \n",
    "      integrated into a comprehensive development \n",
    "      environment.</description>\n",
    "   </book>\n",
    "</catalog>\n",
    "```\n",
    "From the root of the XML tree, we can get all children, which should correspond to the 12 book tags we see. be can use the Python `list()` operator to do this."
   ]
  },
  {
   "cell_type": "code",
   "execution_count": 29,
   "metadata": {
    "pycharm": {
     "name": "#%%\n"
    }
   },
   "outputs": [
    {
     "name": "stdout",
     "output_type": "stream",
     "text": [
      "book {'id': 'bk101'}\n",
      "Gambardella, Matthew\n",
      "XML Developer's Guide\n",
      "\n",
      "book {'id': 'bk102'}\n",
      "Ralls, Kim\n",
      "Midnight Rain\n",
      "\n",
      "book {'id': 'bk103'}\n",
      "Corets, Eva\n",
      "Maeve Ascendant\n",
      "\n",
      "book {'id': 'bk104'}\n",
      "Corets, Eva\n",
      "Oberon's Legacy\n",
      "\n",
      "book {'id': 'bk105'}\n",
      "Corets, Eva\n",
      "The Sundered Grail\n",
      "\n",
      "book {'id': 'bk106'}\n",
      "Randall, Cynthia\n",
      "Lover Birds\n",
      "\n",
      "book {'id': 'bk107'}\n",
      "Thurman, Paula\n",
      "Splish Splash\n",
      "\n",
      "book {'id': 'bk108'}\n",
      "Knorr, Stefan\n",
      "Creepy Crawlies\n",
      "\n",
      "book {'id': 'bk109'}\n",
      "Kress, Peter\n",
      "Paradox Lost\n",
      "\n",
      "book {'id': 'bk110'}\n",
      "O'Brien, Tim\n",
      "Microsoft .NET: The Programming Bible\n",
      "\n",
      "book {'id': 'bk111'}\n",
      "O'Brien, Tim\n",
      "MSXML3: A Comprehensive Guide\n",
      "\n",
      "book {'id': 'bk112'}\n",
      "Galos, Mike\n",
      "Visual Studio 7: A Comprehensive Guide\n",
      "\n"
     ]
    }
   ],
   "source": [
    "for book in list(root):\n",
    "    print(book.tag, book.attrib)\n",
    "    print(book.find('author').text)\n",
    "    print(book.find('title').text)\n",
    "    print()"
   ]
  },
  {
   "cell_type": "markdown",
   "metadata": {
    "pycharm": {
     "name": "#%% md\n"
    }
   },
   "source": [
    "JSON and XML are similar in some ways\n",
    "\n",
    "- Both JSON and XML are \"self describing\" (human readable)\n",
    "- Both JSON and XML are hierarchical (values within values)\n",
    "- Both JSON and XML can be parsed and used by lots of programming languages\n",
    "- Both JSON and XML can be fetched with an http request\n",
    "\n",
    "and different in other ways.\n",
    "\n",
    "- JSON doesn't use end tag\n",
    "- JSON is shorter\n",
    "- JSON is quicker to read and write\n",
    "- JSON can use arrays"
   ]
  },
  {
   "cell_type": "markdown",
   "metadata": {
    "pycharm": {
     "name": "#%% md\n"
    }
   },
   "source": [
    "<a id='section5'></a>\n",
    "## 5. Binary Formats (HDF5)\n",
    "Hierarchical Data Format (HDF) is a set of file formats (HDF4, HDF5) designed to store and organize large amounts of data. It was originally developed at the **National Center for Supercomputing Applications** and is now supported by [The HDF Group](https://www.hdfgroup.org/solutions/hdf5/), a non-profit corporation.\n",
    "<br>\n",
    "<img src=\"images/hdf5_structure4.jpg\" alt=\"drawing\" width=\"550\"/>\n",
    "<br>\n",
    "Let's see what the [The HDF Group](https://www.hdfgroup.org/solutions/hdf5/) says about the HDF5 file structure."
   ]
  },
  {
   "cell_type": "code",
   "execution_count": 30,
   "metadata": {
    "pycharm": {
     "name": "#%%\n"
    }
   },
   "outputs": [
    {
     "data": {
      "text/html": [
       "'<iframe src=\"https://player.vimeo.com/video/226008481\" width=\"640\" height=\"360\" frameborder=\"0\" allow=\"autoplay; fullscreen\" allowfullscreen></iframe>'\n"
      ],
      "text/plain": [
       "<IPython.core.display.HTML object>"
      ]
     },
     "metadata": {},
     "output_type": "display_data"
    }
   ],
   "source": [
    "%%HTML\n",
    "'<iframe src=\"https://player.vimeo.com/video/226008481\" width=\"640\" height=\"360\" frameborder=\"0\" allow=\"autoplay; fullscreen\" allowfullscreen></iframe>'"
   ]
  },
  {
   "cell_type": "markdown",
   "metadata": {
    "pycharm": {
     "name": "#%% md\n"
    }
   },
   "source": [
    "The Python package [h5py](https://www.h5py.org/) is required for working with HFD5 files. You'll see we installed and imported that package at the start of the Notebook.\n",
    "\n",
    "```python\n",
    "!pip install h5py\n",
    "\n",
    "import h5py\n",
    "```\n",
    "\n",
    "For working exploring the HDF5 file structure, we'll be working with Hyperspectral Imagery data which is a dataset that Civil & Mineral Engineers might run into. \n",
    "<br>\n",
    "<img src=\"images/light_spectrum.jpg\" alt=\"drawing\" width=\"800\"/>\n",
    "<br>\n",
    "Hyperspectral imaging collects information from across the electromagnetic spectrum, which can be seen in the image below. Most familiar to us is the visible light spectrum ranging from red (700 nanometers) to violet (380 nanometers). Hyperspectral imagery is acquired in the infrared spectrum typically between 400 and 1100 nanometers.    \n",
    "<br>\n",
    "<img src=\"images/hyperspectral_image.png\" alt=\"drawing\" width=\"900\"/>\n",
    "<br>\n",
    "A typical JPEG image that you might capture with your smartphone will have three color channels (Red, Green, and Blue). So, if your image is 500 pixels x 500 pixels (spatial dimensions), there will be a 3rd dimension of size three (3 color challanges). When imported into Python as an array, the shape of the array would be (500, 500, 3). With hyperspectral imagery, you're acquiring a continuous spectrum and thus, each pixel contains many more than three values as displayed in the image above. \n",
    "\n",
    "Let's use [h5py](https://www.h5py.org/) to import a hyperspectral image."
   ]
  },
  {
   "cell_type": "code",
   "execution_count": 31,
   "metadata": {
    "pycharm": {
     "name": "#%%\n"
    }
   },
   "outputs": [],
   "source": [
    "hyperspec = h5py.File('NEON_hyperspectral_dataset.h5', mode='r') "
   ]
  },
  {
   "cell_type": "markdown",
   "metadata": {
    "pycharm": {
     "name": "#%% md\n"
    }
   },
   "source": [
    "First, lets see what groups are inside the file object."
   ]
  },
  {
   "cell_type": "code",
   "execution_count": 32,
   "metadata": {
    "pycharm": {
     "name": "#%%\n"
    }
   },
   "outputs": [
    {
     "name": "stdout",
     "output_type": "stream",
     "text": [
      "<KeysViewHDF5 ['SJER']>\n"
     ]
    }
   ],
   "source": [
    "print(hyperspec.keys())"
   ]
  },
  {
   "cell_type": "markdown",
   "metadata": {
    "pycharm": {
     "name": "#%% md\n"
    }
   },
   "source": [
    "and what groups are inside that group."
   ]
  },
  {
   "cell_type": "code",
   "execution_count": 33,
   "metadata": {
    "pycharm": {
     "name": "#%%\n"
    }
   },
   "outputs": [
    {
     "name": "stdout",
     "output_type": "stream",
     "text": [
      "<KeysViewHDF5 ['Reflectance']>\n"
     ]
    }
   ],
   "source": [
    "print(hyperspec['SJER'].keys())"
   ]
  },
  {
   "cell_type": "markdown",
   "metadata": {
    "pycharm": {
     "name": "#%% md\n"
    }
   },
   "source": [
    "and what groups are inside that group."
   ]
  },
  {
   "cell_type": "code",
   "execution_count": 34,
   "metadata": {
    "pycharm": {
     "name": "#%%\n"
    }
   },
   "outputs": [
    {
     "name": "stdout",
     "output_type": "stream",
     "text": [
      "<KeysViewHDF5 ['Metadata', 'Reflectance_Data']>\n"
     ]
    }
   ],
   "source": [
    "print(hyperspec['SJER']['Reflectance'].keys())"
   ]
  },
  {
   "cell_type": "markdown",
   "metadata": {
    "pycharm": {
     "name": "#%% md\n"
    }
   },
   "source": [
    "and what groups are inside the Metadata group."
   ]
  },
  {
   "cell_type": "code",
   "execution_count": 35,
   "metadata": {
    "pycharm": {
     "name": "#%%\n"
    }
   },
   "outputs": [
    {
     "name": "stdout",
     "output_type": "stream",
     "text": [
      "<KeysViewHDF5 ['Coordinate_System', 'Spectral_Data']>\n"
     ]
    }
   ],
   "source": [
    "print(hyperspec['SJER']['Reflectance']['Metadata'].keys())"
   ]
  },
  {
   "cell_type": "markdown",
   "metadata": {
    "pycharm": {
     "name": "#%% md\n"
    }
   },
   "source": [
    "You're starting to get the picture right? HDF5 is just a hierarchical folder structure as the name suggests.\n",
    "\n",
    "Quick tip: We can make the same call as above using the following command."
   ]
  },
  {
   "cell_type": "code",
   "execution_count": 36,
   "metadata": {
    "pycharm": {
     "name": "#%%\n"
    }
   },
   "outputs": [
    {
     "name": "stdout",
     "output_type": "stream",
     "text": [
      "<KeysViewHDF5 ['Coordinate_System', 'Spectral_Data']>\n"
     ]
    }
   ],
   "source": [
    "print(hyperspec['SJER/Reflectance/Metadata'].keys())"
   ]
  },
  {
   "cell_type": "code",
   "execution_count": 37,
   "metadata": {
    "pycharm": {
     "name": "#%%\n"
    }
   },
   "outputs": [],
   "source": [
    "def plot_hyperspectral_data():\n",
    "    hyperspec = h5py.File('NEON_hyperspectral_dataset.h5', mode='r') \n",
    "    sjer_reflectance = hyperspec['SJER']['Reflectance']\n",
    "    sjer_reflectance_array = sjer_reflectance['Reflectance_Data']\n",
    "    reflectance_shape = sjer_reflectance_array.shape\n",
    "    wavelengths = sjer_reflectance['Metadata']['Spectral_Data']['Wavelength']\n",
    "    sjer_mapInfo = sjer_reflectance['Metadata']['Coordinate_System']['Map_Info']\n",
    "    mapInfo_string = str(sjer_mapInfo[()])\n",
    "    mapInfo_split = mapInfo_string.split(',') \n",
    "    res = float(mapInfo_split[5]), float(mapInfo_split[6])\n",
    "    xMin = float(mapInfo_split[3]) \n",
    "    yMax = float(mapInfo_split[4])\n",
    "    xMax = xMin + (reflectance_shape[1] * res[0])\n",
    "    yMin = yMax - (reflectance_shape[0] * res[1])\n",
    "    serc_ext = (xMin, xMax, yMin, yMax)\n",
    "    b56 = sjer_reflectance_array[:, :, 55].astype(float)\n",
    "    \n",
    "    \n",
    "    fig, ax = plt.subplots()\n",
    "    img = ax.imshow(b56, extent=serc_ext, cmap='jet')\n",
    "    ax.set_xlabel('Longitude', fontsize=16)\n",
    "    ax.set_ylabel('Latitude', fontsize=16)\n",
    "    plt.colorbar(img, label='Reflectance', ax=ax)\n",
    "    plt.show()"
   ]
  },
  {
   "cell_type": "code",
   "execution_count": 38,
   "metadata": {
    "pycharm": {
     "name": "#%%\n"
    }
   },
   "outputs": [
    {
     "data": {
      "image/png": "[encoded data removed]",
      "text/plain": [
       "<Figure size 640x480 with 2 Axes>"
      ]
     },
     "metadata": {},
     "output_type": "display_data"
    }
   ],
   "source": [
    "plot_hyperspectral_data()"
   ]
  },
  {
   "cell_type": "markdown",
   "metadata": {
    "pycharm": {
     "name": "#%% md\n"
    }
   },
   "source": [
    "A more indepth look at the HDF file structure is beyond the scope of this course. For those interested in learning more about HDF, Python, and hyperspectral data, check out the excellent resources from \n",
    "[The National Science Foundation's National Ecological Observatory Network (NEON)](https://www.neonscience.org/neon-aop-hdf5-py)."
   ]
  },
  {
   "cell_type": "markdown",
   "metadata": {},
   "source": [
    "<a id='section6'></a>\n",
    "## 6. Web Technologies (HTTP)\n",
    "First lets import a very popular library for making http requests."
   ]
  },
  {
   "cell_type": "code",
   "execution_count": 1,
   "metadata": {},
   "outputs": [],
   "source": [
    "import requests"
   ]
  },
  {
   "cell_type": "markdown",
   "metadata": {},
   "source": [
    "Next, let's make a simple http GET request for the UofT Civil & Mineral Engineering website."
   ]
  },
  {
   "cell_type": "code",
   "execution_count": 2,
   "metadata": {},
   "outputs": [],
   "source": [
    "my_response = requests.get('http://www.civmin.utoronto.ca')"
   ]
  },
  {
   "cell_type": "markdown",
   "metadata": {},
   "source": [
    "Now let's print the response as text."
   ]
  },
  {
   "cell_type": "code",
   "execution_count": 3,
   "metadata": {
    "collapsed": true
   },
   "outputs": [
    {
     "data": {
      "text/plain": [
       "'<!DOCTYPE html>\\r\\n<html lang=\"en-US\">\\r\\n\\r\\n<head>\\r\\n\\r\\n\\t<meta charset=\"UTF-8\">\\r\\n\\t<meta name=\"viewport\" content=\"width=device-width, initial-scale=1\">\\r\\n\\t<link rel=\"profile\" href=\"https://gmpg.org/xfn/11\">\\r\\n\\t<link rel=\"pingback\" href=\"https://civmin.utoronto.ca/xmlrpc.php\">\\r\\n\\r\\n\\t\\t<meta name=\"description\" content=\"\">\\r\\n\\t<meta property=\"og:url\" content=\"https://civmin.utoronto.ca\"/>\\r\\n\\t<meta property=\"og:site_name\" content=\"Department of Civil &amp; Mineral Engineering\" />\\r\\n\\t<meta property=\"og:image\" content=\"\" />\\r\\n\\t<meta property=\"og:description\" content=\"\" />\\r\\n\\t<meta property=\"og:title\" content=\"Department of Civil &amp; Mineral Engineering\" />\\r\\n\\t<!-- Twitter -->\\r\\n\\t<meta name=\"twitter:card\" content=\"summary_large_image\" />\\r\\n\\t<meta name=\"twitter:domain\" content=\"https://civmin.utoronto.ca\" />\\r\\n\\t<meta name=\"twitter:title\" content=\"Department of Civil &amp; Mineral Engineering\" />\\r\\n\\t<meta name=\"twitter:description\" content=\"\" />\\r\\n\\t\\t\\t\\r\\n\\t\\t\\t\\r\\n\\t<title>Department of Civil &amp; Mineral Engineering</title>\\n<meta name=\\'robots\\' content=\\'max-image-preview:large\\' />\\n<link rel=\\'dns-prefetch\\' href=\\'//fonts.googleapis.com\\' />\\n<link rel=\\'dns-prefetch\\' href=\\'//use.typekit.net\\' />\\n<link rel=\"alternate\" type=\"application/rss+xml\" title=\"Department of Civil &amp; Mineral Engineering &raquo; Home 2022 Comments Feed\" href=\"https://civmin.utoronto.ca/home-copy-2/feed/\" />\\n<link rel=\"preload\" href=\"https://civmin.utoronto.ca/wp-content/plugins/bb-plugin/fonts/fontawesome/5.15.4/webfonts/fa-solid-900.woff2\" as=\"font\" type=\"font/woff2\" crossorigin=\"anonymous\">\\n<link rel=\"preload\" href=\"https://civmin.utoronto.ca/wp-content/plugins/bb-plugin/fonts/fontawesome/5.15.4/webfonts/fa-brands-400.woff2\" as=\"font\" type=\"font/woff2\" crossorigin=\"anonymous\">\\n\\t\\t<!-- This site uses the Google Analytics by MonsterInsights plugin v8.19.0 - Using Analytics tracking - https://www.monsterinsights.com/ -->\\n\\t\\t\\t\\t\\t\\t\\t<script src=\"//www.googletagmanager.com/gtag/js?id=G-2E9NND0N6Y\"  data-cfasync=\"false\" data-wpfc-render=\"false\" type=\"text/javascript\" async></script>\\n\\t\\t\\t<script data-cfasync=\"false\" data-wpfc-render=\"false\" type=\"text/javascript\">\\n\\t\\t\\t\\tvar mi_version = \\'8.19.0\\';\\n\\t\\t\\t\\tvar mi_track_user = true;\\n\\t\\t\\t\\tvar mi_no_track_reason = \\'\\';\\n\\t\\t\\t\\t\\n\\t\\t\\t\\t\\t\\t\\t\\tvar disableStrs = [\\n\\t\\t\\t\\t\\t\\t\\t\\t\\t\\t\\'ga-disable-G-2E9NND0N6Y\\',\\n\\t\\t\\t\\t\\t\\t\\t\\t\\t];\\n\\n\\t\\t\\t\\t/* Function to detect opted out users */\\n\\t\\t\\t\\tfunction __gtagTrackerIsOptedOut() {\\n\\t\\t\\t\\t\\tfor (var index = 0; index < disableStrs.length; index++) {\\n\\t\\t\\t\\t\\t\\tif (document.cookie.indexOf(disableStrs[index] + \\'=true\\') > -1) {\\n\\t\\t\\t\\t\\t\\t\\treturn true;\\n\\t\\t\\t\\t\\t\\t}\\n\\t\\t\\t\\t\\t}\\n\\n\\t\\t\\t\\t\\treturn false;\\n\\t\\t\\t\\t}\\n\\n\\t\\t\\t\\t/* Disable tracking if the opt-out cookie exists. */\\n\\t\\t\\t\\tif (__gtagTrackerIsOptedOut()) {\\n\\t\\t\\t\\t\\tfor (var index = 0; index < disableStrs.length; index++) {\\n\\t\\t\\t\\t\\t\\twindow[disableStrs[index]] = true;\\n\\t\\t\\t\\t\\t}\\n\\t\\t\\t\\t}\\n\\n\\t\\t\\t\\t/* Opt-out function */\\n\\t\\t\\t\\tfunction __gtagTrackerOptout() {\\n\\t\\t\\t\\t\\tfor (var index = 0; index < disableStrs.length; index++) {\\n\\t\\t\\t\\t\\t\\tdocument.cookie = disableStrs[index] + \\'=true; expires=Thu, 31 Dec 2099 23:59:59 UTC; path=/\\';\\n\\t\\t\\t\\t\\t\\twindow[disableStrs[index]] = true;\\n\\t\\t\\t\\t\\t}\\n\\t\\t\\t\\t}\\n\\n\\t\\t\\t\\tif (\\'undefined\\' === typeof gaOptout) {\\n\\t\\t\\t\\t\\tfunction gaOptout() {\\n\\t\\t\\t\\t\\t\\t__gtagTrackerOptout();\\n\\t\\t\\t\\t\\t}\\n\\t\\t\\t\\t}\\n\\t\\t\\t\\t\\t\\t\\t\\twindow.dataLayer = window.dataLayer || [];\\n\\n\\t\\t\\t\\twindow.MonsterInsightsDualTracker = {\\n\\t\\t\\t\\t\\thelpers: {},\\n\\t\\t\\t\\t\\ttrackers: {},\\n\\t\\t\\t\\t};\\n\\t\\t\\t\\tif (mi_track_user) {\\n\\t\\t\\t\\t\\tfunction __gtagDataLayer() {\\n\\t\\t\\t\\t\\t\\tdataLayer.push(arguments);\\n\\t\\t\\t\\t\\t}\\n\\n\\t\\t\\t\\t\\tfunction __gtagTracker(type, name, parameters) {\\n\\t\\t\\t\\t\\t\\tif (!parameters) {\\n\\t\\t\\t\\t\\t\\t\\tparameters = {};\\n\\t\\t\\t\\t\\t\\t}\\n\\n\\t\\t\\t\\t\\t\\tif (parameters.send_to) {\\n\\t\\t\\t\\t\\t\\t\\t__gtagDataLayer.apply(null, arguments);\\n\\t\\t\\t\\t\\t\\t\\treturn;\\n\\t\\t\\t\\t\\t\\t}\\n\\n\\t\\t\\t\\t\\t\\tif (type === \\'event\\') {\\n\\t\\t\\t\\t\\t\\t\\t\\t\\t\\t\\t\\t\\t\\tparameters.send_to = monsterinsights_frontend.v4_id;\\n\\t\\t\\t\\t\\t\\t\\tvar hookName = name;\\n\\t\\t\\t\\t\\t\\t\\tif (typeof parameters[\\'event_category\\'] !== \\'undefined\\') {\\n\\t\\t\\t\\t\\t\\t\\t\\thookName = parameters[\\'event_category\\'] + \\':\\' + name;\\n\\t\\t\\t\\t\\t\\t\\t}\\n\\n\\t\\t\\t\\t\\t\\t\\tif (typeof MonsterInsightsDualTracker.trackers[hookName] !== \\'undefined\\') {\\n\\t\\t\\t\\t\\t\\t\\t\\tMonsterInsightsDualTracker.trackers[hookName](parameters);\\n\\t\\t\\t\\t\\t\\t\\t} else {\\n\\t\\t\\t\\t\\t\\t\\t\\t__gtagDataLayer(\\'event\\', name, parameters);\\n\\t\\t\\t\\t\\t\\t\\t}\\n\\t\\t\\t\\t\\t\\t\\t\\n\\t\\t\\t\\t\\t\\t} else {\\n\\t\\t\\t\\t\\t\\t\\t__gtagDataLayer.apply(null, arguments);\\n\\t\\t\\t\\t\\t\\t}\\n\\t\\t\\t\\t\\t}\\n\\n\\t\\t\\t\\t\\t__gtagTracker(\\'js\\', new Date());\\n\\t\\t\\t\\t\\t__gtagTracker(\\'set\\', {\\n\\t\\t\\t\\t\\t\\t\\'developer_id.dZGIzZG\\': true,\\n\\t\\t\\t\\t\\t\\t\\t\\t\\t\\t\\t});\\n\\t\\t\\t\\t\\t\\t\\t\\t\\t\\t__gtagTracker(\\'config\\', \\'G-2E9NND0N6Y\\', {\"forceSSL\":\"true\"} );\\n\\t\\t\\t\\t\\t\\t\\t\\t\\t\\t\\t\\t\\t\\t\\twindow.gtag = __gtagTracker;\\t\\t\\t\\t\\t\\t\\t\\t\\t\\t(function () {\\n\\t\\t\\t\\t\\t\\t/* https://developers.google.com/analytics/devguides/collection/analyticsjs/ */\\n\\t\\t\\t\\t\\t\\t/* ga and __gaTracker compatibility shim. */\\n\\t\\t\\t\\t\\t\\tvar noopfn = function () {\\n\\t\\t\\t\\t\\t\\t\\treturn null;\\n\\t\\t\\t\\t\\t\\t};\\n\\t\\t\\t\\t\\t\\tvar newtracker = function () {\\n\\t\\t\\t\\t\\t\\t\\treturn new Tracker();\\n\\t\\t\\t\\t\\t\\t};\\n\\t\\t\\t\\t\\t\\tvar Tracker = function () {\\n\\t\\t\\t\\t\\t\\t\\treturn null;\\n\\t\\t\\t\\t\\t\\t};\\n\\t\\t\\t\\t\\t\\tvar p = Tracker.prototype;\\n\\t\\t\\t\\t\\t\\tp.get = noopfn;\\n\\t\\t\\t\\t\\t\\tp.set = noopfn;\\n\\t\\t\\t\\t\\t\\tp.send = function () {\\n\\t\\t\\t\\t\\t\\t\\tvar args = Array.prototype.slice.call(arguments);\\n\\t\\t\\t\\t\\t\\t\\targs.unshift(\\'send\\');\\n\\t\\t\\t\\t\\t\\t\\t__gaTracker.apply(null, args);\\n\\t\\t\\t\\t\\t\\t};\\n\\t\\t\\t\\t\\t\\tvar __gaTracker = function () {\\n\\t\\t\\t\\t\\t\\t\\tvar len = arguments.length;\\n\\t\\t\\t\\t\\t\\t\\tif (len === 0) {\\n\\t\\t\\t\\t\\t\\t\\t\\treturn;\\n\\t\\t\\t\\t\\t\\t\\t}\\n\\t\\t\\t\\t\\t\\t\\tvar f = arguments[len - 1];\\n\\t\\t\\t\\t\\t\\t\\tif (typeof f !== \\'object\\' || f === null || typeof f.hitCallback !== \\'function\\') {\\n\\t\\t\\t\\t\\t\\t\\t\\tif (\\'send\\' === arguments[0]) {\\n\\t\\t\\t\\t\\t\\t\\t\\t\\tvar hitConverted, hitObject = false, action;\\n\\t\\t\\t\\t\\t\\t\\t\\t\\tif (\\'event\\' === arguments[1]) {\\n\\t\\t\\t\\t\\t\\t\\t\\t\\t\\tif (\\'undefined\\' !== typeof arguments[3]) {\\n\\t\\t\\t\\t\\t\\t\\t\\t\\t\\t\\thitObject = {\\n\\t\\t\\t\\t\\t\\t\\t\\t\\t\\t\\t\\t\\'eventAction\\': arguments[3],\\n\\t\\t\\t\\t\\t\\t\\t\\t\\t\\t\\t\\t\\'eventCategory\\': arguments[2],\\n\\t\\t\\t\\t\\t\\t\\t\\t\\t\\t\\t\\t\\'eventLabel\\': arguments[4],\\n\\t\\t\\t\\t\\t\\t\\t\\t\\t\\t\\t\\t\\'value\\': arguments[5] ? arguments[5] : 1,\\n\\t\\t\\t\\t\\t\\t\\t\\t\\t\\t\\t}\\n\\t\\t\\t\\t\\t\\t\\t\\t\\t\\t}\\n\\t\\t\\t\\t\\t\\t\\t\\t\\t}\\n\\t\\t\\t\\t\\t\\t\\t\\t\\tif (\\'pageview\\' === arguments[1]) {\\n\\t\\t\\t\\t\\t\\t\\t\\t\\t\\tif (\\'undefined\\' !== typeof arguments[2]) {\\n\\t\\t\\t\\t\\t\\t\\t\\t\\t\\t\\thitObject = {\\n\\t\\t\\t\\t\\t\\t\\t\\t\\t\\t\\t\\t\\'eventAction\\': \\'page_view\\',\\n\\t\\t\\t\\t\\t\\t\\t\\t\\t\\t\\t\\t\\'page_path\\': arguments[2],\\n\\t\\t\\t\\t\\t\\t\\t\\t\\t\\t\\t}\\n\\t\\t\\t\\t\\t\\t\\t\\t\\t\\t}\\n\\t\\t\\t\\t\\t\\t\\t\\t\\t}\\n\\t\\t\\t\\t\\t\\t\\t\\t\\tif (typeof arguments[2] === \\'object\\') {\\n\\t\\t\\t\\t\\t\\t\\t\\t\\t\\thitObject = arguments[2];\\n\\t\\t\\t\\t\\t\\t\\t\\t\\t}\\n\\t\\t\\t\\t\\t\\t\\t\\t\\tif (typeof arguments[5] === \\'object\\') {\\n\\t\\t\\t\\t\\t\\t\\t\\t\\t\\tObject.assign(hitObject, arguments[5]);\\n\\t\\t\\t\\t\\t\\t\\t\\t\\t}\\n\\t\\t\\t\\t\\t\\t\\t\\t\\tif (\\'undefined\\' !== typeof arguments[1].hitType) {\\n\\t\\t\\t\\t\\t\\t\\t\\t\\t\\thitObject = arguments[1];\\n\\t\\t\\t\\t\\t\\t\\t\\t\\t\\tif (\\'pageview\\' === hitObject.hitType) {\\n\\t\\t\\t\\t\\t\\t\\t\\t\\t\\t\\thitObject.eventAction = \\'page_view\\';\\n\\t\\t\\t\\t\\t\\t\\t\\t\\t\\t}\\n\\t\\t\\t\\t\\t\\t\\t\\t\\t}\\n\\t\\t\\t\\t\\t\\t\\t\\t\\tif (hitObject) {\\n\\t\\t\\t\\t\\t\\t\\t\\t\\t\\taction = \\'timing\\' === arguments[1].hitType ? \\'timing_complete\\' : hitObject.eventAction;\\n\\t\\t\\t\\t\\t\\t\\t\\t\\t\\thitConverted = mapArgs(hitObject);\\n\\t\\t\\t\\t\\t\\t\\t\\t\\t\\t__gtagTracker(\\'event\\', action, hitConverted);\\n\\t\\t\\t\\t\\t\\t\\t\\t\\t}\\n\\t\\t\\t\\t\\t\\t\\t\\t}\\n\\t\\t\\t\\t\\t\\t\\t\\treturn;\\n\\t\\t\\t\\t\\t\\t\\t}\\n\\n\\t\\t\\t\\t\\t\\t\\tfunction mapArgs(args) {\\n\\t\\t\\t\\t\\t\\t\\t\\tvar arg, hit = {};\\n\\t\\t\\t\\t\\t\\t\\t\\tvar gaMap = {\\n\\t\\t\\t\\t\\t\\t\\t\\t\\t\\'eventCategory\\': \\'event_category\\',\\n\\t\\t\\t\\t\\t\\t\\t\\t\\t\\'eventAction\\': \\'event_action\\',\\n\\t\\t\\t\\t\\t\\t\\t\\t\\t\\'eventLabel\\': \\'event_label\\',\\n\\t\\t\\t\\t\\t\\t\\t\\t\\t\\'eventValue\\': \\'event_value\\',\\n\\t\\t\\t\\t\\t\\t\\t\\t\\t\\'nonInteraction\\': \\'non_interaction\\',\\n\\t\\t\\t\\t\\t\\t\\t\\t\\t\\'timingCategory\\': \\'event_category\\',\\n\\t\\t\\t\\t\\t\\t\\t\\t\\t\\'timingVar\\': \\'name\\',\\n\\t\\t\\t\\t\\t\\t\\t\\t\\t\\'timingValue\\': \\'value\\',\\n\\t\\t\\t\\t\\t\\t\\t\\t\\t\\'timingLabel\\': \\'event_label\\',\\n\\t\\t\\t\\t\\t\\t\\t\\t\\t\\'page\\': \\'page_path\\',\\n\\t\\t\\t\\t\\t\\t\\t\\t\\t\\'location\\': \\'page_location\\',\\n\\t\\t\\t\\t\\t\\t\\t\\t\\t\\'title\\': \\'page_title\\',\\n\\t\\t\\t\\t\\t\\t\\t\\t};\\n\\t\\t\\t\\t\\t\\t\\t\\tfor (arg in args) {\\n\\t\\t\\t\\t\\t\\t\\t\\t\\t\\t\\t\\t\\t\\t\\t\\t\\t\\tif (!(!args.hasOwnProperty(arg) || !gaMap.hasOwnProperty(arg))) {\\n\\t\\t\\t\\t\\t\\t\\t\\t\\t\\thit[gaMap[arg]] = args[arg];\\n\\t\\t\\t\\t\\t\\t\\t\\t\\t} else {\\n\\t\\t\\t\\t\\t\\t\\t\\t\\t\\thit[arg] = args[arg];\\n\\t\\t\\t\\t\\t\\t\\t\\t\\t}\\n\\t\\t\\t\\t\\t\\t\\t\\t}\\n\\t\\t\\t\\t\\t\\t\\t\\treturn hit;\\n\\t\\t\\t\\t\\t\\t\\t}\\n\\n\\t\\t\\t\\t\\t\\t\\ttry {\\n\\t\\t\\t\\t\\t\\t\\t\\tf.hitCallback();\\n\\t\\t\\t\\t\\t\\t\\t} catch (ex) {\\n\\t\\t\\t\\t\\t\\t\\t}\\n\\t\\t\\t\\t\\t\\t};\\n\\t\\t\\t\\t\\t\\t__gaTracker.create = newtracker;\\n\\t\\t\\t\\t\\t\\t__gaTracker.getByName = newtracker;\\n\\t\\t\\t\\t\\t\\t__gaTracker.getAll = function () {\\n\\t\\t\\t\\t\\t\\t\\treturn [];\\n\\t\\t\\t\\t\\t\\t};\\n\\t\\t\\t\\t\\t\\t__gaTracker.remove = noopfn;\\n\\t\\t\\t\\t\\t\\t__gaTracker.loaded = true;\\n\\t\\t\\t\\t\\t\\twindow[\\'__gaTracker\\'] = __gaTracker;\\n\\t\\t\\t\\t\\t})();\\n\\t\\t\\t\\t\\t\\t\\t\\t\\t} else {\\n\\t\\t\\t\\t\\t\\t\\t\\t\\t\\tconsole.log(\"\");\\n\\t\\t\\t\\t\\t(function () {\\n\\t\\t\\t\\t\\t\\tfunction __gtagTracker() {\\n\\t\\t\\t\\t\\t\\t\\treturn null;\\n\\t\\t\\t\\t\\t\\t}\\n\\n\\t\\t\\t\\t\\t\\twindow[\\'__gtagTracker\\'] = __gtagTracker;\\n\\t\\t\\t\\t\\t\\twindow[\\'gtag\\'] = __gtagTracker;\\n\\t\\t\\t\\t\\t})();\\n\\t\\t\\t\\t\\t\\t\\t\\t\\t}\\n\\t\\t\\t</script>\\n\\t\\t\\t\\t<!-- / Google Analytics by MonsterInsights -->\\n\\t\\t<script type=\"text/javascript\">\\nwindow._wpemojiSettings = {\"baseUrl\":\"https:\\\\/\\\\/s.w.org\\\\/images\\\\/core\\\\/emoji\\\\/14.0.0\\\\/72x72\\\\/\",\"ext\":\".png\",\"svgUrl\":\"https:\\\\/\\\\/s.w.org\\\\/images\\\\/core\\\\/emoji\\\\/14.0.0\\\\/svg\\\\/\",\"svgExt\":\".svg\",\"source\":{\"concatemoji\":\"https:\\\\/\\\\/civmin.utoronto.ca\\\\/wp-includes\\\\/js\\\\/wp-emoji-release.min.js?ver=6.3.1\"}};\\n/*! This file is auto-generated */\\n!function(i,n){var o,s,e;function c(e){try{var t={supportTests:e,timestamp:(new Date).valueOf()};sessionStorage.setItem(o,JSON.stringify(t))}catch(e){}}function p(e,t,n){e.clearRect(0,0,e.canvas.width,e.canvas.height),e.fillText(t,0,0);var t=new Uint32Array(e.getImageData(0,0,e.canvas.width,e.canvas.height).data),r=(e.clearRect(0,0,e.canvas.width,e.canvas.height),e.fillText(n,0,0),new Uint32Array(e.getImageData(0,0,e.canvas.width,e.canvas.height).data));return t.every(function(e,t){return e===r[t]})}function u(e,t,n){switch(t){case\"flag\":return n(e,\"\\\\ud83c\\\\udff3\\\\ufe0f\\\\u200d\\\\u26a7\\\\ufe0f\",\"\\\\ud83c\\\\udff3\\\\ufe0f\\\\u200b\\\\u26a7\\\\ufe0f\")?!1:!n(e,\"\\\\ud83c\\\\uddfa\\\\ud83c\\\\uddf3\",\"\\\\ud83c\\\\uddfa\\\\u200b\\\\ud83c\\\\uddf3\")&&!n(e,\"\\\\ud83c\\\\udff4\\\\udb40\\\\udc67\\\\udb40\\\\udc62\\\\udb40\\\\udc65\\\\udb40\\\\udc6e\\\\udb40\\\\udc67\\\\udb40\\\\udc7f\",\"\\\\ud83c\\\\udff4\\\\u200b\\\\udb40\\\\udc67\\\\u200b\\\\udb40\\\\udc62\\\\u200b\\\\udb40\\\\udc65\\\\u200b\\\\udb40\\\\udc6e\\\\u200b\\\\udb40\\\\udc67\\\\u200b\\\\udb40\\\\udc7f\");case\"emoji\":return!n(e,\"\\\\ud83e\\\\udef1\\\\ud83c\\\\udffb\\\\u200d\\\\ud83e\\\\udef2\\\\ud83c\\\\udfff\",\"\\\\ud83e\\\\udef1\\\\ud83c\\\\udffb\\\\u200b\\\\ud83e\\\\udef2\\\\ud83c\\\\udfff\")}return!1}function f(e,t,n){var r=\"undefined\"!=typeof WorkerGlobalScope&&self instanceof WorkerGlobalScope?new OffscreenCanvas(300,150):i.createElement(\"canvas\"),a=r.getContext(\"2d\",{willReadFrequently:!0}),o=(a.textBaseline=\"top\",a.font=\"600 32px Arial\",{});return e.forEach(function(e){o[e]=t(a,e,n)}),o}function t(e){var t=i.createElement(\"script\");t.src=e,t.defer=!0,i.head.appendChild(t)}\"undefined\"!=typeof Promise&&(o=\"wpEmojiSettingsSupports\",s=[\"flag\",\"emoji\"],n.supports={everything:!0,everythingExceptFlag:!0},e=new Promise(function(e){i.addEventListener(\"DOMContentLoaded\",e,{once:!0})}),new Promise(function(t){var n=function(){try{var e=JSON.parse(sessionStorage.getItem(o));if(\"object\"==typeof e&&\"number\"==typeof e.timestamp&&(new Date).valueOf()<e.timestamp+604800&&\"object\"==typeof e.supportTests)return e.supportTests}catch(e){}return null}();if(!n){if(\"undefined\"!=typeof Worker&&\"undefined\"!=typeof OffscreenCanvas&&\"undefined\"!=typeof URL&&URL.createObjectURL&&\"undefined\"!=typeof Blob)try{var e=\"postMessage(\"+f.toString()+\"(\"+[JSON.stringify(s),u.toString(),p.toString()].join(\",\")+\"));\",r=new Blob([e],{type:\"text/javascript\"}),a=new Worker(URL.createObjectURL(r),{name:\"wpTestEmojiSupports\"});return void(a.onmessage=function(e){c(n=e.data),a.terminate(),t(n)})}catch(e){}c(n=f(s,u,p))}t(n)}).then(function(e){for(var t in e)n.supports[t]=e[t],n.supports.everything=n.supports.everything&&n.supports[t],\"flag\"!==t&&(n.supports.everythingExceptFlag=n.supports.everythingExceptFlag&&n.supports[t]);n.supports.everythingExceptFlag=n.supports.everythingExceptFlag&&!n.supports.flag,n.DOMReady=!1,n.readyCallback=function(){n.DOMReady=!0}}).then(function(){return e}).then(function(){var e;n.supports.everything||(n.readyCallback(),(e=n.source||{}).concatemoji?t(e.concatemoji):e.wpemoji&&e.twemoji&&(t(e.twemoji),t(e.wpemoji)))}))}((window,document),window._wpemojiSettings);\\n</script>\\n<style type=\"text/css\">\\nimg.wp-smiley,\\nimg.emoji {\\n\\tdisplay: inline !important;\\n\\tborder: none !important;\\n\\tbox-shadow: none !important;\\n\\theight: 1em !important;\\n\\twidth: 1em !important;\\n\\tmargin: 0 0.07em !important;\\n\\tvertical-align: -0.1em !important;\\n\\tbackground: none !important;\\n\\tpadding: 0 !important;\\n}\\n</style>\\n\\t<link rel=\\'stylesheet\\' id=\\'ai1ec_style-css\\' href=\\'//civmin.utoronto.ca/wp-content/plugins/all-in-one-event-calendar/public/themes-ai1ec/vortex/css/ai1ec_parsed_css.css?ver=3.0.0\\' type=\\'text/css\\' media=\\'all\\' />\\n<link rel=\\'stylesheet\\' id=\\'font-awesome-5-css\\' href=\\'https://civmin.utoronto.ca/wp-content/plugins/bb-plugin/fonts/fontawesome/5.15.4/css/all.min.css?ver=2.7.2\\' type=\\'text/css\\' media=\\'all\\' />\\n<link rel=\\'stylesheet\\' id=\\'fl-builder-layout-27502-css\\' href=\\'https://civmin.utoronto.ca/wp-content/uploads/bb-plugin/cache/27502-layout.css?ver=5975b438554b7417a4ef23d6c2d87b7e\\' type=\\'text/css\\' media=\\'all\\' />\\n<link rel=\\'stylesheet\\' id=\\'slideshow-jquery-image-gallery-stylesheet_functional-css\\' href=\\'https://civmin.utoronto.ca/wp-content/plugins/slideshow-jquery-image-gallery/style/SlideshowPlugin/functional.css?ver=2.3.1\\' type=\\'text/css\\' media=\\'all\\' />\\n<link rel=\\'stylesheet\\' id=\\'slideshow-jquery-image-gallery-ajax-stylesheet_style-light-css\\' href=\\'https://civmin.utoronto.ca/wp-admin/admin-ajax.php?action=slideshow_jquery_image_gallery_load_stylesheet&#038;style=style-light&#038;ver=2.3.1\\' type=\\'text/css\\' media=\\'all\\' />\\n<link rel=\\'stylesheet\\' id=\\'slideshow-jquery-image-gallery-ajax-stylesheet_style-dark-css\\' href=\\'https://civmin.utoronto.ca/wp-admin/admin-ajax.php?action=slideshow_jquery_image_gallery_load_stylesheet&#038;style=style-dark&#038;ver=2.3.1\\' type=\\'text/css\\' media=\\'all\\' />\\n<link rel=\\'stylesheet\\' id=\\'tablepress-columnfilterwidgets-css-css\\' href=\\'https://civmin.utoronto.ca/wp-content/plugins/tablepress-datatables-column-filter-widgets/css/ColumnFilterWidgets.min.css?ver=1.2\\' type=\\'text/css\\' media=\\'all\\' />\\n<link rel=\\'stylesheet\\' id=\\'main-css\\' href=\\'https://civmin.utoronto.ca/wp-content/themes/fase-theme-2023-master/dist/css/index.min.css?ver=1.0.3\\' type=\\'text/css\\' media=\\'all\\' />\\n<link rel=\\'stylesheet\\' id=\\'general-css\\' href=\\'https://civmin.utoronto.ca/wp-content/themes/fase-theme-2023-master/dist/css/general.min.css?ver=1.0.3\\' type=\\'text/css\\' media=\\'all\\' />\\n<link rel=\\'stylesheet\\' id=\\'fonts-css\\' href=\\'https://fonts.googleapis.com/css?family=Open+Sans%3A400%2C600%2C700&#038;ver=1.1\\' type=\\'text/css\\' media=\\'all\\' />\\n<link rel=\\'stylesheet\\' id=\\'typekit-css\\' href=\\'https://use.typekit.net/egq6ygb.css?ver=1.0\\' type=\\'text/css\\' media=\\'all\\' />\\n<link rel=\\'stylesheet\\' id=\\'tablepress-default-css\\' href=\\'https://civmin.utoronto.ca/wp-content/tablepress-combined.min.css?ver=42\\' type=\\'text/css\\' media=\\'all\\' />\\n<link rel=\\'stylesheet\\' id=\\'pp-animate-css\\' href=\\'https://civmin.utoronto.ca/wp-content/plugins/bbpowerpack/assets/css/animate.min.css?ver=3.5.1\\' type=\\'text/css\\' media=\\'all\\' />\\n<script type=\\'text/javascript\\' id=\\'jquery-core-js-extra\\'>\\n/* <![CDATA[ */\\nvar SDT_DATA = {\"ajaxurl\":\"https:\\\\/\\\\/civmin.utoronto.ca\\\\/wp-admin\\\\/admin-ajax.php\",\"siteUrl\":\"https:\\\\/\\\\/civmin.utoronto.ca\\\\/\",\"pluginsUrl\":\"https:\\\\/\\\\/civmin.utoronto.ca\\\\/wp-content\\\\/plugins\",\"isAdmin\":\"\"};\\n/* ]]> */\\n</script>\\n<script type=\\'text/javascript\\' src=\\'https://civmin.utoronto.ca/wp-includes/js/jquery/jquery.min.js?ver=3.7.0\\' id=\\'jquery-core-js\\'></script>\\n<script type=\\'text/javascript\\' defer=\\'defer\\' src=\\'https://civmin.utoronto.ca/wp-includes/js/jquery/jquery-migrate.min.js?ver=3.4.1\\' id=\\'jquery-migrate-js\\'></script>\\n<script type=\\'text/javascript\\' src=\\'https://civmin.utoronto.ca/wp-content/plugins/google-analytics-premium/assets/js/frontend-gtag.min.js?ver=8.19.0\\' id=\\'monsterinsights-frontend-script-js\\'></script>\\n<script data-cfasync=\"false\" data-wpfc-render=\"false\" type=\"text/javascript\" id=\\'monsterinsights-frontend-script-js-extra\\'>/* <![CDATA[ */\\nvar monsterinsights_frontend = {\"js_events_tracking\":\"true\",\"download_extensions\":\"doc,pdf,ppt,zip,xls,docx,pptx,xlsx\",\"inbound_paths\":\"[]\",\"home_url\":\"https:\\\\/\\\\/civmin.utoronto.ca\",\"hash_tracking\":\"false\",\"v4_id\":\"G-2E9NND0N6Y\"};/* ]]> */\\n</script>\\n<script type=\\'text/javascript\\' src=\\'https://civmin.utoronto.ca/wp-includes/js/imagesloaded.min.js?ver=6.3.1\\' id=\\'imagesloaded-js\\'></script>\\n<script type=\\'text/javascript\\' src=\\'https://civmin.utoronto.ca/wp-content/themes/fase-theme-2023-master/assets/js/vendor/lazysizes.min.js?ver=1.0.0\\' id=\\'lazysizes-js\\'></script>\\n<script type=\\'text/javascript\\' src=\\'https://civmin.utoronto.ca/wp-content/themes/fase-theme-2023-master/assets/js/vendor/focus-visible-main/focus-visible.js?ver=1.0.0\\' id=\\'focus-visible-js\\'></script>\\n<script type=\\'text/javascript\\' src=\\'https://civmin.utoronto.ca/wp-content/themes/fase-theme-2023-master/dist/js/bundled/browser-detect-combined.min.js?ver=1.0.0\\' id=\\'browser-detect-js\\'></script>\\n<link rel=\"https://api.w.org/\" href=\"https://civmin.utoronto.ca/wp-json/\" /><link rel=\"alternate\" type=\"application/json\" href=\"https://civmin.utoronto.ca/wp-json/wp/v2/pages/27502\" /><link rel=\"EditURI\" type=\"application/rsd+xml\" title=\"RSD\" href=\"https://civmin.utoronto.ca/xmlrpc.php?rsd\" />\\n<meta name=\"generator\" content=\"WordPress 6.3.1\" />\\n<link rel=\"canonical\" href=\"https://civmin.utoronto.ca/\" />\\n<link rel=\\'shortlink\\' href=\\'https://civmin.utoronto.ca/\\' />\\n<link rel=\"alternate\" type=\"application/json+oembed\" href=\"https://civmin.utoronto.ca/wp-json/oembed/1.0/embed?url=https%3A%2F%2Fcivmin.utoronto.ca%2F\" />\\n<link rel=\"alternate\" type=\"text/xml+oembed\" href=\"https://civmin.utoronto.ca/wp-json/oembed/1.0/embed?url=https%3A%2F%2Fcivmin.utoronto.ca%2F&#038;format=xml\" />\\n\\t\\t<script>\\n\\t\\t\\tvar bb_powerpack = {\\n\\t\\t\\t\\tsearch_term: \\'\\',\\n\\t\\t\\t\\tversion: \\'2.33.1\\',\\n\\t\\t\\t\\tgetAjaxUrl: function() { return atob( \\'aHR0cHM6Ly9jaXZtaW4udXRvcm9udG8uY2Evd3AtYWRtaW4vYWRtaW4tYWpheC5waHA=\\' ); },\\n\\t\\t\\t\\tcallback: function() {}\\n\\t\\t\\t};\\n\\t\\t</script>\\n\\t\\t<style type=\"text/css\">.broken_link, a.broken_link {\\n\\ttext-decoration: line-through;\\n}</style><link rel=\"icon\" href=\"https://civmin.utoronto.ca/wp-content/uploads/2014/06/cropped-Title-Screen-Twitter-Logo-2-32x32.png\" sizes=\"32x32\" />\\n<link rel=\"icon\" href=\"https://civmin.utoronto.ca/wp-content/uploads/2014/06/cropped-Title-Screen-Twitter-Logo-2-192x192.png\" sizes=\"192x192\" />\\n<link rel=\"apple-touch-icon\" href=\"https://civmin.utoronto.ca/wp-content/uploads/2014/06/cropped-Title-Screen-Twitter-Logo-2-180x180.png\" />\\n<meta name=\"msapplication-TileImage\" content=\"https://civmin.utoronto.ca/wp-content/uploads/2014/06/cropped-Title-Screen-Twitter-Logo-2-270x270.png\" />\\n\\t\\t<style type=\"text/css\" id=\"wp-custom-css\">\\n\\t\\t\\t.ai1ec-day {\\n\\tline-height:0.5;\\n}\\n/*\\nimg, figure {\\n\\tmax-width: 100%;\\n}*/\\t\\t</style>\\n\\t\\t</head>\\r\\n\\r\\n\\r\\n<body class=\"home page-template page-template-templates page-template-page-wide page-template-templatespage-wide-php page page-id-27502 fl-builder\">\\r\\n\\t<div id=\"page\" class=\"site\">\\r\\n\\t\\t<header class=\"invisible\">\\n\\t<a href=\"#content\" class=\"screen-reader-text skip-link\">Skip to content</a>\\n\\t<div class=\"top-bar grey-bar\">\\n\\t\\t<div class=\"d-md-flex align-items-center content-wrap flex-row justify-content-between\">\\n\\t\\t\\t<div class=\"top-bar-left p-2\">\\n\\t\\t\\t\\t<span class=\"top-bar-left-1\">\\n\\t\\t\\t\\t\\t<a href=\"https://engineering.utoronto.ca\">\\n\\t\\t\\t\\t\\t\\t<span class=\"icon-home\" aria-hidden=\"true\" tabindex=\"-1\"></span>\\n\\t\\t\\t\\t\\t\\t<span class=\"link\">U of T ENGINEERING</span>\\n\\t\\t\\t\\t\\t</a>\\n\\t\\t\\t\\t</span>\\n\\t\\t\\t\\t\\t\\t\\t</div>\\n\\t\\t\\t<div class=\"top-bar-right p-2\">\\n\\t\\t\\t<div class=\"menu-top-menu-container\"><ul id=\"secondaryNav\" class=\"top-nav\"><li itemscope=\"itemscope\" itemtype=\"https://www.schema.org/SiteNavigationElement\" id=\"menu-item-32446\" class=\"menu-item menu-item-type-custom menu-item-object-custom menu-item-32446 nav-item level-0\"><a href=\"https://www.utoronto.ca/\" class=\"nav-link\" id=\"menu-item-link-32446\">U of T Home</a></li>\\n<li itemscope=\"itemscope\" itemtype=\"https://www.schema.org/SiteNavigationElement\" id=\"menu-item-32447\" class=\"menu-item menu-item-type-custom menu-item-object-custom menu-item-32447 nav-item level-0\"><a href=\"https://alumni.engineering.utoronto.ca/giving/\" class=\"nav-link\" id=\"menu-item-link-32447\">Give Now</a></li>\\n<li itemscope=\"itemscope\" itemtype=\"https://www.schema.org/SiteNavigationElement\" id=\"menu-item-32448\" class=\"menu-item menu-item-type-custom menu-item-object-custom menu-item-32448 nav-item level-0\"><a href=\"https://www.engineering.utoronto.ca/mental-health-wellness/talk-to-someone-right-now/\" class=\"nav-link\" id=\"menu-item-link-32448\">Urgent Support</a></li>\\n<li itemscope=\"itemscope\" itemtype=\"https://www.schema.org/SiteNavigationElement\" id=\"menu-item-32449\" class=\"menu-item menu-item-type-custom menu-item-object-custom menu-item-32449 nav-item level-0\"><a href=\"https://civmin.utoronto.ca/home/about-us/contact-us/\" class=\"nav-link\" id=\"menu-item-link-32449\">Contact</a></li>\\n</ul></div>\\t\\t\\t</div>\\n\\t\\t</div>\\n\\t</div>\\n\\t<div class=\"middle-bar\">\\n\\t\\t<div class=\"d-flex align-items-center content-wrap justify-content-between flex-wrap\">\\n\\t\\t\\t<div class=\"main-logo\">\\n\\t\\t\\t\\t<a href=\"https://civmin.utoronto.ca\"><img src=\"https://civmin.utoronto.ca/wp-content/uploads/2023/02/CivMin_Signature_655.svg\" alt=\"Department of Civil &amp; Mineral Engineering Home Page\" height=\"126\" width=\"618\" /></a>\\n\\t\\t\\t</div>\\n\\t\\t\\t<div class=\"main-search\">\\n\\t\\t\\t\\t<form role=\"search\" aria-label=\"Primary search form\" method=\"get\" class=\"search-form\" action=\"https://find.utoronto.ca/search\">\\n\\t<label for=\"headerSearch\">\\n\\t\\t<span class=\"screen-reader-text\">Search for:</span>\\n\\t\\t<input id=\"headerSearch\" type=\"search\" class=\"search-field\" placeholder=\"Search\" value=\"\" name=\"q\" />\\n\\t</label>\\n\\t<button type=\"submit\" class=\"header-search-submit\">\\n\\t\\t<span class=\"icon-search\" aria-hidden=\"true\" ></span>\\n\\t\\t<span class=\"screen-reader-text\">Submit Search</span>\\n\\t</button>\\n\\t\\t\\t<input type=\"hidden\" name=\"output\" value=\"xml_no_dtd\">\\n\\t\\t<input type=\"hidden\" name=\"ie\" value=\"UTF-8\">\\n\\t\\t<input type=\"hidden\" name=\"oe\" value=\"UTF-8\">\\n\\t\\t<input type=\"hidden\" name=\"site\" value=\"Engineering\">\\n\\t\\t<input type=\"hidden\" name=\"client\" value=\"engineering\">\\n\\t\\t<input type=\"hidden\" name=\"proxystylesheet\" value=\"engineering\">\\n\\t\\t</form>\\n\\t\\t\\t</div>\\n\\t\\t\\t<div class=\"desktop-hidden nav-bar-toggle\">\\n\\t\\t\\t\\t<button class=\"main-nav-toggle\" aria-controls=\"mainNavBar\" type=\"button\" aria-expanded=\"false\" aria-hidden=\"true\" tabindex=\"-1\">\\n\\t\\t\\t\\t\\t<span class=\"transformicon\"></span>\\n\\t\\t\\t\\t\\t<span class=\"screen-reader-text\">Main Menu</span>\\n\\t\\t\\t\\t</button>\\n\\t\\t\\t</div>\\n\\t\\t</div>\\n\\t</div>\\n\\t\\t<div class=\"main-nav-bar\" id=\"mainNavBar\">\\n\\t\\t<div class=\"content-wrap\">\\n\\t\\t\\t<div class=\"main-nav\">\\n\\t\\t\\t<nav class=\"menu-main-v2-container\" aria-label=\"Primary navigation\"><ul id=\"primaryNav\" class=\"primary-nav\"><li itemscope=\"itemscope\" itemtype=\"https://www.schema.org/SiteNavigationElement\" id=\"menu-item-20345\" class=\"menu-item menu-item-type-post_type menu-item-object-page menu-item-has-children dropdown menu-item-20345 nav-item level-0\"><a href=\"https://civmin.utoronto.ca/home/about-us/\" data-url=\"https://civmin.utoronto.ca/home/about-us/\" data-toggle=\"dropdown\" role=\"button\" class=\"dropdown-toggle nav-link\" id=\"menu-item-dropdown-20345\">About Us</a>\\n<ul class=\"sub-menu\" aria-labelledby=\"menu-item-dropdown-20345\" role=\"menu\" aria-label=\"Sub menu navigation list\" >\\n\\t<li itemscope=\"itemscope\" itemtype=\"https://www.schema.org/SiteNavigationElement\" id=\"menu-item-35433\" class=\"menu-item menu-item-type-post_type menu-item-object-page menu-item-has-children dropdown menu-item-35433 nav-item level-1\"><a href=\"https://civmin.utoronto.ca/home/about-us/about-civmin/\" class=\"dropdown-item\" id=\"menu-item-link-35433\">About CivMin</a>\\n\\t<ul class=\"sub-menu\" aria-labelledby=\"menu-item-link-35433\" role=\"menu\" aria-label=\"Sub menu navigation list\" >\\n\\t\\t<li itemscope=\"itemscope\" itemtype=\"https://www.schema.org/SiteNavigationElement\" id=\"menu-item-35434\" class=\"menu-item menu-item-type-post_type menu-item-object-page menu-item-35434 nav-item level-2\"><a href=\"https://civmin.utoronto.ca/home/about-us/about-civmin/history/\" class=\"dropdown-item\" id=\"menu-item-link-35434\">Department History</a></li>\\n\\t\\t<li itemscope=\"itemscope\" itemtype=\"https://www.schema.org/SiteNavigationElement\" id=\"menu-item-35435\" class=\"menu-item menu-item-type-post_type menu-item-object-page menu-item-35435 nav-item level-2\"><a href=\"https://civmin.utoronto.ca/home/about-us/about-civmin/skygarden/\" class=\"dropdown-item\" id=\"menu-item-link-35435\">SkyGarden</a></li>\\n\\t</ul>\\n</li>\\n\\t<li itemscope=\"itemscope\" itemtype=\"https://www.schema.org/SiteNavigationElement\" id=\"menu-item-20347\" class=\"menu-item menu-item-type-post_type menu-item-object-page menu-item-20347 nav-item level-1\"><a href=\"https://civmin.utoronto.ca/home/about-us/about-civmin/department-leadership/\" class=\"dropdown-item\" id=\"menu-item-link-20347\">Department Leadership</a></li>\\n\\t<li itemscope=\"itemscope\" itemtype=\"https://www.schema.org/SiteNavigationElement\" id=\"menu-item-20349\" class=\"menu-item menu-item-type-post_type menu-item-object-page menu-item-has-children dropdown menu-item-20349 nav-item level-1\"><a href=\"https://civmin.utoronto.ca/home/about-us/news/\" class=\"dropdown-item\" id=\"menu-item-link-20349\">News</a>\\n\\t<ul class=\"sub-menu\" aria-labelledby=\"menu-item-link-20349\" role=\"menu\" aria-label=\"Sub menu navigation list\" >\\n\\t\\t<li itemscope=\"itemscope\" itemtype=\"https://www.schema.org/SiteNavigationElement\" id=\"menu-item-27165\" class=\"menu-item menu-item-type-post_type menu-item-object-page menu-item-27165 nav-item level-2\"><a href=\"https://civmin.utoronto.ca/home/about-us/past-newsletters/\" class=\"dropdown-item\" id=\"menu-item-link-27165\">Past Newsletters</a></li>\\n\\t</ul>\\n</li>\\n\\t<li itemscope=\"itemscope\" itemtype=\"https://www.schema.org/SiteNavigationElement\" id=\"menu-item-20348\" class=\"menu-item menu-item-type-post_type menu-item-object-page menu-item-20348 nav-item level-1\"><a href=\"https://civmin.utoronto.ca/home/about-us/opportunities/\" class=\"dropdown-item\" id=\"menu-item-link-20348\">Job Opportunities</a></li>\\n\\t<li itemscope=\"itemscope\" itemtype=\"https://www.schema.org/SiteNavigationElement\" id=\"menu-item-20350\" class=\"menu-item menu-item-type-post_type menu-item-object-page menu-item-20350 nav-item level-1\"><a href=\"https://civmin.utoronto.ca/home/about-us/calendar/lectures/\" class=\"dropdown-item\" id=\"menu-item-link-20350\">Distinguished Lectures</a></li>\\n\\t<li itemscope=\"itemscope\" itemtype=\"https://www.schema.org/SiteNavigationElement\" id=\"menu-item-29022\" class=\"menu-item menu-item-type-post_type menu-item-object-page menu-item-29022 nav-item level-1\"><a href=\"https://civmin.utoronto.ca/home/about-us/equity-diversity-and-inclusion/\" class=\"dropdown-item\" id=\"menu-item-link-29022\">Equity, Diversity and Inclusion</a></li>\\n\\t<li itemscope=\"itemscope\" itemtype=\"https://www.schema.org/SiteNavigationElement\" id=\"menu-item-20351\" class=\"menu-item menu-item-type-post_type menu-item-object-page menu-item-20351 nav-item level-1\"><a href=\"https://civmin.utoronto.ca/home/about-us/contact-us/\" class=\"dropdown-item\" id=\"menu-item-link-20351\">Contact Us</a></li>\\n</ul>\\n</li>\\n<li itemscope=\"itemscope\" itemtype=\"https://www.schema.org/SiteNavigationElement\" id=\"menu-item-20352\" class=\"menu-item menu-item-type-post_type menu-item-object-page menu-item-has-children dropdown menu-item-20352 nav-item level-0\"><a href=\"https://civmin.utoronto.ca/home/programs/\" data-url=\"https://civmin.utoronto.ca/home/programs/\" data-toggle=\"dropdown\" role=\"button\" class=\"dropdown-toggle nav-link\" id=\"menu-item-dropdown-20352\">Our Programs</a>\\n<ul class=\"sub-menu\" aria-labelledby=\"menu-item-dropdown-20352\" role=\"menu\" aria-label=\"Sub menu navigation list\" >\\n\\t<li itemscope=\"itemscope\" itemtype=\"https://www.schema.org/SiteNavigationElement\" id=\"menu-item-20353\" class=\"menu-item menu-item-type-post_type menu-item-object-page menu-item-20353 nav-item level-1\"><a href=\"https://civmin.utoronto.ca/home/programs/undergraduate-programs/\" class=\"dropdown-item\" id=\"menu-item-link-20353\">Undergraduate Programs</a></li>\\n\\t<li itemscope=\"itemscope\" itemtype=\"https://www.schema.org/SiteNavigationElement\" id=\"menu-item-20354\" class=\"menu-item menu-item-type-post_type menu-item-object-page menu-item-has-children dropdown menu-item-20354 nav-item level-1\"><a href=\"https://civmin.utoronto.ca/home/programs/graduate-programs/\" class=\"dropdown-item\" id=\"menu-item-link-20354\">Graduate Programs</a>\\n\\t<ul class=\"sub-menu\" aria-labelledby=\"menu-item-link-20354\" role=\"menu\" aria-label=\"Sub menu navigation list\" >\\n\\t\\t<li itemscope=\"itemscope\" itemtype=\"https://www.schema.org/SiteNavigationElement\" id=\"menu-item-33196\" class=\"menu-item menu-item-type-post_type menu-item-object-page menu-item-33196 nav-item level-2\"><a href=\"https://civmin.utoronto.ca/home/programs/graduate-programs/meng/\" class=\"dropdown-item\" id=\"menu-item-link-33196\">Master of Engineering (MEng) in Civil &#038; Mineral Engineering</a></li>\\n\\t\\t<li itemscope=\"itemscope\" itemtype=\"https://www.schema.org/SiteNavigationElement\" id=\"menu-item-30969\" class=\"menu-item menu-item-type-post_type menu-item-object-page menu-item-30969 nav-item level-2\"><a href=\"https://civmin.utoronto.ca/home/programs/graduate-programs/master-of-engineering-in-cities-engineering-and-management/\" class=\"dropdown-item\" id=\"menu-item-link-30969\">Master of Engineering in Cities Engineering and Management (MEngCEM)</a></li>\\n\\t\\t<li itemscope=\"itemscope\" itemtype=\"https://www.schema.org/SiteNavigationElement\" id=\"menu-item-30970\" class=\"menu-item menu-item-type-post_type menu-item-object-page menu-item-30970 nav-item level-2\"><a href=\"https://civmin.utoronto.ca/home/programs/graduate-programs/master-of-applied-science/\" class=\"dropdown-item\" id=\"menu-item-link-30970\">Master of Applied Science (MASc)</a></li>\\n\\t\\t<li itemscope=\"itemscope\" itemtype=\"https://www.schema.org/SiteNavigationElement\" id=\"menu-item-30971\" class=\"menu-item menu-item-type-post_type menu-item-object-page menu-item-30971 nav-item level-2\"><a href=\"https://civmin.utoronto.ca/home/programs/graduate-programs/doctor-of-philosophy/\" class=\"dropdown-item\" id=\"menu-item-link-30971\">Doctor of Philosophy (PhD)</a></li>\\n\\t\\t<li itemscope=\"itemscope\" itemtype=\"https://www.schema.org/SiteNavigationElement\" id=\"menu-item-35439\" class=\"menu-item menu-item-type-post_type menu-item-object-page menu-item-35439 nav-item level-2\"><a href=\"https://civmin.utoronto.ca/mimp/\" class=\"dropdown-item\" id=\"menu-item-link-35439\">Mining Industry Management Program</a></li>\\n\\t\\t<li itemscope=\"itemscope\" itemtype=\"https://www.schema.org/SiteNavigationElement\" id=\"menu-item-29815\" class=\"menu-item menu-item-type-post_type menu-item-object-page menu-item-29815 nav-item level-2\"><a href=\"https://civmin.utoronto.ca/timetables-and-course-descriptions/graduate-course-catalogue/\" class=\"dropdown-item\" id=\"menu-item-link-29815\">Graduate Course Catalogue</a></li>\\n\\t\\t<li itemscope=\"itemscope\" itemtype=\"https://www.schema.org/SiteNavigationElement\" id=\"menu-item-28204\" class=\"menu-item menu-item-type-post_type menu-item-object-page menu-item-28204 nav-item level-2\"><a href=\"https://civmin.utoronto.ca/home/programs/graduate-programs/graduate-fees-scholarships-and-funding/\" class=\"dropdown-item\" id=\"menu-item-link-28204\">Graduate Fees, Scholarships, and Funding</a></li>\\n\\t</ul>\\n</li>\\n\\t<li itemscope=\"itemscope\" itemtype=\"https://www.schema.org/SiteNavigationElement\" id=\"menu-item-28329\" class=\"menu-item menu-item-type-post_type menu-item-object-page menu-item-28329 nav-item level-1\"><a href=\"https://civmin.utoronto.ca/home/programs/courses/\" class=\"dropdown-item\" id=\"menu-item-link-28329\">Course Descriptions + Timetables</a></li>\\n\\t<li itemscope=\"itemscope\" itemtype=\"https://www.schema.org/SiteNavigationElement\" id=\"menu-item-30961\" class=\"menu-item menu-item-type-post_type menu-item-object-page menu-item-30961 nav-item level-1\"><a href=\"https://civmin.utoronto.ca/home/programs/graduate-programs/departmental-awards/\" class=\"dropdown-item\" id=\"menu-item-link-30961\">Departmental Awards</a></li>\\n\\t<li itemscope=\"itemscope\" itemtype=\"https://www.schema.org/SiteNavigationElement\" id=\"menu-item-31009\" class=\"menu-item menu-item-type-post_type menu-item-object-page menu-item-31009 nav-item level-1\"><a href=\"https://civmin.utoronto.ca/home/programs/graduate-programs/external-awards/\" class=\"dropdown-item\" id=\"menu-item-link-31009\">External Awards</a></li>\\n\\t<li itemscope=\"itemscope\" itemtype=\"https://www.schema.org/SiteNavigationElement\" id=\"menu-item-20355\" class=\"menu-item menu-item-type-post_type menu-item-object-page menu-item-20355 nav-item level-1\"><a href=\"https://civmin.utoronto.ca/home/programs/office-of-student-services/\" class=\"dropdown-item\" id=\"menu-item-link-20355\">Office of Student Services</a></li>\\n</ul>\\n</li>\\n<li itemscope=\"itemscope\" itemtype=\"https://www.schema.org/SiteNavigationElement\" id=\"menu-item-20443\" class=\"menu-item menu-item-type-post_type menu-item-object-page menu-item-has-children dropdown menu-item-20443 nav-item level-0\"><a href=\"https://civmin.utoronto.ca/home/admissions/\" data-url=\"https://civmin.utoronto.ca/home/admissions/\" data-toggle=\"dropdown\" role=\"button\" class=\"dropdown-toggle nav-link\" id=\"menu-item-dropdown-20443\">Admissions</a>\\n<ul class=\"sub-menu\" aria-labelledby=\"menu-item-dropdown-20443\" role=\"menu\" aria-label=\"Sub menu navigation list\" >\\n\\t<li itemscope=\"itemscope\" itemtype=\"https://www.schema.org/SiteNavigationElement\" id=\"menu-item-20444\" class=\"menu-item menu-item-type-post_type menu-item-object-page menu-item-20444 nav-item level-1\"><a href=\"https://civmin.utoronto.ca/home/admissions/undergraduate-admissions/\" class=\"dropdown-item\" id=\"menu-item-link-20444\">Undergraduate Admissions</a></li>\\n\\t<li itemscope=\"itemscope\" itemtype=\"https://www.schema.org/SiteNavigationElement\" id=\"menu-item-20445\" class=\"menu-item menu-item-type-post_type menu-item-object-page menu-item-20445 nav-item level-1\"><a href=\"https://civmin.utoronto.ca/home/admissions/graduate-admissions/\" class=\"dropdown-item\" id=\"menu-item-link-20445\">Graduate Admissions</a></li>\\n</ul>\\n</li>\\n<li itemscope=\"itemscope\" itemtype=\"https://www.schema.org/SiteNavigationElement\" id=\"menu-item-20360\" class=\"menu-item menu-item-type-custom menu-item-object-custom menu-item-has-children dropdown menu-item-20360 nav-item level-0\"><a href=\"https://civmin.utoronto.ca/home/our-research/research/\" data-url=\"https://civmin.utoronto.ca/home/our-research/research/\" data-toggle=\"dropdown\" role=\"button\" class=\"dropdown-toggle nav-link\" id=\"menu-item-dropdown-20360\">Our Research</a>\\n<ul class=\"sub-menu\" aria-labelledby=\"menu-item-dropdown-20360\" role=\"menu\" aria-label=\"Sub menu navigation list\" >\\n\\t<li itemscope=\"itemscope\" itemtype=\"https://www.schema.org/SiteNavigationElement\" id=\"menu-item-20359\" class=\"menu-item menu-item-type-post_type menu-item-object-page menu-item-20359 nav-item level-1\"><a href=\"https://civmin.utoronto.ca/home/our-research/research/\" class=\"dropdown-item\" id=\"menu-item-link-20359\">Research Themes</a></li>\\n\\t<li itemscope=\"itemscope\" itemtype=\"https://www.schema.org/SiteNavigationElement\" id=\"menu-item-20357\" class=\"menu-item menu-item-type-post_type menu-item-object-page menu-item-20357 nav-item level-1\"><a href=\"https://civmin.utoronto.ca/home/our-research/institutes-centres/\" class=\"dropdown-item\" id=\"menu-item-link-20357\">Institutes &#038; Centres</a></li>\\n\\t<li itemscope=\"itemscope\" itemtype=\"https://www.schema.org/SiteNavigationElement\" id=\"menu-item-28539\" class=\"menu-item menu-item-type-custom menu-item-object-custom menu-item-28539 nav-item level-1\"><a href=\"https://civmin.utoronto.ca/civmin-research-handbook/\" class=\"dropdown-item\" id=\"menu-item-link-28539\">CivMin Research Handbook</a></li>\\n\\t<li itemscope=\"itemscope\" itemtype=\"https://www.schema.org/SiteNavigationElement\" id=\"menu-item-20358\" class=\"menu-item menu-item-type-post_type menu-item-object-page menu-item-20358 nav-item level-1\"><a href=\"https://civmin.utoronto.ca/home/our-research/facilities/\" class=\"dropdown-item\" id=\"menu-item-link-20358\">Research Facilities</a></li>\\n</ul>\\n</li>\\n<li itemscope=\"itemscope\" itemtype=\"https://www.schema.org/SiteNavigationElement\" id=\"menu-item-20361\" class=\"menu-item menu-item-type-post_type menu-item-object-page menu-item-has-children dropdown menu-item-20361 nav-item level-0\"><a href=\"https://civmin.utoronto.ca/home/partner-with-us/\" data-url=\"https://civmin.utoronto.ca/home/partner-with-us/\" data-toggle=\"dropdown\" role=\"button\" class=\"dropdown-toggle nav-link\" id=\"menu-item-dropdown-20361\">Partner with Us</a>\\n<ul class=\"sub-menu\" aria-labelledby=\"menu-item-dropdown-20361\" role=\"menu\" aria-label=\"Sub menu navigation list\" >\\n\\t<li itemscope=\"itemscope\" itemtype=\"https://www.schema.org/SiteNavigationElement\" id=\"menu-item-20362\" class=\"menu-item menu-item-type-post_type menu-item-object-page menu-item-20362 nav-item level-1\"><a href=\"https://civmin.utoronto.ca/home/partner-with-us/hire-an-engineering-student-or-graduate/\" class=\"dropdown-item\" id=\"menu-item-link-20362\">Hire An Engineering Student Or Graduate</a></li>\\n\\t<li itemscope=\"itemscope\" itemtype=\"https://www.schema.org/SiteNavigationElement\" id=\"menu-item-20363\" class=\"menu-item menu-item-type-post_type menu-item-object-page menu-item-20363 nav-item level-1\"><a href=\"https://civmin.utoronto.ca/home/partner-with-us/research-partnerships/\" class=\"dropdown-item\" id=\"menu-item-link-20363\">Research Partnerships</a></li>\\n\\t<li itemscope=\"itemscope\" itemtype=\"https://www.schema.org/SiteNavigationElement\" id=\"menu-item-28137\" class=\"menu-item menu-item-type-post_type menu-item-object-page menu-item-28137 nav-item level-1\"><a href=\"https://civmin.utoronto.ca/home/partner-with-us/industry-advisory-board/\" class=\"dropdown-item\" id=\"menu-item-link-28137\">Industry Advisory Board (CivE)</a></li>\\n\\t<li itemscope=\"itemscope\" itemtype=\"https://www.schema.org/SiteNavigationElement\" id=\"menu-item-34374\" class=\"menu-item menu-item-type-post_type menu-item-object-page menu-item-34374 nav-item level-1\"><a href=\"https://civmin.utoronto.ca/home/partner-with-us/lmep-advisory-board/\" class=\"dropdown-item\" id=\"menu-item-link-34374\">Lassonde Mineral Engineering Program Advisory Board</a></li>\\n</ul>\\n</li>\\n<li itemscope=\"itemscope\" itemtype=\"https://www.schema.org/SiteNavigationElement\" id=\"menu-item-20368\" class=\"menu-item menu-item-type-post_type menu-item-object-page menu-item-has-children dropdown menu-item-20368 nav-item level-0\"><a href=\"https://civmin.utoronto.ca/home/alumni/\" data-url=\"https://civmin.utoronto.ca/home/alumni/\" data-toggle=\"dropdown\" role=\"button\" class=\"dropdown-toggle nav-link\" id=\"menu-item-dropdown-20368\">Alumni</a>\\n<ul class=\"sub-menu\" aria-labelledby=\"menu-item-dropdown-20368\" role=\"menu\" aria-label=\"Sub menu navigation list\" >\\n\\t<li itemscope=\"itemscope\" itemtype=\"https://www.schema.org/SiteNavigationElement\" id=\"menu-item-20365\" class=\"menu-item menu-item-type-post_type menu-item-object-page menu-item-20365 nav-item level-1\"><a href=\"https://civmin.utoronto.ca/home/alumni/get-connected/\" class=\"dropdown-item\" id=\"menu-item-link-20365\">Get Connected</a></li>\\n\\t<li itemscope=\"itemscope\" itemtype=\"https://www.schema.org/SiteNavigationElement\" id=\"menu-item-20366\" class=\"menu-item menu-item-type-post_type menu-item-object-page menu-item-20366 nav-item level-1\"><a href=\"https://civmin.utoronto.ca/home/alumni/foundations/\" class=\"dropdown-item\" id=\"menu-item-link-20366\">foundations Magazine</a></li>\\n\\t<li itemscope=\"itemscope\" itemtype=\"https://www.schema.org/SiteNavigationElement\" id=\"menu-item-20367\" class=\"menu-item menu-item-type-custom menu-item-object-custom menu-item-20367 nav-item level-1\"><a href=\"https://secureca.imodules.com/s/731/form-blank/index.aspx?sid=731&#038;gid=1&#038;pgid=11544&#038;cid=19864\" class=\"dropdown-item\" id=\"menu-item-link-20367\">Update Your Contact Information</a></li>\\n\\t<li itemscope=\"itemscope\" itemtype=\"https://www.schema.org/SiteNavigationElement\" id=\"menu-item-20369\" class=\"menu-item menu-item-type-custom menu-item-object-custom menu-item-20369 nav-item level-1\"><a href=\"https://www.camp1.ca/wordpress/\" class=\"dropdown-item\" id=\"menu-item-link-20369\">Iron Ring</a></li>\\n</ul>\\n</li>\\n<li itemscope=\"itemscope\" itemtype=\"https://www.schema.org/SiteNavigationElement\" id=\"menu-item-20370\" class=\"menu-item menu-item-type-post_type menu-item-object-page menu-item-20370 nav-item level-0\"><a href=\"https://civmin.utoronto.ca/home/about-us/directory/\" class=\"nav-link\" id=\"menu-item-link-20370\">Directory</a></li>\\n<li itemscope=\"itemscope\" itemtype=\"https://www.schema.org/SiteNavigationElement\" id=\"menu-item-35431\" class=\"menu-item menu-item-type-post_type menu-item-object-page menu-item-has-children dropdown menu-item-35431 nav-item level-0\"><a href=\"https://civmin.utoronto.ca/services-copy/\" data-url=\"https://civmin.utoronto.ca/services-copy/\" data-toggle=\"dropdown\" role=\"button\" class=\"dropdown-toggle nav-link\" id=\"menu-item-dropdown-35431\">Departmental Services</a>\\n<ul class=\"sub-menu\" aria-labelledby=\"menu-item-dropdown-35431\" role=\"menu\" aria-label=\"Sub menu navigation list\" >\\n\\t<li itemscope=\"itemscope\" itemtype=\"https://www.schema.org/SiteNavigationElement\" id=\"menu-item-20371\" class=\"menu-item menu-item-type-post_type menu-item-object-page menu-item-20371 nav-item level-1\"><a href=\"https://civmin.utoronto.ca/services/\" class=\"dropdown-item\" id=\"menu-item-link-20371\">Departmental Services</a></li>\\n\\t<li itemscope=\"itemscope\" itemtype=\"https://www.schema.org/SiteNavigationElement\" id=\"menu-item-28324\" class=\"menu-item menu-item-type-custom menu-item-object-custom menu-item-28324 nav-item level-1\"><a href=\"https://utoronto.sharepoint.com/sites/fase-CivMin/SitePages/Home.aspx?OR=Teams-HL&#038;CT=1643992347378&#038;sourceId=&#038;params=%22AppName%22:%22Teams-Desktop%22,%22AppVersion%22:%2228/22010300409%22\" class=\"dropdown-item\" id=\"menu-item-link-28324\">CivMin Intranet</a></li>\\n\\t<li itemscope=\"itemscope\" itemtype=\"https://www.schema.org/SiteNavigationElement\" id=\"menu-item-20374\" class=\"menu-item menu-item-type-post_type menu-item-object-page menu-item-20374 nav-item level-1\"><a href=\"https://civmin.utoronto.ca/services/forms/\" class=\"dropdown-item\" id=\"menu-item-link-20374\">Forms &#038; Guidelines</a></li>\\n</ul>\\n</li>\\n</ul></nav>\\t\\t\\t</div>\\n\\t\\t\\t<div class=\"social-nav-wrapper\">\\n\\t\\t\\t<div class=\"menu-social-container\"><ul id=\"menu-social\" class=\"social-nav\"><li itemscope=\"itemscope\" itemtype=\"https://www.schema.org/SiteNavigationElement\" id=\"menu-item-14159\" class=\"menu-item menu-item-type-custom menu-item-object-custom menu-item-14159 nav-item\"><a href=\"https://www.facebook.com/civminutoronto/\" class=\"nav-link\"><span class=\"soc-icon-facebook\"></span><span class=\"screen-reader-text\">Facebook</span></span></a></li>\\n<li itemscope=\"itemscope\" itemtype=\"https://www.schema.org/SiteNavigationElement\" id=\"menu-item-14160\" class=\"menu-item menu-item-type-custom menu-item-object-custom menu-item-14160 nav-item\"><a href=\"https://twitter.com/civmin?lang=en\" class=\"nav-link\"><span class=\"soc-icon-twitter\"></span><span class=\"screen-reader-text\">Twitter</span></span></a></li>\\n<li itemscope=\"itemscope\" itemtype=\"https://www.schema.org/SiteNavigationElement\" id=\"menu-item-14161\" class=\"menu-item menu-item-type-custom menu-item-object-custom menu-item-14161 nav-item\"><a href=\"https://www.instagram.com/civmin/\" class=\"nav-link\"><span class=\"soc-icon-instagram\"></span><span class=\"screen-reader-text\">Instagram</span></span></a></li>\\n<li itemscope=\"itemscope\" itemtype=\"https://www.schema.org/SiteNavigationElement\" id=\"menu-item-22663\" class=\"menu-item menu-item-type-custom menu-item-object-custom menu-item-22663 nav-item\"><a href=\"https://www.linkedin.com/school/civmin/\" class=\"nav-link\"><span class=\"soc-icon-linkedin\"></span><span class=\"screen-reader-text\">LinkedIn</span></span></a></li>\\n<li itemscope=\"itemscope\" itemtype=\"https://www.schema.org/SiteNavigationElement\" id=\"menu-item-24105\" class=\"menu-item menu-item-type-custom menu-item-object-custom menu-item-24105 nav-item\"><a href=\"https://www.youtube.com/user/civmin\" class=\"nav-link\"><span class=\"soc-icon-youtube\"></span><span class=\"screen-reader-text\">Youtube</span></span></a></li>\\n</ul></div>\\t\\t\\t</div>\\n\\t\\t\\t<div class=\"desktop-hidden main-nav-top-bar\" tabindex=\"-1\" aria-hidden=\"true\"></div>\\n\\t\\t\\t<div class=\"desktop-hidden main-nav-search-bar\" tabindex=\"-1\" aria-hidden=\"true\"></div>\\n\\t\\t</div>\\n\\t</div>\\n</header>\\n\\n<main class=\"primary content-area\" id=\"content\" tabindex=\"-1\">\\n\\t<div class=\"site-content content-wrap\">\\n\\t\\t<div class=\"page-content\">\\n\\t\\t\\t<article id=\"post-27502\" class=\"post-27502 page type-page status-publish hentry\">\\n\\n\\t<section class=\"entry-content\">\\n\\t\\t<div class=\"fl-builder-content fl-builder-content-27502 fl-builder-content-primary fl-builder-global-templates-locked\" data-post-id=\"27502\"><div class=\"fl-row fl-row-full-width fl-row-bg-pp_infinite_bg fl-node-cev7w31kuip8 fl-row-default-height fl-row-align-center\" data-node=\"cev7w31kuip8\">\\n\\t<div class=\"fl-row-content-wrap\">\\n\\t\\t\\t\\t\\t\\t<div class=\"fl-row-content fl-row-fixed-width fl-node-content\">\\n\\t\\t\\n<div class=\"fl-col-group fl-node-5a783hutsq1w\" data-node=\"5a783hutsq1w\">\\n\\t\\t\\t<div class=\"fl-col fl-node-4hml7peod295 fl-col-has-cols\" data-node=\"4hml7peod295\">\\n\\t<div class=\"fl-col-content fl-node-content\">\\n<div class=\"fl-col-group fl-node-g87srj6mtzek fl-col-group-nested\" data-node=\"g87srj6mtzek\">\\n\\t\\t\\t<div class=\"fl-col fl-node-b6nx0zyut295\" data-node=\"b6nx0zyut295\">\\n\\t<div class=\"fl-col-content fl-node-content\"><div class=\"fl-module fl-module-rich-text fl-node-vxs2h0alpgm9\" data-node=\"vxs2h0alpgm9\">\\n\\t<div class=\"fl-module-content fl-node-content\">\\n\\t\\t<div class=\"fl-rich-text\">\\n\\t<div>\\n<h1 class=\"bdt-slideshow-title bdt-display-inline-block\" style=\"text-align: left;\"><strong>Mining Industry Management Program</strong></h1>\\n</div>\\n</div>\\n\\t</div>\\n</div>\\n<div class=\"fl-module fl-module-button fl-node-i37d4gw1c6ap fl-animation fl-slide-in-down\" data-node=\"i37d4gw1c6ap\" data-animation-delay=\"0\" data-animation-duration=\"2\">\\n\\t<div class=\"fl-module-content fl-node-content\">\\n\\t\\t<div class=\"fl-button-wrap fl-button-width-auto fl-button-left fl-button-has-icon\">\\n\\t\\t\\t<a href=\"https://utorontomimp.ca/courses/exploration-studies-resources-reserves/\" target=\"_self\" class=\"fl-button\">\\n\\t\\t\\t\\t\\t<i class=\"fl-button-icon fl-button-icon-before fas fa-mouse-pointer\" aria-hidden=\"true\"></i>\\n\\t\\t\\t\\t\\t\\t<span class=\"fl-button-text\">Explore fully-online, graduate level mining courses!</span>\\n\\t\\t\\t\\t\\t</a>\\n</div>\\n\\t</div>\\n</div>\\n</div>\\n</div>\\n\\t</div>\\n</div>\\n</div>\\n\\t\\t\\t<div class=\"fl-col fl-node-hsno2zqf4k9j fl-col-small\" data-node=\"hsno2zqf4k9j\">\\n\\t<div class=\"fl-col-content fl-node-content\"><div class=\"fl-module fl-module-photo fl-node-2ip8570syb9a fl-animation fl-zoom-in\" data-node=\"2ip8570syb9a\" data-animation-delay=\"0\" data-animation-duration=\"1\">\\n\\t<div class=\"fl-module-content fl-node-content\">\\n\\t\\t<div class=\"fl-photo fl-photo-align-center\" itemscope itemtype=\"https://schema.org/ImageObject\">\\n\\t<div class=\"fl-photo-content fl-photo-img-png\">\\n\\t\\t\\t\\t<img decoding=\"async\" loading=\"lazy\" class=\"fl-photo-img wp-image-35393 size-full\" src=\"https://civmin.utoronto.ca/wp-content/uploads/2023/07/M-Logo-Transp.png\" alt=\"M-Logo-Transp\" itemprop=\"image\" height=\"512\" width=\"512\" title=\"M-Logo-Transp\" srcset=\"https://civmin.utoronto.ca/wp-content/uploads/2023/07/M-Logo-Transp.png 512w, https://civmin.utoronto.ca/wp-content/uploads/2023/07/M-Logo-Transp-300x300.png 300w, https://civmin.utoronto.ca/wp-content/uploads/2023/07/M-Logo-Transp-100x100.png 100w, https://civmin.utoronto.ca/wp-content/uploads/2023/07/M-Logo-Transp-226x226.png 226w, https://civmin.utoronto.ca/wp-content/uploads/2023/07/M-Logo-Transp-471x471.png 471w, https://civmin.utoronto.ca/wp-content/uploads/2023/07/M-Logo-Transp-500x500.png 500w\" sizes=\"(max-width: 512px) 100vw, 512px\" />\\n\\t\\t\\t\\t\\t</div>\\n\\t</div>\\n\\t</div>\\n</div>\\n</div>\\n</div>\\n\\t</div>\\n\\t\\t</div>\\n\\t</div>\\n</div>\\n<div class=\"fl-row fl-row-full-width fl-row-bg-gradient fl-node-mc79jhu6tl2a fl-row-default-height fl-row-align-center\" data-node=\"mc79jhu6tl2a\">\\n\\t<div class=\"fl-row-content-wrap\">\\n\\t\\t\\t\\t\\t\\t<div class=\"fl-row-content fl-row-fixed-width fl-node-content\">\\n\\t\\t\\n<div class=\"fl-col-group fl-node-yce0toj91mab\" data-node=\"yce0toj91mab\">\\n\\t\\t\\t<div class=\"fl-col fl-node-c5hmjx69grzo\" data-node=\"c5hmjx69grzo\">\\n\\t<div class=\"fl-col-content fl-node-content\"><div class=\"fl-module fl-module-rich-text fl-node-5mtvfqlhok68\" data-node=\"5mtvfqlhok68\">\\n\\t<div class=\"fl-module-content fl-node-content\">\\n\\t\\t<div class=\"fl-rich-text\">\\n\\t<h6 style=\"text-align: center;\"><a href=\"https://www.engineering.utoronto.ca/deans-messages/\"><strong>Latest </strong>message from the Dean</a></h6>\\n</div>\\n\\t</div>\\n</div>\\n</div>\\n</div>\\n\\t</div>\\n\\t\\t</div>\\n\\t</div>\\n</div>\\n<div class=\"fl-row fl-row-full-width fl-row-bg-color fl-node-gqdcubkyjh58 fl-row-default-height fl-row-align-center\" data-node=\"gqdcubkyjh58\">\\n\\t<div class=\"fl-row-content-wrap\">\\n\\t\\t\\t\\t\\t\\t<div class=\"fl-row-content fl-row-fixed-width fl-node-content\">\\n\\t\\t\\n<div class=\"fl-col-group fl-node-8j1prxhb3490\" data-node=\"8j1prxhb3490\">\\n\\t\\t\\t<div class=\"fl-col fl-node-k2pj5vf8zile fl-col-small\" data-node=\"k2pj5vf8zile\">\\n\\t<div class=\"fl-col-content fl-node-content\"><div class=\"fl-module fl-module-icon fl-node-rxb9q2efl5g7\" data-node=\"rxb9q2efl5g7\">\\n\\t<div class=\"fl-module-content fl-node-content\">\\n\\t\\t<div class=\"fl-icon-wrap\">\\n\\t<span class=\"fl-icon\">\\n\\t\\t\\t\\t\\t\\t\\t\\t<a href=\"https://q.utoronto.ca/\" target=\"_self\" tabindex=\"-1\" aria-hidden=\"true\" aria-labelledby=\"fl-icon-text-rxb9q2efl5g7\">\\n\\t\\t\\t\\t\\t\\t\\t<i class=\"fas fa-info-circle\" aria-hidden=\"true\"></i>\\n\\t\\t\\t\\t<span class=\"sr-only\">Info Hubs (For Current Students)</span>\\n\\t\\t\\t\\t\\t\\t</a>\\n\\t\\t\\t</span>\\n\\t\\t\\t<div id=\"fl-icon-text-rxb9q2efl5g7\" class=\"fl-icon-text\">\\n\\t\\t\\t\\t\\t\\t<a href=\"https://q.utoronto.ca/\" target=\"_self\" class=\"fl-icon-text-link fl-icon-text-wrap\">\\n\\t\\t\\t\\t\\t\\t<h5>Info Hubs (For Current Students)</h5>\\t\\t\\t\\t\\t\\t</a>\\n\\t\\t\\t\\t\\t</div>\\n\\t</div>\\n\\t</div>\\n</div>\\n</div>\\n</div>\\n\\t\\t\\t<div class=\"fl-col fl-node-or7pvlchsjb6 fl-col-small\" data-node=\"or7pvlchsjb6\">\\n\\t<div class=\"fl-col-content fl-node-content\"><div class=\"fl-module fl-module-icon fl-node-be9dwjaz6y4l\" data-node=\"be9dwjaz6y4l\">\\n\\t<div class=\"fl-module-content fl-node-content\">\\n\\t\\t<div class=\"fl-icon-wrap\">\\n\\t<span class=\"fl-icon\">\\n\\t\\t\\t\\t\\t\\t\\t\\t<a href=\"https://civmin.utoronto.ca/home/programs/courses/\" target=\"_self\" tabindex=\"-1\" aria-hidden=\"true\" aria-labelledby=\"fl-icon-text-be9dwjaz6y4l\">\\n\\t\\t\\t\\t\\t\\t\\t<i class=\"fas fa-calendar-alt\" aria-hidden=\"true\"></i>\\n\\t\\t\\t\\t\\t\\t</a>\\n\\t\\t\\t</span>\\n\\t\\t\\t<div id=\"fl-icon-text-be9dwjaz6y4l\" class=\"fl-icon-text\">\\n\\t\\t\\t\\t\\t\\t<a href=\"https://civmin.utoronto.ca/home/programs/courses/\" target=\"_self\" class=\"fl-icon-text-link fl-icon-text-wrap\">\\n\\t\\t\\t\\t\\t\\t<h5>Course Descriptions + Timetables</h5>\\t\\t\\t\\t\\t\\t</a>\\n\\t\\t\\t\\t\\t</div>\\n\\t</div>\\n\\t</div>\\n</div>\\n</div>\\n</div>\\n\\t\\t\\t<div class=\"fl-col fl-node-zqp2ejy51473 fl-col-small\" data-node=\"zqp2ejy51473\">\\n\\t<div class=\"fl-col-content fl-node-content\"><div class=\"fl-module fl-module-icon fl-node-ez2jxu71rhtn\" data-node=\"ez2jxu71rhtn\">\\n\\t<div class=\"fl-module-content fl-node-content\">\\n\\t\\t<div class=\"fl-icon-wrap\">\\n\\t<span class=\"fl-icon\">\\n\\t\\t\\t\\t\\t\\t\\t\\t<a href=\"https://utoronto.sharepoint.com/sites/fase-CivMin/SitePages/Home.aspx?OR=Teams-HL&CT=1643992347378&sourceId=&params=%22AppName%22:%22Teams-Desktop%22,%22AppVersion%22:%2228/22010300409%22\" target=\"_self\" tabindex=\"-1\" aria-hidden=\"true\" aria-labelledby=\"fl-icon-text-ez2jxu71rhtn\">\\n\\t\\t\\t\\t\\t\\t\\t<i class=\"fas fa-desktop\" aria-hidden=\"true\"></i>\\n\\t\\t\\t\\t\\t\\t</a>\\n\\t\\t\\t</span>\\n\\t\\t\\t<div id=\"fl-icon-text-ez2jxu71rhtn\" class=\"fl-icon-text\">\\n\\t\\t\\t\\t\\t\\t<a href=\"https://utoronto.sharepoint.com/sites/fase-CivMin/SitePages/Home.aspx?OR=Teams-HL&CT=1643992347378&sourceId=&params=%22AppName%22:%22Teams-Desktop%22,%22AppVersion%22:%2228/22010300409%22\" target=\"_self\" class=\"fl-icon-text-link fl-icon-text-wrap\">\\n\\t\\t\\t\\t\\t\\t<h5>CivMin Intranet</h5>\\t\\t\\t\\t\\t\\t</a>\\n\\t\\t\\t\\t\\t</div>\\n\\t</div>\\n\\t</div>\\n</div>\\n</div>\\n</div>\\n\\t\\t\\t<div class=\"fl-col fl-node-9kgip30l4da7 fl-col-small\" data-node=\"9kgip30l4da7\">\\n\\t<div class=\"fl-col-content fl-node-content\"><div class=\"fl-module fl-module-icon fl-node-23ixavownpes\" data-node=\"23ixavownpes\">\\n\\t<div class=\"fl-module-content fl-node-content\">\\n\\t\\t<div class=\"fl-icon-wrap\">\\n\\t<span class=\"fl-icon\">\\n\\t\\t\\t\\t\\t\\t\\t\\t<a href=\"https://q.utoronto.ca/courses/97618\" target=\"_self\" tabindex=\"-1\" aria-hidden=\"true\" aria-labelledby=\"fl-icon-text-23ixavownpes\">\\n\\t\\t\\t\\t\\t\\t\\t<i class=\"fas fa-graduation-cap\" aria-hidden=\"true\"></i>\\n\\t\\t\\t\\t<span class=\"sr-only\">Graduation/Convocation Info</span>\\n\\t\\t\\t\\t\\t\\t</a>\\n\\t\\t\\t</span>\\n\\t\\t\\t<div id=\"fl-icon-text-23ixavownpes\" class=\"fl-icon-text\">\\n\\t\\t\\t\\t\\t\\t<a href=\"https://q.utoronto.ca/courses/97618\" target=\"_self\" class=\"fl-icon-text-link fl-icon-text-wrap\">\\n\\t\\t\\t\\t\\t\\t<h5>Graduation/Convocation Info</h5>\\t\\t\\t\\t\\t\\t</a>\\n\\t\\t\\t\\t\\t</div>\\n\\t</div>\\n\\t</div>\\n</div>\\n</div>\\n</div>\\n\\t</div>\\n\\t\\t</div>\\n\\t</div>\\n</div>\\n<div class=\"fl-row fl-row-full-width fl-row-bg-color fl-node-7rfhqe8tv2sk fl-row-custom-height fl-row-align-center\" data-node=\"7rfhqe8tv2sk\">\\n\\t<div class=\"fl-row-content-wrap\">\\n\\t\\t\\t\\t\\t\\t<div class=\"fl-row-content fl-row-fixed-width fl-node-content\">\\n\\t\\t\\t\\t</div>\\n\\t</div>\\n</div>\\n<div class=\"fl-row fl-row-full-width fl-row-bg-none fl-node-rt0auzwcnmlg fl-row-custom-height fl-row-align-center\" data-node=\"rt0auzwcnmlg\">\\n\\t<div class=\"fl-row-content-wrap\">\\n\\t\\t\\t\\t\\t\\t<div class=\"fl-row-content fl-row-fixed-width fl-node-content\">\\n\\t\\t\\n<div class=\"fl-col-group fl-node-74xvrkqzgy58\" data-node=\"74xvrkqzgy58\">\\n\\t\\t\\t<div class=\"fl-col fl-node-xynomwetujla\" data-node=\"xynomwetujla\">\\n\\t<div class=\"fl-col-content fl-node-content\"><div class=\"fl-module fl-module-heading fl-node-mr2ks5hldz1f\" data-node=\"mr2ks5hldz1f\">\\n\\t<div class=\"fl-module-content fl-node-content\">\\n\\t\\t<h2 class=\"fl-heading\">\\n\\t\\t<a href=\"http://civmin.utoronto.ca/home/about-us/news/\" title=\"CivMin News\" target=\"_self\">\\n\\t\\t<span class=\"fl-heading-text\">CivMin News</span>\\n\\t\\t</a>\\n\\t</h2>\\n\\t</div>\\n</div>\\n<div class=\"fl-module fl-module-pp-content-grid fl-node-kdghnzjae6cv\" data-node=\"kdghnzjae6cv\">\\n\\t<div class=\"fl-module-content fl-node-content\">\\n\\t\\t<div class=\"pp-posts-wrapper\">\\n\\t\\t\\n\\t<div class=\"pp-content-posts\" style=\"--items-count: 6;--column-xl: 3;--column-lg: 3;--column-md: 3;--column-sm: 2;\">\\n\\t\\t<div class=\"pp-content-post-grid pp-equal-height pp-css-grid\" itemscope=\"itemscope\" itemtype=\"https://schema.org/Blog\">\\n\\t\\t\\t\\n\\t\\t\\t\\t\\n<div class=\"pp-content-post pp-content-grid-post pp-grid-style-7 post-35961 post type-post status-publish format-standard has-post-thumbnail hentry category-news category-students tag-civ-club tag-club-leaders tag-evan-beri tag-min-club tag-parsa-bondar-sahebi\" itemscope itemtype=\"https://schema.org/BlogPosting\" data-id=\"35961\">\\n\\n\\t<meta itemscope itemprop=\"mainEntityOfPage\" itemtype=\"https://schema.org/WebPage\" itemid=\"https://civmin.utoronto.ca/introducing-civmins-club-chairs/\" content=\"Introducing CivMin&#8217;s Club Chairs\" /><meta itemprop=\"datePublished\" content=\"2023-09-12\" /><meta itemprop=\"dateModified\" content=\"2023-09-13\" /><div itemprop=\"publisher\" itemscope itemtype=\"https://schema.org/Organization\"><meta itemprop=\"name\" content=\"Department of Civil &amp; Mineral Engineering\"></div><div itemscope itemprop=\"author\" itemtype=\"https://schema.org/Person\"><meta itemprop=\"url\" content=\"https://civmin.utoronto.ca/author/rachael-gallant/\" /><meta itemprop=\"name\" content=\"Rachael Gallant\" /></div><div itemscope itemprop=\"image\" itemtype=\"https://schema.org/ImageObject\"><meta itemprop=\"url\" content=\"https://civmin.utoronto.ca/wp-content/uploads/2023/09/winners-famina.png\" /><meta itemprop=\"width\" content=\"1080\" /><meta itemprop=\"height\" content=\"1080\" /></div><div itemprop=\"interactionStatistic\" itemscope itemtype=\"https://schema.org/InteractionCounter\"><meta itemprop=\"interactionType\" content=\"https://schema.org/CommentAction\" /><meta itemprop=\"userInteractionCount\" content=\"0\" /></div>\\n\\t\\n\\t\\t\\t\\t\\t<a class=\"pp-post-link\" href=\"https://civmin.utoronto.ca/introducing-civmins-club-chairs/\" title=\"Introducing CivMin&#8217;s Club Chairs\"></a>\\n\\t\\t\\n\\t\\t\\n\\t\\t\\n\\t\\t\\t\\t\\t<div class=\"pp-content-grid-image pp-post-image\">\\n    \\t\\t\\t\\t\\t<div class=\"pp-post-featured-img\">\\n\\t\\t\\t\\t<div class=\"fl-photo fl-photo-crop-square fl-photo-align-center\" itemscope itemtype=\"https://schema.org/ImageObject\">\\n\\t<div class=\"fl-photo-content fl-photo-img-png\">\\n\\t\\t\\t\\t<img decoding=\"async\" loading=\"lazy\" class=\"fl-photo-img wp-image-36072 size-large pp-post-img no-lazyload\" src=\"https://civmin.utoronto.ca/wp-content/uploads/bb-plugin/cache/winners-famina-1024x1024-square-3f1799096c33404510671349bddae18e-.png\" alt=\"winners famina\" itemprop=\"image\" data-no-lazy=\"1\" height=\"1024\" width=\"1024\" title=\"winners famina\"  />\\n\\t\\t\\t\\t\\t</div>\\n\\t</div>\\n\\t\\t\\t</div>\\n\\t\\t    \\n\\t\\t\\t\\n\\t\\t\\n\\t\\t\\t</div>\\n\\t\\t\\n\\t\\t<div class=\"pp-content-grid-inner pp-content-body clearfix\">\\n\\t\\t\\t\\n\\t\\t\\t\\n\\t\\t\\t<div class=\"pp-content-post-data\">\\n\\t\\t\\t\\t\\t\\t\\t\\t\\t<h3 class=\"pp-content-grid-title pp-post-title\" itemprop=\"headline\">\\n\\t\\t\\t\\t\\t\\t\\t\\t\\t\\t\\t\\t\\t\\tIntroducing CivMin&#8217;s Club Chairs\\t\\t\\t\\t\\t\\t\\t\\t\\t\\t\\t</h3>\\n\\t\\t\\t\\t\\t\\t\\t\\t\\t\\n\\t\\t\\t\\t\\t\\t\\t\\t<div class=\"pp-content-post-meta pp-post-meta\">\\n\\t\\t\\t\\t\\t\\t\\t\\t\\t\\t\\t<span class=\"pp-content-post-author pp-post-author\">\\nBy <a href=\"https://civmin.utoronto.ca/author/rachael-gallant/\"><span>Rachael Gallant</span></a></span>\\t\\t\\t\\t\\t\\n\\t\\t\\t\\t\\t\\t\\t\\t\\t\\t\\t\\t\\t\\t\\t\\t\\t\\t<span>  |  </span>\\n\\t\\t\\t\\t\\t\\t\\t\\t\\t\\t\\t\\t<span class=\"pp-content-grid-date pp-post-date\">\\n\\t\\t\\tSeptember 12, 2023\\t</span>\\t\\t\\t\\t\\t\\n\\t\\t\\t\\t\\t\\t\\t\\t\\t</div>\\n\\t\\t\\t\\t\\n\\t\\t\\t\\t\\n\\t\\t\\t\\t\\n\\t\\t\\t\\t\\n\\t\\t\\t\\t\\n\\t\\t\\t\\t\\n\\t\\t\\t\\t\\n\\t\\t\\t\\t\\n\\t\\t\\t</div>\\n\\t\\t\\t\\n\\t\\t\\t\\t\\t</div>\\n\\n\\t\\t\\t</div>\\n\\n<div class=\"pp-content-post pp-content-grid-post pp-post-2n pp-grid-style-7 post-36042 post type-post status-publish format-standard has-post-thumbnail hentry category-news tag-lassonde-mineral-engineering tag-mineral-engineering tag-sebastian-goodfellow\" itemscope itemtype=\"https://schema.org/BlogPosting\" data-id=\"36042\">\\n\\n\\t<meta itemscope itemprop=\"mainEntityOfPage\" itemtype=\"https://schema.org/WebPage\" itemid=\"https://civmin.utoronto.ca/whats-your-story-sebastian-goodfellow/\" content=\"CivMin’s Prof. Sebastian Goodfellow in “What’s Your Story?” video\" /><meta itemprop=\"datePublished\" content=\"2023-09-11\" /><meta itemprop=\"dateModified\" content=\"2023-09-13\" /><div itemprop=\"publisher\" itemscope itemtype=\"https://schema.org/Organization\"><meta itemprop=\"name\" content=\"Department of Civil &amp; Mineral Engineering\"></div><div itemscope itemprop=\"author\" itemtype=\"https://schema.org/Person\"><meta itemprop=\"url\" content=\"https://civmin.utoronto.ca/author/galina-nikitina/\" /><meta itemprop=\"name\" content=\"Galina Nikitina\" /></div><div itemscope itemprop=\"image\" itemtype=\"https://schema.org/ImageObject\"><meta itemprop=\"url\" content=\"https://civmin.utoronto.ca/wp-content/uploads/2023/09/cover_whatsstory.png\" /><meta itemprop=\"width\" content=\"629\" /><meta itemprop=\"height\" content=\"590\" /></div><div itemprop=\"interactionStatistic\" itemscope itemtype=\"https://schema.org/InteractionCounter\"><meta itemprop=\"interactionType\" content=\"https://schema.org/CommentAction\" /><meta itemprop=\"userInteractionCount\" content=\"0\" /></div>\\n\\t\\n\\t\\t\\t\\t\\t<a class=\"pp-post-link\" href=\"https://civmin.utoronto.ca/whats-your-story-sebastian-goodfellow/\" title=\"CivMin’s Prof. Sebastian Goodfellow in “What’s Your Story?” video\"></a>\\n\\t\\t\\n\\t\\t\\n\\t\\t\\n\\t\\t\\t\\t\\t<div class=\"pp-content-grid-image pp-post-image\">\\n    \\t\\t\\t\\t\\t<div class=\"pp-post-featured-img\">\\n\\t\\t\\t\\t<div class=\"fl-photo fl-photo-crop-square fl-photo-align-center\" itemscope itemtype=\"https://schema.org/ImageObject\">\\n\\t<div class=\"fl-photo-content fl-photo-img-png\">\\n\\t\\t\\t\\t<img decoding=\"async\" loading=\"lazy\" class=\"fl-photo-img wp-image-36047 size-full pp-post-img no-lazyload\" src=\"https://civmin.utoronto.ca/wp-content/uploads/bb-plugin/cache/cover_whatsstory-square-1ace041f2d5407dfd1d5d30842bf45bf-.png\" alt=\"cover_what\\'sstory\" itemprop=\"image\" data-no-lazy=\"1\" height=\"590\" width=\"629\" title=\"cover_what\\'sstory\"  />\\n\\t\\t\\t\\t\\t</div>\\n\\t</div>\\n\\t\\t\\t</div>\\n\\t\\t    \\n\\t\\t\\t\\n\\t\\t\\n\\t\\t\\t</div>\\n\\t\\t\\n\\t\\t<div class=\"pp-content-grid-inner pp-content-body clearfix\">\\n\\t\\t\\t\\n\\t\\t\\t\\n\\t\\t\\t<div class=\"pp-content-post-data\">\\n\\t\\t\\t\\t\\t\\t\\t\\t\\t<h3 class=\"pp-content-grid-title pp-post-title\" itemprop=\"headline\">\\n\\t\\t\\t\\t\\t\\t\\t\\t\\t\\t\\t\\t\\t\\tCivMin’s Prof. Sebastian Goodfellow in “What’s Your Story?” video\\t\\t\\t\\t\\t\\t\\t\\t\\t\\t\\t</h3>\\n\\t\\t\\t\\t\\t\\t\\t\\t\\t\\n\\t\\t\\t\\t\\t\\t\\t\\t<div class=\"pp-content-post-meta pp-post-meta\">\\n\\t\\t\\t\\t\\t\\t\\t\\t\\t\\t\\t<span class=\"pp-content-post-author pp-post-author\">\\nBy <a href=\"https://civmin.utoronto.ca/author/galina-nikitina/\"><span>Galina Nikitina</span></a></span>\\t\\t\\t\\t\\t\\n\\t\\t\\t\\t\\t\\t\\t\\t\\t\\t\\t\\t\\t\\t\\t\\t\\t\\t<span>  |  </span>\\n\\t\\t\\t\\t\\t\\t\\t\\t\\t\\t\\t\\t<span class=\"pp-content-grid-date pp-post-date\">\\n\\t\\t\\tSeptember 11, 2023\\t</span>\\t\\t\\t\\t\\t\\n\\t\\t\\t\\t\\t\\t\\t\\t\\t</div>\\n\\t\\t\\t\\t\\n\\t\\t\\t\\t\\n\\t\\t\\t\\t\\n\\t\\t\\t\\t\\n\\t\\t\\t\\t\\n\\t\\t\\t\\t\\n\\t\\t\\t\\t\\n\\t\\t\\t\\t\\n\\t\\t\\t</div>\\n\\t\\t\\t\\n\\t\\t\\t\\t\\t</div>\\n\\n\\t\\t\\t</div>\\n\\n<div class=\"pp-content-post pp-content-grid-post pp-grid-style-7 post-36016 post type-post status-publish format-standard has-post-thumbnail hentry category-news tag-certificate tag-diversity-and-inclusion-in-engineering tag-equity tag-ethics tag-justice tag-new-certification tag-new-course\" itemscope itemtype=\"https://schema.org/BlogPosting\" data-id=\"36016\">\\n\\n\\t<meta itemscope itemprop=\"mainEntityOfPage\" itemtype=\"https://schema.org/WebPage\" itemid=\"https://civmin.utoronto.ca/u-of-t-engineering-launches-new-certificate-in-justice-equity-diversity-and-inclusion-in-engineering/\" content=\"U of T Engineering launches new certificate in Justice, Equity, Diversity and Inclusion in Engineering\" /><meta itemprop=\"datePublished\" content=\"2023-09-01\" /><meta itemprop=\"dateModified\" content=\"2023-09-01\" /><div itemprop=\"publisher\" itemscope itemtype=\"https://schema.org/Organization\"><meta itemprop=\"name\" content=\"Department of Civil &amp; Mineral Engineering\"></div><div itemscope itemprop=\"author\" itemtype=\"https://schema.org/Person\"><meta itemprop=\"url\" content=\"https://civmin.utoronto.ca/author/phill-snelutoronto-ca/\" /><meta itemprop=\"name\" content=\"Phill Snel\" /></div><div itemscope itemprop=\"image\" itemtype=\"https://schema.org/ImageObject\"><meta itemprop=\"url\" content=\"https://civmin.utoronto.ca/wp-content/uploads/2023/09/Eng-crop.jpg\" /><meta itemprop=\"width\" content=\"226\" /><meta itemprop=\"height\" content=\"226\" /></div><div itemprop=\"interactionStatistic\" itemscope itemtype=\"https://schema.org/InteractionCounter\"><meta itemprop=\"interactionType\" content=\"https://schema.org/CommentAction\" /><meta itemprop=\"userInteractionCount\" content=\"0\" /></div>\\n\\t\\n\\t\\t\\t\\t\\t<a class=\"pp-post-link\" href=\"https://civmin.utoronto.ca/u-of-t-engineering-launches-new-certificate-in-justice-equity-diversity-and-inclusion-in-engineering/\" title=\"U of T Engineering launches new certificate in Justice, Equity, Diversity and Inclusion in Engineering\"></a>\\n\\t\\t\\n\\t\\t\\n\\t\\t\\n\\t\\t\\t\\t\\t<div class=\"pp-content-grid-image pp-post-image\">\\n    \\t\\t\\t\\t\\t<div class=\"pp-post-featured-img\">\\n\\t\\t\\t\\t<div class=\"fl-photo fl-photo-crop-square fl-photo-align-center\" itemscope itemtype=\"https://schema.org/ImageObject\">\\n\\t<div class=\"fl-photo-content fl-photo-img-jpg\">\\n\\t\\t\\t\\t<img decoding=\"async\" loading=\"lazy\" class=\"fl-photo-img wp-image-36018 size-full pp-post-img no-lazyload\" src=\"https://civmin.utoronto.ca/wp-content/uploads/bb-plugin/cache/Eng-crop-square-3b5fbc2c7f40d046fa62ee3eb208e589-.jpg\" alt=\"Eng -crop\" itemprop=\"image\" data-no-lazy=\"1\" height=\"226\" width=\"226\" title=\"Eng -crop\"  />\\n\\t\\t\\t\\t\\t</div>\\n\\t</div>\\n\\t\\t\\t</div>\\n\\t\\t    \\n\\t\\t\\t\\n\\t\\t\\n\\t\\t\\t</div>\\n\\t\\t\\n\\t\\t<div class=\"pp-content-grid-inner pp-content-body clearfix\">\\n\\t\\t\\t\\n\\t\\t\\t\\n\\t\\t\\t<div class=\"pp-content-post-data\">\\n\\t\\t\\t\\t\\t\\t\\t\\t\\t<h3 class=\"pp-content-grid-title pp-post-title\" itemprop=\"headline\">\\n\\t\\t\\t\\t\\t\\t\\t\\t\\t\\t\\t\\t\\t\\tU of T Engineering launches new certificate in Justice, Equity, Diversity and Inclusion in Engineering\\t\\t\\t\\t\\t\\t\\t\\t\\t\\t\\t</h3>\\n\\t\\t\\t\\t\\t\\t\\t\\t\\t\\n\\t\\t\\t\\t\\t\\t\\t\\t<div class=\"pp-content-post-meta pp-post-meta\">\\n\\t\\t\\t\\t\\t\\t\\t\\t\\t\\t\\t<span class=\"pp-content-post-author pp-post-author\">\\nBy <a href=\"https://civmin.utoronto.ca/author/phill-snelutoronto-ca/\"><span>Phill Snel</span></a></span>\\t\\t\\t\\t\\t\\n\\t\\t\\t\\t\\t\\t\\t\\t\\t\\t\\t\\t\\t\\t\\t\\t\\t\\t<span>  |  </span>\\n\\t\\t\\t\\t\\t\\t\\t\\t\\t\\t\\t\\t<span class=\"pp-content-grid-date pp-post-date\">\\n\\t\\t\\tSeptember 1, 2023\\t</span>\\t\\t\\t\\t\\t\\n\\t\\t\\t\\t\\t\\t\\t\\t\\t</div>\\n\\t\\t\\t\\t\\n\\t\\t\\t\\t\\n\\t\\t\\t\\t\\n\\t\\t\\t\\t\\n\\t\\t\\t\\t\\n\\t\\t\\t\\t\\n\\t\\t\\t\\t\\n\\t\\t\\t\\t\\n\\t\\t\\t</div>\\n\\t\\t\\t\\n\\t\\t\\t\\t\\t</div>\\n\\n\\t\\t\\t</div>\\n\\n<div class=\"pp-content-post pp-content-grid-post pp-post-2n pp-grid-style-7 post-35969 post type-post status-publish format-standard has-post-thumbnail hentry category-news tag-sarah-haines tag-sarah-r-haines\" itemscope itemtype=\"https://schema.org/BlogPosting\" data-id=\"35969\">\\n\\n\\t<meta itemscope itemprop=\"mainEntityOfPage\" itemtype=\"https://schema.org/WebPage\" itemid=\"https://civmin.utoronto.ca/prof-sarah-hainess-new-laboratory-passed-certification-by-ehs/\" content=\"Prof. Sarah Haines&#8217;s new laboratory passed certification by EHS\" /><meta itemprop=\"datePublished\" content=\"2023-08-29\" /><meta itemprop=\"dateModified\" content=\"2023-09-12\" /><div itemprop=\"publisher\" itemscope itemtype=\"https://schema.org/Organization\"><meta itemprop=\"name\" content=\"Department of Civil &amp; Mineral Engineering\"></div><div itemscope itemprop=\"author\" itemtype=\"https://schema.org/Person\"><meta itemprop=\"url\" content=\"https://civmin.utoronto.ca/author/galina-nikitina/\" /><meta itemprop=\"name\" content=\"Galina Nikitina\" /></div><div itemscope itemprop=\"image\" itemtype=\"https://schema.org/ImageObject\"><meta itemprop=\"url\" content=\"https://civmin.utoronto.ca/wp-content/uploads/2023/08/MicrosoftTeams-image-2-scaled-e1693321826861.jpg\" /><meta itemprop=\"width\" content=\"1143\" /><meta itemprop=\"height\" content=\"1143\" /></div><div itemprop=\"interactionStatistic\" itemscope itemtype=\"https://schema.org/InteractionCounter\"><meta itemprop=\"interactionType\" content=\"https://schema.org/CommentAction\" /><meta itemprop=\"userInteractionCount\" content=\"0\" /></div>\\n\\t\\n\\t\\t\\t\\t\\t<a class=\"pp-post-link\" href=\"https://civmin.utoronto.ca/prof-sarah-hainess-new-laboratory-passed-certification-by-ehs/\" title=\"Prof. Sarah Haines&#8217;s new laboratory passed certification by EHS\"></a>\\n\\t\\t\\n\\t\\t\\n\\t\\t\\n\\t\\t\\t\\t\\t<div class=\"pp-content-grid-image pp-post-image\">\\n    \\t\\t\\t\\t\\t<div class=\"pp-post-featured-img\">\\n\\t\\t\\t\\t<div class=\"fl-photo fl-photo-crop-square fl-photo-align-center\" itemscope itemtype=\"https://schema.org/ImageObject\">\\n\\t<div class=\"fl-photo-content fl-photo-img-jpg\">\\n\\t\\t\\t\\t<img decoding=\"async\" loading=\"lazy\" class=\"fl-photo-img wp-image-35977 size-large pp-post-img no-lazyload\" src=\"https://civmin.utoronto.ca/wp-content/uploads/bb-plugin/cache/MicrosoftTeams-image-2-scaled-e1693321826861-1024x1024-square-ff13162d6c4fa88a753d96a9f74f8c9d-.jpg\" alt=\"MicrosoftTeams-image (2)\" itemprop=\"image\" data-no-lazy=\"1\" height=\"1024\" width=\"1024\" title=\"MicrosoftTeams-image (2)\"  />\\n\\t\\t\\t\\t\\t</div>\\n\\t</div>\\n\\t\\t\\t</div>\\n\\t\\t    \\n\\t\\t\\t\\n\\t\\t\\n\\t\\t\\t</div>\\n\\t\\t\\n\\t\\t<div class=\"pp-content-grid-inner pp-content-body clearfix\">\\n\\t\\t\\t\\n\\t\\t\\t\\n\\t\\t\\t<div class=\"pp-content-post-data\">\\n\\t\\t\\t\\t\\t\\t\\t\\t\\t<h3 class=\"pp-content-grid-title pp-post-title\" itemprop=\"headline\">\\n\\t\\t\\t\\t\\t\\t\\t\\t\\t\\t\\t\\t\\t\\tProf. Sarah Haines&#8217;s new laboratory passed certification by EHS\\t\\t\\t\\t\\t\\t\\t\\t\\t\\t\\t</h3>\\n\\t\\t\\t\\t\\t\\t\\t\\t\\t\\n\\t\\t\\t\\t\\t\\t\\t\\t<div class=\"pp-content-post-meta pp-post-meta\">\\n\\t\\t\\t\\t\\t\\t\\t\\t\\t\\t\\t<span class=\"pp-content-post-author pp-post-author\">\\nBy <a href=\"https://civmin.utoronto.ca/author/galina-nikitina/\"><span>Galina Nikitina</span></a></span>\\t\\t\\t\\t\\t\\n\\t\\t\\t\\t\\t\\t\\t\\t\\t\\t\\t\\t\\t\\t\\t\\t\\t\\t<span>  |  </span>\\n\\t\\t\\t\\t\\t\\t\\t\\t\\t\\t\\t\\t<span class=\"pp-content-grid-date pp-post-date\">\\n\\t\\t\\tAugust 29, 2023\\t</span>\\t\\t\\t\\t\\t\\n\\t\\t\\t\\t\\t\\t\\t\\t\\t</div>\\n\\t\\t\\t\\t\\n\\t\\t\\t\\t\\n\\t\\t\\t\\t\\n\\t\\t\\t\\t\\n\\t\\t\\t\\t\\n\\t\\t\\t\\t\\n\\t\\t\\t\\t\\n\\t\\t\\t\\t\\n\\t\\t\\t</div>\\n\\t\\t\\t\\n\\t\\t\\t\\t\\t</div>\\n\\n\\t\\t\\t</div>\\n\\n<div class=\"pp-content-post pp-content-grid-post pp-grid-style-7 post-35667 post type-post status-publish format-standard has-post-thumbnail hentry category-news category-students tag-dear-saigon tag-ghafghazi tag-haobo-zhao tag-lizhi-qi tag-mason-ghafghazi tag-pey-co-op tag-summer-job tag-summer-research tag-undergraduate\" itemscope itemtype=\"https://schema.org/BlogPosting\" data-id=\"35667\">\\n\\n\\t<meta itemscope itemprop=\"mainEntityOfPage\" itemtype=\"https://schema.org/WebPage\" itemid=\"https://civmin.utoronto.ca/meet-our-civmin-summer-student-haobo-zhao/\" content=\"Meet our CivMin summer student: Haobo Zhao\" /><meta itemprop=\"datePublished\" content=\"2023-08-24\" /><meta itemprop=\"dateModified\" content=\"2023-08-24\" /><div itemprop=\"publisher\" itemscope itemtype=\"https://schema.org/Organization\"><meta itemprop=\"name\" content=\"Department of Civil &amp; Mineral Engineering\"></div><div itemscope itemprop=\"author\" itemtype=\"https://schema.org/Person\"><meta itemprop=\"url\" content=\"https://civmin.utoronto.ca/author/rachael-gallant/\" /><meta itemprop=\"name\" content=\"Rachael Gallant\" /></div><div itemscope itemprop=\"image\" itemtype=\"https://schema.org/ImageObject\"><meta itemprop=\"url\" content=\"https://civmin.utoronto.ca/wp-content/uploads/2023/08/unnamed-1-1-scaled-e1692894662766.jpg\" /><meta itemprop=\"width\" content=\"1587\" /><meta itemprop=\"height\" content=\"1587\" /></div><div itemprop=\"interactionStatistic\" itemscope itemtype=\"https://schema.org/InteractionCounter\"><meta itemprop=\"interactionType\" content=\"https://schema.org/CommentAction\" /><meta itemprop=\"userInteractionCount\" content=\"0\" /></div>\\n\\t\\n\\t\\t\\t\\t\\t<a class=\"pp-post-link\" href=\"https://civmin.utoronto.ca/meet-our-civmin-summer-student-haobo-zhao/\" title=\"Meet our CivMin summer student: Haobo Zhao\"></a>\\n\\t\\t\\n\\t\\t\\n\\t\\t\\n\\t\\t\\t\\t\\t<div class=\"pp-content-grid-image pp-post-image\">\\n    \\t\\t\\t\\t\\t<div class=\"pp-post-featured-img\">\\n\\t\\t\\t\\t<div class=\"fl-photo fl-photo-crop-square fl-photo-align-center\" itemscope itemtype=\"https://schema.org/ImageObject\">\\n\\t<div class=\"fl-photo-content fl-photo-img-jpg\">\\n\\t\\t\\t\\t<img decoding=\"async\" loading=\"lazy\" class=\"fl-photo-img wp-image-35939 size-large pp-post-img no-lazyload\" src=\"https://civmin.utoronto.ca/wp-content/uploads/bb-plugin/cache/unnamed-1-1-scaled-e1692894662766-1024x1024-square-5c17789068039c8c2c944033b1515f56-.jpg\" alt=\"unnamed (1)\" itemprop=\"image\" data-no-lazy=\"1\" height=\"1024\" width=\"1024\" title=\"unnamed (1)\"  />\\n\\t\\t\\t\\t\\t</div>\\n\\t</div>\\n\\t\\t\\t</div>\\n\\t\\t    \\n\\t\\t\\t\\n\\t\\t\\n\\t\\t\\t</div>\\n\\t\\t\\n\\t\\t<div class=\"pp-content-grid-inner pp-content-body clearfix\">\\n\\t\\t\\t\\n\\t\\t\\t\\n\\t\\t\\t<div class=\"pp-content-post-data\">\\n\\t\\t\\t\\t\\t\\t\\t\\t\\t<h3 class=\"pp-content-grid-title pp-post-title\" itemprop=\"headline\">\\n\\t\\t\\t\\t\\t\\t\\t\\t\\t\\t\\t\\t\\t\\tMeet our CivMin summer student: Haobo Zhao\\t\\t\\t\\t\\t\\t\\t\\t\\t\\t\\t</h3>\\n\\t\\t\\t\\t\\t\\t\\t\\t\\t\\n\\t\\t\\t\\t\\t\\t\\t\\t<div class=\"pp-content-post-meta pp-post-meta\">\\n\\t\\t\\t\\t\\t\\t\\t\\t\\t\\t\\t<span class=\"pp-content-post-author pp-post-author\">\\nBy <a href=\"https://civmin.utoronto.ca/author/rachael-gallant/\"><span>Rachael Gallant</span></a></span>\\t\\t\\t\\t\\t\\n\\t\\t\\t\\t\\t\\t\\t\\t\\t\\t\\t\\t\\t\\t\\t\\t\\t\\t<span>  |  </span>\\n\\t\\t\\t\\t\\t\\t\\t\\t\\t\\t\\t\\t<span class=\"pp-content-grid-date pp-post-date\">\\n\\t\\t\\tAugust 24, 2023\\t</span>\\t\\t\\t\\t\\t\\n\\t\\t\\t\\t\\t\\t\\t\\t\\t</div>\\n\\t\\t\\t\\t\\n\\t\\t\\t\\t\\n\\t\\t\\t\\t\\n\\t\\t\\t\\t\\n\\t\\t\\t\\t\\n\\t\\t\\t\\t\\n\\t\\t\\t\\t\\n\\t\\t\\t\\t\\n\\t\\t\\t</div>\\n\\t\\t\\t\\n\\t\\t\\t\\t\\t</div>\\n\\n\\t\\t\\t</div>\\n\\n<div class=\"pp-content-post pp-content-grid-post pp-post-2n pp-grid-style-7 post-35700 post type-post status-publish format-standard has-post-thumbnail hentry category-news\" itemscope itemtype=\"https://schema.org/BlogPosting\" data-id=\"35700\">\\n\\n\\t<meta itemscope itemprop=\"mainEntityOfPage\" itemtype=\"https://schema.org/WebPage\" itemid=\"https://civmin.utoronto.ca/civmin-students-participated-in-unerd-2023/\" content=\"CivMin represented at UnERD 2023\" /><meta itemprop=\"datePublished\" content=\"2023-08-22\" /><meta itemprop=\"dateModified\" content=\"2023-08-23\" /><div itemprop=\"publisher\" itemscope itemtype=\"https://schema.org/Organization\"><meta itemprop=\"name\" content=\"Department of Civil &amp; Mineral Engineering\"></div><div itemscope itemprop=\"author\" itemtype=\"https://schema.org/Person\"><meta itemprop=\"url\" content=\"https://civmin.utoronto.ca/author/galina-nikitina/\" /><meta itemprop=\"name\" content=\"Galina Nikitina\" /></div><div itemscope itemprop=\"image\" itemtype=\"https://schema.org/ImageObject\"><meta itemprop=\"url\" content=\"https://civmin.utoronto.ca/wp-content/uploads/2023/08/unerd2023_crop.png\" /><meta itemprop=\"width\" content=\"549\" /><meta itemprop=\"height\" content=\"549\" /></div><div itemprop=\"interactionStatistic\" itemscope itemtype=\"https://schema.org/InteractionCounter\"><meta itemprop=\"interactionType\" content=\"https://schema.org/CommentAction\" /><meta itemprop=\"userInteractionCount\" content=\"0\" /></div>\\n\\t\\n\\t\\t\\t\\t\\t<a class=\"pp-post-link\" href=\"https://civmin.utoronto.ca/civmin-students-participated-in-unerd-2023/\" title=\"CivMin represented at UnERD 2023\"></a>\\n\\t\\t\\n\\t\\t\\n\\t\\t\\n\\t\\t\\t\\t\\t<div class=\"pp-content-grid-image pp-post-image\">\\n    \\t\\t\\t\\t\\t<div class=\"pp-post-featured-img\">\\n\\t\\t\\t\\t<div class=\"fl-photo fl-photo-crop-square fl-photo-align-center\" itemscope itemtype=\"https://schema.org/ImageObject\">\\n\\t<div class=\"fl-photo-content fl-photo-img-png\">\\n\\t\\t\\t\\t<img decoding=\"async\" loading=\"lazy\" class=\"fl-photo-img wp-image-35858 size-full pp-post-img no-lazyload\" src=\"https://civmin.utoronto.ca/wp-content/uploads/bb-plugin/cache/unerd2023_crop-square-1c9f08fd07451cdaeddc2ce769ad9b68-.png\" alt=\"unerd2023_crop\" itemprop=\"image\" data-no-lazy=\"1\" height=\"549\" width=\"549\" title=\"unerd2023_crop\"  />\\n\\t\\t\\t\\t\\t</div>\\n\\t</div>\\n\\t\\t\\t</div>\\n\\t\\t    \\n\\t\\t\\t\\n\\t\\t\\n\\t\\t\\t</div>\\n\\t\\t\\n\\t\\t<div class=\"pp-content-grid-inner pp-content-body clearfix\">\\n\\t\\t\\t\\n\\t\\t\\t\\n\\t\\t\\t<div class=\"pp-content-post-data\">\\n\\t\\t\\t\\t\\t\\t\\t\\t\\t<h3 class=\"pp-content-grid-title pp-post-title\" itemprop=\"headline\">\\n\\t\\t\\t\\t\\t\\t\\t\\t\\t\\t\\t\\t\\t\\tCivMin represented at UnERD 2023\\t\\t\\t\\t\\t\\t\\t\\t\\t\\t\\t</h3>\\n\\t\\t\\t\\t\\t\\t\\t\\t\\t\\n\\t\\t\\t\\t\\t\\t\\t\\t<div class=\"pp-content-post-meta pp-post-meta\">\\n\\t\\t\\t\\t\\t\\t\\t\\t\\t\\t\\t<span class=\"pp-content-post-author pp-post-author\">\\nBy <a href=\"https://civmin.utoronto.ca/author/galina-nikitina/\"><span>Galina Nikitina</span></a></span>\\t\\t\\t\\t\\t\\n\\t\\t\\t\\t\\t\\t\\t\\t\\t\\t\\t\\t\\t\\t\\t\\t\\t\\t<span>  |  </span>\\n\\t\\t\\t\\t\\t\\t\\t\\t\\t\\t\\t\\t<span class=\"pp-content-grid-date pp-post-date\">\\n\\t\\t\\tAugust 22, 2023\\t</span>\\t\\t\\t\\t\\t\\n\\t\\t\\t\\t\\t\\t\\t\\t\\t</div>\\n\\t\\t\\t\\t\\n\\t\\t\\t\\t\\n\\t\\t\\t\\t\\n\\t\\t\\t\\t\\n\\t\\t\\t\\t\\n\\t\\t\\t\\t\\n\\t\\t\\t\\t\\n\\t\\t\\t\\t\\n\\t\\t\\t</div>\\n\\t\\t\\t\\n\\t\\t\\t\\t\\t</div>\\n\\n\\t\\t\\t</div>\\n\\n\\t\\t\\t\\t\\n\\t\\t\\t\\t\\t</div>\\n\\n\\t\\t<div class=\"fl-clear\"></div>\\n\\n\\t\\t\\n\\t\\t\\t\\t\\t<div class=\"pp-content-grid-pagination fl-builder-pagination\">\\n\\t\\t\\t\\t\\t\\t\\t</div>\\n\\n\\t\\t\\t\\t\\t\\t\\t\\t\\t\\t\\n\\t\\t</div><!-- .pp-content-posts -->\\n\\t\\n\\t</div>\\n\\n\\t</div>\\n</div>\\n</div>\\n</div>\\n\\t\\t\\t<div class=\"fl-col fl-node-pxa3jebm5q8s fl-col-small\" data-node=\"pxa3jebm5q8s\">\\n\\t<div class=\"fl-col-content fl-node-content\"><div class=\"fl-module fl-module-heading fl-node-leb6y1ad8cpv\" data-node=\"leb6y1ad8cpv\">\\n\\t<div class=\"fl-module-content fl-node-content\">\\n\\t\\t<h2 class=\"fl-heading\">\\n\\t\\t<a href=\"https://civmin.utoronto.ca/home/about-us/calendar/\" title=\"Upcoming Events\" target=\"_self\">\\n\\t\\t<span class=\"fl-heading-text\">Upcoming Events</span>\\n\\t\\t</a>\\n\\t</h2>\\n\\t</div>\\n</div>\\n<div class=\"fl-module fl-module-widget fl-node-acs43eizd7tx\" data-node=\"acs43eizd7tx\">\\n\\t<div class=\"fl-module-content fl-node-content\">\\n\\t\\t<div class=\"fl-widget\">\\n<div class=\"widget widget_ai1ec_agenda_widget\">\\n\\n\\t<h2 class=\"widgettitle\"> </h2>\\n\\n<style>\\n<!--\\n\\n-->\\n</style>\\n<div class=\"timely ai1ec-agenda-widget-view ai1ec-clearfix\">\\n\\n\\t\\t\\t<div>\\n\\t\\t\\t\\t\\t\\t\\t\\t\\t\\t\\t\\t\\t<div class=\"ai1ec-date\\n\\t\\t\\t\\t\\t\">\\n\\t\\t\\t\\t\\t<a class=\"ai1ec-date-title ai1ec-load-view\"\\n\\t\\t\\t\\t\\t\\thref=\"https&#x3A;&#x2F;&#x2F;civmin.utoronto.ca&#x2F;home&#x2F;about-us&#x2F;calendar&#x2F;action&#x7E;oneday&#x2F;exact_date&#x7E;21-9-2023&#x2F;\">\\n\\t\\t\\t\\t\\t\\t<div class=\"ai1ec-month\">Sep</div>\\n\\t\\t\\t\\t\\t\\t<div class=\"ai1ec-day\">21</div>\\n\\t\\t\\t\\t\\t\\t<div class=\"ai1ec-weekday\">Thu</div>\\n\\t\\t\\t\\t\\t\\t\\t\\t\\t\\t\\t</a>\\n\\t\\t\\t\\t\\t<div class=\"ai1ec-date-events\">\\n\\t\\t\\t\\t\\t\\t\\t\\t\\t\\t\\t\\t\\t \\t\\t\\t\\t\\t\\t\\t\\t\\t\\t\\t\\t\\t\\t\\t\\t\\t\\t\\t\\t\\t<div class=\"ai1ec-event\\n\\t\\t\\t\\t\\t\\t\\t\\t\\tai1ec-event-id-36101\\n\\t\\t\\t\\t\\t\\t\\t\\t\\tai1ec-event-instance-id-1423\\n\\t\\t\\t\\t\\t\\t\\t\\t\\t\">\\n\\n\\t\\t\\t\\t\\t\\t\\t\\t\\t<a href=\"https&#x3A;&#x2F;&#x2F;civmin.utoronto.ca&#x2F;event&#x2F;masc-presentation-by-victor-kehdi-frutuoso-groundwater-flow-and-transport-model-of-chloroanilines-chlorobenzenes-and-dichlorobenzenes-at-an-industrial-site-in-brazil&#x2F;&#x3F;instance_id&#x3D;1423\"\\n\\t\\t\\t\\t\\t\\t\\t\\t\\t\\tclass=\"ai1ec-popup-trigger ai1ec-load-event\">\\n\\t\\t\\t\\t\\t\\t\\t\\t\\t\\t\\t\\t\\t\\t\\t\\t\\t\\t\\t\\t\\t<span class=\"ai1ec-event-time\">\\n\\t\\t\\t\\t\\t\\t\\t\\t\\t\\t\\t\\t9:00 am\\n\\t\\t\\t\\t\\t\\t\\t\\t\\t\\t\\t</span>\\n\\t\\t\\t\\t\\t\\t\\t\\t\\t\\t\\n\\t\\t\\t\\t\\t\\t\\t\\t\\t\\t<span class=\"ai1ec-event-title\">\\n\\t\\t\\t\\t\\t\\t\\t\\t\\t\\t\\tMASc presentation by Victor Kehd...\\n\\t\\t\\t\\t\\t\\t\\t\\t\\t\\t\\t\\t\\t\\t\\t\\t\\t\\t\\t\\t\\t</span>\\n\\t\\t\\t\\t\\t\\t\\t\\t\\t</a>\\n\\n\\t\\t\\t\\t\\t\\t\\t\\t\\t<div class=\"ai1ec-popover ai1ec-popup \\n\\tai1ec-event-instance-id-1423\">\\n\\n\\t\\t\\n\\t<span class=\"ai1ec-popup-title\">\\n\\t\\t<a href=\"https&#x3A;&#x2F;&#x2F;civmin.utoronto.ca&#x2F;event&#x2F;masc-presentation-by-victor-kehdi-frutuoso-groundwater-flow-and-transport-model-of-chloroanilines-chlorobenzenes-and-dichlorobenzenes-at-an-industrial-site-in-brazil&#x2F;&#x3F;instance_id&#x3D;1423\"\\n\\t\\t   class=\"ai1ec-load-event\"\\n\\t\\t\\t>MASc presentation by Victor Kehd...</a>\\n\\t\\t\\t\\t\\t</span>\\n\\n\\t\\n\\t<div class=\"ai1ec-event-time\">\\n\\t\\t\\t\\t\\tSep 21 @ 9:00 am – 10:30 am\\n\\t\\t\\t</div>\\n\\n\\t\\n\\t\\t\\t<div class=\"ai1ec-popup-excerpt\">Groundwater Flow and Transport Model of Chloroanilines, Chlorobenzenes, and Dichlorobenzenes at an Industrial Site in Brazil\\xa0 (MASc thesis presentation) Candidate: Victor Kehdi Frutuoso Supervisor: \\xa0Prof. Brent\\xa0Sleep Thursday, September 21, 2023,\\xa09 a.m.\\xa0to 10:30 a.m. Location: SF1009,[...]</div>\\n\\t\\n</div>\\n\\n\\t\\t\\t\\t\\t\\t\\t\\t</div>\\n\\t\\t\\t\\t\\t\\t\\t \\t\\t\\t\\t\\t\\t \\t\\t\\t\\t\\t</div>\\n\\t\\t\\t\\t</div>\\n\\t\\t\\t\\t\\t\\t\\t<div class=\"ai1ec-date\\n\\t\\t\\t\\t\\t\">\\n\\t\\t\\t\\t\\t<a class=\"ai1ec-date-title ai1ec-load-view\"\\n\\t\\t\\t\\t\\t\\thref=\"https&#x3A;&#x2F;&#x2F;civmin.utoronto.ca&#x2F;home&#x2F;about-us&#x2F;calendar&#x2F;action&#x7E;oneday&#x2F;exact_date&#x7E;28-9-2023&#x2F;\">\\n\\t\\t\\t\\t\\t\\t<div class=\"ai1ec-month\">Sep</div>\\n\\t\\t\\t\\t\\t\\t<div class=\"ai1ec-day\">28</div>\\n\\t\\t\\t\\t\\t\\t<div class=\"ai1ec-weekday\">Thu</div>\\n\\t\\t\\t\\t\\t\\t\\t\\t\\t\\t\\t</a>\\n\\t\\t\\t\\t\\t<div class=\"ai1ec-date-events\">\\n\\t\\t\\t\\t\\t\\t\\t\\t\\t\\t\\t\\t\\t \\t\\t\\t\\t\\t\\t\\t\\t\\t\\t\\t\\t\\t\\t\\t\\t\\t\\t\\t\\t\\t<div class=\"ai1ec-event\\n\\t\\t\\t\\t\\t\\t\\t\\t\\tai1ec-event-id-36086\\n\\t\\t\\t\\t\\t\\t\\t\\t\\tai1ec-event-instance-id-1420\\n\\t\\t\\t\\t\\t\\t\\t\\t\\t\">\\n\\n\\t\\t\\t\\t\\t\\t\\t\\t\\t<a href=\"https&#x3A;&#x2F;&#x2F;civmin.utoronto.ca&#x2F;event&#x2F;nsbe-at-u-of-t-invites-you-to-a-nasdaq-lunch-and-learn-2023&#x2F;&#x3F;instance_id&#x3D;1420\"\\n\\t\\t\\t\\t\\t\\t\\t\\t\\t\\tclass=\"ai1ec-popup-trigger ai1ec-load-event\">\\n\\t\\t\\t\\t\\t\\t\\t\\t\\t\\t\\t\\t\\t\\t\\t\\t\\t\\t\\t\\t\\t<span class=\"ai1ec-event-time\">\\n\\t\\t\\t\\t\\t\\t\\t\\t\\t\\t\\t\\t6:00 pm\\n\\t\\t\\t\\t\\t\\t\\t\\t\\t\\t\\t</span>\\n\\t\\t\\t\\t\\t\\t\\t\\t\\t\\t\\n\\t\\t\\t\\t\\t\\t\\t\\t\\t\\t<span class=\"ai1ec-event-title\">\\n\\t\\t\\t\\t\\t\\t\\t\\t\\t\\t\\tNSBE at U of T invites you to a&nbsp;...\\n\\t\\t\\t\\t\\t\\t\\t\\t\\t\\t\\t\\t\\t\\t\\t\\t\\t\\t\\t\\t\\t</span>\\n\\t\\t\\t\\t\\t\\t\\t\\t\\t</a>\\n\\n\\t\\t\\t\\t\\t\\t\\t\\t\\t<div class=\"ai1ec-popover ai1ec-popup \\n\\tai1ec-event-instance-id-1420\">\\n\\n\\t\\t\\n\\t<span class=\"ai1ec-popup-title\">\\n\\t\\t<a href=\"https&#x3A;&#x2F;&#x2F;civmin.utoronto.ca&#x2F;event&#x2F;nsbe-at-u-of-t-invites-you-to-a-nasdaq-lunch-and-learn-2023&#x2F;&#x3F;instance_id&#x3D;1420\"\\n\\t\\t   class=\"ai1ec-load-event\"\\n\\t\\t\\t>NSBE at U of T invites you to a&nbsp;...</a>\\n\\t\\t\\t\\t\\t</span>\\n\\n\\t\\n\\t<div class=\"ai1ec-event-time\">\\n\\t\\t\\t\\t\\tSep 28 @ 6:00 pm – 8:00 pm\\n\\t\\t\\t</div>\\n\\n\\t\\t\\t<a class=\"ai1ec-load-event\"\\n\\t\\t\\thref=\"https&#x3A;&#x2F;&#x2F;civmin.utoronto.ca&#x2F;event&#x2F;nsbe-at-u-of-t-invites-you-to-a-nasdaq-lunch-and-learn-2023&#x2F;&#x3F;instance_id&#x3D;1420\">\\n\\t\\t\\t<div class=\"ai1ec-event-avatar timely  ai1ec-content_img ai1ec-landscape\"><img decoding=\"async\" loading=\"lazy\" src=\"https://mcusercontent.com/f6cfc2187f22636ea6c92ed2d/images/6ce37993-5be2-0444-95fc-2ef96942c59c.png\" alt=\"NSBE at U of T invites you to a\\xa0Nasdaq Lunch and Learn 2023\" width=\"355\" height=\"199\" /></div>\\n\\t\\t</a>\\n\\t\\n\\t\\t\\t<div class=\"ai1ec-popup-excerpt\">NSBE at U of T invites you to a\\xa0Nasdaq Lunch and Learn 2023 The National Society of Black Engineers (NSBE) at U of T hosts a Nasdaq Lunch and Learn 2023. If you want to[...]</div>\\n\\t\\n</div>\\n\\n\\t\\t\\t\\t\\t\\t\\t\\t</div>\\n\\t\\t\\t\\t\\t\\t\\t \\t\\t\\t\\t\\t\\t \\t\\t\\t\\t\\t</div>\\n\\t\\t\\t\\t</div>\\n\\t\\t\\t\\t\\t\\t\\t<div class=\"ai1ec-date\\n\\t\\t\\t\\t\\t\">\\n\\t\\t\\t\\t\\t<a class=\"ai1ec-date-title ai1ec-load-view\"\\n\\t\\t\\t\\t\\t\\thref=\"https&#x3A;&#x2F;&#x2F;civmin.utoronto.ca&#x2F;home&#x2F;about-us&#x2F;calendar&#x2F;action&#x7E;oneday&#x2F;exact_date&#x7E;29-9-2023&#x2F;\">\\n\\t\\t\\t\\t\\t\\t<div class=\"ai1ec-month\">Sep</div>\\n\\t\\t\\t\\t\\t\\t<div class=\"ai1ec-day\">29</div>\\n\\t\\t\\t\\t\\t\\t<div class=\"ai1ec-weekday\">Fri</div>\\n\\t\\t\\t\\t\\t\\t\\t\\t\\t\\t\\t</a>\\n\\t\\t\\t\\t\\t<div class=\"ai1ec-date-events\">\\n\\t\\t\\t\\t\\t\\t\\t\\t\\t\\t\\t\\t\\t \\t\\t\\t\\t\\t\\t\\t\\t\\t\\t\\t\\t\\t\\t\\t\\t\\t\\t\\t\\t\\t<div class=\"ai1ec-event\\n\\t\\t\\t\\t\\t\\t\\t\\t\\tai1ec-event-id-36050\\n\\t\\t\\t\\t\\t\\t\\t\\t\\tai1ec-event-instance-id-1415\\n\\t\\t\\t\\t\\t\\t\\t\\t\\t\">\\n\\n\\t\\t\\t\\t\\t\\t\\t\\t\\t<a href=\"https&#x3A;&#x2F;&#x2F;civmin.utoronto.ca&#x2F;event&#x2F;carte-2023-student-networking-event&#x2F;&#x3F;instance_id&#x3D;1415\"\\n\\t\\t\\t\\t\\t\\t\\t\\t\\t\\tclass=\"ai1ec-popup-trigger ai1ec-load-event\">\\n\\t\\t\\t\\t\\t\\t\\t\\t\\t\\t\\t\\t\\t\\t\\t\\t\\t\\t\\t\\t\\t<span class=\"ai1ec-event-time\">\\n\\t\\t\\t\\t\\t\\t\\t\\t\\t\\t\\t\\t1:00 pm\\n\\t\\t\\t\\t\\t\\t\\t\\t\\t\\t\\t</span>\\n\\t\\t\\t\\t\\t\\t\\t\\t\\t\\t\\n\\t\\t\\t\\t\\t\\t\\t\\t\\t\\t<span class=\"ai1ec-event-title\">\\n\\t\\t\\t\\t\\t\\t\\t\\t\\t\\t\\tCARTE 2023 Student Networking Event\\n\\t\\t\\t\\t\\t\\t\\t\\t\\t\\t\\t\\t\\t\\t\\t\\t\\t\\t\\t\\t\\t</span>\\n\\t\\t\\t\\t\\t\\t\\t\\t\\t</a>\\n\\n\\t\\t\\t\\t\\t\\t\\t\\t\\t<div class=\"ai1ec-popover ai1ec-popup \\n\\tai1ec-event-instance-id-1415\">\\n\\n\\t\\t\\n\\t<span class=\"ai1ec-popup-title\">\\n\\t\\t<a href=\"https&#x3A;&#x2F;&#x2F;civmin.utoronto.ca&#x2F;event&#x2F;carte-2023-student-networking-event&#x2F;&#x3F;instance_id&#x3D;1415\"\\n\\t\\t   class=\"ai1ec-load-event\"\\n\\t\\t\\t>CARTE 2023 Student Networking Event</a>\\n\\t\\t\\t\\t\\t</span>\\n\\n\\t\\n\\t<div class=\"ai1ec-event-time\">\\n\\t\\t\\t\\t\\tSep 29 @ 1:00 pm – 3:00 pm\\n\\t\\t\\t</div>\\n\\n\\t\\t\\t<a class=\"ai1ec-load-event\"\\n\\t\\t\\thref=\"https&#x3A;&#x2F;&#x2F;civmin.utoronto.ca&#x2F;event&#x2F;carte-2023-student-networking-event&#x2F;&#x3F;instance_id&#x3D;1415\">\\n\\t\\t\\t<div class=\"ai1ec-event-avatar timely  ai1ec-content_img ai1ec-landscape\"><img decoding=\"async\" loading=\"lazy\" src=\"https://mcusercontent.com/f6cfc2187f22636ea6c92ed2d/images/8cc42b8e-c1ed-42fc-3d91-f3bcbdfa9b3c.jpg\" alt=\"CARTE 2023 Student Networking Event\" width=\"850\" height=\"191\" /></div>\\n\\t\\t</a>\\n\\t\\n\\t\\t\\t<div class=\"ai1ec-popup-excerpt\">CARTE 2023 Student Networking Event Attention University of Toronto students: On Friday,\\xa0September 29, from 1:00 – 3:00 p.m., join the in-person student networking event organized by the\\xa0Centre for Analytics and AI Engineering (CARTE)\\xa0and learn from[...]</div>\\n\\t\\n</div>\\n\\n\\t\\t\\t\\t\\t\\t\\t\\t</div>\\n\\t\\t\\t\\t\\t\\t\\t \\t\\t\\t\\t\\t\\t \\t\\t\\t\\t\\t</div>\\n\\t\\t\\t\\t</div>\\n\\t\\t\\t\\t\\t\\t\\t<div class=\"ai1ec-date\\n\\t\\t\\t\\t\\t\">\\n\\t\\t\\t\\t\\t<a class=\"ai1ec-date-title ai1ec-load-view\"\\n\\t\\t\\t\\t\\t\\thref=\"https&#x3A;&#x2F;&#x2F;civmin.utoronto.ca&#x2F;home&#x2F;about-us&#x2F;calendar&#x2F;action&#x7E;oneday&#x2F;exact_date&#x7E;30-9-2023&#x2F;\">\\n\\t\\t\\t\\t\\t\\t<div class=\"ai1ec-month\">Sep</div>\\n\\t\\t\\t\\t\\t\\t<div class=\"ai1ec-day\">30</div>\\n\\t\\t\\t\\t\\t\\t<div class=\"ai1ec-weekday\">Sat</div>\\n\\t\\t\\t\\t\\t\\t\\t\\t\\t\\t\\t</a>\\n\\t\\t\\t\\t\\t<div class=\"ai1ec-date-events\">\\n\\t\\t\\t\\t\\t\\t\\t\\t\\t\\t\\t\\t\\t\\t\\t\\t\\t\\t\\t\\t\\t<div class=\"ai1ec-event\\n\\t\\t\\t\\t\\t\\t\\t\\t\\tai1ec-event-id-35565\\n\\t\\t\\t\\t\\t\\t\\t\\t\\tai1ec-event-instance-id-1400\\n\\t\\t\\t\\t\\t\\t\\t\\t\\tai1ec-allday\">\\n\\n\\t\\t\\t\\t\\t\\t\\t\\t\\t<a href=\"https&#x3A;&#x2F;&#x2F;civmin.utoronto.ca&#x2F;event&#x2F;deadline-for-mining-industry-human-resources-councils-mihr-scholarship&#x2F;&#x3F;instance_id&#x3D;1400\"\\n\\t\\t\\t\\t\\t\\t\\t\\t\\t\\tclass=\"ai1ec-popup-trigger ai1ec-load-event\">\\n\\t\\t\\t\\t\\t\\t\\t\\t\\t\\t\\t\\t\\t\\t\\t\\t\\t\\t\\t\\t\\t<span class=\"ai1ec-allday-badge\">\\n\\t\\t\\t\\t\\t\\t\\t\\t\\t\\t\\t\\tall-day\\n\\t\\t\\t\\t\\t\\t\\t\\t\\t\\t\\t</span>\\n\\t\\t\\t\\t\\t\\t\\t\\t\\t\\t\\n\\t\\t\\t\\t\\t\\t\\t\\t\\t\\t<span class=\"ai1ec-event-title\">\\n\\t\\t\\t\\t\\t\\t\\t\\t\\t\\t\\tDEADLINE for Mining Industry Hum...\\n\\t\\t\\t\\t\\t\\t\\t\\t\\t\\t\\t\\t\\t\\t\\t\\t\\t\\t\\t\\t\\t</span>\\n\\t\\t\\t\\t\\t\\t\\t\\t\\t</a>\\n\\n\\t\\t\\t\\t\\t\\t\\t\\t\\t<div class=\"ai1ec-popover ai1ec-popup \\n\\tai1ec-event-instance-id-1400\">\\n\\n\\t\\t\\n\\t<span class=\"ai1ec-popup-title\">\\n\\t\\t<a href=\"https&#x3A;&#x2F;&#x2F;civmin.utoronto.ca&#x2F;event&#x2F;deadline-for-mining-industry-human-resources-councils-mihr-scholarship&#x2F;&#x3F;instance_id&#x3D;1400\"\\n\\t\\t   class=\"ai1ec-load-event\"\\n\\t\\t\\t>DEADLINE for Mining Industry Hum...</a>\\n\\t\\t\\t\\t\\t</span>\\n\\n\\t\\n\\t<div class=\"ai1ec-event-time\">\\n\\t\\t\\t\\t\\tSep 30 <span class=\"ai1ec-allday-badge\">all-day</span>\\n\\t\\t\\t</div>\\n\\n\\t\\n\\t\\t\\t<div class=\"ai1ec-popup-excerpt\">The Mining Industry Human Resources Council’s (MiHR) I Chose Mining. Mining Chose Me. Scholarship Program for Mineral Engineering students.\\xa0 MiHR is awarding 10 scholarships of\\xa0$2,500\\xa0to students in mining-related programs over five years. Student requirements:\\xa0registered in[...]</div>\\n\\t\\n</div>\\n\\n\\t\\t\\t\\t\\t\\t\\t\\t</div>\\n\\t\\t\\t\\t\\t\\t\\t \\t\\t\\t\\t\\t\\t\\t\\t\\t\\t\\t\\t\\t \\t\\t\\t\\t\\t\\t \\t\\t\\t\\t\\t</div>\\n\\t\\t\\t\\t</div>\\n\\t\\t\\t\\t\\t\\t\\t<div class=\"ai1ec-date\\n\\t\\t\\t\\t\\t\">\\n\\t\\t\\t\\t\\t<a class=\"ai1ec-date-title ai1ec-load-view\"\\n\\t\\t\\t\\t\\t\\thref=\"https&#x3A;&#x2F;&#x2F;civmin.utoronto.ca&#x2F;home&#x2F;about-us&#x2F;calendar&#x2F;action&#x7E;oneday&#x2F;exact_date&#x7E;2-10-2023&#x2F;\">\\n\\t\\t\\t\\t\\t\\t<div class=\"ai1ec-month\">Oct</div>\\n\\t\\t\\t\\t\\t\\t<div class=\"ai1ec-day\">2</div>\\n\\t\\t\\t\\t\\t\\t<div class=\"ai1ec-weekday\">Mon</div>\\n\\t\\t\\t\\t\\t\\t\\t\\t\\t\\t\\t</a>\\n\\t\\t\\t\\t\\t<div class=\"ai1ec-date-events\">\\n\\t\\t\\t\\t\\t\\t\\t\\t\\t\\t\\t\\t\\t \\t\\t\\t\\t\\t\\t\\t\\t\\t\\t\\t\\t\\t\\t\\t\\t\\t\\t\\t\\t\\t<div class=\"ai1ec-event\\n\\t\\t\\t\\t\\t\\t\\t\\t\\tai1ec-event-id-36070\\n\\t\\t\\t\\t\\t\\t\\t\\t\\tai1ec-event-instance-id-1418\\n\\t\\t\\t\\t\\t\\t\\t\\t\\t\">\\n\\n\\t\\t\\t\\t\\t\\t\\t\\t\\t<a href=\"https&#x3A;&#x2F;&#x2F;civmin.utoronto.ca&#x2F;event&#x2F;phd-departmental-defence-by-satya-narneni-macro-and-microstructural-effects-of-combined-exposures-of-alkali-silica-reaction-with-carbonation-freeze-thaw-and-chloride-ingress-on-concrete-deteriorat&#x2F;&#x3F;instance_id&#x3D;1418\"\\n\\t\\t\\t\\t\\t\\t\\t\\t\\t\\tclass=\"ai1ec-popup-trigger ai1ec-load-event\">\\n\\t\\t\\t\\t\\t\\t\\t\\t\\t\\t\\t\\t\\t\\t\\t\\t\\t\\t\\t\\t\\t<span class=\"ai1ec-event-time\">\\n\\t\\t\\t\\t\\t\\t\\t\\t\\t\\t\\t\\t11:30 am\\n\\t\\t\\t\\t\\t\\t\\t\\t\\t\\t\\t</span>\\n\\t\\t\\t\\t\\t\\t\\t\\t\\t\\t\\n\\t\\t\\t\\t\\t\\t\\t\\t\\t\\t<span class=\"ai1ec-event-title\">\\n\\t\\t\\t\\t\\t\\t\\t\\t\\t\\t\\tPhD Departmental Defence by Saty...\\n\\t\\t\\t\\t\\t\\t\\t\\t\\t\\t\\t\\t\\t\\t\\t\\t\\t\\t\\t\\t\\t</span>\\n\\t\\t\\t\\t\\t\\t\\t\\t\\t</a>\\n\\n\\t\\t\\t\\t\\t\\t\\t\\t\\t<div class=\"ai1ec-popover ai1ec-popup \\n\\tai1ec-event-instance-id-1418\">\\n\\n\\t\\t\\n\\t<span class=\"ai1ec-popup-title\">\\n\\t\\t<a href=\"https&#x3A;&#x2F;&#x2F;civmin.utoronto.ca&#x2F;event&#x2F;phd-departmental-defence-by-satya-narneni-macro-and-microstructural-effects-of-combined-exposures-of-alkali-silica-reaction-with-carbonation-freeze-thaw-and-chloride-ingress-on-concrete-deteriorat&#x2F;&#x3F;instance_id&#x3D;1418\"\\n\\t\\t   class=\"ai1ec-load-event\"\\n\\t\\t\\t>PhD Departmental Defence by Saty...</a>\\n\\t\\t\\t\\t\\t</span>\\n\\n\\t\\n\\t<div class=\"ai1ec-event-time\">\\n\\t\\t\\t\\t\\tOct 2 @ 11:30 am – 1:00 pm\\n\\t\\t\\t</div>\\n\\n\\t\\t\\t<a class=\"ai1ec-load-event\"\\n\\t\\t\\thref=\"https&#x3A;&#x2F;&#x2F;civmin.utoronto.ca&#x2F;event&#x2F;phd-departmental-defence-by-satya-narneni-macro-and-microstructural-effects-of-combined-exposures-of-alkali-silica-reaction-with-carbonation-freeze-thaw-and-chloride-ingress-on-concrete-deteriorat&#x2F;&#x3F;instance_id&#x3D;1418\">\\n\\t\\t\\t<div class=\"ai1ec-event-avatar timely  ai1ec-content_img ai1ec-portrait\"><img decoding=\"async\" loading=\"lazy\" src=\"https://civmin.utoronto.ca/wp-content/uploads/2023/09/satyanarayana-photo-225x300.jpg\" alt=\"PhD Departmental Defence by Satya Narneni: Macro- and Microstructural Effects of Combined Exposures of Alkali-Silica Reaction with Carbonation, Freeze-Thaw, and Chloride Ingress on Concrete Deterioration\\xa0\" width=\"225\" height=\"300\" /></div>\\n\\t\\t</a>\\n\\t\\n\\t\\t\\t<div class=\"ai1ec-popup-excerpt\">Macro- and Microstructural Effects of Combined Exposures of Alkali-Silica Reaction with Carbonation, Freeze-Thaw, and Chloride Ingress on Concrete Deterioration (PhD Departmental Defence) Candidate:\\xa0Satya Narneni Supervisor: Prof. Daman Panesar Monday, October 2, 2023 at 11:30 a.m.\\xa0[...]</div>\\n\\t\\n</div>\\n\\n\\t\\t\\t\\t\\t\\t\\t\\t</div>\\n\\t\\t\\t\\t\\t\\t\\t \\t\\t\\t\\t\\t\\t \\t\\t\\t\\t\\t</div>\\n\\t\\t\\t\\t</div>\\n\\t\\t\\t \\t\\t</div>\\n\\t \\n\\t\\t\\t<div class=\"ai1ec-subscribe-buttons-widget\">\\n\\t\\t\\t\\t\\t\\t\\t<a class=\"ai1ec-btn ai1ec-btn-default ai1ec-btn-xs ai1ec-pull-right\\n\\t\\t\\t\\t\\tai1ec-calendar-link\"\\n\\t\\t\\t\\t\\thref=\"https&#x3A;&#x2F;&#x2F;civmin.utoronto.ca&#x2F;home&#x2F;about-us&#x2F;calendar&#x2F;\">\\n\\t\\t\\t\\t\\tView Calendar\\n\\t\\t\\t\\t\\t<i class=\"ai1ec-fa ai1ec-fa-arrow-right\"></i>\\n\\t\\t\\t\\t</a>\\n\\t\\t\\t\\n\\t\\t\\t\\t\\t</div>\\n\\t \\n</div>\\n\\n\\n\\n</div></div>\\n\\t</div>\\n</div>\\n<div class=\"fl-module fl-module-heading fl-node-ftepuc7w83m2\" data-node=\"ftepuc7w83m2\">\\n\\t<div class=\"fl-module-content fl-node-content\">\\n\\t\\t<h2 class=\"fl-heading\">\\n\\t\\t<a href=\"https://civmin.utoronto.ca/page/in-the-news/\" title=\"CivMin Experts In The News\" target=\"_self\">\\n\\t\\t<span class=\"fl-heading-text\">CivMin Experts In The News</span>\\n\\t\\t</a>\\n\\t</h2>\\n\\t</div>\\n</div>\\n<div class=\"fl-module fl-module-pp-content-grid fl-node-q50lrmh1sian\" data-node=\"q50lrmh1sian\">\\n\\t<div class=\"fl-module-content fl-node-content\">\\n\\t\\t<div class=\"pp-posts-wrapper\">\\n\\t\\t\\n\\t<div class=\"pp-content-posts\" style=\"--items-count: 5;--column-xl: 1;--column-lg: 1;--column-md: 1;--column-sm: 1;\">\\n\\t\\t<div class=\"pp-content-post-grid pp-masonry-active clearfix\" itemscope=\"itemscope\" itemtype=\"https://schema.org/Blog\">\\n\\t\\t\\t\\n\\t\\t\\t\\t\\n<div class=\"pp-content-post pp-content-grid-post pp-grid-default post-36078 post type-post status-publish format-standard hentry category-in-the-news tag-mohammed-basheer\" itemscope itemtype=\"https://schema.org/BlogPosting\" data-id=\"36078\">\\n\\n\\t<meta itemscope itemprop=\"mainEntityOfPage\" itemtype=\"https://schema.org/WebPage\" itemid=\"https://civmin.utoronto.ca/prof-mohammed-basheer-why-is-egypt-worried-about-ethiopias-dam-on-the-nile/\" content=\"Prof. Mohammed Basheer | Why is Egypt worried about Ethiopia&#8217;s dam on the Nile?\" /><meta itemprop=\"datePublished\" content=\"2023-09-14\" /><meta itemprop=\"dateModified\" content=\"2023-09-14\" /><div itemprop=\"publisher\" itemscope itemtype=\"https://schema.org/Organization\"><meta itemprop=\"name\" content=\"Department of Civil &amp; Mineral Engineering\"></div><div itemscope itemprop=\"author\" itemtype=\"https://schema.org/Person\"><meta itemprop=\"url\" content=\"https://civmin.utoronto.ca/author/phill-snelutoronto-ca/\" /><meta itemprop=\"name\" content=\"Phill Snel\" /></div><div itemprop=\"interactionStatistic\" itemscope itemtype=\"https://schema.org/InteractionCounter\"><meta itemprop=\"interactionType\" content=\"https://schema.org/CommentAction\" /><meta itemprop=\"userInteractionCount\" content=\"0\" /></div>\\n\\t\\n\\t\\t\\n\\t\\t\\n\\t\\t\\n\\t\\t\\n\\t\\t<div class=\"pp-content-grid-inner pp-content-body clearfix\">\\n\\t\\t\\t\\n\\t\\t\\t\\n\\t\\t\\t<div class=\"pp-content-post-data\">\\n\\t\\t\\t\\t\\t\\t\\t\\t\\t<h6 class=\"pp-content-grid-title pp-post-title\" itemprop=\"headline\">\\n\\t\\t\\t\\t\\t\\t\\t\\t\\t\\t\\t\\t\\t<a href=\"https://civmin.utoronto.ca/prof-mohammed-basheer-why-is-egypt-worried-about-ethiopias-dam-on-the-nile/\" title=\"Prof. Mohammed Basheer | Why is Egypt worried about Ethiopia&#8217;s dam on the Nile?\">\\n\\t\\t\\t\\t\\t\\t\\t\\t\\t\\t\\t\\t\\t\\tProf. Mohammed Basheer | Why is Egypt worried about Ethiopia&#8217;s dam on the Nile?\\t\\t\\t\\t\\t\\t\\t\\t\\t\\t\\t\\t\\t</a>\\n\\t\\t\\t\\t\\t\\t\\t\\t\\t\\t\\t</h6>\\n\\t\\t\\t\\t\\t\\t\\t\\t\\t\\n\\t\\t\\t\\t\\n\\t\\t\\t\\t\\n\\t\\t\\t\\t\\n\\t\\t\\t\\t\\n\\t\\t\\t\\t\\t\\t\\t\\t\\t<div class=\"pp-content-grid-content pp-post-content content-type-excerpt\">\\n    <p>September 13, 2023 | BBC News</p>\\n</div>\\n\\t\\t\\t\\t\\n\\t\\t\\t\\t\\n\\t\\t\\t\\t\\n\\t\\t\\t\\t\\n\\t\\t\\t</div>\\n\\t\\t\\t\\n\\t\\t\\t\\t\\t</div>\\n\\n\\t\\t\\t</div>\\n\\n<div class=\"pp-content-post pp-content-grid-post pp-post-2n pp-grid-default post-36068 post type-post status-publish format-standard hentry category-in-the-news tag-jeff-siegel tag-jefffrey-siegel tag-jeffrey-siegel\" itemscope itemtype=\"https://schema.org/BlogPosting\" data-id=\"36068\">\\n\\n\\t<meta itemscope itemprop=\"mainEntityOfPage\" itemtype=\"https://schema.org/WebPage\" itemid=\"https://civmin.utoronto.ca/prof-jeffrey-siegel-parents-teachers-call-for-better-air-quality-in-schools-amid-wildfire-virus-concerns/\" content=\"Prof. Jeffrey Siegel | Parents, teachers call for better air quality in schools amid wildfire, virus concerns\" /><meta itemprop=\"datePublished\" content=\"2023-09-13\" /><meta itemprop=\"dateModified\" content=\"2023-09-13\" /><div itemprop=\"publisher\" itemscope itemtype=\"https://schema.org/Organization\"><meta itemprop=\"name\" content=\"Department of Civil &amp; Mineral Engineering\"></div><div itemscope itemprop=\"author\" itemtype=\"https://schema.org/Person\"><meta itemprop=\"url\" content=\"https://civmin.utoronto.ca/author/galina-nikitina/\" /><meta itemprop=\"name\" content=\"Galina Nikitina\" /></div><div itemprop=\"interactionStatistic\" itemscope itemtype=\"https://schema.org/InteractionCounter\"><meta itemprop=\"interactionType\" content=\"https://schema.org/CommentAction\" /><meta itemprop=\"userInteractionCount\" content=\"0\" /></div>\\n\\t\\n\\t\\t\\n\\t\\t\\n\\t\\t\\n\\t\\t\\n\\t\\t<div class=\"pp-content-grid-inner pp-content-body clearfix\">\\n\\t\\t\\t\\n\\t\\t\\t\\n\\t\\t\\t<div class=\"pp-content-post-data\">\\n\\t\\t\\t\\t\\t\\t\\t\\t\\t<h6 class=\"pp-content-grid-title pp-post-title\" itemprop=\"headline\">\\n\\t\\t\\t\\t\\t\\t\\t\\t\\t\\t\\t\\t\\t<a href=\"https://civmin.utoronto.ca/prof-jeffrey-siegel-parents-teachers-call-for-better-air-quality-in-schools-amid-wildfire-virus-concerns/\" title=\"Prof. Jeffrey Siegel | Parents, teachers call for better air quality in schools amid wildfire, virus concerns\">\\n\\t\\t\\t\\t\\t\\t\\t\\t\\t\\t\\t\\t\\t\\tProf. Jeffrey Siegel | Parents, teachers call for better air quality in schools amid wildfire, virus concerns\\t\\t\\t\\t\\t\\t\\t\\t\\t\\t\\t\\t\\t</a>\\n\\t\\t\\t\\t\\t\\t\\t\\t\\t\\t\\t</h6>\\n\\t\\t\\t\\t\\t\\t\\t\\t\\t\\n\\t\\t\\t\\t\\n\\t\\t\\t\\t\\n\\t\\t\\t\\t\\n\\t\\t\\t\\t\\n\\t\\t\\t\\t\\t\\t\\t\\t\\t<div class=\"pp-content-grid-content pp-post-content content-type-excerpt\">\\n    <p>September 12, 2023 | Global News</p>\\n</div>\\n\\t\\t\\t\\t\\n\\t\\t\\t\\t\\n\\t\\t\\t\\t\\n\\t\\t\\t\\t\\n\\t\\t\\t</div>\\n\\t\\t\\t\\n\\t\\t\\t\\t\\t</div>\\n\\n\\t\\t\\t</div>\\n\\n<div class=\"pp-content-post pp-content-grid-post pp-grid-default post-36066 post type-post status-publish format-standard hentry category-in-the-news tag-jeff-siegel tag-jefffrey-siegel tag-jeffrey-siegel\" itemscope itemtype=\"https://schema.org/BlogPosting\" data-id=\"36066\">\\n\\n\\t<meta itemscope itemprop=\"mainEntityOfPage\" itemtype=\"https://schema.org/WebPage\" itemid=\"https://civmin.utoronto.ca/prof-jeffrey-siegel-parents-call-for-better-air-quality-in-schools-to-protect-against-viruses-fire-smoke/\" content=\"Prof. Jeffrey Siegel | Parents call for better air quality in schools to protect against viruses, fire smoke\" /><meta itemprop=\"datePublished\" content=\"2023-09-13\" /><meta itemprop=\"dateModified\" content=\"2023-09-14\" /><div itemprop=\"publisher\" itemscope itemtype=\"https://schema.org/Organization\"><meta itemprop=\"name\" content=\"Department of Civil &amp; Mineral Engineering\"></div><div itemscope itemprop=\"author\" itemtype=\"https://schema.org/Person\"><meta itemprop=\"url\" content=\"https://civmin.utoronto.ca/author/galina-nikitina/\" /><meta itemprop=\"name\" content=\"Galina Nikitina\" /></div><div itemprop=\"interactionStatistic\" itemscope itemtype=\"https://schema.org/InteractionCounter\"><meta itemprop=\"interactionType\" content=\"https://schema.org/CommentAction\" /><meta itemprop=\"userInteractionCount\" content=\"0\" /></div>\\n\\t\\n\\t\\t\\n\\t\\t\\n\\t\\t\\n\\t\\t\\n\\t\\t<div class=\"pp-content-grid-inner pp-content-body clearfix\">\\n\\t\\t\\t\\n\\t\\t\\t\\n\\t\\t\\t<div class=\"pp-content-post-data\">\\n\\t\\t\\t\\t\\t\\t\\t\\t\\t<h6 class=\"pp-content-grid-title pp-post-title\" itemprop=\"headline\">\\n\\t\\t\\t\\t\\t\\t\\t\\t\\t\\t\\t\\t\\t<a href=\"https://civmin.utoronto.ca/prof-jeffrey-siegel-parents-call-for-better-air-quality-in-schools-to-protect-against-viruses-fire-smoke/\" title=\"Prof. Jeffrey Siegel | Parents call for better air quality in schools to protect against viruses, fire smoke\">\\n\\t\\t\\t\\t\\t\\t\\t\\t\\t\\t\\t\\t\\t\\tProf. Jeffrey Siegel | Parents call for better air quality in schools to protect against viruses, fire smoke\\t\\t\\t\\t\\t\\t\\t\\t\\t\\t\\t\\t\\t</a>\\n\\t\\t\\t\\t\\t\\t\\t\\t\\t\\t\\t</h6>\\n\\t\\t\\t\\t\\t\\t\\t\\t\\t\\n\\t\\t\\t\\t\\n\\t\\t\\t\\t\\n\\t\\t\\t\\t\\n\\t\\t\\t\\t\\n\\t\\t\\t\\t\\t\\t\\t\\t\\t<div class=\"pp-content-grid-content pp-post-content content-type-excerpt\">\\n    <p>September 12. 2023 | Toronto Star\\xa0</p>\\n</div>\\n\\t\\t\\t\\t\\n\\t\\t\\t\\t\\n\\t\\t\\t\\t\\n\\t\\t\\t\\t\\n\\t\\t\\t</div>\\n\\t\\t\\t\\n\\t\\t\\t\\t\\t</div>\\n\\n\\t\\t\\t</div>\\n\\n<div class=\"pp-content-post pp-content-grid-post pp-post-2n pp-grid-default post-36064 post type-post status-publish format-standard hentry category-in-the-news tag-jef-siegel tag-jeff-siegel tag-jeffrey-siegel\" itemscope itemtype=\"https://schema.org/BlogPosting\" data-id=\"36064\">\\n\\n\\t<meta itemscope itemprop=\"mainEntityOfPage\" itemtype=\"https://schema.org/WebPage\" itemid=\"https://civmin.utoronto.ca/prof-jeffrey-siegel-parents-call-for-better-air-quality-in-schools-to-protect-against-viruses-wildfire-smoke/\" content=\"Prof. Jeffrey Siegel | Parents call for better air quality in schools to protect against viruses, wildfire smoke\" /><meta itemprop=\"datePublished\" content=\"2023-09-13\" /><meta itemprop=\"dateModified\" content=\"2023-09-13\" /><div itemprop=\"publisher\" itemscope itemtype=\"https://schema.org/Organization\"><meta itemprop=\"name\" content=\"Department of Civil &amp; Mineral Engineering\"></div><div itemscope itemprop=\"author\" itemtype=\"https://schema.org/Person\"><meta itemprop=\"url\" content=\"https://civmin.utoronto.ca/author/galina-nikitina/\" /><meta itemprop=\"name\" content=\"Galina Nikitina\" /></div><div itemprop=\"interactionStatistic\" itemscope itemtype=\"https://schema.org/InteractionCounter\"><meta itemprop=\"interactionType\" content=\"https://schema.org/CommentAction\" /><meta itemprop=\"userInteractionCount\" content=\"0\" /></div>\\n\\t\\n\\t\\t\\n\\t\\t\\n\\t\\t\\n\\t\\t\\n\\t\\t<div class=\"pp-content-grid-inner pp-content-body clearfix\">\\n\\t\\t\\t\\n\\t\\t\\t\\n\\t\\t\\t<div class=\"pp-content-post-data\">\\n\\t\\t\\t\\t\\t\\t\\t\\t\\t<h6 class=\"pp-content-grid-title pp-post-title\" itemprop=\"headline\">\\n\\t\\t\\t\\t\\t\\t\\t\\t\\t\\t\\t\\t\\t<a href=\"https://civmin.utoronto.ca/prof-jeffrey-siegel-parents-call-for-better-air-quality-in-schools-to-protect-against-viruses-wildfire-smoke/\" title=\"Prof. Jeffrey Siegel | Parents call for better air quality in schools to protect against viruses, wildfire smoke\">\\n\\t\\t\\t\\t\\t\\t\\t\\t\\t\\t\\t\\t\\t\\tProf. Jeffrey Siegel | Parents call for better air quality in schools to protect against viruses, wildfire smoke\\t\\t\\t\\t\\t\\t\\t\\t\\t\\t\\t\\t\\t</a>\\n\\t\\t\\t\\t\\t\\t\\t\\t\\t\\t\\t</h6>\\n\\t\\t\\t\\t\\t\\t\\t\\t\\t\\n\\t\\t\\t\\t\\n\\t\\t\\t\\t\\n\\t\\t\\t\\t\\n\\t\\t\\t\\t\\n\\t\\t\\t\\t\\t\\t\\t\\t\\t<div class=\"pp-content-grid-content pp-post-content content-type-excerpt\">\\n    <p>September 12, 2023 | The Globe and Mail</p>\\n</div>\\n\\t\\t\\t\\t\\n\\t\\t\\t\\t\\n\\t\\t\\t\\t\\n\\t\\t\\t\\t\\n\\t\\t\\t</div>\\n\\t\\t\\t\\n\\t\\t\\t\\t\\t</div>\\n\\n\\t\\t\\t</div>\\n\\n<div class=\"pp-content-post pp-content-grid-post pp-grid-default post-36062 post type-post status-publish format-standard hentry category-in-the-news tag-jeff-siegel tag-jefffrey-siegel tag-jeffrey-siegel\" itemscope itemtype=\"https://schema.org/BlogPosting\" data-id=\"36062\">\\n\\n\\t<meta itemscope itemprop=\"mainEntityOfPage\" itemtype=\"https://schema.org/WebPage\" itemid=\"https://civmin.utoronto.ca/prof-jeffrey-siegel-protecting-childrens-health-urgent-demand-for-improved-school-air-quality-amidst-wildfires-and-pandemic-national-support-from-parents-and-teachers/\" content=\"Prof. Jeffrey Siegel | Protecting Children’s Health: Urgent Demand for Improved School Air Quality amidst Wildfires and Pandemic – National Support from Parents and Teachers\" /><meta itemprop=\"datePublished\" content=\"2023-09-13\" /><meta itemprop=\"dateModified\" content=\"2023-09-13\" /><div itemprop=\"publisher\" itemscope itemtype=\"https://schema.org/Organization\"><meta itemprop=\"name\" content=\"Department of Civil &amp; Mineral Engineering\"></div><div itemscope itemprop=\"author\" itemtype=\"https://schema.org/Person\"><meta itemprop=\"url\" content=\"https://civmin.utoronto.ca/author/galina-nikitina/\" /><meta itemprop=\"name\" content=\"Galina Nikitina\" /></div><div itemprop=\"interactionStatistic\" itemscope itemtype=\"https://schema.org/InteractionCounter\"><meta itemprop=\"interactionType\" content=\"https://schema.org/CommentAction\" /><meta itemprop=\"userInteractionCount\" content=\"0\" /></div>\\n\\t\\n\\t\\t\\n\\t\\t\\n\\t\\t\\n\\t\\t\\n\\t\\t<div class=\"pp-content-grid-inner pp-content-body clearfix\">\\n\\t\\t\\t\\n\\t\\t\\t\\n\\t\\t\\t<div class=\"pp-content-post-data\">\\n\\t\\t\\t\\t\\t\\t\\t\\t\\t<h6 class=\"pp-content-grid-title pp-post-title\" itemprop=\"headline\">\\n\\t\\t\\t\\t\\t\\t\\t\\t\\t\\t\\t\\t\\t<a href=\"https://civmin.utoronto.ca/prof-jeffrey-siegel-protecting-childrens-health-urgent-demand-for-improved-school-air-quality-amidst-wildfires-and-pandemic-national-support-from-parents-and-teachers/\" title=\"Prof. Jeffrey Siegel | Protecting Children’s Health: Urgent Demand for Improved School Air Quality amidst Wildfires and Pandemic – National Support from Parents and Teachers\">\\n\\t\\t\\t\\t\\t\\t\\t\\t\\t\\t\\t\\t\\t\\tProf. Jeffrey Siegel | Protecting Children’s Health: Urgent Demand for Improved School Air Quality amidst Wildfires and Pandemic – National Support from Parents and Teachers\\t\\t\\t\\t\\t\\t\\t\\t\\t\\t\\t\\t\\t</a>\\n\\t\\t\\t\\t\\t\\t\\t\\t\\t\\t\\t</h6>\\n\\t\\t\\t\\t\\t\\t\\t\\t\\t\\n\\t\\t\\t\\t\\n\\t\\t\\t\\t\\n\\t\\t\\t\\t\\n\\t\\t\\t\\t\\n\\t\\t\\t\\t\\t\\t\\t\\t\\t<div class=\"pp-content-grid-content pp-post-content content-type-excerpt\">\\n    <p>September 9, 2023 | VigourTimes</p>\\n</div>\\n\\t\\t\\t\\t\\n\\t\\t\\t\\t\\n\\t\\t\\t\\t\\n\\t\\t\\t\\t\\n\\t\\t\\t</div>\\n\\t\\t\\t\\n\\t\\t\\t\\t\\t</div>\\n\\n\\t\\t\\t</div>\\n\\n\\t\\t\\t\\t\\t\\t\\t\\t<div class=\"pp-grid-space\"></div>\\n\\t\\t\\t\\t\\n\\t\\t\\t\\t\\t</div>\\n\\n\\t\\t<div class=\"fl-clear\"></div>\\n\\n\\t\\t\\n\\t\\t\\t\\t\\n\\t\\t</div><!-- .pp-content-posts -->\\n\\t\\n\\t</div>\\n\\n\\t</div>\\n</div>\\n</div>\\n</div>\\n\\t</div>\\n\\n<div class=\"fl-col-group fl-node-jgp57yi09fa6\" data-node=\"jgp57yi09fa6\">\\n\\t\\t\\t<div class=\"fl-col fl-node-die4qfxabmt0\" data-node=\"die4qfxabmt0\">\\n\\t<div class=\"fl-col-content fl-node-content\"><div class=\"fl-module fl-module-pp-line-separator fl-node-k2cibwn4q0h8\" data-node=\"k2cibwn4q0h8\">\\n\\t<div class=\"fl-module-content fl-node-content\">\\n\\t\\t<div class=\"pp-line-separator-wrap\">\\n\\t\\t\\t<div class=\"pp-line-separator-inner pp-line-only\">\\n\\t\\t\\t<span class=\"pp-line-separator pp-line-only\"></span>\\n\\t\\t</div>\\n\\t\\t\\t</div>\\n\\t</div>\\n</div>\\n</div>\\n</div>\\n\\t</div>\\n\\t\\t</div>\\n\\t</div>\\n</div>\\n<div class=\"fl-row fl-row-full-width fl-row-bg-none fl-node-h05kq2r4amnt fl-row-default-height fl-row-align-center\" data-node=\"h05kq2r4amnt\">\\n\\t<div class=\"fl-row-content-wrap\">\\n\\t\\t\\t\\t\\t\\t<div class=\"fl-row-content fl-row-fixed-width fl-node-content\">\\n\\t\\t\\n<div class=\"fl-col-group fl-node-6plm1he5duki\" data-node=\"6plm1he5duki\">\\n\\t\\t\\t<div class=\"fl-col fl-node-6b278jag3ctv fl-col-small\" data-node=\"6b278jag3ctv\">\\n\\t<div class=\"fl-col-content fl-node-content\"><div class=\"fl-module fl-module-heading fl-node-stylv175wxiu fl-visible-desktop fl-visible-large\" data-node=\"stylv175wxiu\">\\n\\t<div class=\"fl-module-content fl-node-content\">\\n\\t\\t<h2 class=\"fl-heading\">\\n\\t\\t<a href=\"https://civmin.utoronto.ca/page/featured/\" title=\"Featured\" target=\"_self\">\\n\\t\\t<span class=\"fl-heading-text\">Featured</span>\\n\\t\\t</a>\\n\\t</h2>\\n\\t</div>\\n</div>\\n<div class=\"fl-module fl-module-pp-content-grid fl-node-v3x4eh28ylnz fl-visible-desktop fl-visible-large fl-visible-medium\" data-node=\"v3x4eh28ylnz\">\\n\\t<div class=\"fl-module-content fl-node-content\">\\n\\t\\t<div class=\"pp-posts-wrapper\">\\n\\t\\t\\n\\t<div class=\"pp-content-posts\" style=\"--items-count: 1;--column-xl: 1;--column-lg: 1;--column-md: 1;--column-sm: 1;\">\\n\\t\\t<div class=\"pp-content-post-grid pp-equal-height pp-css-grid\" itemscope=\"itemscope\" itemtype=\"https://schema.org/Blog\">\\n\\t\\t\\t\\n\\t\\t\\t\\t\\n<div class=\"pp-content-post pp-content-grid-post pp-grid-default post-34037 post type-post status-publish format-standard has-post-thumbnail hentry category-featured category-news tag-adjustable-multidimensional tag-amd tag-canada-foundation-for-innovation tag-cfi tag-civil-engineering tag-constantin-christopoulos tag-renovation tag-stf tag-structural-testing-facilities tag-structural-testing-facility tag-sustainable-infrastructure\" itemscope itemtype=\"https://schema.org/BlogPosting\" data-id=\"34037\">\\n\\n\\t<meta itemscope itemprop=\"mainEntityOfPage\" itemtype=\"https://schema.org/WebPage\" itemid=\"https://civmin.utoronto.ca/worlds-first-amd/\" content=\"World&#8217;s first adjustable multidimensional structural testing system coming to CivMin’s Structural Testing Facilities\" /><meta itemprop=\"datePublished\" content=\"2023-07-25\" /><meta itemprop=\"dateModified\" content=\"2023-08-03\" /><div itemprop=\"publisher\" itemscope itemtype=\"https://schema.org/Organization\"><meta itemprop=\"name\" content=\"Department of Civil &amp; Mineral Engineering\"></div><div itemscope itemprop=\"author\" itemtype=\"https://schema.org/Person\"><meta itemprop=\"url\" content=\"https://civmin.utoronto.ca/author/phill-snelutoronto-ca/\" /><meta itemprop=\"name\" content=\"Phill Snel\" /></div><div itemscope itemprop=\"image\" itemtype=\"https://schema.org/ImageObject\"><meta itemprop=\"url\" content=\"https://civmin.utoronto.ca/wp-content/uploads/2023/07/Screenshot-2023-07-12-at-2.11.35-PM.png\" /><meta itemprop=\"width\" content=\"2092\" /><meta itemprop=\"height\" content=\"1372\" /></div><div itemprop=\"interactionStatistic\" itemscope itemtype=\"https://schema.org/InteractionCounter\"><meta itemprop=\"interactionType\" content=\"https://schema.org/CommentAction\" /><meta itemprop=\"userInteractionCount\" content=\"0\" /></div>\\n\\t\\n\\t\\t\\t\\t\\t<a class=\"pp-post-link\" href=\"https://civmin.utoronto.ca/worlds-first-amd/\" title=\"World&#8217;s first adjustable multidimensional structural testing system coming to CivMin’s Structural Testing Facilities\"></a>\\n\\t\\t\\n\\t\\t\\n\\t\\t\\n\\t\\t\\t\\t\\t<div class=\"pp-content-grid-image pp-post-image\">\\n    \\t\\t\\t\\t\\t<div class=\"pp-post-featured-img\">\\n\\t\\t\\t\\t<div class=\"fl-photo fl-photo-crop-square fl-photo-align-center\" itemscope itemtype=\"https://schema.org/ImageObject\">\\n\\t<div class=\"fl-photo-content fl-photo-img-png\">\\n\\t\\t\\t\\t<img decoding=\"async\" loading=\"lazy\" class=\"fl-photo-img wp-image-34970 size-large pp-post-img no-lazyload\" src=\"https://civmin.utoronto.ca/wp-content/uploads/bb-plugin/cache/Screenshot-2023-07-12-at-2.11.35-PM-1024x672-square-6637875f34da6e8fc8b439c59b755923-.png\" alt=\"An illustration of the adjustable multidimensional (AMD) testing device to be installed in CivMin\\'s Galbraith side of the Structural Testing Facilities (STF). \" itemprop=\"image\" data-no-lazy=\"1\" height=\"672\" width=\"1024\" title=\"Screenshot 2023-07-12 at 2.11.35 PM\"  />\\n\\t\\t\\t\\t\\t</div>\\n\\t</div>\\n\\t\\t\\t</div>\\n\\t\\t    \\n\\t\\t\\t\\n\\t\\t\\n\\t\\t\\t</div>\\n\\t\\t\\n\\t\\t<div class=\"pp-content-grid-inner pp-content-body clearfix\">\\n\\t\\t\\t\\n\\t\\t\\t\\n\\t\\t\\t<div class=\"pp-content-post-data\">\\n\\t\\t\\t\\t\\t\\t\\t\\t\\t<h3 class=\"pp-content-grid-title pp-post-title\" itemprop=\"headline\">\\n\\t\\t\\t\\t\\t\\t\\t\\t\\t\\t\\t\\t\\t\\tWorld&#8217;s first adjustable multidimensional structural testing system coming to CivMin’s Structural Testing Facilities\\t\\t\\t\\t\\t\\t\\t\\t\\t\\t\\t</h3>\\n\\t\\t\\t\\t\\t\\t\\t\\t\\t\\n\\t\\t\\t\\t\\t\\t\\t\\t<div class=\"pp-content-post-meta pp-post-meta\">\\n\\t\\t\\t\\t\\t\\t\\t\\t\\t\\t\\t<span class=\"pp-content-post-author pp-post-author\">\\nBy <a href=\"https://civmin.utoronto.ca/author/phill-snelutoronto-ca/\"><span>Phill Snel</span></a></span>\\t\\t\\t\\t\\t\\n\\t\\t\\t\\t\\t\\t\\t\\t\\t\\t\\t\\t\\t\\t\\t\\t\\t\\t<span>  |  </span>\\n\\t\\t\\t\\t\\t\\t\\t\\t\\t\\t\\t\\t<span class=\"pp-content-grid-date pp-post-date\">\\n\\t\\t\\tJuly 25, 2023\\t</span>\\t\\t\\t\\t\\t\\n\\t\\t\\t\\t\\t\\t\\t\\t\\t</div>\\n\\t\\t\\t\\t\\n\\t\\t\\t\\t\\n\\t\\t\\t\\t\\n\\t\\t\\t\\t\\n\\t\\t\\t\\t\\n\\t\\t\\t\\t\\n\\t\\t\\t\\t\\n\\t\\t\\t\\t\\n\\t\\t\\t</div>\\n\\t\\t\\t\\n\\t\\t\\t\\t\\t</div>\\n\\n\\t\\t\\t</div>\\n\\n\\t\\t\\t\\t\\n\\t\\t\\t\\t\\t</div>\\n\\n\\t\\t<div class=\"fl-clear\"></div>\\n\\n\\t\\t\\n\\t\\t\\t\\t\\n\\t\\t</div><!-- .pp-content-posts -->\\n\\t\\n\\t</div>\\n\\n\\t</div>\\n</div>\\n</div>\\n</div>\\n\\t\\t\\t<div class=\"fl-col fl-node-zacirymlohes fl-col-small\" data-node=\"zacirymlohes\">\\n\\t<div class=\"fl-col-content fl-node-content\"><div class=\"fl-module fl-module-heading fl-node-5g3xkc9ym1ro fl-visible-desktop fl-visible-large fl-visible-medium\" data-node=\"5g3xkc9ym1ro\">\\n\\t<div class=\"fl-module-content fl-node-content\">\\n\\t\\t<h2 class=\"fl-heading\">\\n\\t\\t<a href=\"https://civmin.utoronto.ca/page/people/alumni/\" title=\"Alumni Updates\" target=\"_self\">\\n\\t\\t<span class=\"fl-heading-text\">Alumni Updates</span>\\n\\t\\t</a>\\n\\t</h2>\\n\\t</div>\\n</div>\\n<div class=\"fl-module fl-module-pp-content-grid fl-node-e5uvfswqob17 fl-visible-desktop fl-visible-large fl-visible-medium\" data-node=\"e5uvfswqob17\">\\n\\t<div class=\"fl-module-content fl-node-content\">\\n\\t\\t<div class=\"pp-posts-wrapper\">\\n\\t\\t\\n\\t<div class=\"pp-content-posts\" style=\"--items-count: 1;--column-xl: 1;--column-lg: 1;--column-md: 1;--column-sm: 1;\">\\n\\t\\t<div class=\"pp-content-post-grid pp-equal-height pp-css-grid\" itemscope=\"itemscope\" itemtype=\"https://schema.org/Blog\">\\n\\t\\t\\t\\n\\t\\t\\t\\t\\n<div class=\"pp-content-post pp-content-grid-post pp-grid-default post-35701 post type-post status-publish format-standard has-post-thumbnail hentry category-alumni category-awards category-news\" itemscope itemtype=\"https://schema.org/BlogPosting\" data-id=\"35701\">\\n\\n\\t<meta itemscope itemprop=\"mainEntityOfPage\" itemtype=\"https://schema.org/WebPage\" itemid=\"https://civmin.utoronto.ca/sarah-heffernan-lme-alum-and-current-member-of-the-lme-advisory-board-recognized-as-a-woman-of-inspiration-by-women-in-mining-canada/\" content=\"Sarah Heffernan, LME alum and current member of the LME advisory Board recognized as a woman of inspiration by Women in Mining Canada\" /><meta itemprop=\"datePublished\" content=\"2023-08-18\" /><meta itemprop=\"dateModified\" content=\"2023-08-18\" /><div itemprop=\"publisher\" itemscope itemtype=\"https://schema.org/Organization\"><meta itemprop=\"name\" content=\"Department of Civil &amp; Mineral Engineering\"></div><div itemscope itemprop=\"author\" itemtype=\"https://schema.org/Person\"><meta itemprop=\"url\" content=\"https://civmin.utoronto.ca/author/phill-snelutoronto-ca/\" /><meta itemprop=\"name\" content=\"Phill Snel\" /></div><div itemscope itemprop=\"image\" itemtype=\"https://schema.org/ImageObject\"><meta itemprop=\"url\" content=\"https://civmin.utoronto.ca/wp-content/uploads/2023/04/Sarah-Heffernan-enhanced-400x400-1.jpg\" /><meta itemprop=\"width\" content=\"488\" /><meta itemprop=\"height\" content=\"488\" /></div><div itemprop=\"interactionStatistic\" itemscope itemtype=\"https://schema.org/InteractionCounter\"><meta itemprop=\"interactionType\" content=\"https://schema.org/CommentAction\" /><meta itemprop=\"userInteractionCount\" content=\"0\" /></div>\\n\\t\\n\\t\\t\\t\\t\\t<a class=\"pp-post-link\" href=\"https://civmin.utoronto.ca/sarah-heffernan-lme-alum-and-current-member-of-the-lme-advisory-board-recognized-as-a-woman-of-inspiration-by-women-in-mining-canada/\" title=\"Sarah Heffernan, LME alum and current member of the LME advisory Board recognized as a woman of inspiration by Women in Mining Canada\"></a>\\n\\t\\t\\n\\t\\t\\n\\t\\t\\n\\t\\t\\t\\t\\t<div class=\"pp-content-grid-image pp-post-image\">\\n    \\t\\t\\t\\t\\t<div class=\"pp-post-featured-img\">\\n\\t\\t\\t\\t<div class=\"fl-photo fl-photo-crop-square fl-photo-align-center\" itemscope itemtype=\"https://schema.org/ImageObject\">\\n\\t<div class=\"fl-photo-content fl-photo-img-jpg\">\\n\\t\\t\\t\\t<img decoding=\"async\" loading=\"lazy\" class=\"fl-photo-img wp-image-33354 size-full pp-post-img no-lazyload\" src=\"https://civmin.utoronto.ca/wp-content/uploads/bb-plugin/cache/Sarah-Heffernan-enhanced-400x400-1-square-6b9e0df03dbb88d25d7b5cd836480a22-.jpg\" alt=\"Sarah Heffernan-enhanced 400x400\" itemprop=\"image\" data-no-lazy=\"1\" height=\"488\" width=\"488\" title=\"Sarah Heffernan-enhanced 400x400\"  />\\n\\t\\t\\t\\t\\t</div>\\n\\t</div>\\n\\t\\t\\t</div>\\n\\t\\t    \\n\\t\\t\\t\\n\\t\\t\\n\\t\\t\\t</div>\\n\\t\\t\\n\\t\\t<div class=\"pp-content-grid-inner pp-content-body clearfix\">\\n\\t\\t\\t\\n\\t\\t\\t\\n\\t\\t\\t<div class=\"pp-content-post-data\">\\n\\t\\t\\t\\t\\t\\t\\t\\t\\t<h3 class=\"pp-content-grid-title pp-post-title\" itemprop=\"headline\">\\n\\t\\t\\t\\t\\t\\t\\t\\t\\t\\t\\t\\t\\t\\tSarah Heffernan, LME alum and current member of the LME advisory Board recognized as a woman of inspiration by Women in Mining Canada\\t\\t\\t\\t\\t\\t\\t\\t\\t\\t\\t</h3>\\n\\t\\t\\t\\t\\t\\t\\t\\t\\t\\n\\t\\t\\t\\t\\t\\t\\t\\t<div class=\"pp-content-post-meta pp-post-meta\">\\n\\t\\t\\t\\t\\t\\t\\t\\t\\t\\t\\t<span class=\"pp-content-post-author pp-post-author\">\\nBy <a href=\"https://civmin.utoronto.ca/author/phill-snelutoronto-ca/\"><span>Phill Snel</span></a></span>\\t\\t\\t\\t\\t\\n\\t\\t\\t\\t\\t\\t\\t\\t\\t\\t\\t\\t\\t\\t\\t\\t\\t\\t<span>  |  </span>\\n\\t\\t\\t\\t\\t\\t\\t\\t\\t\\t\\t\\t<span class=\"pp-content-grid-date pp-post-date\">\\n\\t\\t\\tAugust 18, 2023\\t</span>\\t\\t\\t\\t\\t\\n\\t\\t\\t\\t\\t\\t\\t\\t\\t</div>\\n\\t\\t\\t\\t\\n\\t\\t\\t\\t\\n\\t\\t\\t\\t\\n\\t\\t\\t\\t\\n\\t\\t\\t\\t\\n\\t\\t\\t\\t\\n\\t\\t\\t\\t\\n\\t\\t\\t\\t\\n\\t\\t\\t</div>\\n\\t\\t\\t\\n\\t\\t\\t\\t\\t</div>\\n\\n\\t\\t\\t</div>\\n\\n\\t\\t\\t\\t\\n\\t\\t\\t\\t\\t</div>\\n\\n\\t\\t<div class=\"fl-clear\"></div>\\n\\n\\t\\t\\n\\t\\t\\t\\t\\n\\t\\t</div><!-- .pp-content-posts -->\\n\\t\\n\\t</div>\\n\\n\\t</div>\\n</div>\\n</div>\\n</div>\\n\\t\\t\\t<div class=\"fl-col fl-node-d2ar5mlbp3h7 fl-col-small\" data-node=\"d2ar5mlbp3h7\">\\n\\t<div class=\"fl-col-content fl-node-content\"><div class=\"fl-module fl-module-heading fl-node-4cz2lwsyghra\" data-node=\"4cz2lwsyghra\">\\n\\t<div class=\"fl-module-content fl-node-content\">\\n\\t\\t<h2 class=\"fl-heading\">\\n\\t\\t<a href=\"https://civmin.utoronto.ca/page/awards/\" title=\"Awards &amp; Recognition\" target=\"_self\">\\n\\t\\t<span class=\"fl-heading-text\">Awards & Recognition</span>\\n\\t\\t</a>\\n\\t</h2>\\n\\t</div>\\n</div>\\n<div class=\"fl-module fl-module-pp-content-grid fl-node-krzoms17w90p\" data-node=\"krzoms17w90p\">\\n\\t<div class=\"fl-module-content fl-node-content\">\\n\\t\\t<div class=\"pp-posts-wrapper\">\\n\\t\\t\\n\\t<div class=\"pp-content-posts\" style=\"--items-count: 10;--column-xl: 1;--column-lg: 1;--column-md: 1;--column-sm: 1;\">\\n\\t\\t<div class=\"pp-content-post-grid pp-masonry-active clearfix\" itemscope=\"itemscope\" itemtype=\"https://schema.org/Blog\">\\n\\t\\t\\t\\n\\t\\t\\t\\t\\n<div class=\"pp-content-post pp-content-grid-post pp-grid-default post-35701 post type-post status-publish format-standard has-post-thumbnail hentry category-alumni category-awards category-news\" itemscope itemtype=\"https://schema.org/BlogPosting\" data-id=\"35701\">\\n\\n\\t<meta itemscope itemprop=\"mainEntityOfPage\" itemtype=\"https://schema.org/WebPage\" itemid=\"https://civmin.utoronto.ca/sarah-heffernan-lme-alum-and-current-member-of-the-lme-advisory-board-recognized-as-a-woman-of-inspiration-by-women-in-mining-canada/\" content=\"Sarah Heffernan, LME alum and current member of the LME advisory Board recognized as a woman of inspiration by Women in Mining Canada\" /><meta itemprop=\"datePublished\" content=\"2023-08-18\" /><meta itemprop=\"dateModified\" content=\"2023-08-18\" /><div itemprop=\"publisher\" itemscope itemtype=\"https://schema.org/Organization\"><meta itemprop=\"name\" content=\"Department of Civil &amp; Mineral Engineering\"></div><div itemscope itemprop=\"author\" itemtype=\"https://schema.org/Person\"><meta itemprop=\"url\" content=\"https://civmin.utoronto.ca/author/phill-snelutoronto-ca/\" /><meta itemprop=\"name\" content=\"Phill Snel\" /></div><div itemscope itemprop=\"image\" itemtype=\"https://schema.org/ImageObject\"><meta itemprop=\"url\" content=\"https://civmin.utoronto.ca/wp-content/uploads/2023/04/Sarah-Heffernan-enhanced-400x400-1.jpg\" /><meta itemprop=\"width\" content=\"488\" /><meta itemprop=\"height\" content=\"488\" /></div><div itemprop=\"interactionStatistic\" itemscope itemtype=\"https://schema.org/InteractionCounter\"><meta itemprop=\"interactionType\" content=\"https://schema.org/CommentAction\" /><meta itemprop=\"userInteractionCount\" content=\"0\" /></div>\\n\\t\\n\\t\\t\\n\\t\\t\\n\\t\\t\\n\\t\\t\\n\\t\\t<div class=\"pp-content-grid-inner pp-content-body clearfix\">\\n\\t\\t\\t\\n\\t\\t\\t\\n\\t\\t\\t<div class=\"pp-content-post-data\">\\n\\t\\t\\t\\t\\t\\t\\t\\t\\t<h6 class=\"pp-content-grid-title pp-post-title\" itemprop=\"headline\">\\n\\t\\t\\t\\t\\t\\t\\t\\t\\t\\t\\t\\t\\t<a href=\"https://civmin.utoronto.ca/sarah-heffernan-lme-alum-and-current-member-of-the-lme-advisory-board-recognized-as-a-woman-of-inspiration-by-women-in-mining-canada/\" title=\"Sarah Heffernan, LME alum and current member of the LME advisory Board recognized as a woman of inspiration by Women in Mining Canada\">\\n\\t\\t\\t\\t\\t\\t\\t\\t\\t\\t\\t\\t\\t\\tSarah Heffernan, LME alum and current member of the LME advisory Board recognized as a woman of inspiration by Women in Mining Canada\\t\\t\\t\\t\\t\\t\\t\\t\\t\\t\\t\\t\\t</a>\\n\\t\\t\\t\\t\\t\\t\\t\\t\\t\\t\\t</h6>\\n\\t\\t\\t\\t\\t\\t\\t\\t\\t\\n\\t\\t\\t\\t\\n\\t\\t\\t\\t\\n\\t\\t\\t\\t\\n\\t\\t\\t\\t\\n\\t\\t\\t\\t\\n\\t\\t\\t\\t\\n\\t\\t\\t\\t\\n\\t\\t\\t\\t\\n\\t\\t\\t</div>\\n\\t\\t\\t\\n\\t\\t\\t\\t\\t</div>\\n\\n\\t\\t\\t</div>\\n\\n<div class=\"pp-content-post pp-content-grid-post pp-post-2n pp-grid-default post-35477 post type-post status-publish format-standard has-post-thumbnail hentry category-awards category-news tag-kamran-esmaeili tag-negin-houshmand tag-sebastian-goodfellow tag-university-of-toronto-engineering-research-conference tag-uterc\" itemscope itemtype=\"https://schema.org/BlogPosting\" data-id=\"35477\">\\n\\n\\t<meta itemscope itemprop=\"mainEntityOfPage\" itemtype=\"https://schema.org/WebPage\" itemid=\"https://civmin.utoronto.ca/civmin-phd-candidate-negin-houshmand-wins-first-place-at-uterc-2023/\" content=\"CivMin PhD candidate, Negin Houshmand, wins a first place at UTERC 2023\" /><meta itemprop=\"datePublished\" content=\"2023-08-03\" /><meta itemprop=\"dateModified\" content=\"2023-08-03\" /><div itemprop=\"publisher\" itemscope itemtype=\"https://schema.org/Organization\"><meta itemprop=\"name\" content=\"Department of Civil &amp; Mineral Engineering\"></div><div itemscope itemprop=\"author\" itemtype=\"https://schema.org/Person\"><meta itemprop=\"url\" content=\"https://civmin.utoronto.ca/author/phill-snelutoronto-ca/\" /><meta itemprop=\"name\" content=\"Phill Snel\" /></div><div itemscope itemprop=\"image\" itemtype=\"https://schema.org/ImageObject\"><meta itemprop=\"url\" content=\"https://civmin.utoronto.ca/wp-content/uploads/2023/08/Negin-Houshmand.jpg\" /><meta itemprop=\"width\" content=\"512\" /><meta itemprop=\"height\" content=\"512\" /></div><div itemprop=\"interactionStatistic\" itemscope itemtype=\"https://schema.org/InteractionCounter\"><meta itemprop=\"interactionType\" content=\"https://schema.org/CommentAction\" /><meta itemprop=\"userInteractionCount\" content=\"0\" /></div>\\n\\t\\n\\t\\t\\n\\t\\t\\n\\t\\t\\n\\t\\t\\n\\t\\t<div class=\"pp-content-grid-inner pp-content-body clearfix\">\\n\\t\\t\\t\\n\\t\\t\\t\\n\\t\\t\\t<div class=\"pp-content-post-data\">\\n\\t\\t\\t\\t\\t\\t\\t\\t\\t<h6 class=\"pp-content-grid-title pp-post-title\" itemprop=\"headline\">\\n\\t\\t\\t\\t\\t\\t\\t\\t\\t\\t\\t\\t\\t<a href=\"https://civmin.utoronto.ca/civmin-phd-candidate-negin-houshmand-wins-first-place-at-uterc-2023/\" title=\"CivMin PhD candidate, Negin Houshmand, wins a first place at UTERC 2023\">\\n\\t\\t\\t\\t\\t\\t\\t\\t\\t\\t\\t\\t\\t\\tCivMin PhD candidate, Negin Houshmand, wins a first place at UTERC 2023\\t\\t\\t\\t\\t\\t\\t\\t\\t\\t\\t\\t\\t</a>\\n\\t\\t\\t\\t\\t\\t\\t\\t\\t\\t\\t</h6>\\n\\t\\t\\t\\t\\t\\t\\t\\t\\t\\n\\t\\t\\t\\t\\n\\t\\t\\t\\t\\n\\t\\t\\t\\t\\n\\t\\t\\t\\t\\n\\t\\t\\t\\t\\n\\t\\t\\t\\t\\n\\t\\t\\t\\t\\n\\t\\t\\t\\t\\n\\t\\t\\t</div>\\n\\t\\t\\t\\n\\t\\t\\t\\t\\t</div>\\n\\n\\t\\t\\t</div>\\n\\n<div class=\"pp-content-post pp-content-grid-post pp-grid-default post-35348 post type-post status-publish format-standard has-post-thumbnail hentry category-awards category-news tag-alia-galal tag-matt-roorda\" itemscope itemtype=\"https://schema.org/BlogPosting\" data-id=\"35348\">\\n\\n\\t<meta itemscope itemprop=\"mainEntityOfPage\" itemtype=\"https://schema.org/WebPage\" itemid=\"https://civmin.utoronto.ca/civmin-phd-candidate-alia-galal-wins-excellence-award-in-canada-safest-employers-awards/\" content=\"CivMin PhD candidate Alia Galal wins Excellence Award in Canada Safest Employers Awards\" /><meta itemprop=\"datePublished\" content=\"2023-07-28\" /><meta itemprop=\"dateModified\" content=\"2023-07-28\" /><div itemprop=\"publisher\" itemscope itemtype=\"https://schema.org/Organization\"><meta itemprop=\"name\" content=\"Department of Civil &amp; Mineral Engineering\"></div><div itemscope itemprop=\"author\" itemtype=\"https://schema.org/Person\"><meta itemprop=\"url\" content=\"https://civmin.utoronto.ca/author/phill-snelutoronto-ca/\" /><meta itemprop=\"name\" content=\"Phill Snel\" /></div><div itemscope itemprop=\"image\" itemtype=\"https://schema.org/ImageObject\"><meta itemprop=\"url\" content=\"https://civmin.utoronto.ca/wp-content/uploads/2023/07/Photo-Alia-Galal-scaled.jpg\" /><meta itemprop=\"width\" content=\"2309\" /><meta itemprop=\"height\" content=\"2560\" /></div><div itemprop=\"interactionStatistic\" itemscope itemtype=\"https://schema.org/InteractionCounter\"><meta itemprop=\"interactionType\" content=\"https://schema.org/CommentAction\" /><meta itemprop=\"userInteractionCount\" content=\"0\" /></div>\\n\\t\\n\\t\\t\\n\\t\\t\\n\\t\\t\\n\\t\\t\\n\\t\\t<div class=\"pp-content-grid-inner pp-content-body clearfix\">\\n\\t\\t\\t\\n\\t\\t\\t\\n\\t\\t\\t<div class=\"pp-content-post-data\">\\n\\t\\t\\t\\t\\t\\t\\t\\t\\t<h6 class=\"pp-content-grid-title pp-post-title\" itemprop=\"headline\">\\n\\t\\t\\t\\t\\t\\t\\t\\t\\t\\t\\t\\t\\t<a href=\"https://civmin.utoronto.ca/civmin-phd-candidate-alia-galal-wins-excellence-award-in-canada-safest-employers-awards/\" title=\"CivMin PhD candidate Alia Galal wins Excellence Award in Canada Safest Employers Awards\">\\n\\t\\t\\t\\t\\t\\t\\t\\t\\t\\t\\t\\t\\t\\tCivMin PhD candidate Alia Galal wins Excellence Award in Canada Safest Employers Awards\\t\\t\\t\\t\\t\\t\\t\\t\\t\\t\\t\\t\\t</a>\\n\\t\\t\\t\\t\\t\\t\\t\\t\\t\\t\\t</h6>\\n\\t\\t\\t\\t\\t\\t\\t\\t\\t\\n\\t\\t\\t\\t\\n\\t\\t\\t\\t\\n\\t\\t\\t\\t\\n\\t\\t\\t\\t\\n\\t\\t\\t\\t\\n\\t\\t\\t\\t\\n\\t\\t\\t\\t\\n\\t\\t\\t\\t\\n\\t\\t\\t</div>\\n\\t\\t\\t\\n\\t\\t\\t\\t\\t</div>\\n\\n\\t\\t\\t</div>\\n\\n<div class=\"pp-content-post pp-content-grid-post pp-post-2n pp-grid-default post-35104 post type-post status-publish format-standard hentry category-awards tag-femina-collective tag-katia-ossetchkina tag-negin-houshmand tag-scholarship\" itemscope itemtype=\"https://schema.org/BlogPosting\" data-id=\"35104\">\\n\\n\\t<meta itemscope itemprop=\"mainEntityOfPage\" itemtype=\"https://schema.org/WebPage\" itemid=\"https://civmin.utoronto.ca/femina-collective-scholarship-winners-negin-houshmand-and-katia-ossetchkina/\" content=\"Femina Collective Scholarship winners: Negin Houshmand and Katia Ossetchkina\" /><meta itemprop=\"datePublished\" content=\"2023-07-17\" /><meta itemprop=\"dateModified\" content=\"2023-08-03\" /><div itemprop=\"publisher\" itemscope itemtype=\"https://schema.org/Organization\"><meta itemprop=\"name\" content=\"Department of Civil &amp; Mineral Engineering\"></div><div itemscope itemprop=\"author\" itemtype=\"https://schema.org/Person\"><meta itemprop=\"url\" content=\"https://civmin.utoronto.ca/author/phill-snelutoronto-ca/\" /><meta itemprop=\"name\" content=\"Phill Snel\" /></div><div itemprop=\"interactionStatistic\" itemscope itemtype=\"https://schema.org/InteractionCounter\"><meta itemprop=\"interactionType\" content=\"https://schema.org/CommentAction\" /><meta itemprop=\"userInteractionCount\" content=\"0\" /></div>\\n\\t\\n\\t\\t\\n\\t\\t\\n\\t\\t\\n\\t\\t\\n\\t\\t<div class=\"pp-content-grid-inner pp-content-body clearfix\">\\n\\t\\t\\t\\n\\t\\t\\t\\n\\t\\t\\t<div class=\"pp-content-post-data\">\\n\\t\\t\\t\\t\\t\\t\\t\\t\\t<h6 class=\"pp-content-grid-title pp-post-title\" itemprop=\"headline\">\\n\\t\\t\\t\\t\\t\\t\\t\\t\\t\\t\\t\\t\\t<a href=\"https://civmin.utoronto.ca/femina-collective-scholarship-winners-negin-houshmand-and-katia-ossetchkina/\" title=\"Femina Collective Scholarship winners: Negin Houshmand and Katia Ossetchkina\">\\n\\t\\t\\t\\t\\t\\t\\t\\t\\t\\t\\t\\t\\t\\tFemina Collective Scholarship winners: Negin Houshmand and Katia Ossetchkina\\t\\t\\t\\t\\t\\t\\t\\t\\t\\t\\t\\t\\t</a>\\n\\t\\t\\t\\t\\t\\t\\t\\t\\t\\t\\t</h6>\\n\\t\\t\\t\\t\\t\\t\\t\\t\\t\\n\\t\\t\\t\\t\\n\\t\\t\\t\\t\\n\\t\\t\\t\\t\\n\\t\\t\\t\\t\\n\\t\\t\\t\\t\\n\\t\\t\\t\\t\\n\\t\\t\\t\\t\\n\\t\\t\\t\\t\\n\\t\\t\\t</div>\\n\\t\\t\\t\\n\\t\\t\\t\\t\\t</div>\\n\\n\\t\\t\\t</div>\\n\\n<div class=\"pp-content-post pp-content-grid-post pp-grid-default post-34617 post type-post status-publish format-standard hentry category-awards tag-daniel-posen tag-mason-ghafghazi\" itemscope itemtype=\"https://schema.org/BlogPosting\" data-id=\"34617\">\\n\\n\\t<meta itemscope itemprop=\"mainEntityOfPage\" itemtype=\"https://schema.org/WebPage\" itemid=\"https://civmin.utoronto.ca/civmin-faculty-members-receive-promotions/\" content=\"CivMin faculty members receive\\xa0promotions\\xa0\" /><meta itemprop=\"datePublished\" content=\"2023-06-29\" /><meta itemprop=\"dateModified\" content=\"2023-06-29\" /><div itemprop=\"publisher\" itemscope itemtype=\"https://schema.org/Organization\"><meta itemprop=\"name\" content=\"Department of Civil &amp; Mineral Engineering\"></div><div itemscope itemprop=\"author\" itemtype=\"https://schema.org/Person\"><meta itemprop=\"url\" content=\"https://civmin.utoronto.ca/author/phill-snelutoronto-ca/\" /><meta itemprop=\"name\" content=\"Phill Snel\" /></div><div itemprop=\"interactionStatistic\" itemscope itemtype=\"https://schema.org/InteractionCounter\"><meta itemprop=\"interactionType\" content=\"https://schema.org/CommentAction\" /><meta itemprop=\"userInteractionCount\" content=\"0\" /></div>\\n\\t\\n\\t\\t\\n\\t\\t\\n\\t\\t\\n\\t\\t\\n\\t\\t<div class=\"pp-content-grid-inner pp-content-body clearfix\">\\n\\t\\t\\t\\n\\t\\t\\t\\n\\t\\t\\t<div class=\"pp-content-post-data\">\\n\\t\\t\\t\\t\\t\\t\\t\\t\\t<h6 class=\"pp-content-grid-title pp-post-title\" itemprop=\"headline\">\\n\\t\\t\\t\\t\\t\\t\\t\\t\\t\\t\\t\\t\\t<a href=\"https://civmin.utoronto.ca/civmin-faculty-members-receive-promotions/\" title=\"CivMin faculty members receive\\xa0promotions\\xa0\">\\n\\t\\t\\t\\t\\t\\t\\t\\t\\t\\t\\t\\t\\t\\tCivMin faculty members receive\\xa0promotions\\xa0\\t\\t\\t\\t\\t\\t\\t\\t\\t\\t\\t\\t\\t</a>\\n\\t\\t\\t\\t\\t\\t\\t\\t\\t\\t\\t</h6>\\n\\t\\t\\t\\t\\t\\t\\t\\t\\t\\n\\t\\t\\t\\t\\n\\t\\t\\t\\t\\n\\t\\t\\t\\t\\n\\t\\t\\t\\t\\n\\t\\t\\t\\t\\n\\t\\t\\t\\t\\n\\t\\t\\t\\t\\n\\t\\t\\t\\t\\n\\t\\t\\t</div>\\n\\t\\t\\t\\n\\t\\t\\t\\t\\t</div>\\n\\n\\t\\t\\t</div>\\n\\n<div class=\"pp-content-post pp-content-grid-post pp-post-2n pp-grid-default post-34453 post type-post status-publish format-standard has-post-thumbnail hentry category-awards category-news tag-nelly-pietropaolo tag-scholarship\" itemscope itemtype=\"https://schema.org/BlogPosting\" data-id=\"34453\">\\n\\n\\t<meta itemscope itemprop=\"mainEntityOfPage\" itemtype=\"https://schema.org/WebPage\" itemid=\"https://civmin.utoronto.ca/new-scholarship-created-in-honour-of-civmins-own-nelly-pietropaolo/\" content=\"New scholarship created in honour of CivMin&#8217;s own Nelly Pietropaolo\" /><meta itemprop=\"datePublished\" content=\"2023-06-23\" /><meta itemprop=\"dateModified\" content=\"2023-06-26\" /><div itemprop=\"publisher\" itemscope itemtype=\"https://schema.org/Organization\"><meta itemprop=\"name\" content=\"Department of Civil &amp; Mineral Engineering\"></div><div itemscope itemprop=\"author\" itemtype=\"https://schema.org/Person\"><meta itemprop=\"url\" content=\"https://civmin.utoronto.ca/author/phill-snelutoronto-ca/\" /><meta itemprop=\"name\" content=\"Phill Snel\" /></div><div itemscope itemprop=\"image\" itemtype=\"https://schema.org/ImageObject\"><meta itemprop=\"url\" content=\"https://civmin.utoronto.ca/wp-content/uploads/2023/06/Nelly-headshot_on-grey-SQ_DSC5863-1.jpg\" /><meta itemprop=\"width\" content=\"1410\" /><meta itemprop=\"height\" content=\"1410\" /></div><div itemprop=\"interactionStatistic\" itemscope itemtype=\"https://schema.org/InteractionCounter\"><meta itemprop=\"interactionType\" content=\"https://schema.org/CommentAction\" /><meta itemprop=\"userInteractionCount\" content=\"0\" /></div>\\n\\t\\n\\t\\t\\n\\t\\t\\n\\t\\t\\n\\t\\t\\n\\t\\t<div class=\"pp-content-grid-inner pp-content-body clearfix\">\\n\\t\\t\\t\\n\\t\\t\\t\\n\\t\\t\\t<div class=\"pp-content-post-data\">\\n\\t\\t\\t\\t\\t\\t\\t\\t\\t<h6 class=\"pp-content-grid-title pp-post-title\" itemprop=\"headline\">\\n\\t\\t\\t\\t\\t\\t\\t\\t\\t\\t\\t\\t\\t<a href=\"https://civmin.utoronto.ca/new-scholarship-created-in-honour-of-civmins-own-nelly-pietropaolo/\" title=\"New scholarship created in honour of CivMin&#8217;s own Nelly Pietropaolo\">\\n\\t\\t\\t\\t\\t\\t\\t\\t\\t\\t\\t\\t\\t\\tNew scholarship created in honour of CivMin&#8217;s own Nelly Pietropaolo\\t\\t\\t\\t\\t\\t\\t\\t\\t\\t\\t\\t\\t</a>\\n\\t\\t\\t\\t\\t\\t\\t\\t\\t\\t\\t</h6>\\n\\t\\t\\t\\t\\t\\t\\t\\t\\t\\n\\t\\t\\t\\t\\n\\t\\t\\t\\t\\n\\t\\t\\t\\t\\n\\t\\t\\t\\t\\n\\t\\t\\t\\t\\n\\t\\t\\t\\t\\n\\t\\t\\t\\t\\n\\t\\t\\t\\t\\n\\t\\t\\t</div>\\n\\t\\t\\t\\n\\t\\t\\t\\t\\t</div>\\n\\n\\t\\t\\t</div>\\n\\n<div class=\"pp-content-post pp-content-grid-post pp-grid-default post-34361 post type-post status-publish format-standard hentry category-awards\" itemscope itemtype=\"https://schema.org/BlogPosting\" data-id=\"34361\">\\n\\n\\t<meta itemscope itemprop=\"mainEntityOfPage\" itemtype=\"https://schema.org/WebPage\" itemid=\"https://civmin.utoronto.ca/civmin-undergraduate-students-receive-awards-for-summer-research/\" content=\"CivMin undergraduate students receive awards for summer research\" /><meta itemprop=\"datePublished\" content=\"2023-06-19\" /><meta itemprop=\"dateModified\" content=\"2023-06-19\" /><div itemprop=\"publisher\" itemscope itemtype=\"https://schema.org/Organization\"><meta itemprop=\"name\" content=\"Department of Civil &amp; Mineral Engineering\"></div><div itemscope itemprop=\"author\" itemtype=\"https://schema.org/Person\"><meta itemprop=\"url\" content=\"https://civmin.utoronto.ca/author/rachael-gallant/\" /><meta itemprop=\"name\" content=\"Rachael Gallant\" /></div><div itemprop=\"interactionStatistic\" itemscope itemtype=\"https://schema.org/InteractionCounter\"><meta itemprop=\"interactionType\" content=\"https://schema.org/CommentAction\" /><meta itemprop=\"userInteractionCount\" content=\"0\" /></div>\\n\\t\\n\\t\\t\\n\\t\\t\\n\\t\\t\\n\\t\\t\\n\\t\\t<div class=\"pp-content-grid-inner pp-content-body clearfix\">\\n\\t\\t\\t\\n\\t\\t\\t\\n\\t\\t\\t<div class=\"pp-content-post-data\">\\n\\t\\t\\t\\t\\t\\t\\t\\t\\t<h6 class=\"pp-content-grid-title pp-post-title\" itemprop=\"headline\">\\n\\t\\t\\t\\t\\t\\t\\t\\t\\t\\t\\t\\t\\t<a href=\"https://civmin.utoronto.ca/civmin-undergraduate-students-receive-awards-for-summer-research/\" title=\"CivMin undergraduate students receive awards for summer research\">\\n\\t\\t\\t\\t\\t\\t\\t\\t\\t\\t\\t\\t\\t\\tCivMin undergraduate students receive awards for summer research\\t\\t\\t\\t\\t\\t\\t\\t\\t\\t\\t\\t\\t</a>\\n\\t\\t\\t\\t\\t\\t\\t\\t\\t\\t\\t</h6>\\n\\t\\t\\t\\t\\t\\t\\t\\t\\t\\n\\t\\t\\t\\t\\n\\t\\t\\t\\t\\n\\t\\t\\t\\t\\n\\t\\t\\t\\t\\n\\t\\t\\t\\t\\n\\t\\t\\t\\t\\n\\t\\t\\t\\t\\n\\t\\t\\t\\t\\n\\t\\t\\t</div>\\n\\t\\t\\t\\n\\t\\t\\t\\t\\t</div>\\n\\n\\t\\t\\t</div>\\n\\n<div class=\"pp-content-post pp-content-grid-post pp-post-2n pp-grid-default post-34257 post type-post status-publish format-standard has-post-thumbnail hentry category-awards tag-mwendwa-kiko\" itemscope itemtype=\"https://schema.org/BlogPosting\" data-id=\"34257\">\\n\\n\\t<meta itemscope itemprop=\"mainEntityOfPage\" itemtype=\"https://schema.org/WebPage\" itemid=\"https://civmin.utoronto.ca/mwendwa-kiko-wins-roschlau-graduate-fellowship-in-sustainable-urban-mobility/\" content=\"Mwendwa Kiko wins Roschlau Graduate Fellowship in Sustainable Urban Mobility\" /><meta itemprop=\"datePublished\" content=\"2023-06-13\" /><meta itemprop=\"dateModified\" content=\"2023-06-13\" /><div itemprop=\"publisher\" itemscope itemtype=\"https://schema.org/Organization\"><meta itemprop=\"name\" content=\"Department of Civil &amp; Mineral Engineering\"></div><div itemscope itemprop=\"author\" itemtype=\"https://schema.org/Person\"><meta itemprop=\"url\" content=\"https://civmin.utoronto.ca/author/phill-snelutoronto-ca/\" /><meta itemprop=\"name\" content=\"Phill Snel\" /></div><div itemscope itemprop=\"image\" itemtype=\"https://schema.org/ImageObject\"><meta itemprop=\"url\" content=\"https://civmin.utoronto.ca/wp-content/uploads/2023/06/Mwendwa-Kiko.png\" /><meta itemprop=\"width\" content=\"664\" /><meta itemprop=\"height\" content=\"812\" /></div><div itemprop=\"interactionStatistic\" itemscope itemtype=\"https://schema.org/InteractionCounter\"><meta itemprop=\"interactionType\" content=\"https://schema.org/CommentAction\" /><meta itemprop=\"userInteractionCount\" content=\"0\" /></div>\\n\\t\\n\\t\\t\\n\\t\\t\\n\\t\\t\\n\\t\\t\\n\\t\\t<div class=\"pp-content-grid-inner pp-content-body clearfix\">\\n\\t\\t\\t\\n\\t\\t\\t\\n\\t\\t\\t<div class=\"pp-content-post-data\">\\n\\t\\t\\t\\t\\t\\t\\t\\t\\t<h6 class=\"pp-content-grid-title pp-post-title\" itemprop=\"headline\">\\n\\t\\t\\t\\t\\t\\t\\t\\t\\t\\t\\t\\t\\t<a href=\"https://civmin.utoronto.ca/mwendwa-kiko-wins-roschlau-graduate-fellowship-in-sustainable-urban-mobility/\" title=\"Mwendwa Kiko wins Roschlau Graduate Fellowship in Sustainable Urban Mobility\">\\n\\t\\t\\t\\t\\t\\t\\t\\t\\t\\t\\t\\t\\t\\tMwendwa Kiko wins Roschlau Graduate Fellowship in Sustainable Urban Mobility\\t\\t\\t\\t\\t\\t\\t\\t\\t\\t\\t\\t\\t</a>\\n\\t\\t\\t\\t\\t\\t\\t\\t\\t\\t\\t</h6>\\n\\t\\t\\t\\t\\t\\t\\t\\t\\t\\n\\t\\t\\t\\t\\n\\t\\t\\t\\t\\n\\t\\t\\t\\t\\n\\t\\t\\t\\t\\n\\t\\t\\t\\t\\n\\t\\t\\t\\t\\n\\t\\t\\t\\t\\n\\t\\t\\t\\t\\n\\t\\t\\t</div>\\n\\t\\t\\t\\n\\t\\t\\t\\t\\t</div>\\n\\n\\t\\t\\t</div>\\n\\n<div class=\"pp-content-post pp-content-grid-post pp-grid-default post-34254 post type-post status-publish format-standard has-post-thumbnail hentry category-awards tag-aly-abdelaziz\" itemscope itemtype=\"https://schema.org/BlogPosting\" data-id=\"34254\">\\n\\n\\t<meta itemscope itemprop=\"mainEntityOfPage\" itemtype=\"https://schema.org/WebPage\" itemid=\"https://civmin.utoronto.ca/aly-abdelaziz-wins-murty-devata-graduate-student-scholarship/\" content=\"Aly Abdelaziz wins Murty Devata Graduate Student Scholarship\" /><meta itemprop=\"datePublished\" content=\"2023-06-13\" /><meta itemprop=\"dateModified\" content=\"2023-06-13\" /><div itemprop=\"publisher\" itemscope itemtype=\"https://schema.org/Organization\"><meta itemprop=\"name\" content=\"Department of Civil &amp; Mineral Engineering\"></div><div itemscope itemprop=\"author\" itemtype=\"https://schema.org/Person\"><meta itemprop=\"url\" content=\"https://civmin.utoronto.ca/author/phill-snelutoronto-ca/\" /><meta itemprop=\"name\" content=\"Phill Snel\" /></div><div itemscope itemprop=\"image\" itemtype=\"https://schema.org/ImageObject\"><meta itemprop=\"url\" content=\"https://civmin.utoronto.ca/wp-content/uploads/2023/06/ALY.jpeg\" /><meta itemprop=\"width\" content=\"830\" /><meta itemprop=\"height\" content=\"914\" /></div><div itemprop=\"interactionStatistic\" itemscope itemtype=\"https://schema.org/InteractionCounter\"><meta itemprop=\"interactionType\" content=\"https://schema.org/CommentAction\" /><meta itemprop=\"userInteractionCount\" content=\"0\" /></div>\\n\\t\\n\\t\\t\\n\\t\\t\\n\\t\\t\\n\\t\\t\\n\\t\\t<div class=\"pp-content-grid-inner pp-content-body clearfix\">\\n\\t\\t\\t\\n\\t\\t\\t\\n\\t\\t\\t<div class=\"pp-content-post-data\">\\n\\t\\t\\t\\t\\t\\t\\t\\t\\t<h6 class=\"pp-content-grid-title pp-post-title\" itemprop=\"headline\">\\n\\t\\t\\t\\t\\t\\t\\t\\t\\t\\t\\t\\t\\t<a href=\"https://civmin.utoronto.ca/aly-abdelaziz-wins-murty-devata-graduate-student-scholarship/\" title=\"Aly Abdelaziz wins Murty Devata Graduate Student Scholarship\">\\n\\t\\t\\t\\t\\t\\t\\t\\t\\t\\t\\t\\t\\t\\tAly Abdelaziz wins Murty Devata Graduate Student Scholarship\\t\\t\\t\\t\\t\\t\\t\\t\\t\\t\\t\\t\\t</a>\\n\\t\\t\\t\\t\\t\\t\\t\\t\\t\\t\\t</h6>\\n\\t\\t\\t\\t\\t\\t\\t\\t\\t\\n\\t\\t\\t\\t\\n\\t\\t\\t\\t\\n\\t\\t\\t\\t\\n\\t\\t\\t\\t\\n\\t\\t\\t\\t\\n\\t\\t\\t\\t\\n\\t\\t\\t\\t\\n\\t\\t\\t\\t\\n\\t\\t\\t</div>\\n\\t\\t\\t\\n\\t\\t\\t\\t\\t</div>\\n\\n\\t\\t\\t</div>\\n\\n<div class=\"pp-content-post pp-content-grid-post pp-post-2n pp-grid-default post-34195 post type-post status-publish format-standard has-post-thumbnail hentry category-awards tag-doug-hooton tag-douglas-hooton tag-hooton\" itemscope itemtype=\"https://schema.org/BlogPosting\" data-id=\"34195\">\\n\\n\\t<meta itemscope itemprop=\"mainEntityOfPage\" itemtype=\"https://schema.org/WebPage\" itemid=\"https://civmin.utoronto.ca/professor-r-douglas-hooton-awarded-the-2023-howard-medal-by-the-institute-of-civil-engineers-ice-uk/\" content=\"Professor R. Douglas Hooton awarded the 2023 Howard Medal by the Institute of Civil Engineers (ICE) (UK)\" /><meta itemprop=\"datePublished\" content=\"2023-06-06\" /><meta itemprop=\"dateModified\" content=\"2023-06-06\" /><div itemprop=\"publisher\" itemscope itemtype=\"https://schema.org/Organization\"><meta itemprop=\"name\" content=\"Department of Civil &amp; Mineral Engineering\"></div><div itemscope itemprop=\"author\" itemtype=\"https://schema.org/Person\"><meta itemprop=\"url\" content=\"https://civmin.utoronto.ca/author/rachael-gallant/\" /><meta itemprop=\"name\" content=\"Rachael Gallant\" /></div><div itemscope itemprop=\"image\" itemtype=\"https://schema.org/ImageObject\"><meta itemprop=\"url\" content=\"https://civmin.utoronto.ca/wp-content/uploads/2023/06/Doug-1-1.jpg\" /><meta itemprop=\"width\" content=\"809\" /><meta itemprop=\"height\" content=\"1157\" /></div><div itemprop=\"interactionStatistic\" itemscope itemtype=\"https://schema.org/InteractionCounter\"><meta itemprop=\"interactionType\" content=\"https://schema.org/CommentAction\" /><meta itemprop=\"userInteractionCount\" content=\"0\" /></div>\\n\\t\\n\\t\\t\\n\\t\\t\\n\\t\\t\\n\\t\\t\\n\\t\\t<div class=\"pp-content-grid-inner pp-content-body clearfix\">\\n\\t\\t\\t\\n\\t\\t\\t\\n\\t\\t\\t<div class=\"pp-content-post-data\">\\n\\t\\t\\t\\t\\t\\t\\t\\t\\t<h6 class=\"pp-content-grid-title pp-post-title\" itemprop=\"headline\">\\n\\t\\t\\t\\t\\t\\t\\t\\t\\t\\t\\t\\t\\t<a href=\"https://civmin.utoronto.ca/professor-r-douglas-hooton-awarded-the-2023-howard-medal-by-the-institute-of-civil-engineers-ice-uk/\" title=\"Professor R. Douglas Hooton awarded the 2023 Howard Medal by the Institute of Civil Engineers (ICE) (UK)\">\\n\\t\\t\\t\\t\\t\\t\\t\\t\\t\\t\\t\\t\\t\\tProfessor R. Douglas Hooton awarded the 2023 Howard Medal by the Institute of Civil Engineers (ICE) (UK)\\t\\t\\t\\t\\t\\t\\t\\t\\t\\t\\t\\t\\t</a>\\n\\t\\t\\t\\t\\t\\t\\t\\t\\t\\t\\t</h6>\\n\\t\\t\\t\\t\\t\\t\\t\\t\\t\\n\\t\\t\\t\\t\\n\\t\\t\\t\\t\\n\\t\\t\\t\\t\\n\\t\\t\\t\\t\\n\\t\\t\\t\\t\\n\\t\\t\\t\\t\\n\\t\\t\\t\\t\\n\\t\\t\\t\\t\\n\\t\\t\\t</div>\\n\\t\\t\\t\\n\\t\\t\\t\\t\\t</div>\\n\\n\\t\\t\\t</div>\\n\\n\\t\\t\\t\\t\\t\\t\\t\\t<div class=\"pp-grid-space\"></div>\\n\\t\\t\\t\\t\\n\\t\\t\\t\\t\\t</div>\\n\\n\\t\\t<div class=\"fl-clear\"></div>\\n\\n\\t\\t\\n\\t\\t\\t\\t\\n\\t\\t</div><!-- .pp-content-posts -->\\n\\t\\n\\t</div>\\n\\n\\t</div>\\n</div>\\n<div class=\"fl-module fl-module-heading fl-node-pxbvo862fjsr\" data-node=\"pxbvo862fjsr\">\\n\\t<div class=\"fl-module-content fl-node-content\">\\n\\t\\t<h2 class=\"fl-heading\">\\n\\t\\t<span class=\"fl-heading-text\">Get Involved With CivMin</span>\\n\\t</h2>\\n\\t</div>\\n</div>\\n</div>\\n</div>\\n\\t</div>\\n\\t\\t</div>\\n\\t</div>\\n</div>\\n<div class=\"fl-row fl-row-full-width fl-row-bg-color fl-node-l1czvms7en95 fl-row-default-height fl-row-align-center\" data-node=\"l1czvms7en95\">\\n\\t<div class=\"fl-row-content-wrap\">\\n\\t\\t\\t\\t\\t\\t<div class=\"fl-row-content fl-row-fixed-width fl-node-content\">\\n\\t\\t\\n<div class=\"fl-col-group fl-node-jlkuz1rq5sdw\" data-node=\"jlkuz1rq5sdw\">\\n\\t\\t\\t<div class=\"fl-col fl-node-muj7lxop1fak\" data-node=\"muj7lxop1fak\">\\n\\t<div class=\"fl-col-content fl-node-content\"><div class=\"fl-module fl-module-heading fl-node-342esy7t0xgz\" data-node=\"342esy7t0xgz\">\\n\\t<div class=\"fl-module-content fl-node-content\">\\n\\t\\t<h2 class=\"fl-heading\">\\n\\t\\t<span class=\"fl-heading-text\">Get involved</span>\\n\\t</h2>\\n\\t</div>\\n</div>\\n</div>\\n</div>\\n\\t</div>\\n\\n<div class=\"fl-col-group fl-node-sm92lfhq7w3p\" data-node=\"sm92lfhq7w3p\">\\n\\t\\t\\t<div class=\"fl-col fl-node-n80zkm9vhxbe fl-col-has-cols\" data-node=\"n80zkm9vhxbe\">\\n\\t<div class=\"fl-col-content fl-node-content\">\\n<div class=\"fl-col-group fl-node-s9o20en73myi fl-col-group-nested\" data-node=\"s9o20en73myi\">\\n\\t\\t\\t<div class=\"fl-col fl-node-e3ca7o5ngpm6 fl-col-small\" data-node=\"e3ca7o5ngpm6\">\\n\\t<div class=\"fl-col-content fl-node-content\"><div class=\"fl-module fl-module-icon fl-node-i2a5sbocy4vf\" data-node=\"i2a5sbocy4vf\">\\n\\t<div class=\"fl-module-content fl-node-content\">\\n\\t\\t<div class=\"fl-icon-wrap\">\\n\\t<span class=\"fl-icon\">\\n\\t\\t\\t\\t\\t\\t\\t\\t<a href=\"https://uoftengineeringconnect.ca/feed\" target=\"_blank\" tabindex=\"-1\" aria-hidden=\"true\" aria-labelledby=\"fl-icon-text-i2a5sbocy4vf\" rel=\"noopener\" >\\n\\t\\t\\t\\t\\t\\t\\t<i class=\"fab fa-connectdevelop\" aria-hidden=\"true\"></i>\\n\\t\\t\\t\\t\\t\\t</a>\\n\\t\\t\\t</span>\\n\\t\\t\\t<div id=\"fl-icon-text-i2a5sbocy4vf\" class=\"fl-icon-text\">\\n\\t\\t\\t\\t\\t\\t<a href=\"https://uoftengineeringconnect.ca/feed\" target=\"_blank\" class=\"fl-icon-text-link fl-icon-text-wrap\" rel=\"noopener\" >\\n\\t\\t\\t\\t\\t\\t<h5>U of T Engineering Connect</h5>\\t\\t\\t\\t\\t\\t</a>\\n\\t\\t\\t\\t\\t</div>\\n\\t</div>\\n\\t</div>\\n</div>\\n</div>\\n</div>\\n\\t\\t\\t<div class=\"fl-col fl-node-hua1gfb8ocvi fl-col-small\" data-node=\"hua1gfb8ocvi\">\\n\\t<div class=\"fl-col-content fl-node-content\"><div class=\"fl-module fl-module-icon fl-node-licars0mpdvo\" data-node=\"licars0mpdvo\">\\n\\t<div class=\"fl-module-content fl-node-content\">\\n\\t\\t<div class=\"fl-icon-wrap\">\\n\\t<span class=\"fl-icon\">\\n\\t\\t\\t\\t\\t\\t\\t\\t<a href=\"https://civmin.utoronto.ca/home/partner-with-us/industry-advisory-board/#:~:text=Purpose%3A,Department\\'s%20undergraduate%20and%20graduate%20students.\" target=\"_blank\" tabindex=\"-1\" aria-hidden=\"true\" aria-labelledby=\"fl-icon-text-licars0mpdvo\" rel=\"noopener\" >\\n\\t\\t\\t\\t\\t\\t\\t<i class=\"fas fa-people-carry\" aria-hidden=\"true\"></i>\\n\\t\\t\\t\\t\\t\\t</a>\\n\\t\\t\\t</span>\\n\\t\\t\\t<div id=\"fl-icon-text-licars0mpdvo\" class=\"fl-icon-text\">\\n\\t\\t\\t\\t\\t\\t<a href=\"https://civmin.utoronto.ca/home/partner-with-us/industry-advisory-board/#:~:text=Purpose%3A,Department\\'s%20undergraduate%20and%20graduate%20students.\" target=\"_blank\" class=\"fl-icon-text-link fl-icon-text-wrap\" rel=\"noopener\" >\\n\\t\\t\\t\\t\\t\\t<h5>Industry Advisory Board</h5>\\t\\t\\t\\t\\t\\t</a>\\n\\t\\t\\t\\t\\t</div>\\n\\t</div>\\n\\t</div>\\n</div>\\n</div>\\n</div>\\n\\t</div>\\n</div>\\n</div>\\n\\t</div>\\n\\t\\t</div>\\n\\t</div>\\n</div>\\n</div>\\t</section><!-- .entry-content -->\\n\\n\\t</article><!-- #post-## -->\\n\\t\\t</div><!-- .dflex -->\\n\\t</div><!-- #main -->\\n</main><!-- #content -->\\n\\n\\n\\t<footer id=\"footer\" class=\"footer\">\\n\\t\\t<div class=\"site-footer content-wrap\">\\n\\t\\t\\t<div class=\"footer-wordmark\">\\n\\t\\t\\t\\t<div class=\"wordmark-wrapper d-flex align-items-center justify-content-center\">\\n\\t\\t\\t\\t\\t<a href=\"https://civmin.utoronto.ca\">\\n\\t\\t\\t\\t\\t<img src=\"https://civmin.utoronto.ca/wp-content/themes/fase-theme-2023-master/assets/img/ll-placeholder.png\" data-src=\"https://civmin.utoronto.ca/wp-content/uploads/2023/02/CivMin_Signature_Reverse.svg\" alt=\"U of T Enginering Home\" height=\"94\" width=\"442\" class=\"lazyload\" />\\n\\t\\t\\t\\t\\t</a>\\n\\t\\t\\t\\t</div>\\n\\t\\t\\t</div>\\n\\t\\t\\t<div class=\"footer-social\">\\n\\t\\t\\t\\t<div class=\"footer-social-menu\">\\n\\t\\t\\t\\t<div class=\"menu-social-container\"><ul id=\"menu-social-1\" class=\"social-nav\"><li itemscope=\"itemscope\" itemtype=\"https://www.schema.org/SiteNavigationElement\" class=\"menu-item menu-item-type-custom menu-item-object-custom menu-item-14159 nav-item\"><a href=\"https://www.facebook.com/civminutoronto/\" class=\"nav-link\"><span class=\"soc-icon-facebook\"></span><span class=\"screen-reader-text\">Facebook</span></span></a></li>\\n<li itemscope=\"itemscope\" itemtype=\"https://www.schema.org/SiteNavigationElement\" class=\"menu-item menu-item-type-custom menu-item-object-custom menu-item-14160 nav-item\"><a href=\"https://twitter.com/civmin?lang=en\" class=\"nav-link\"><span class=\"soc-icon-twitter\"></span><span class=\"screen-reader-text\">Twitter</span></span></a></li>\\n<li itemscope=\"itemscope\" itemtype=\"https://www.schema.org/SiteNavigationElement\" class=\"menu-item menu-item-type-custom menu-item-object-custom menu-item-14161 nav-item\"><a href=\"https://www.instagram.com/civmin/\" class=\"nav-link\"><span class=\"soc-icon-instagram\"></span><span class=\"screen-reader-text\">Instagram</span></span></a></li>\\n<li itemscope=\"itemscope\" itemtype=\"https://www.schema.org/SiteNavigationElement\" class=\"menu-item menu-item-type-custom menu-item-object-custom menu-item-22663 nav-item\"><a href=\"https://www.linkedin.com/school/civmin/\" class=\"nav-link\"><span class=\"soc-icon-linkedin\"></span><span class=\"screen-reader-text\">LinkedIn</span></span></a></li>\\n<li itemscope=\"itemscope\" itemtype=\"https://www.schema.org/SiteNavigationElement\" class=\"menu-item menu-item-type-custom menu-item-object-custom menu-item-24105 nav-item\"><a href=\"https://www.youtube.com/user/civmin\" class=\"nav-link\"><span class=\"soc-icon-youtube\"></span><span class=\"screen-reader-text\">Youtube</span></span></a></li>\\n</ul></div>\\t\\t\\t\\t</div>\\n\\t\\t\\t\\t<address>\\n\\t\\t\\t\\t\\tDepartment of Civil &amp; Mineral Engineering<br />\\r\\n35 St. George St.<br />\\r\\nToronto, Ontario, Canada<br />\\r\\nM5S 1A4\\t\\t\\t\\t</address>\\n\\t\\t\\t</div>\\n\\t\\t\\t\\t\\t\\t<div class=\"footer-gravity d-flex align-items-center justify-content-center\">\\n\\t\\t\\t\\t\\t\\t\\t\\t<a href=\"https://defygravitycampaign.utoronto.ca/\" alt=\"Link to Defy Gravity Campaign\">\\n\\t\\t\\t\\t\\t\\t\\t\\t\\t<img src=\"https://civmin.utoronto.ca/wp-content/themes/fase-theme-2023-master/assets/img/ll-placeholder.png\" data-src=\"https://civmin.utoronto.ca/wp-content/themes/fase-theme-2023-master/assets/img/defy_gravity_reverse_digital.svg\" alt=\"Defy Gravity\" height=\"75\" width=\"140\" class=\"lazyload\" />\\n\\t\\t\\t\\t\\t\\t\\t\\t</a>\\n\\t\\t\\t\\t\\t\\t\\t\\t</div>\\n\\t\\t\\t\\t\\t\\t</div>\\n\\t\\t\\t\\t<div class=\"site-footer content-wrap tla d-flex flex-column align-items-center justify-content-center\">\\n\\t\\t\\t<h2>Traditional Land Acknowledgement</h2>\\n<p>We wish to acknowledge this land on which the University of Toronto operates. For thousands of years it has been the traditional land of the Huron-Wendat, the Seneca, and the Mississaugas of the Credit. Today, this meeting place is still the home to many Indigenous people from across Turtle Island and we are grateful to have the opportunity to work on this land.</p>\\n\\t\\t</div>\\n\\t\\t\\t\\t</footer><!-- .site-footer container-->\\n\\t<section class=\"small-footer\" aria-label=\"Copyright\">\\n\\t\\t<div class=\"copyright d-flex flex-column flex-sm-column flex-md-row justify-content-md-between align-items-md-center content-wrap pb-2 pt-2\">\\n\\t\\t\\t<div class=\"copy-text p-2\"><p><p>© 2023 Faculty of Applied Science and Engineering</p>\\n</p></div>\\n\\t\\t\\t<div class=\"copy-nav p-2\">\\n\\t\\t\\t\\t<div class=\"menu-footer-quick-links-container\"><ul id=\"menu-footer-quick-links\" class=\"footer-nav-3\"><li id=\"menu-item-24106\" class=\"menu-item menu-item-type-custom menu-item-object-custom menu-item-24106\"><a href=\"https://www.utoronto.ca/\">U of T Home</a></li>\\n<li id=\"menu-item-24107\" class=\"menu-item menu-item-type-custom menu-item-object-custom menu-item-24107\"><a href=\"https://www.utoronto.ca/accessibility\">Accessibility</a></li>\\n<li id=\"menu-item-24108\" class=\"menu-item menu-item-type-custom menu-item-object-custom menu-item-24108\"><a href=\"https://www.utoronto.ca/privacy\">Privacy</a></li>\\n<li id=\"menu-item-24109\" class=\"menu-item menu-item-type-custom menu-item-object-custom menu-item-24109\"><a href=\"mailto:civ.communications@utoronto.ca\">Website Feedback</a></li>\\n</ul></div>\\t\\t\\t</div>\\n\\t\\t</div>\\n\\t</section>\\n</div><!-- #page -->\\n<script type=\"text/javascript\">\\n\\t\\t/* MonsterInsights Scroll Tracking */\\n\\t\\tif ( typeof(jQuery) !== \\'undefined\\' ) {\\n\\t\\tjQuery( document ).ready(function(){\\n\\t\\tfunction monsterinsights_scroll_tracking_load() {\\n\\t\\tif ( ( typeof(__gaTracker) !== \\'undefined\\' && __gaTracker && __gaTracker.hasOwnProperty( \"loaded\" ) && __gaTracker.loaded == true ) || ( typeof(__gtagTracker) !== \\'undefined\\' && __gtagTracker ) ) {\\n\\t\\t(function(factory) {\\n\\t\\tfactory(jQuery);\\n\\t\\t}(function($) {\\n\\n\\t\\t/* Scroll Depth */\\n\\t\\t\"use strict\";\\n\\t\\tvar defaults = {\\n\\t\\tpercentage: true\\n\\t\\t};\\n\\n\\t\\tvar $window = $(window),\\n\\t\\tcache = [],\\n\\t\\tscrollEventBound = false,\\n\\t\\tlastPixelDepth = 0;\\n\\n\\t\\t/*\\n\\t\\t* Plugin\\n\\t\\t*/\\n\\n\\t\\t$.scrollDepth = function(options) {\\n\\n\\t\\tvar startTime = +new Date();\\n\\n\\t\\toptions = $.extend({}, defaults, options);\\n\\n\\t\\t/*\\n\\t\\t* Functions\\n\\t\\t*/\\n\\n\\t\\tfunction sendEvent(action, label, scrollDistance, timing) {\\n\\t\\tif ( \\'undefined\\' === typeof MonsterInsightsObject || \\'undefined\\' === typeof MonsterInsightsObject.sendEvent ) {\\n\\t\\treturn;\\n\\t\\t}\\n\\t\\t\\tvar paramName = action.toLowerCase();\\n\\tvar fieldsArray = {\\n\\tsend_to: \\'G-2E9NND0N6Y\\',\\n\\tnon_interaction: true\\n\\t};\\n\\tfieldsArray[paramName] = label;\\n\\n\\tif (arguments.length > 3) {\\n\\tfieldsArray.scroll_timing = timing\\n\\tMonsterInsightsObject.sendEvent(\\'event\\', \\'scroll_depth\\', fieldsArray);\\n\\t} else {\\n\\tMonsterInsightsObject.sendEvent(\\'event\\', \\'scroll_depth\\', fieldsArray);\\n\\t}\\n\\t\\t\\t}\\n\\n\\t\\tfunction calculateMarks(docHeight) {\\n\\t\\treturn {\\n\\t\\t\\'25%\\' : parseInt(docHeight * 0.25, 10),\\n\\t\\t\\'50%\\' : parseInt(docHeight * 0.50, 10),\\n\\t\\t\\'75%\\' : parseInt(docHeight * 0.75, 10),\\n\\t\\t/* Cushion to trigger 100% event in iOS */\\n\\t\\t\\'100%\\': docHeight - 5\\n\\t\\t};\\n\\t\\t}\\n\\n\\t\\tfunction checkMarks(marks, scrollDistance, timing) {\\n\\t\\t/* Check each active mark */\\n\\t\\t$.each(marks, function(key, val) {\\n\\t\\tif ( $.inArray(key, cache) === -1 && scrollDistance >= val ) {\\n\\t\\tsendEvent(\\'Percentage\\', key, scrollDistance, timing);\\n\\t\\tcache.push(key);\\n\\t\\t}\\n\\t\\t});\\n\\t\\t}\\n\\n\\t\\tfunction rounded(scrollDistance) {\\n\\t\\t/* Returns String */\\n\\t\\treturn (Math.floor(scrollDistance/250) * 250).toString();\\n\\t\\t}\\n\\n\\t\\tfunction init() {\\n\\t\\tbindScrollDepth();\\n\\t\\t}\\n\\n\\t\\t/*\\n\\t\\t* Public Methods\\n\\t\\t*/\\n\\n\\t\\t/* Reset Scroll Depth with the originally initialized options */\\n\\t\\t$.scrollDepth.reset = function() {\\n\\t\\tcache = [];\\n\\t\\tlastPixelDepth = 0;\\n\\t\\t$window.off(\\'scroll.scrollDepth\\');\\n\\t\\tbindScrollDepth();\\n\\t\\t};\\n\\n\\t\\t/* Add DOM elements to be tracked */\\n\\t\\t$.scrollDepth.addElements = function(elems) {\\n\\n\\t\\tif (typeof elems == \"undefined\" || !$.isArray(elems)) {\\n\\t\\treturn;\\n\\t\\t}\\n\\n\\t\\t$.merge(options.elements, elems);\\n\\n\\t\\t/* If scroll event has been unbound from window, rebind */\\n\\t\\tif (!scrollEventBound) {\\n\\t\\tbindScrollDepth();\\n\\t\\t}\\n\\n\\t\\t};\\n\\n\\t\\t/* Remove DOM elements currently tracked */\\n\\t\\t$.scrollDepth.removeElements = function(elems) {\\n\\n\\t\\tif (typeof elems == \"undefined\" || !$.isArray(elems)) {\\n\\t\\treturn;\\n\\t\\t}\\n\\n\\t\\t$.each(elems, function(index, elem) {\\n\\n\\t\\tvar inElementsArray = $.inArray(elem, options.elements);\\n\\t\\tvar inCacheArray = $.inArray(elem, cache);\\n\\n\\t\\tif (inElementsArray != -1) {\\n\\t\\toptions.elements.splice(inElementsArray, 1);\\n\\t\\t}\\n\\n\\t\\tif (inCacheArray != -1) {\\n\\t\\tcache.splice(inCacheArray, 1);\\n\\t\\t}\\n\\n\\t\\t});\\n\\n\\t\\t};\\n\\n\\t\\t/*\\n\\t\\t* Throttle function borrowed from:\\n\\t\\t* Underscore.js 1.5.2\\n\\t\\t* http://underscorejs.org\\n\\t\\t* (c) 2009-2013 Jeremy Ashkenas, DocumentCloud and Investigative Reporters & Editors\\n\\t\\t* Underscore may be freely distributed under the MIT license.\\n\\t\\t*/\\n\\n\\t\\tfunction throttle(func, wait) {\\n\\t\\tvar context, args, result;\\n\\t\\tvar timeout = null;\\n\\t\\tvar previous = 0;\\n\\t\\tvar later = function() {\\n\\t\\tprevious = new Date;\\n\\t\\ttimeout = null;\\n\\t\\tresult = func.apply(context, args);\\n\\t\\t};\\n\\t\\treturn function() {\\n\\t\\tvar now = new Date;\\n\\t\\tif (!previous) previous = now;\\n\\t\\tvar remaining = wait - (now - previous);\\n\\t\\tcontext = this;\\n\\t\\targs = arguments;\\n\\t\\tif (remaining <= 0) {\\n\\t\\tclearTimeout(timeout);\\n\\t\\ttimeout = null;\\n\\t\\tprevious = now;\\n\\t\\tresult = func.apply(context, args);\\n\\t\\t} else if (!timeout) {\\n\\t\\ttimeout = setTimeout(later, remaining);\\n\\t\\t}\\n\\t\\treturn result;\\n\\t\\t};\\n\\t\\t}\\n\\n\\t\\t/*\\n\\t\\t* Scroll Event\\n\\t\\t*/\\n\\n\\t\\tfunction bindScrollDepth() {\\n\\n\\t\\tscrollEventBound = true;\\n\\n\\t\\t$window.on(\\'scroll.scrollDepth\\', throttle(function() {\\n\\t\\t/*\\n\\t\\t* We calculate document and window height on each scroll event to\\n\\t\\t* account for dynamic DOM changes.\\n\\t\\t*/\\n\\n\\t\\tvar docHeight = $(document).height(),\\n\\t\\twinHeight = window.innerHeight ? window.innerHeight : $window.height(),\\n\\t\\tscrollDistance = $window.scrollTop() + winHeight,\\n\\n\\t\\t/* Recalculate percentage marks */\\n\\t\\tmarks = calculateMarks(docHeight),\\n\\n\\t\\t/* Timing */\\n\\t\\ttiming = +new Date - startTime;\\n\\n\\t\\tcheckMarks(marks, scrollDistance, timing);\\n\\t\\t}, 500));\\n\\n\\t\\t}\\n\\n\\t\\tinit();\\n\\t\\t};\\n\\n\\t\\t/* UMD export */\\n\\t\\treturn $.scrollDepth;\\n\\n\\t\\t}));\\n\\n\\t\\tjQuery.scrollDepth();\\n\\t\\t} else {\\n\\t\\tsetTimeout(monsterinsights_scroll_tracking_load, 200);\\n\\t\\t}\\n\\t\\t}\\n\\t\\tmonsterinsights_scroll_tracking_load();\\n\\t\\t});\\n\\t\\t}\\n\\t\\t/* End MonsterInsights Scroll Tracking */\\n\\t\\t\\n</script><script type=\\'text/javascript\\' src=\\'https://civmin.utoronto.ca/wp-content/plugins/data-tables-generator-by-supsystic/app/assets/js/dtgsnonce.js?ver=0.01\\' id=\\'dtgs_nonce_frontend-js\\'></script>\\n<script id=\"dtgs_nonce_frontend-js-after\" type=\"text/javascript\">\\nvar DTGS_NONCE_FRONTEND = \"a5cad19b68\"\\n</script>\\n<script type=\\'text/javascript\\' src=\\'https://civmin.utoronto.ca/wp-content/plugins/bb-plugin/js/jquery.waypoints.min.js?ver=2.7.2\\' id=\\'jquery-waypoints-js\\'></script>\\n<script type=\\'text/javascript\\' src=\\'https://civmin.utoronto.ca/wp-content/plugins/bbpowerpack/assets/js/isotope.pkgd.min.js?ver=3.0.1\\' id=\\'jquery-isotope-js\\'></script>\\n<script type=\\'text/javascript\\' src=\\'https://civmin.utoronto.ca/wp-content/uploads/bb-plugin/cache/27502-layout.js?ver=8450da577582fb907081b12b16a53a9b\\' id=\\'fl-builder-layout-27502-js\\'></script>\\n<script type=\\'text/javascript\\' src=\\'https://civmin.utoronto.ca/wp-content/themes/fase-theme-2023-master/dist/js/bootstrap/util.min.js?ver=4.0.0\\' id=\\'bootstrap-util-js\\'></script>\\n<script type=\\'text/javascript\\' src=\\'https://civmin.utoronto.ca/wp-content/themes/fase-theme-2023-master/dist/js/bundled/bootstrap.js?ver=4.0.4\\' id=\\'bootstrap-theme-js\\'></script>\\n<script type=\\'text/javascript\\' defer=\\'defer\\' src=\\'https://civmin.utoronto.ca/wp-content/themes/fase-theme-2023-master/dist/js/site.min.js?ver=1.0.0\\' id=\\'main-js\\'></script>\\n<script type=\\'text/javascript\\' src=\\'https://civmin.utoronto.ca/?ai1ec_render_js=common_frontend&#038;is_backend=false&#038;ver=3.0.0\\' id=\\'ai1ec_requirejs-js\\'></script>\\n</body>\\n\\n</html>\\n'"
      ]
     },
     "execution_count": 3,
     "metadata": {},
     "output_type": "execute_result"
    }
   ],
   "source": [
    "my_response.text"
   ]
  },
  {
   "cell_type": "markdown",
   "metadata": {},
   "source": [
    "Its a bit hard to read as unformatted text so let's use BeautifulSoup (more on this later) to print the html code in a very pretty way."
   ]
  },
  {
   "cell_type": "code",
   "execution_count": 4,
   "metadata": {
    "collapsed": true
   },
   "outputs": [
    {
     "name": "stdout",
     "output_type": "stream",
     "text": [
      "<!DOCTYPE html>\n",
      "<html lang=\"en-US\">\n",
      " <head>\n",
      "  <meta charset=\"utf-8\"/>\n",
      "  <meta content=\"width=device-width, initial-scale=1\" name=\"viewport\"/>\n",
      "  <link href=\"https://gmpg.org/xfn/11\" rel=\"profile\"/>\n",
      "  <link href=\"https://civmin.utoronto.ca/xmlrpc.php\" rel=\"pingback\"/>\n",
      "  <meta content=\"\" name=\"description\"/>\n",
      "  <meta content=\"https://civmin.utoronto.ca\" property=\"og:url\">\n",
      "   <meta content=\"Department of Civil &amp; Mineral Engineering\" property=\"og:site_name\">\n",
      "    <meta content=\"\" property=\"og:image\">\n",
      "     <meta content=\"\" property=\"og:description\"/>\n",
      "     <meta content=\"Department of Civil &amp; Mineral Engineering\" property=\"og:title\"/>\n",
      "     <!-- Twitter -->\n",
      "     <meta content=\"summary_large_image\" name=\"twitter:card\"/>\n",
      "     <meta content=\"https://civmin.utoronto.ca\" name=\"twitter:domain\"/>\n",
      "     <meta content=\"Department of Civil &amp; Mineral Engineering\" name=\"twitter:title\"/>\n",
      "     <meta content=\"\" name=\"twitter:description\"/>\n",
      "     <title>\n",
      "      Department of Civil &amp; Mineral Engineering\n",
      "     </title>\n",
      "     <meta content=\"max-image-preview:large\" name=\"robots\"/>\n",
      "     <link href=\"//fonts.googleapis.com\" rel=\"dns-prefetch\">\n",
      "      <link href=\"//use.typekit.net\" rel=\"dns-prefetch\">\n",
      "       <link href=\"https://civmin.utoronto.ca/home-copy-2/feed/\" rel=\"alternate\" title=\"Department of Civil &amp; Mineral Engineering » Home 2022 Comments Feed\" type=\"application/rss+xml\"/>\n",
      "       <link as=\"font\" crossorigin=\"anonymous\" href=\"https://civmin.utoronto.ca/wp-content/plugins/bb-plugin/fonts/fontawesome/5.15.4/webfonts/fa-solid-900.woff2\" rel=\"preload\" type=\"font/woff2\"/>\n",
      "       <link as=\"font\" crossorigin=\"anonymous\" href=\"https://civmin.utoronto.ca/wp-content/plugins/bb-plugin/fonts/fontawesome/5.15.4/webfonts/fa-brands-400.woff2\" rel=\"preload\" type=\"font/woff2\"/>\n",
      "       <!-- This site uses the Google Analytics by MonsterInsights plugin v8.19.0 - Using Analytics tracking - https://www.monsterinsights.com/ -->\n",
      "       <script async=\"\" data-cfasync=\"false\" data-wpfc-render=\"false\" src=\"//www.googletagmanager.com/gtag/js?id=G-2E9NND0N6Y\" type=\"text/javascript\">\n",
      "       </script>\n",
      "       <script data-cfasync=\"false\" data-wpfc-render=\"false\" type=\"text/javascript\">\n",
      "        var mi_version = '8.19.0';\n",
      "\t\t\t\tvar mi_track_user = true;\n",
      "\t\t\t\tvar mi_no_track_reason = '';\n",
      "\t\t\t\t\n",
      "\t\t\t\t\t\t\t\tvar disableStrs = [\n",
      "\t\t\t\t\t\t\t\t\t\t'ga-disable-G-2E9NND0N6Y',\n",
      "\t\t\t\t\t\t\t\t\t];\n",
      "\n",
      "\t\t\t\t/* Function to detect opted out users */\n",
      "\t\t\t\tfunction __gtagTrackerIsOptedOut() {\n",
      "\t\t\t\t\tfor (var index = 0; index < disableStrs.length; index++) {\n",
      "\t\t\t\t\t\tif (document.cookie.indexOf(disableStrs[index] + '=true') > -1) {\n",
      "\t\t\t\t\t\t\treturn true;\n",
      "\t\t\t\t\t\t}\n",
      "\t\t\t\t\t}\n",
      "\n",
      "\t\t\t\t\treturn false;\n",
      "\t\t\t\t}\n",
      "\n",
      "\t\t\t\t/* Disable tracking if the opt-out cookie exists. */\n",
      "\t\t\t\tif (__gtagTrackerIsOptedOut()) {\n",
      "\t\t\t\t\tfor (var index = 0; index < disableStrs.length; index++) {\n",
      "\t\t\t\t\t\twindow[disableStrs[index]] = true;\n",
      "\t\t\t\t\t}\n",
      "\t\t\t\t}\n",
      "\n",
      "\t\t\t\t/* Opt-out function */\n",
      "\t\t\t\tfunction __gtagTrackerOptout() {\n",
      "\t\t\t\t\tfor (var index = 0; index < disableStrs.length; index++) {\n",
      "\t\t\t\t\t\tdocument.cookie = disableStrs[index] + '=true; expires=Thu, 31 Dec 2099 23:59:59 UTC; path=/';\n",
      "\t\t\t\t\t\twindow[disableStrs[index]] = true;\n",
      "\t\t\t\t\t}\n",
      "\t\t\t\t}\n",
      "\n",
      "\t\t\t\tif ('undefined' === typeof gaOptout) {\n",
      "\t\t\t\t\tfunction gaOptout() {\n",
      "\t\t\t\t\t\t__gtagTrackerOptout();\n",
      "\t\t\t\t\t}\n",
      "\t\t\t\t}\n",
      "\t\t\t\t\t\t\t\twindow.dataLayer = window.dataLayer || [];\n",
      "\n",
      "\t\t\t\twindow.MonsterInsightsDualTracker = {\n",
      "\t\t\t\t\thelpers: {},\n",
      "\t\t\t\t\ttrackers: {},\n",
      "\t\t\t\t};\n",
      "\t\t\t\tif (mi_track_user) {\n",
      "\t\t\t\t\tfunction __gtagDataLayer() {\n",
      "\t\t\t\t\t\tdataLayer.push(arguments);\n",
      "\t\t\t\t\t}\n",
      "\n",
      "\t\t\t\t\tfunction __gtagTracker(type, name, parameters) {\n",
      "\t\t\t\t\t\tif (!parameters) {\n",
      "\t\t\t\t\t\t\tparameters = {};\n",
      "\t\t\t\t\t\t}\n",
      "\n",
      "\t\t\t\t\t\tif (parameters.send_to) {\n",
      "\t\t\t\t\t\t\t__gtagDataLayer.apply(null, arguments);\n",
      "\t\t\t\t\t\t\treturn;\n",
      "\t\t\t\t\t\t}\n",
      "\n",
      "\t\t\t\t\t\tif (type === 'event') {\n",
      "\t\t\t\t\t\t\t\t\t\t\t\t\t\tparameters.send_to = monsterinsights_frontend.v4_id;\n",
      "\t\t\t\t\t\t\tvar hookName = name;\n",
      "\t\t\t\t\t\t\tif (typeof parameters['event_category'] !== 'undefined') {\n",
      "\t\t\t\t\t\t\t\thookName = parameters['event_category'] + ':' + name;\n",
      "\t\t\t\t\t\t\t}\n",
      "\n",
      "\t\t\t\t\t\t\tif (typeof MonsterInsightsDualTracker.trackers[hookName] !== 'undefined') {\n",
      "\t\t\t\t\t\t\t\tMonsterInsightsDualTracker.trackers[hookName](parameters);\n",
      "\t\t\t\t\t\t\t} else {\n",
      "\t\t\t\t\t\t\t\t__gtagDataLayer('event', name, parameters);\n",
      "\t\t\t\t\t\t\t}\n",
      "\t\t\t\t\t\t\t\n",
      "\t\t\t\t\t\t} else {\n",
      "\t\t\t\t\t\t\t__gtagDataLayer.apply(null, arguments);\n",
      "\t\t\t\t\t\t}\n",
      "\t\t\t\t\t}\n",
      "\n",
      "\t\t\t\t\t__gtagTracker('js', new Date());\n",
      "\t\t\t\t\t__gtagTracker('set', {\n",
      "\t\t\t\t\t\t'developer_id.dZGIzZG': true,\n",
      "\t\t\t\t\t\t\t\t\t\t\t});\n",
      "\t\t\t\t\t\t\t\t\t\t__gtagTracker('config', 'G-2E9NND0N6Y', {\"forceSSL\":\"true\"} );\n",
      "\t\t\t\t\t\t\t\t\t\t\t\t\t\t\twindow.gtag = __gtagTracker;\t\t\t\t\t\t\t\t\t\t(function () {\n",
      "\t\t\t\t\t\t/* https://developers.google.com/analytics/devguides/collection/analyticsjs/ */\n",
      "\t\t\t\t\t\t/* ga and __gaTracker compatibility shim. */\n",
      "\t\t\t\t\t\tvar noopfn = function () {\n",
      "\t\t\t\t\t\t\treturn null;\n",
      "\t\t\t\t\t\t};\n",
      "\t\t\t\t\t\tvar newtracker = function () {\n",
      "\t\t\t\t\t\t\treturn new Tracker();\n",
      "\t\t\t\t\t\t};\n",
      "\t\t\t\t\t\tvar Tracker = function () {\n",
      "\t\t\t\t\t\t\treturn null;\n",
      "\t\t\t\t\t\t};\n",
      "\t\t\t\t\t\tvar p = Tracker.prototype;\n",
      "\t\t\t\t\t\tp.get = noopfn;\n",
      "\t\t\t\t\t\tp.set = noopfn;\n",
      "\t\t\t\t\t\tp.send = function () {\n",
      "\t\t\t\t\t\t\tvar args = Array.prototype.slice.call(arguments);\n",
      "\t\t\t\t\t\t\targs.unshift('send');\n",
      "\t\t\t\t\t\t\t__gaTracker.apply(null, args);\n",
      "\t\t\t\t\t\t};\n",
      "\t\t\t\t\t\tvar __gaTracker = function () {\n",
      "\t\t\t\t\t\t\tvar len = arguments.length;\n",
      "\t\t\t\t\t\t\tif (len === 0) {\n",
      "\t\t\t\t\t\t\t\treturn;\n",
      "\t\t\t\t\t\t\t}\n",
      "\t\t\t\t\t\t\tvar f = arguments[len - 1];\n",
      "\t\t\t\t\t\t\tif (typeof f !== 'object' || f === null || typeof f.hitCallback !== 'function') {\n",
      "\t\t\t\t\t\t\t\tif ('send' === arguments[0]) {\n",
      "\t\t\t\t\t\t\t\t\tvar hitConverted, hitObject = false, action;\n",
      "\t\t\t\t\t\t\t\t\tif ('event' === arguments[1]) {\n",
      "\t\t\t\t\t\t\t\t\t\tif ('undefined' !== typeof arguments[3]) {\n",
      "\t\t\t\t\t\t\t\t\t\t\thitObject = {\n",
      "\t\t\t\t\t\t\t\t\t\t\t\t'eventAction': arguments[3],\n",
      "\t\t\t\t\t\t\t\t\t\t\t\t'eventCategory': arguments[2],\n",
      "\t\t\t\t\t\t\t\t\t\t\t\t'eventLabel': arguments[4],\n",
      "\t\t\t\t\t\t\t\t\t\t\t\t'value': arguments[5] ? arguments[5] : 1,\n",
      "\t\t\t\t\t\t\t\t\t\t\t}\n",
      "\t\t\t\t\t\t\t\t\t\t}\n",
      "\t\t\t\t\t\t\t\t\t}\n",
      "\t\t\t\t\t\t\t\t\tif ('pageview' === arguments[1]) {\n",
      "\t\t\t\t\t\t\t\t\t\tif ('undefined' !== typeof arguments[2]) {\n",
      "\t\t\t\t\t\t\t\t\t\t\thitObject = {\n",
      "\t\t\t\t\t\t\t\t\t\t\t\t'eventAction': 'page_view',\n",
      "\t\t\t\t\t\t\t\t\t\t\t\t'page_path': arguments[2],\n",
      "\t\t\t\t\t\t\t\t\t\t\t}\n",
      "\t\t\t\t\t\t\t\t\t\t}\n",
      "\t\t\t\t\t\t\t\t\t}\n",
      "\t\t\t\t\t\t\t\t\tif (typeof arguments[2] === 'object') {\n",
      "\t\t\t\t\t\t\t\t\t\thitObject = arguments[2];\n",
      "\t\t\t\t\t\t\t\t\t}\n",
      "\t\t\t\t\t\t\t\t\tif (typeof arguments[5] === 'object') {\n",
      "\t\t\t\t\t\t\t\t\t\tObject.assign(hitObject, arguments[5]);\n",
      "\t\t\t\t\t\t\t\t\t}\n",
      "\t\t\t\t\t\t\t\t\tif ('undefined' !== typeof arguments[1].hitType) {\n",
      "\t\t\t\t\t\t\t\t\t\thitObject = arguments[1];\n",
      "\t\t\t\t\t\t\t\t\t\tif ('pageview' === hitObject.hitType) {\n",
      "\t\t\t\t\t\t\t\t\t\t\thitObject.eventAction = 'page_view';\n",
      "\t\t\t\t\t\t\t\t\t\t}\n",
      "\t\t\t\t\t\t\t\t\t}\n",
      "\t\t\t\t\t\t\t\t\tif (hitObject) {\n",
      "\t\t\t\t\t\t\t\t\t\taction = 'timing' === arguments[1].hitType ? 'timing_complete' : hitObject.eventAction;\n",
      "\t\t\t\t\t\t\t\t\t\thitConverted = mapArgs(hitObject);\n",
      "\t\t\t\t\t\t\t\t\t\t__gtagTracker('event', action, hitConverted);\n",
      "\t\t\t\t\t\t\t\t\t}\n",
      "\t\t\t\t\t\t\t\t}\n",
      "\t\t\t\t\t\t\t\treturn;\n",
      "\t\t\t\t\t\t\t}\n",
      "\n",
      "\t\t\t\t\t\t\tfunction mapArgs(args) {\n",
      "\t\t\t\t\t\t\t\tvar arg, hit = {};\n",
      "\t\t\t\t\t\t\t\tvar gaMap = {\n",
      "\t\t\t\t\t\t\t\t\t'eventCategory': 'event_category',\n",
      "\t\t\t\t\t\t\t\t\t'eventAction': 'event_action',\n",
      "\t\t\t\t\t\t\t\t\t'eventLabel': 'event_label',\n",
      "\t\t\t\t\t\t\t\t\t'eventValue': 'event_value',\n",
      "\t\t\t\t\t\t\t\t\t'nonInteraction': 'non_interaction',\n",
      "\t\t\t\t\t\t\t\t\t'timingCategory': 'event_category',\n",
      "\t\t\t\t\t\t\t\t\t'timingVar': 'name',\n",
      "\t\t\t\t\t\t\t\t\t'timingValue': 'value',\n",
      "\t\t\t\t\t\t\t\t\t'timingLabel': 'event_label',\n",
      "\t\t\t\t\t\t\t\t\t'page': 'page_path',\n",
      "\t\t\t\t\t\t\t\t\t'location': 'page_location',\n",
      "\t\t\t\t\t\t\t\t\t'title': 'page_title',\n",
      "\t\t\t\t\t\t\t\t};\n",
      "\t\t\t\t\t\t\t\tfor (arg in args) {\n",
      "\t\t\t\t\t\t\t\t\t\t\t\t\t\t\t\t\t\tif (!(!args.hasOwnProperty(arg) || !gaMap.hasOwnProperty(arg))) {\n",
      "\t\t\t\t\t\t\t\t\t\thit[gaMap[arg]] = args[arg];\n",
      "\t\t\t\t\t\t\t\t\t} else {\n",
      "\t\t\t\t\t\t\t\t\t\thit[arg] = args[arg];\n",
      "\t\t\t\t\t\t\t\t\t}\n",
      "\t\t\t\t\t\t\t\t}\n",
      "\t\t\t\t\t\t\t\treturn hit;\n",
      "\t\t\t\t\t\t\t}\n",
      "\n",
      "\t\t\t\t\t\t\ttry {\n",
      "\t\t\t\t\t\t\t\tf.hitCallback();\n",
      "\t\t\t\t\t\t\t} catch (ex) {\n",
      "\t\t\t\t\t\t\t}\n",
      "\t\t\t\t\t\t};\n",
      "\t\t\t\t\t\t__gaTracker.create = newtracker;\n",
      "\t\t\t\t\t\t__gaTracker.getByName = newtracker;\n",
      "\t\t\t\t\t\t__gaTracker.getAll = function () {\n",
      "\t\t\t\t\t\t\treturn [];\n",
      "\t\t\t\t\t\t};\n",
      "\t\t\t\t\t\t__gaTracker.remove = noopfn;\n",
      "\t\t\t\t\t\t__gaTracker.loaded = true;\n",
      "\t\t\t\t\t\twindow['__gaTracker'] = __gaTracker;\n",
      "\t\t\t\t\t})();\n",
      "\t\t\t\t\t\t\t\t\t} else {\n",
      "\t\t\t\t\t\t\t\t\t\tconsole.log(\"\");\n",
      "\t\t\t\t\t(function () {\n",
      "\t\t\t\t\t\tfunction __gtagTracker() {\n",
      "\t\t\t\t\t\t\treturn null;\n",
      "\t\t\t\t\t\t}\n",
      "\n",
      "\t\t\t\t\t\twindow['__gtagTracker'] = __gtagTracker;\n",
      "\t\t\t\t\t\twindow['gtag'] = __gtagTracker;\n",
      "\t\t\t\t\t})();\n",
      "\t\t\t\t\t\t\t\t\t}\n",
      "       </script>\n",
      "       <!-- / Google Analytics by MonsterInsights -->\n",
      "       <script type=\"text/javascript\">\n",
      "        window._wpemojiSettings = {\"baseUrl\":\"https:\\/\\/s.w.org\\/images\\/core\\/emoji\\/14.0.0\\/72x72\\/\",\"ext\":\".png\",\"svgUrl\":\"https:\\/\\/s.w.org\\/images\\/core\\/emoji\\/14.0.0\\/svg\\/\",\"svgExt\":\".svg\",\"source\":{\"concatemoji\":\"https:\\/\\/civmin.utoronto.ca\\/wp-includes\\/js\\/wp-emoji-release.min.js?ver=6.3.1\"}};\n",
      "/*! This file is auto-generated */\n",
      "!function(i,n){var o,s,e;function c(e){try{var t={supportTests:e,timestamp:(new Date).valueOf()};sessionStorage.setItem(o,JSON.stringify(t))}catch(e){}}function p(e,t,n){e.clearRect(0,0,e.canvas.width,e.canvas.height),e.fillText(t,0,0);var t=new Uint32Array(e.getImageData(0,0,e.canvas.width,e.canvas.height).data),r=(e.clearRect(0,0,e.canvas.width,e.canvas.height),e.fillText(n,0,0),new Uint32Array(e.getImageData(0,0,e.canvas.width,e.canvas.height).data));return t.every(function(e,t){return e===r[t]})}function u(e,t,n){switch(t){case\"flag\":return n(e,\"\\ud83c\\udff3\\ufe0f\\u200d\\u26a7\\ufe0f\",\"\\ud83c\\udff3\\ufe0f\\u200b\\u26a7\\ufe0f\")?!1:!n(e,\"\\ud83c\\uddfa\\ud83c\\uddf3\",\"\\ud83c\\uddfa\\u200b\\ud83c\\uddf3\")&&!n(e,\"\\ud83c\\udff4\\udb40\\udc67\\udb40\\udc62\\udb40\\udc65\\udb40\\udc6e\\udb40\\udc67\\udb40\\udc7f\",\"\\ud83c\\udff4\\u200b\\udb40\\udc67\\u200b\\udb40\\udc62\\u200b\\udb40\\udc65\\u200b\\udb40\\udc6e\\u200b\\udb40\\udc67\\u200b\\udb40\\udc7f\");case\"emoji\":return!n(e,\"\\ud83e\\udef1\\ud83c\\udffb\\u200d\\ud83e\\udef2\\ud83c\\udfff\",\"\\ud83e\\udef1\\ud83c\\udffb\\u200b\\ud83e\\udef2\\ud83c\\udfff\")}return!1}function f(e,t,n){var r=\"undefined\"!=typeof WorkerGlobalScope&&self instanceof WorkerGlobalScope?new OffscreenCanvas(300,150):i.createElement(\"canvas\"),a=r.getContext(\"2d\",{willReadFrequently:!0}),o=(a.textBaseline=\"top\",a.font=\"600 32px Arial\",{});return e.forEach(function(e){o[e]=t(a,e,n)}),o}function t(e){var t=i.createElement(\"script\");t.src=e,t.defer=!0,i.head.appendChild(t)}\"undefined\"!=typeof Promise&&(o=\"wpEmojiSettingsSupports\",s=[\"flag\",\"emoji\"],n.supports={everything:!0,everythingExceptFlag:!0},e=new Promise(function(e){i.addEventListener(\"DOMContentLoaded\",e,{once:!0})}),new Promise(function(t){var n=function(){try{var e=JSON.parse(sessionStorage.getItem(o));if(\"object\"==typeof e&&\"number\"==typeof e.timestamp&&(new Date).valueOf()<e.timestamp+604800&&\"object\"==typeof e.supportTests)return e.supportTests}catch(e){}return null}();if(!n){if(\"undefined\"!=typeof Worker&&\"undefined\"!=typeof OffscreenCanvas&&\"undefined\"!=typeof URL&&URL.createObjectURL&&\"undefined\"!=typeof Blob)try{var e=\"postMessage(\"+f.toString()+\"(\"+[JSON.stringify(s),u.toString(),p.toString()].join(\",\")+\"));\",r=new Blob([e],{type:\"text/javascript\"}),a=new Worker(URL.createObjectURL(r),{name:\"wpTestEmojiSupports\"});return void(a.onmessage=function(e){c(n=e.data),a.terminate(),t(n)})}catch(e){}c(n=f(s,u,p))}t(n)}).then(function(e){for(var t in e)n.supports[t]=e[t],n.supports.everything=n.supports.everything&&n.supports[t],\"flag\"!==t&&(n.supports.everythingExceptFlag=n.supports.everythingExceptFlag&&n.supports[t]);n.supports.everythingExceptFlag=n.supports.everythingExceptFlag&&!n.supports.flag,n.DOMReady=!1,n.readyCallback=function(){n.DOMReady=!0}}).then(function(){return e}).then(function(){var e;n.supports.everything||(n.readyCallback(),(e=n.source||{}).concatemoji?t(e.concatemoji):e.wpemoji&&e.twemoji&&(t(e.twemoji),t(e.wpemoji)))}))}((window,document),window._wpemojiSettings);\n",
      "       </script>\n",
      "       <style type=\"text/css\">\n",
      "        img.wp-smiley,\n",
      "img.emoji {\n",
      "\tdisplay: inline !important;\n",
      "\tborder: none !important;\n",
      "\tbox-shadow: none !important;\n",
      "\theight: 1em !important;\n",
      "\twidth: 1em !important;\n",
      "\tmargin: 0 0.07em !important;\n",
      "\tvertical-align: -0.1em !important;\n",
      "\tbackground: none !important;\n",
      "\tpadding: 0 !important;\n",
      "}\n",
      "       </style>\n",
      "       <link href=\"//civmin.utoronto.ca/wp-content/plugins/all-in-one-event-calendar/public/themes-ai1ec/vortex/css/ai1ec_parsed_css.css?ver=3.0.0\" id=\"ai1ec_style-css\" media=\"all\" rel=\"stylesheet\" type=\"text/css\">\n",
      "        <link href=\"https://civmin.utoronto.ca/wp-content/plugins/bb-plugin/fonts/fontawesome/5.15.4/css/all.min.css?ver=2.7.2\" id=\"font-awesome-5-css\" media=\"all\" rel=\"stylesheet\" type=\"text/css\">\n",
      "         <link href=\"https://civmin.utoronto.ca/wp-content/uploads/bb-plugin/cache/27502-layout.css?ver=5975b438554b7417a4ef23d6c2d87b7e\" id=\"fl-builder-layout-27502-css\" media=\"all\" rel=\"stylesheet\" type=\"text/css\"/>\n",
      "         <link href=\"https://civmin.utoronto.ca/wp-content/plugins/slideshow-jquery-image-gallery/style/SlideshowPlugin/functional.css?ver=2.3.1\" id=\"slideshow-jquery-image-gallery-stylesheet_functional-css\" media=\"all\" rel=\"stylesheet\" type=\"text/css\"/>\n",
      "         <link href=\"https://civmin.utoronto.ca/wp-admin/admin-ajax.php?action=slideshow_jquery_image_gallery_load_stylesheet&amp;style=style-light&amp;ver=2.3.1\" id=\"slideshow-jquery-image-gallery-ajax-stylesheet_style-light-css\" media=\"all\" rel=\"stylesheet\" type=\"text/css\"/>\n",
      "         <link href=\"https://civmin.utoronto.ca/wp-admin/admin-ajax.php?action=slideshow_jquery_image_gallery_load_stylesheet&amp;style=style-dark&amp;ver=2.3.1\" id=\"slideshow-jquery-image-gallery-ajax-stylesheet_style-dark-css\" media=\"all\" rel=\"stylesheet\" type=\"text/css\"/>\n",
      "         <link href=\"https://civmin.utoronto.ca/wp-content/plugins/tablepress-datatables-column-filter-widgets/css/ColumnFilterWidgets.min.css?ver=1.2\" id=\"tablepress-columnfilterwidgets-css-css\" media=\"all\" rel=\"stylesheet\" type=\"text/css\"/>\n",
      "         <link href=\"https://civmin.utoronto.ca/wp-content/themes/fase-theme-2023-master/dist/css/index.min.css?ver=1.0.3\" id=\"main-css\" media=\"all\" rel=\"stylesheet\" type=\"text/css\"/>\n",
      "         <link href=\"https://civmin.utoronto.ca/wp-content/themes/fase-theme-2023-master/dist/css/general.min.css?ver=1.0.3\" id=\"general-css\" media=\"all\" rel=\"stylesheet\" type=\"text/css\"/>\n",
      "         <link href=\"https://fonts.googleapis.com/css?family=Open+Sans%3A400%2C600%2C700&amp;ver=1.1\" id=\"fonts-css\" media=\"all\" rel=\"stylesheet\" type=\"text/css\"/>\n",
      "         <link href=\"https://use.typekit.net/egq6ygb.css?ver=1.0\" id=\"typekit-css\" media=\"all\" rel=\"stylesheet\" type=\"text/css\"/>\n",
      "         <link href=\"https://civmin.utoronto.ca/wp-content/tablepress-combined.min.css?ver=42\" id=\"tablepress-default-css\" media=\"all\" rel=\"stylesheet\" type=\"text/css\"/>\n",
      "         <link href=\"https://civmin.utoronto.ca/wp-content/plugins/bbpowerpack/assets/css/animate.min.css?ver=3.5.1\" id=\"pp-animate-css\" media=\"all\" rel=\"stylesheet\" type=\"text/css\"/>\n",
      "         <script id=\"jquery-core-js-extra\" type=\"text/javascript\">\n",
      "          /* <![CDATA[ */\n",
      "var SDT_DATA = {\"ajaxurl\":\"https:\\/\\/civmin.utoronto.ca\\/wp-admin\\/admin-ajax.php\",\"siteUrl\":\"https:\\/\\/civmin.utoronto.ca\\/\",\"pluginsUrl\":\"https:\\/\\/civmin.utoronto.ca\\/wp-content\\/plugins\",\"isAdmin\":\"\"};\n",
      "/* ]]> */\n",
      "         </script>\n",
      "         <script id=\"jquery-core-js\" src=\"https://civmin.utoronto.ca/wp-includes/js/jquery/jquery.min.js?ver=3.7.0\" type=\"text/javascript\">\n",
      "         </script>\n",
      "         <script defer=\"defer\" id=\"jquery-migrate-js\" src=\"https://civmin.utoronto.ca/wp-includes/js/jquery/jquery-migrate.min.js?ver=3.4.1\" type=\"text/javascript\">\n",
      "         </script>\n",
      "         <script id=\"monsterinsights-frontend-script-js\" src=\"https://civmin.utoronto.ca/wp-content/plugins/google-analytics-premium/assets/js/frontend-gtag.min.js?ver=8.19.0\" type=\"text/javascript\">\n",
      "         </script>\n",
      "         <script data-cfasync=\"false\" data-wpfc-render=\"false\" id=\"monsterinsights-frontend-script-js-extra\" type=\"text/javascript\">\n",
      "          /* <![CDATA[ */\n",
      "var monsterinsights_frontend = {\"js_events_tracking\":\"true\",\"download_extensions\":\"doc,pdf,ppt,zip,xls,docx,pptx,xlsx\",\"inbound_paths\":\"[]\",\"home_url\":\"https:\\/\\/civmin.utoronto.ca\",\"hash_tracking\":\"false\",\"v4_id\":\"G-2E9NND0N6Y\"};/* ]]> */\n",
      "         </script>\n",
      "         <script id=\"imagesloaded-js\" src=\"https://civmin.utoronto.ca/wp-includes/js/imagesloaded.min.js?ver=6.3.1\" type=\"text/javascript\">\n",
      "         </script>\n",
      "         <script id=\"lazysizes-js\" src=\"https://civmin.utoronto.ca/wp-content/themes/fase-theme-2023-master/assets/js/vendor/lazysizes.min.js?ver=1.0.0\" type=\"text/javascript\">\n",
      "         </script>\n",
      "         <script id=\"focus-visible-js\" src=\"https://civmin.utoronto.ca/wp-content/themes/fase-theme-2023-master/assets/js/vendor/focus-visible-main/focus-visible.js?ver=1.0.0\" type=\"text/javascript\">\n",
      "         </script>\n",
      "         <script id=\"browser-detect-js\" src=\"https://civmin.utoronto.ca/wp-content/themes/fase-theme-2023-master/dist/js/bundled/browser-detect-combined.min.js?ver=1.0.0\" type=\"text/javascript\">\n",
      "         </script>\n",
      "         <link href=\"https://civmin.utoronto.ca/wp-json/\" rel=\"https://api.w.org/\"/>\n",
      "         <link href=\"https://civmin.utoronto.ca/wp-json/wp/v2/pages/27502\" rel=\"alternate\" type=\"application/json\"/>\n",
      "         <link href=\"https://civmin.utoronto.ca/xmlrpc.php?rsd\" rel=\"EditURI\" title=\"RSD\" type=\"application/rsd+xml\"/>\n",
      "         <meta content=\"WordPress 6.3.1\" name=\"generator\"/>\n",
      "         <link href=\"https://civmin.utoronto.ca/\" rel=\"canonical\"/>\n",
      "         <link href=\"https://civmin.utoronto.ca/\" rel=\"shortlink\"/>\n",
      "         <link href=\"https://civmin.utoronto.ca/wp-json/oembed/1.0/embed?url=https%3A%2F%2Fcivmin.utoronto.ca%2F\" rel=\"alternate\" type=\"application/json+oembed\"/>\n",
      "         <link href=\"https://civmin.utoronto.ca/wp-json/oembed/1.0/embed?url=https%3A%2F%2Fcivmin.utoronto.ca%2F&amp;format=xml\" rel=\"alternate\" type=\"text/xml+oembed\"/>\n",
      "         <script>\n",
      "          var bb_powerpack = {\n",
      "\t\t\t\tsearch_term: '',\n",
      "\t\t\t\tversion: '2.33.1',\n",
      "\t\t\t\tgetAjaxUrl: function() { return atob( 'aHR0cHM6Ly9jaXZtaW4udXRvcm9udG8uY2Evd3AtYWRtaW4vYWRtaW4tYWpheC5waHA=' ); },\n",
      "\t\t\t\tcallback: function() {}\n",
      "\t\t\t};\n",
      "         </script>\n",
      "         <style type=\"text/css\">\n",
      "          .broken_link, a.broken_link {\n",
      "\ttext-decoration: line-through;\n",
      "}\n",
      "         </style>\n",
      "         <link href=\"https://civmin.utoronto.ca/wp-content/uploads/2014/06/cropped-Title-Screen-Twitter-Logo-2-32x32.png\" rel=\"icon\" sizes=\"32x32\"/>\n",
      "         <link href=\"https://civmin.utoronto.ca/wp-content/uploads/2014/06/cropped-Title-Screen-Twitter-Logo-2-192x192.png\" rel=\"icon\" sizes=\"192x192\"/>\n",
      "         <link href=\"https://civmin.utoronto.ca/wp-content/uploads/2014/06/cropped-Title-Screen-Twitter-Logo-2-180x180.png\" rel=\"apple-touch-icon\"/>\n",
      "         <meta content=\"https://civmin.utoronto.ca/wp-content/uploads/2014/06/cropped-Title-Screen-Twitter-Logo-2-270x270.png\" name=\"msapplication-TileImage\"/>\n",
      "         <style id=\"wp-custom-css\" type=\"text/css\">\n",
      "          .ai1ec-day {\n",
      "\tline-height:0.5;\n",
      "}\n",
      "/*\n",
      "img, figure {\n",
      "\tmax-width: 100%;\n",
      "}*/\n",
      "         </style>\n",
      "        </link>\n",
      "       </link>\n",
      "      </link>\n",
      "     </link>\n",
      "    </meta>\n",
      "   </meta>\n",
      "  </meta>\n",
      " </head>\n",
      " <body class=\"home page-template page-template-templates page-template-page-wide page-template-templatespage-wide-php page page-id-27502 fl-builder\">\n",
      "  <div class=\"site\" id=\"page\">\n",
      "   <header class=\"invisible\">\n",
      "    <a class=\"screen-reader-text skip-link\" href=\"#content\">\n",
      "     Skip to content\n",
      "    </a>\n",
      "    <div class=\"top-bar grey-bar\">\n",
      "     <div class=\"d-md-flex align-items-center content-wrap flex-row justify-content-between\">\n",
      "      <div class=\"top-bar-left p-2\">\n",
      "       <span class=\"top-bar-left-1\">\n",
      "        <a href=\"https://engineering.utoronto.ca\">\n",
      "         <span aria-hidden=\"true\" class=\"icon-home\" tabindex=\"-1\">\n",
      "         </span>\n",
      "         <span class=\"link\">\n",
      "          U of T ENGINEERING\n",
      "         </span>\n",
      "        </a>\n",
      "       </span>\n",
      "      </div>\n",
      "      <div class=\"top-bar-right p-2\">\n",
      "       <div class=\"menu-top-menu-container\">\n",
      "        <ul class=\"top-nav\" id=\"secondaryNav\">\n",
      "         <li class=\"menu-item menu-item-type-custom menu-item-object-custom menu-item-32446 nav-item level-0\" id=\"menu-item-32446\" itemscope=\"itemscope\" itemtype=\"https://www.schema.org/SiteNavigationElement\">\n",
      "          <a class=\"nav-link\" href=\"https://www.utoronto.ca/\" id=\"menu-item-link-32446\">\n",
      "           U of T Home\n",
      "          </a>\n",
      "         </li>\n",
      "         <li class=\"menu-item menu-item-type-custom menu-item-object-custom menu-item-32447 nav-item level-0\" id=\"menu-item-32447\" itemscope=\"itemscope\" itemtype=\"https://www.schema.org/SiteNavigationElement\">\n",
      "          <a class=\"nav-link\" href=\"https://alumni.engineering.utoronto.ca/giving/\" id=\"menu-item-link-32447\">\n",
      "           Give Now\n",
      "          </a>\n",
      "         </li>\n",
      "         <li class=\"menu-item menu-item-type-custom menu-item-object-custom menu-item-32448 nav-item level-0\" id=\"menu-item-32448\" itemscope=\"itemscope\" itemtype=\"https://www.schema.org/SiteNavigationElement\">\n",
      "          <a class=\"nav-link\" href=\"https://www.engineering.utoronto.ca/mental-health-wellness/talk-to-someone-right-now/\" id=\"menu-item-link-32448\">\n",
      "           Urgent Support\n",
      "          </a>\n",
      "         </li>\n",
      "         <li class=\"menu-item menu-item-type-custom menu-item-object-custom menu-item-32449 nav-item level-0\" id=\"menu-item-32449\" itemscope=\"itemscope\" itemtype=\"https://www.schema.org/SiteNavigationElement\">\n",
      "          <a class=\"nav-link\" href=\"https://civmin.utoronto.ca/home/about-us/contact-us/\" id=\"menu-item-link-32449\">\n",
      "           Contact\n",
      "          </a>\n",
      "         </li>\n",
      "        </ul>\n",
      "       </div>\n",
      "      </div>\n",
      "     </div>\n",
      "    </div>\n",
      "    <div class=\"middle-bar\">\n",
      "     <div class=\"d-flex align-items-center content-wrap justify-content-between flex-wrap\">\n",
      "      <div class=\"main-logo\">\n",
      "       <a href=\"https://civmin.utoronto.ca\">\n",
      "        <img alt=\"Department of Civil &amp; Mineral Engineering Home Page\" height=\"126\" src=\"https://civmin.utoronto.ca/wp-content/uploads/2023/02/CivMin_Signature_655.svg\" width=\"618\"/>\n",
      "       </a>\n",
      "      </div>\n",
      "      <div class=\"main-search\">\n",
      "       <form action=\"https://find.utoronto.ca/search\" aria-label=\"Primary search form\" class=\"search-form\" method=\"get\" role=\"search\">\n",
      "        <label for=\"headerSearch\">\n",
      "         <span class=\"screen-reader-text\">\n",
      "          Search for:\n",
      "         </span>\n",
      "         <input class=\"search-field\" id=\"headerSearch\" name=\"q\" placeholder=\"Search\" type=\"search\" value=\"\"/>\n",
      "        </label>\n",
      "        <button class=\"header-search-submit\" type=\"submit\">\n",
      "         <span aria-hidden=\"true\" class=\"icon-search\">\n",
      "         </span>\n",
      "         <span class=\"screen-reader-text\">\n",
      "          Submit Search\n",
      "         </span>\n",
      "        </button>\n",
      "        <input name=\"output\" type=\"hidden\" value=\"xml_no_dtd\"/>\n",
      "        <input name=\"ie\" type=\"hidden\" value=\"UTF-8\"/>\n",
      "        <input name=\"oe\" type=\"hidden\" value=\"UTF-8\"/>\n",
      "        <input name=\"site\" type=\"hidden\" value=\"Engineering\"/>\n",
      "        <input name=\"client\" type=\"hidden\" value=\"engineering\"/>\n",
      "        <input name=\"proxystylesheet\" type=\"hidden\" value=\"engineering\"/>\n",
      "       </form>\n",
      "      </div>\n",
      "      <div class=\"desktop-hidden nav-bar-toggle\">\n",
      "       <button aria-controls=\"mainNavBar\" aria-expanded=\"false\" aria-hidden=\"true\" class=\"main-nav-toggle\" tabindex=\"-1\" type=\"button\">\n",
      "        <span class=\"transformicon\">\n",
      "        </span>\n",
      "        <span class=\"screen-reader-text\">\n",
      "         Main Menu\n",
      "        </span>\n",
      "       </button>\n",
      "      </div>\n",
      "     </div>\n",
      "    </div>\n",
      "    <div class=\"main-nav-bar\" id=\"mainNavBar\">\n",
      "     <div class=\"content-wrap\">\n",
      "      <div class=\"main-nav\">\n",
      "       <nav aria-label=\"Primary navigation\" class=\"menu-main-v2-container\">\n",
      "        <ul class=\"primary-nav\" id=\"primaryNav\">\n",
      "         <li class=\"menu-item menu-item-type-post_type menu-item-object-page menu-item-has-children dropdown menu-item-20345 nav-item level-0\" id=\"menu-item-20345\" itemscope=\"itemscope\" itemtype=\"https://www.schema.org/SiteNavigationElement\">\n",
      "          <a class=\"dropdown-toggle nav-link\" data-toggle=\"dropdown\" data-url=\"https://civmin.utoronto.ca/home/about-us/\" href=\"https://civmin.utoronto.ca/home/about-us/\" id=\"menu-item-dropdown-20345\" role=\"button\">\n",
      "           About Us\n",
      "          </a>\n",
      "          <ul aria-label=\"Sub menu navigation list\" aria-labelledby=\"menu-item-dropdown-20345\" class=\"sub-menu\" role=\"menu\">\n",
      "           <li class=\"menu-item menu-item-type-post_type menu-item-object-page menu-item-has-children dropdown menu-item-35433 nav-item level-1\" id=\"menu-item-35433\" itemscope=\"itemscope\" itemtype=\"https://www.schema.org/SiteNavigationElement\">\n",
      "            <a class=\"dropdown-item\" href=\"https://civmin.utoronto.ca/home/about-us/about-civmin/\" id=\"menu-item-link-35433\">\n",
      "             About CivMin\n",
      "            </a>\n",
      "            <ul aria-label=\"Sub menu navigation list\" aria-labelledby=\"menu-item-link-35433\" class=\"sub-menu\" role=\"menu\">\n",
      "             <li class=\"menu-item menu-item-type-post_type menu-item-object-page menu-item-35434 nav-item level-2\" id=\"menu-item-35434\" itemscope=\"itemscope\" itemtype=\"https://www.schema.org/SiteNavigationElement\">\n",
      "              <a class=\"dropdown-item\" href=\"https://civmin.utoronto.ca/home/about-us/about-civmin/history/\" id=\"menu-item-link-35434\">\n",
      "               Department History\n",
      "              </a>\n",
      "             </li>\n",
      "             <li class=\"menu-item menu-item-type-post_type menu-item-object-page menu-item-35435 nav-item level-2\" id=\"menu-item-35435\" itemscope=\"itemscope\" itemtype=\"https://www.schema.org/SiteNavigationElement\">\n",
      "              <a class=\"dropdown-item\" href=\"https://civmin.utoronto.ca/home/about-us/about-civmin/skygarden/\" id=\"menu-item-link-35435\">\n",
      "               SkyGarden\n",
      "              </a>\n",
      "             </li>\n",
      "            </ul>\n",
      "           </li>\n",
      "           <li class=\"menu-item menu-item-type-post_type menu-item-object-page menu-item-20347 nav-item level-1\" id=\"menu-item-20347\" itemscope=\"itemscope\" itemtype=\"https://www.schema.org/SiteNavigationElement\">\n",
      "            <a class=\"dropdown-item\" href=\"https://civmin.utoronto.ca/home/about-us/about-civmin/department-leadership/\" id=\"menu-item-link-20347\">\n",
      "             Department Leadership\n",
      "            </a>\n",
      "           </li>\n",
      "           <li class=\"menu-item menu-item-type-post_type menu-item-object-page menu-item-has-children dropdown menu-item-20349 nav-item level-1\" id=\"menu-item-20349\" itemscope=\"itemscope\" itemtype=\"https://www.schema.org/SiteNavigationElement\">\n",
      "            <a class=\"dropdown-item\" href=\"https://civmin.utoronto.ca/home/about-us/news/\" id=\"menu-item-link-20349\">\n",
      "             News\n",
      "            </a>\n",
      "            <ul aria-label=\"Sub menu navigation list\" aria-labelledby=\"menu-item-link-20349\" class=\"sub-menu\" role=\"menu\">\n",
      "             <li class=\"menu-item menu-item-type-post_type menu-item-object-page menu-item-27165 nav-item level-2\" id=\"menu-item-27165\" itemscope=\"itemscope\" itemtype=\"https://www.schema.org/SiteNavigationElement\">\n",
      "              <a class=\"dropdown-item\" href=\"https://civmin.utoronto.ca/home/about-us/past-newsletters/\" id=\"menu-item-link-27165\">\n",
      "               Past Newsletters\n",
      "              </a>\n",
      "             </li>\n",
      "            </ul>\n",
      "           </li>\n",
      "           <li class=\"menu-item menu-item-type-post_type menu-item-object-page menu-item-20348 nav-item level-1\" id=\"menu-item-20348\" itemscope=\"itemscope\" itemtype=\"https://www.schema.org/SiteNavigationElement\">\n",
      "            <a class=\"dropdown-item\" href=\"https://civmin.utoronto.ca/home/about-us/opportunities/\" id=\"menu-item-link-20348\">\n",
      "             Job Opportunities\n",
      "            </a>\n",
      "           </li>\n",
      "           <li class=\"menu-item menu-item-type-post_type menu-item-object-page menu-item-20350 nav-item level-1\" id=\"menu-item-20350\" itemscope=\"itemscope\" itemtype=\"https://www.schema.org/SiteNavigationElement\">\n",
      "            <a class=\"dropdown-item\" href=\"https://civmin.utoronto.ca/home/about-us/calendar/lectures/\" id=\"menu-item-link-20350\">\n",
      "             Distinguished Lectures\n",
      "            </a>\n",
      "           </li>\n",
      "           <li class=\"menu-item menu-item-type-post_type menu-item-object-page menu-item-29022 nav-item level-1\" id=\"menu-item-29022\" itemscope=\"itemscope\" itemtype=\"https://www.schema.org/SiteNavigationElement\">\n",
      "            <a class=\"dropdown-item\" href=\"https://civmin.utoronto.ca/home/about-us/equity-diversity-and-inclusion/\" id=\"menu-item-link-29022\">\n",
      "             Equity, Diversity and Inclusion\n",
      "            </a>\n",
      "           </li>\n",
      "           <li class=\"menu-item menu-item-type-post_type menu-item-object-page menu-item-20351 nav-item level-1\" id=\"menu-item-20351\" itemscope=\"itemscope\" itemtype=\"https://www.schema.org/SiteNavigationElement\">\n",
      "            <a class=\"dropdown-item\" href=\"https://civmin.utoronto.ca/home/about-us/contact-us/\" id=\"menu-item-link-20351\">\n",
      "             Contact Us\n",
      "            </a>\n",
      "           </li>\n",
      "          </ul>\n",
      "         </li>\n",
      "         <li class=\"menu-item menu-item-type-post_type menu-item-object-page menu-item-has-children dropdown menu-item-20352 nav-item level-0\" id=\"menu-item-20352\" itemscope=\"itemscope\" itemtype=\"https://www.schema.org/SiteNavigationElement\">\n",
      "          <a class=\"dropdown-toggle nav-link\" data-toggle=\"dropdown\" data-url=\"https://civmin.utoronto.ca/home/programs/\" href=\"https://civmin.utoronto.ca/home/programs/\" id=\"menu-item-dropdown-20352\" role=\"button\">\n",
      "           Our Programs\n",
      "          </a>\n",
      "          <ul aria-label=\"Sub menu navigation list\" aria-labelledby=\"menu-item-dropdown-20352\" class=\"sub-menu\" role=\"menu\">\n",
      "           <li class=\"menu-item menu-item-type-post_type menu-item-object-page menu-item-20353 nav-item level-1\" id=\"menu-item-20353\" itemscope=\"itemscope\" itemtype=\"https://www.schema.org/SiteNavigationElement\">\n",
      "            <a class=\"dropdown-item\" href=\"https://civmin.utoronto.ca/home/programs/undergraduate-programs/\" id=\"menu-item-link-20353\">\n",
      "             Undergraduate Programs\n",
      "            </a>\n",
      "           </li>\n",
      "           <li class=\"menu-item menu-item-type-post_type menu-item-object-page menu-item-has-children dropdown menu-item-20354 nav-item level-1\" id=\"menu-item-20354\" itemscope=\"itemscope\" itemtype=\"https://www.schema.org/SiteNavigationElement\">\n",
      "            <a class=\"dropdown-item\" href=\"https://civmin.utoronto.ca/home/programs/graduate-programs/\" id=\"menu-item-link-20354\">\n",
      "             Graduate Programs\n",
      "            </a>\n",
      "            <ul aria-label=\"Sub menu navigation list\" aria-labelledby=\"menu-item-link-20354\" class=\"sub-menu\" role=\"menu\">\n",
      "             <li class=\"menu-item menu-item-type-post_type menu-item-object-page menu-item-33196 nav-item level-2\" id=\"menu-item-33196\" itemscope=\"itemscope\" itemtype=\"https://www.schema.org/SiteNavigationElement\">\n",
      "              <a class=\"dropdown-item\" href=\"https://civmin.utoronto.ca/home/programs/graduate-programs/meng/\" id=\"menu-item-link-33196\">\n",
      "               Master of Engineering (MEng) in Civil &amp; Mineral Engineering\n",
      "              </a>\n",
      "             </li>\n",
      "             <li class=\"menu-item menu-item-type-post_type menu-item-object-page menu-item-30969 nav-item level-2\" id=\"menu-item-30969\" itemscope=\"itemscope\" itemtype=\"https://www.schema.org/SiteNavigationElement\">\n",
      "              <a class=\"dropdown-item\" href=\"https://civmin.utoronto.ca/home/programs/graduate-programs/master-of-engineering-in-cities-engineering-and-management/\" id=\"menu-item-link-30969\">\n",
      "               Master of Engineering in Cities Engineering and Management (MEngCEM)\n",
      "              </a>\n",
      "             </li>\n",
      "             <li class=\"menu-item menu-item-type-post_type menu-item-object-page menu-item-30970 nav-item level-2\" id=\"menu-item-30970\" itemscope=\"itemscope\" itemtype=\"https://www.schema.org/SiteNavigationElement\">\n",
      "              <a class=\"dropdown-item\" href=\"https://civmin.utoronto.ca/home/programs/graduate-programs/master-of-applied-science/\" id=\"menu-item-link-30970\">\n",
      "               Master of Applied Science (MASc)\n",
      "              </a>\n",
      "             </li>\n",
      "             <li class=\"menu-item menu-item-type-post_type menu-item-object-page menu-item-30971 nav-item level-2\" id=\"menu-item-30971\" itemscope=\"itemscope\" itemtype=\"https://www.schema.org/SiteNavigationElement\">\n",
      "              <a class=\"dropdown-item\" href=\"https://civmin.utoronto.ca/home/programs/graduate-programs/doctor-of-philosophy/\" id=\"menu-item-link-30971\">\n",
      "               Doctor of Philosophy (PhD)\n",
      "              </a>\n",
      "             </li>\n",
      "             <li class=\"menu-item menu-item-type-post_type menu-item-object-page menu-item-35439 nav-item level-2\" id=\"menu-item-35439\" itemscope=\"itemscope\" itemtype=\"https://www.schema.org/SiteNavigationElement\">\n",
      "              <a class=\"dropdown-item\" href=\"https://civmin.utoronto.ca/mimp/\" id=\"menu-item-link-35439\">\n",
      "               Mining Industry Management Program\n",
      "              </a>\n",
      "             </li>\n",
      "             <li class=\"menu-item menu-item-type-post_type menu-item-object-page menu-item-29815 nav-item level-2\" id=\"menu-item-29815\" itemscope=\"itemscope\" itemtype=\"https://www.schema.org/SiteNavigationElement\">\n",
      "              <a class=\"dropdown-item\" href=\"https://civmin.utoronto.ca/timetables-and-course-descriptions/graduate-course-catalogue/\" id=\"menu-item-link-29815\">\n",
      "               Graduate Course Catalogue\n",
      "              </a>\n",
      "             </li>\n",
      "             <li class=\"menu-item menu-item-type-post_type menu-item-object-page menu-item-28204 nav-item level-2\" id=\"menu-item-28204\" itemscope=\"itemscope\" itemtype=\"https://www.schema.org/SiteNavigationElement\">\n",
      "              <a class=\"dropdown-item\" href=\"https://civmin.utoronto.ca/home/programs/graduate-programs/graduate-fees-scholarships-and-funding/\" id=\"menu-item-link-28204\">\n",
      "               Graduate Fees, Scholarships, and Funding\n",
      "              </a>\n",
      "             </li>\n",
      "            </ul>\n",
      "           </li>\n",
      "           <li class=\"menu-item menu-item-type-post_type menu-item-object-page menu-item-28329 nav-item level-1\" id=\"menu-item-28329\" itemscope=\"itemscope\" itemtype=\"https://www.schema.org/SiteNavigationElement\">\n",
      "            <a class=\"dropdown-item\" href=\"https://civmin.utoronto.ca/home/programs/courses/\" id=\"menu-item-link-28329\">\n",
      "             Course Descriptions + Timetables\n",
      "            </a>\n",
      "           </li>\n",
      "           <li class=\"menu-item menu-item-type-post_type menu-item-object-page menu-item-30961 nav-item level-1\" id=\"menu-item-30961\" itemscope=\"itemscope\" itemtype=\"https://www.schema.org/SiteNavigationElement\">\n",
      "            <a class=\"dropdown-item\" href=\"https://civmin.utoronto.ca/home/programs/graduate-programs/departmental-awards/\" id=\"menu-item-link-30961\">\n",
      "             Departmental Awards\n",
      "            </a>\n",
      "           </li>\n",
      "           <li class=\"menu-item menu-item-type-post_type menu-item-object-page menu-item-31009 nav-item level-1\" id=\"menu-item-31009\" itemscope=\"itemscope\" itemtype=\"https://www.schema.org/SiteNavigationElement\">\n",
      "            <a class=\"dropdown-item\" href=\"https://civmin.utoronto.ca/home/programs/graduate-programs/external-awards/\" id=\"menu-item-link-31009\">\n",
      "             External Awards\n",
      "            </a>\n",
      "           </li>\n",
      "           <li class=\"menu-item menu-item-type-post_type menu-item-object-page menu-item-20355 nav-item level-1\" id=\"menu-item-20355\" itemscope=\"itemscope\" itemtype=\"https://www.schema.org/SiteNavigationElement\">\n",
      "            <a class=\"dropdown-item\" href=\"https://civmin.utoronto.ca/home/programs/office-of-student-services/\" id=\"menu-item-link-20355\">\n",
      "             Office of Student Services\n",
      "            </a>\n",
      "           </li>\n",
      "          </ul>\n",
      "         </li>\n",
      "         <li class=\"menu-item menu-item-type-post_type menu-item-object-page menu-item-has-children dropdown menu-item-20443 nav-item level-0\" id=\"menu-item-20443\" itemscope=\"itemscope\" itemtype=\"https://www.schema.org/SiteNavigationElement\">\n",
      "          <a class=\"dropdown-toggle nav-link\" data-toggle=\"dropdown\" data-url=\"https://civmin.utoronto.ca/home/admissions/\" href=\"https://civmin.utoronto.ca/home/admissions/\" id=\"menu-item-dropdown-20443\" role=\"button\">\n",
      "           Admissions\n",
      "          </a>\n",
      "          <ul aria-label=\"Sub menu navigation list\" aria-labelledby=\"menu-item-dropdown-20443\" class=\"sub-menu\" role=\"menu\">\n",
      "           <li class=\"menu-item menu-item-type-post_type menu-item-object-page menu-item-20444 nav-item level-1\" id=\"menu-item-20444\" itemscope=\"itemscope\" itemtype=\"https://www.schema.org/SiteNavigationElement\">\n",
      "            <a class=\"dropdown-item\" href=\"https://civmin.utoronto.ca/home/admissions/undergraduate-admissions/\" id=\"menu-item-link-20444\">\n",
      "             Undergraduate Admissions\n",
      "            </a>\n",
      "           </li>\n",
      "           <li class=\"menu-item menu-item-type-post_type menu-item-object-page menu-item-20445 nav-item level-1\" id=\"menu-item-20445\" itemscope=\"itemscope\" itemtype=\"https://www.schema.org/SiteNavigationElement\">\n",
      "            <a class=\"dropdown-item\" href=\"https://civmin.utoronto.ca/home/admissions/graduate-admissions/\" id=\"menu-item-link-20445\">\n",
      "             Graduate Admissions\n",
      "            </a>\n",
      "           </li>\n",
      "          </ul>\n",
      "         </li>\n",
      "         <li class=\"menu-item menu-item-type-custom menu-item-object-custom menu-item-has-children dropdown menu-item-20360 nav-item level-0\" id=\"menu-item-20360\" itemscope=\"itemscope\" itemtype=\"https://www.schema.org/SiteNavigationElement\">\n",
      "          <a class=\"dropdown-toggle nav-link\" data-toggle=\"dropdown\" data-url=\"https://civmin.utoronto.ca/home/our-research/research/\" href=\"https://civmin.utoronto.ca/home/our-research/research/\" id=\"menu-item-dropdown-20360\" role=\"button\">\n",
      "           Our Research\n",
      "          </a>\n",
      "          <ul aria-label=\"Sub menu navigation list\" aria-labelledby=\"menu-item-dropdown-20360\" class=\"sub-menu\" role=\"menu\">\n",
      "           <li class=\"menu-item menu-item-type-post_type menu-item-object-page menu-item-20359 nav-item level-1\" id=\"menu-item-20359\" itemscope=\"itemscope\" itemtype=\"https://www.schema.org/SiteNavigationElement\">\n",
      "            <a class=\"dropdown-item\" href=\"https://civmin.utoronto.ca/home/our-research/research/\" id=\"menu-item-link-20359\">\n",
      "             Research Themes\n",
      "            </a>\n",
      "           </li>\n",
      "           <li class=\"menu-item menu-item-type-post_type menu-item-object-page menu-item-20357 nav-item level-1\" id=\"menu-item-20357\" itemscope=\"itemscope\" itemtype=\"https://www.schema.org/SiteNavigationElement\">\n",
      "            <a class=\"dropdown-item\" href=\"https://civmin.utoronto.ca/home/our-research/institutes-centres/\" id=\"menu-item-link-20357\">\n",
      "             Institutes &amp; Centres\n",
      "            </a>\n",
      "           </li>\n",
      "           <li class=\"menu-item menu-item-type-custom menu-item-object-custom menu-item-28539 nav-item level-1\" id=\"menu-item-28539\" itemscope=\"itemscope\" itemtype=\"https://www.schema.org/SiteNavigationElement\">\n",
      "            <a class=\"dropdown-item\" href=\"https://civmin.utoronto.ca/civmin-research-handbook/\" id=\"menu-item-link-28539\">\n",
      "             CivMin Research Handbook\n",
      "            </a>\n",
      "           </li>\n",
      "           <li class=\"menu-item menu-item-type-post_type menu-item-object-page menu-item-20358 nav-item level-1\" id=\"menu-item-20358\" itemscope=\"itemscope\" itemtype=\"https://www.schema.org/SiteNavigationElement\">\n",
      "            <a class=\"dropdown-item\" href=\"https://civmin.utoronto.ca/home/our-research/facilities/\" id=\"menu-item-link-20358\">\n",
      "             Research Facilities\n",
      "            </a>\n",
      "           </li>\n",
      "          </ul>\n",
      "         </li>\n",
      "         <li class=\"menu-item menu-item-type-post_type menu-item-object-page menu-item-has-children dropdown menu-item-20361 nav-item level-0\" id=\"menu-item-20361\" itemscope=\"itemscope\" itemtype=\"https://www.schema.org/SiteNavigationElement\">\n",
      "          <a class=\"dropdown-toggle nav-link\" data-toggle=\"dropdown\" data-url=\"https://civmin.utoronto.ca/home/partner-with-us/\" href=\"https://civmin.utoronto.ca/home/partner-with-us/\" id=\"menu-item-dropdown-20361\" role=\"button\">\n",
      "           Partner with Us\n",
      "          </a>\n",
      "          <ul aria-label=\"Sub menu navigation list\" aria-labelledby=\"menu-item-dropdown-20361\" class=\"sub-menu\" role=\"menu\">\n",
      "           <li class=\"menu-item menu-item-type-post_type menu-item-object-page menu-item-20362 nav-item level-1\" id=\"menu-item-20362\" itemscope=\"itemscope\" itemtype=\"https://www.schema.org/SiteNavigationElement\">\n",
      "            <a class=\"dropdown-item\" href=\"https://civmin.utoronto.ca/home/partner-with-us/hire-an-engineering-student-or-graduate/\" id=\"menu-item-link-20362\">\n",
      "             Hire An Engineering Student Or Graduate\n",
      "            </a>\n",
      "           </li>\n",
      "           <li class=\"menu-item menu-item-type-post_type menu-item-object-page menu-item-20363 nav-item level-1\" id=\"menu-item-20363\" itemscope=\"itemscope\" itemtype=\"https://www.schema.org/SiteNavigationElement\">\n",
      "            <a class=\"dropdown-item\" href=\"https://civmin.utoronto.ca/home/partner-with-us/research-partnerships/\" id=\"menu-item-link-20363\">\n",
      "             Research Partnerships\n",
      "            </a>\n",
      "           </li>\n",
      "           <li class=\"menu-item menu-item-type-post_type menu-item-object-page menu-item-28137 nav-item level-1\" id=\"menu-item-28137\" itemscope=\"itemscope\" itemtype=\"https://www.schema.org/SiteNavigationElement\">\n",
      "            <a class=\"dropdown-item\" href=\"https://civmin.utoronto.ca/home/partner-with-us/industry-advisory-board/\" id=\"menu-item-link-28137\">\n",
      "             Industry Advisory Board (CivE)\n",
      "            </a>\n",
      "           </li>\n",
      "           <li class=\"menu-item menu-item-type-post_type menu-item-object-page menu-item-34374 nav-item level-1\" id=\"menu-item-34374\" itemscope=\"itemscope\" itemtype=\"https://www.schema.org/SiteNavigationElement\">\n",
      "            <a class=\"dropdown-item\" href=\"https://civmin.utoronto.ca/home/partner-with-us/lmep-advisory-board/\" id=\"menu-item-link-34374\">\n",
      "             Lassonde Mineral Engineering Program Advisory Board\n",
      "            </a>\n",
      "           </li>\n",
      "          </ul>\n",
      "         </li>\n",
      "         <li class=\"menu-item menu-item-type-post_type menu-item-object-page menu-item-has-children dropdown menu-item-20368 nav-item level-0\" id=\"menu-item-20368\" itemscope=\"itemscope\" itemtype=\"https://www.schema.org/SiteNavigationElement\">\n",
      "          <a class=\"dropdown-toggle nav-link\" data-toggle=\"dropdown\" data-url=\"https://civmin.utoronto.ca/home/alumni/\" href=\"https://civmin.utoronto.ca/home/alumni/\" id=\"menu-item-dropdown-20368\" role=\"button\">\n",
      "           Alumni\n",
      "          </a>\n",
      "          <ul aria-label=\"Sub menu navigation list\" aria-labelledby=\"menu-item-dropdown-20368\" class=\"sub-menu\" role=\"menu\">\n",
      "           <li class=\"menu-item menu-item-type-post_type menu-item-object-page menu-item-20365 nav-item level-1\" id=\"menu-item-20365\" itemscope=\"itemscope\" itemtype=\"https://www.schema.org/SiteNavigationElement\">\n",
      "            <a class=\"dropdown-item\" href=\"https://civmin.utoronto.ca/home/alumni/get-connected/\" id=\"menu-item-link-20365\">\n",
      "             Get Connected\n",
      "            </a>\n",
      "           </li>\n",
      "           <li class=\"menu-item menu-item-type-post_type menu-item-object-page menu-item-20366 nav-item level-1\" id=\"menu-item-20366\" itemscope=\"itemscope\" itemtype=\"https://www.schema.org/SiteNavigationElement\">\n",
      "            <a class=\"dropdown-item\" href=\"https://civmin.utoronto.ca/home/alumni/foundations/\" id=\"menu-item-link-20366\">\n",
      "             foundations Magazine\n",
      "            </a>\n",
      "           </li>\n",
      "           <li class=\"menu-item menu-item-type-custom menu-item-object-custom menu-item-20367 nav-item level-1\" id=\"menu-item-20367\" itemscope=\"itemscope\" itemtype=\"https://www.schema.org/SiteNavigationElement\">\n",
      "            <a class=\"dropdown-item\" href=\"https://secureca.imodules.com/s/731/form-blank/index.aspx?sid=731&amp;gid=1&amp;pgid=11544&amp;cid=19864\" id=\"menu-item-link-20367\">\n",
      "             Update Your Contact Information\n",
      "            </a>\n",
      "           </li>\n",
      "           <li class=\"menu-item menu-item-type-custom menu-item-object-custom menu-item-20369 nav-item level-1\" id=\"menu-item-20369\" itemscope=\"itemscope\" itemtype=\"https://www.schema.org/SiteNavigationElement\">\n",
      "            <a class=\"dropdown-item\" href=\"https://www.camp1.ca/wordpress/\" id=\"menu-item-link-20369\">\n",
      "             Iron Ring\n",
      "            </a>\n",
      "           </li>\n",
      "          </ul>\n",
      "         </li>\n",
      "         <li class=\"menu-item menu-item-type-post_type menu-item-object-page menu-item-20370 nav-item level-0\" id=\"menu-item-20370\" itemscope=\"itemscope\" itemtype=\"https://www.schema.org/SiteNavigationElement\">\n",
      "          <a class=\"nav-link\" href=\"https://civmin.utoronto.ca/home/about-us/directory/\" id=\"menu-item-link-20370\">\n",
      "           Directory\n",
      "          </a>\n",
      "         </li>\n",
      "         <li class=\"menu-item menu-item-type-post_type menu-item-object-page menu-item-has-children dropdown menu-item-35431 nav-item level-0\" id=\"menu-item-35431\" itemscope=\"itemscope\" itemtype=\"https://www.schema.org/SiteNavigationElement\">\n",
      "          <a class=\"dropdown-toggle nav-link\" data-toggle=\"dropdown\" data-url=\"https://civmin.utoronto.ca/services-copy/\" href=\"https://civmin.utoronto.ca/services-copy/\" id=\"menu-item-dropdown-35431\" role=\"button\">\n",
      "           Departmental Services\n",
      "          </a>\n",
      "          <ul aria-label=\"Sub menu navigation list\" aria-labelledby=\"menu-item-dropdown-35431\" class=\"sub-menu\" role=\"menu\">\n",
      "           <li class=\"menu-item menu-item-type-post_type menu-item-object-page menu-item-20371 nav-item level-1\" id=\"menu-item-20371\" itemscope=\"itemscope\" itemtype=\"https://www.schema.org/SiteNavigationElement\">\n",
      "            <a class=\"dropdown-item\" href=\"https://civmin.utoronto.ca/services/\" id=\"menu-item-link-20371\">\n",
      "             Departmental Services\n",
      "            </a>\n",
      "           </li>\n",
      "           <li class=\"menu-item menu-item-type-custom menu-item-object-custom menu-item-28324 nav-item level-1\" id=\"menu-item-28324\" itemscope=\"itemscope\" itemtype=\"https://www.schema.org/SiteNavigationElement\">\n",
      "            <a class=\"dropdown-item\" href=\"https://utoronto.sharepoint.com/sites/fase-CivMin/SitePages/Home.aspx?OR=Teams-HL&amp;CT=1643992347378&amp;sourceId=&amp;params=%22AppName%22:%22Teams-Desktop%22,%22AppVersion%22:%2228/22010300409%22\" id=\"menu-item-link-28324\">\n",
      "             CivMin Intranet\n",
      "            </a>\n",
      "           </li>\n",
      "           <li class=\"menu-item menu-item-type-post_type menu-item-object-page menu-item-20374 nav-item level-1\" id=\"menu-item-20374\" itemscope=\"itemscope\" itemtype=\"https://www.schema.org/SiteNavigationElement\">\n",
      "            <a class=\"dropdown-item\" href=\"https://civmin.utoronto.ca/services/forms/\" id=\"menu-item-link-20374\">\n",
      "             Forms &amp; Guidelines\n",
      "            </a>\n",
      "           </li>\n",
      "          </ul>\n",
      "         </li>\n",
      "        </ul>\n",
      "       </nav>\n",
      "      </div>\n",
      "      <div class=\"social-nav-wrapper\">\n",
      "       <div class=\"menu-social-container\">\n",
      "        <ul class=\"social-nav\" id=\"menu-social\">\n",
      "         <li class=\"menu-item menu-item-type-custom menu-item-object-custom menu-item-14159 nav-item\" id=\"menu-item-14159\" itemscope=\"itemscope\" itemtype=\"https://www.schema.org/SiteNavigationElement\">\n",
      "          <a class=\"nav-link\" href=\"https://www.facebook.com/civminutoronto/\">\n",
      "           <span class=\"soc-icon-facebook\">\n",
      "           </span>\n",
      "           <span class=\"screen-reader-text\">\n",
      "            Facebook\n",
      "           </span>\n",
      "          </a>\n",
      "         </li>\n",
      "         <li class=\"menu-item menu-item-type-custom menu-item-object-custom menu-item-14160 nav-item\" id=\"menu-item-14160\" itemscope=\"itemscope\" itemtype=\"https://www.schema.org/SiteNavigationElement\">\n",
      "          <a class=\"nav-link\" href=\"https://twitter.com/civmin?lang=en\">\n",
      "           <span class=\"soc-icon-twitter\">\n",
      "           </span>\n",
      "           <span class=\"screen-reader-text\">\n",
      "            Twitter\n",
      "           </span>\n",
      "          </a>\n",
      "         </li>\n",
      "         <li class=\"menu-item menu-item-type-custom menu-item-object-custom menu-item-14161 nav-item\" id=\"menu-item-14161\" itemscope=\"itemscope\" itemtype=\"https://www.schema.org/SiteNavigationElement\">\n",
      "          <a class=\"nav-link\" href=\"https://www.instagram.com/civmin/\">\n",
      "           <span class=\"soc-icon-instagram\">\n",
      "           </span>\n",
      "           <span class=\"screen-reader-text\">\n",
      "            Instagram\n",
      "           </span>\n",
      "          </a>\n",
      "         </li>\n",
      "         <li class=\"menu-item menu-item-type-custom menu-item-object-custom menu-item-22663 nav-item\" id=\"menu-item-22663\" itemscope=\"itemscope\" itemtype=\"https://www.schema.org/SiteNavigationElement\">\n",
      "          <a class=\"nav-link\" href=\"https://www.linkedin.com/school/civmin/\">\n",
      "           <span class=\"soc-icon-linkedin\">\n",
      "           </span>\n",
      "           <span class=\"screen-reader-text\">\n",
      "            LinkedIn\n",
      "           </span>\n",
      "          </a>\n",
      "         </li>\n",
      "         <li class=\"menu-item menu-item-type-custom menu-item-object-custom menu-item-24105 nav-item\" id=\"menu-item-24105\" itemscope=\"itemscope\" itemtype=\"https://www.schema.org/SiteNavigationElement\">\n",
      "          <a class=\"nav-link\" href=\"https://www.youtube.com/user/civmin\">\n",
      "           <span class=\"soc-icon-youtube\">\n",
      "           </span>\n",
      "           <span class=\"screen-reader-text\">\n",
      "            Youtube\n",
      "           </span>\n",
      "          </a>\n",
      "         </li>\n",
      "        </ul>\n",
      "       </div>\n",
      "      </div>\n",
      "      <div aria-hidden=\"true\" class=\"desktop-hidden main-nav-top-bar\" tabindex=\"-1\">\n",
      "      </div>\n",
      "      <div aria-hidden=\"true\" class=\"desktop-hidden main-nav-search-bar\" tabindex=\"-1\">\n",
      "      </div>\n",
      "     </div>\n",
      "    </div>\n",
      "   </header>\n",
      "   <main class=\"primary content-area\" id=\"content\" tabindex=\"-1\">\n",
      "    <div class=\"site-content content-wrap\">\n",
      "     <div class=\"page-content\">\n",
      "      <article class=\"post-27502 page type-page status-publish hentry\" id=\"post-27502\">\n",
      "       <section class=\"entry-content\">\n",
      "        <div class=\"fl-builder-content fl-builder-content-27502 fl-builder-content-primary fl-builder-global-templates-locked\" data-post-id=\"27502\">\n",
      "         <div class=\"fl-row fl-row-full-width fl-row-bg-pp_infinite_bg fl-node-cev7w31kuip8 fl-row-default-height fl-row-align-center\" data-node=\"cev7w31kuip8\">\n",
      "          <div class=\"fl-row-content-wrap\">\n",
      "           <div class=\"fl-row-content fl-row-fixed-width fl-node-content\">\n",
      "            <div class=\"fl-col-group fl-node-5a783hutsq1w\" data-node=\"5a783hutsq1w\">\n",
      "             <div class=\"fl-col fl-node-4hml7peod295 fl-col-has-cols\" data-node=\"4hml7peod295\">\n",
      "              <div class=\"fl-col-content fl-node-content\">\n",
      "               <div class=\"fl-col-group fl-node-g87srj6mtzek fl-col-group-nested\" data-node=\"g87srj6mtzek\">\n",
      "                <div class=\"fl-col fl-node-b6nx0zyut295\" data-node=\"b6nx0zyut295\">\n",
      "                 <div class=\"fl-col-content fl-node-content\">\n",
      "                  <div class=\"fl-module fl-module-rich-text fl-node-vxs2h0alpgm9\" data-node=\"vxs2h0alpgm9\">\n",
      "                   <div class=\"fl-module-content fl-node-content\">\n",
      "                    <div class=\"fl-rich-text\">\n",
      "                     <div>\n",
      "                      <h1 class=\"bdt-slideshow-title bdt-display-inline-block\" style=\"text-align: left;\">\n",
      "                       <strong>\n",
      "                        Mining Industry Management Program\n",
      "                       </strong>\n",
      "                      </h1>\n",
      "                     </div>\n",
      "                    </div>\n",
      "                   </div>\n",
      "                  </div>\n",
      "                  <div class=\"fl-module fl-module-button fl-node-i37d4gw1c6ap fl-animation fl-slide-in-down\" data-animation-delay=\"0\" data-animation-duration=\"2\" data-node=\"i37d4gw1c6ap\">\n",
      "                   <div class=\"fl-module-content fl-node-content\">\n",
      "                    <div class=\"fl-button-wrap fl-button-width-auto fl-button-left fl-button-has-icon\">\n",
      "                     <a class=\"fl-button\" href=\"https://utorontomimp.ca/courses/exploration-studies-resources-reserves/\" target=\"_self\">\n",
      "                      <i aria-hidden=\"true\" class=\"fl-button-icon fl-button-icon-before fas fa-mouse-pointer\">\n",
      "                      </i>\n",
      "                      <span class=\"fl-button-text\">\n",
      "                       Explore fully-online, graduate level mining courses!\n",
      "                      </span>\n",
      "                     </a>\n",
      "                    </div>\n",
      "                   </div>\n",
      "                  </div>\n",
      "                 </div>\n",
      "                </div>\n",
      "               </div>\n",
      "              </div>\n",
      "             </div>\n",
      "             <div class=\"fl-col fl-node-hsno2zqf4k9j fl-col-small\" data-node=\"hsno2zqf4k9j\">\n",
      "              <div class=\"fl-col-content fl-node-content\">\n",
      "               <div class=\"fl-module fl-module-photo fl-node-2ip8570syb9a fl-animation fl-zoom-in\" data-animation-delay=\"0\" data-animation-duration=\"1\" data-node=\"2ip8570syb9a\">\n",
      "                <div class=\"fl-module-content fl-node-content\">\n",
      "                 <div class=\"fl-photo fl-photo-align-center\" itemscope=\"\" itemtype=\"https://schema.org/ImageObject\">\n",
      "                  <div class=\"fl-photo-content fl-photo-img-png\">\n",
      "                   <img alt=\"M-Logo-Transp\" class=\"fl-photo-img wp-image-35393 size-full\" decoding=\"async\" height=\"512\" itemprop=\"image\" loading=\"lazy\" sizes=\"(max-width: 512px) 100vw, 512px\" src=\"https://civmin.utoronto.ca/wp-content/uploads/2023/07/M-Logo-Transp.png\" srcset=\"https://civmin.utoronto.ca/wp-content/uploads/2023/07/M-Logo-Transp.png 512w, https://civmin.utoronto.ca/wp-content/uploads/2023/07/M-Logo-Transp-300x300.png 300w, https://civmin.utoronto.ca/wp-content/uploads/2023/07/M-Logo-Transp-100x100.png 100w, https://civmin.utoronto.ca/wp-content/uploads/2023/07/M-Logo-Transp-226x226.png 226w, https://civmin.utoronto.ca/wp-content/uploads/2023/07/M-Logo-Transp-471x471.png 471w, https://civmin.utoronto.ca/wp-content/uploads/2023/07/M-Logo-Transp-500x500.png 500w\" title=\"M-Logo-Transp\" width=\"512\"/>\n",
      "                  </div>\n",
      "                 </div>\n",
      "                </div>\n",
      "               </div>\n",
      "              </div>\n",
      "             </div>\n",
      "            </div>\n",
      "           </div>\n",
      "          </div>\n",
      "         </div>\n",
      "         <div class=\"fl-row fl-row-full-width fl-row-bg-gradient fl-node-mc79jhu6tl2a fl-row-default-height fl-row-align-center\" data-node=\"mc79jhu6tl2a\">\n",
      "          <div class=\"fl-row-content-wrap\">\n",
      "           <div class=\"fl-row-content fl-row-fixed-width fl-node-content\">\n",
      "            <div class=\"fl-col-group fl-node-yce0toj91mab\" data-node=\"yce0toj91mab\">\n",
      "             <div class=\"fl-col fl-node-c5hmjx69grzo\" data-node=\"c5hmjx69grzo\">\n",
      "              <div class=\"fl-col-content fl-node-content\">\n",
      "               <div class=\"fl-module fl-module-rich-text fl-node-5mtvfqlhok68\" data-node=\"5mtvfqlhok68\">\n",
      "                <div class=\"fl-module-content fl-node-content\">\n",
      "                 <div class=\"fl-rich-text\">\n",
      "                  <h6 style=\"text-align: center;\">\n",
      "                   <a href=\"https://www.engineering.utoronto.ca/deans-messages/\">\n",
      "                    <strong>\n",
      "                     Latest\n",
      "                    </strong>\n",
      "                    message from the Dean\n",
      "                   </a>\n",
      "                  </h6>\n",
      "                 </div>\n",
      "                </div>\n",
      "               </div>\n",
      "              </div>\n",
      "             </div>\n",
      "            </div>\n",
      "           </div>\n",
      "          </div>\n",
      "         </div>\n",
      "         <div class=\"fl-row fl-row-full-width fl-row-bg-color fl-node-gqdcubkyjh58 fl-row-default-height fl-row-align-center\" data-node=\"gqdcubkyjh58\">\n",
      "          <div class=\"fl-row-content-wrap\">\n",
      "           <div class=\"fl-row-content fl-row-fixed-width fl-node-content\">\n",
      "            <div class=\"fl-col-group fl-node-8j1prxhb3490\" data-node=\"8j1prxhb3490\">\n",
      "             <div class=\"fl-col fl-node-k2pj5vf8zile fl-col-small\" data-node=\"k2pj5vf8zile\">\n",
      "              <div class=\"fl-col-content fl-node-content\">\n",
      "               <div class=\"fl-module fl-module-icon fl-node-rxb9q2efl5g7\" data-node=\"rxb9q2efl5g7\">\n",
      "                <div class=\"fl-module-content fl-node-content\">\n",
      "                 <div class=\"fl-icon-wrap\">\n",
      "                  <span class=\"fl-icon\">\n",
      "                   <a aria-hidden=\"true\" aria-labelledby=\"fl-icon-text-rxb9q2efl5g7\" href=\"https://q.utoronto.ca/\" tabindex=\"-1\" target=\"_self\">\n",
      "                    <i aria-hidden=\"true\" class=\"fas fa-info-circle\">\n",
      "                    </i>\n",
      "                    <span class=\"sr-only\">\n",
      "                     Info Hubs (For Current Students)\n",
      "                    </span>\n",
      "                   </a>\n",
      "                  </span>\n",
      "                  <div class=\"fl-icon-text\" id=\"fl-icon-text-rxb9q2efl5g7\">\n",
      "                   <a class=\"fl-icon-text-link fl-icon-text-wrap\" href=\"https://q.utoronto.ca/\" target=\"_self\">\n",
      "                    <h5>\n",
      "                     Info Hubs (For Current Students)\n",
      "                    </h5>\n",
      "                   </a>\n",
      "                  </div>\n",
      "                 </div>\n",
      "                </div>\n",
      "               </div>\n",
      "              </div>\n",
      "             </div>\n",
      "             <div class=\"fl-col fl-node-or7pvlchsjb6 fl-col-small\" data-node=\"or7pvlchsjb6\">\n",
      "              <div class=\"fl-col-content fl-node-content\">\n",
      "               <div class=\"fl-module fl-module-icon fl-node-be9dwjaz6y4l\" data-node=\"be9dwjaz6y4l\">\n",
      "                <div class=\"fl-module-content fl-node-content\">\n",
      "                 <div class=\"fl-icon-wrap\">\n",
      "                  <span class=\"fl-icon\">\n",
      "                   <a aria-hidden=\"true\" aria-labelledby=\"fl-icon-text-be9dwjaz6y4l\" href=\"https://civmin.utoronto.ca/home/programs/courses/\" tabindex=\"-1\" target=\"_self\">\n",
      "                    <i aria-hidden=\"true\" class=\"fas fa-calendar-alt\">\n",
      "                    </i>\n",
      "                   </a>\n",
      "                  </span>\n",
      "                  <div class=\"fl-icon-text\" id=\"fl-icon-text-be9dwjaz6y4l\">\n",
      "                   <a class=\"fl-icon-text-link fl-icon-text-wrap\" href=\"https://civmin.utoronto.ca/home/programs/courses/\" target=\"_self\">\n",
      "                    <h5>\n",
      "                     Course Descriptions + Timetables\n",
      "                    </h5>\n",
      "                   </a>\n",
      "                  </div>\n",
      "                 </div>\n",
      "                </div>\n",
      "               </div>\n",
      "              </div>\n",
      "             </div>\n",
      "             <div class=\"fl-col fl-node-zqp2ejy51473 fl-col-small\" data-node=\"zqp2ejy51473\">\n",
      "              <div class=\"fl-col-content fl-node-content\">\n",
      "               <div class=\"fl-module fl-module-icon fl-node-ez2jxu71rhtn\" data-node=\"ez2jxu71rhtn\">\n",
      "                <div class=\"fl-module-content fl-node-content\">\n",
      "                 <div class=\"fl-icon-wrap\">\n",
      "                  <span class=\"fl-icon\">\n",
      "                   <a aria-hidden=\"true\" aria-labelledby=\"fl-icon-text-ez2jxu71rhtn\" href=\"https://utoronto.sharepoint.com/sites/fase-CivMin/SitePages/Home.aspx?OR=Teams-HL&amp;CT=1643992347378&amp;sourceId=¶ms=%22AppName%22:%22Teams-Desktop%22,%22AppVersion%22:%2228/22010300409%22\" tabindex=\"-1\" target=\"_self\">\n",
      "                    <i aria-hidden=\"true\" class=\"fas fa-desktop\">\n",
      "                    </i>\n",
      "                   </a>\n",
      "                  </span>\n",
      "                  <div class=\"fl-icon-text\" id=\"fl-icon-text-ez2jxu71rhtn\">\n",
      "                   <a class=\"fl-icon-text-link fl-icon-text-wrap\" href=\"https://utoronto.sharepoint.com/sites/fase-CivMin/SitePages/Home.aspx?OR=Teams-HL&amp;CT=1643992347378&amp;sourceId=¶ms=%22AppName%22:%22Teams-Desktop%22,%22AppVersion%22:%2228/22010300409%22\" target=\"_self\">\n",
      "                    <h5>\n",
      "                     CivMin Intranet\n",
      "                    </h5>\n",
      "                   </a>\n",
      "                  </div>\n",
      "                 </div>\n",
      "                </div>\n",
      "               </div>\n",
      "              </div>\n",
      "             </div>\n",
      "             <div class=\"fl-col fl-node-9kgip30l4da7 fl-col-small\" data-node=\"9kgip30l4da7\">\n",
      "              <div class=\"fl-col-content fl-node-content\">\n",
      "               <div class=\"fl-module fl-module-icon fl-node-23ixavownpes\" data-node=\"23ixavownpes\">\n",
      "                <div class=\"fl-module-content fl-node-content\">\n",
      "                 <div class=\"fl-icon-wrap\">\n",
      "                  <span class=\"fl-icon\">\n",
      "                   <a aria-hidden=\"true\" aria-labelledby=\"fl-icon-text-23ixavownpes\" href=\"https://q.utoronto.ca/courses/97618\" tabindex=\"-1\" target=\"_self\">\n",
      "                    <i aria-hidden=\"true\" class=\"fas fa-graduation-cap\">\n",
      "                    </i>\n",
      "                    <span class=\"sr-only\">\n",
      "                     Graduation/Convocation Info\n",
      "                    </span>\n",
      "                   </a>\n",
      "                  </span>\n",
      "                  <div class=\"fl-icon-text\" id=\"fl-icon-text-23ixavownpes\">\n",
      "                   <a class=\"fl-icon-text-link fl-icon-text-wrap\" href=\"https://q.utoronto.ca/courses/97618\" target=\"_self\">\n",
      "                    <h5>\n",
      "                     Graduation/Convocation Info\n",
      "                    </h5>\n",
      "                   </a>\n",
      "                  </div>\n",
      "                 </div>\n",
      "                </div>\n",
      "               </div>\n",
      "              </div>\n",
      "             </div>\n",
      "            </div>\n",
      "           </div>\n",
      "          </div>\n",
      "         </div>\n",
      "         <div class=\"fl-row fl-row-full-width fl-row-bg-color fl-node-7rfhqe8tv2sk fl-row-custom-height fl-row-align-center\" data-node=\"7rfhqe8tv2sk\">\n",
      "          <div class=\"fl-row-content-wrap\">\n",
      "           <div class=\"fl-row-content fl-row-fixed-width fl-node-content\">\n",
      "           </div>\n",
      "          </div>\n",
      "         </div>\n",
      "         <div class=\"fl-row fl-row-full-width fl-row-bg-none fl-node-rt0auzwcnmlg fl-row-custom-height fl-row-align-center\" data-node=\"rt0auzwcnmlg\">\n",
      "          <div class=\"fl-row-content-wrap\">\n",
      "           <div class=\"fl-row-content fl-row-fixed-width fl-node-content\">\n",
      "            <div class=\"fl-col-group fl-node-74xvrkqzgy58\" data-node=\"74xvrkqzgy58\">\n",
      "             <div class=\"fl-col fl-node-xynomwetujla\" data-node=\"xynomwetujla\">\n",
      "              <div class=\"fl-col-content fl-node-content\">\n",
      "               <div class=\"fl-module fl-module-heading fl-node-mr2ks5hldz1f\" data-node=\"mr2ks5hldz1f\">\n",
      "                <div class=\"fl-module-content fl-node-content\">\n",
      "                 <h2 class=\"fl-heading\">\n",
      "                  <a href=\"http://civmin.utoronto.ca/home/about-us/news/\" target=\"_self\" title=\"CivMin News\">\n",
      "                   <span class=\"fl-heading-text\">\n",
      "                    CivMin News\n",
      "                   </span>\n",
      "                  </a>\n",
      "                 </h2>\n",
      "                </div>\n",
      "               </div>\n",
      "               <div class=\"fl-module fl-module-pp-content-grid fl-node-kdghnzjae6cv\" data-node=\"kdghnzjae6cv\">\n",
      "                <div class=\"fl-module-content fl-node-content\">\n",
      "                 <div class=\"pp-posts-wrapper\">\n",
      "                  <div class=\"pp-content-posts\" style=\"--items-count: 6;--column-xl: 3;--column-lg: 3;--column-md: 3;--column-sm: 2;\">\n",
      "                   <div class=\"pp-content-post-grid pp-equal-height pp-css-grid\" itemscope=\"itemscope\" itemtype=\"https://schema.org/Blog\">\n",
      "                    <div class=\"pp-content-post pp-content-grid-post pp-grid-style-7 post-35961 post type-post status-publish format-standard has-post-thumbnail hentry category-news category-students tag-civ-club tag-club-leaders tag-evan-beri tag-min-club tag-parsa-bondar-sahebi\" data-id=\"35961\" itemscope=\"\" itemtype=\"https://schema.org/BlogPosting\">\n",
      "                     <meta content=\"Introducing CivMin’s Club Chairs\" itemid=\"https://civmin.utoronto.ca/introducing-civmins-club-chairs/\" itemprop=\"mainEntityOfPage\" itemscope=\"\" itemtype=\"https://schema.org/WebPage\"/>\n",
      "                     <meta content=\"2023-09-12\" itemprop=\"datePublished\"/>\n",
      "                     <meta content=\"2023-09-13\" itemprop=\"dateModified\"/>\n",
      "                     <div itemprop=\"publisher\" itemscope=\"\" itemtype=\"https://schema.org/Organization\">\n",
      "                      <meta content=\"Department of Civil &amp; Mineral Engineering\" itemprop=\"name\"/>\n",
      "                     </div>\n",
      "                     <div itemprop=\"author\" itemscope=\"\" itemtype=\"https://schema.org/Person\">\n",
      "                      <meta content=\"https://civmin.utoronto.ca/author/rachael-gallant/\" itemprop=\"url\">\n",
      "                       <meta content=\"Rachael Gallant\" itemprop=\"name\"/>\n",
      "                      </meta>\n",
      "                     </div>\n",
      "                     <div itemprop=\"image\" itemscope=\"\" itemtype=\"https://schema.org/ImageObject\">\n",
      "                      <meta content=\"https://civmin.utoronto.ca/wp-content/uploads/2023/09/winners-famina.png\" itemprop=\"url\"/>\n",
      "                      <meta content=\"1080\" itemprop=\"width\"/>\n",
      "                      <meta content=\"1080\" itemprop=\"height\"/>\n",
      "                     </div>\n",
      "                     <div itemprop=\"interactionStatistic\" itemscope=\"\" itemtype=\"https://schema.org/InteractionCounter\">\n",
      "                      <meta content=\"https://schema.org/CommentAction\" itemprop=\"interactionType\"/>\n",
      "                      <meta content=\"0\" itemprop=\"userInteractionCount\"/>\n",
      "                     </div>\n",
      "                     <a class=\"pp-post-link\" href=\"https://civmin.utoronto.ca/introducing-civmins-club-chairs/\" title=\"Introducing CivMin’s Club Chairs\">\n",
      "                     </a>\n",
      "                     <div class=\"pp-content-grid-image pp-post-image\">\n",
      "                      <div class=\"pp-post-featured-img\">\n",
      "                       <div class=\"fl-photo fl-photo-crop-square fl-photo-align-center\" itemscope=\"\" itemtype=\"https://schema.org/ImageObject\">\n",
      "                        <div class=\"fl-photo-content fl-photo-img-png\">\n",
      "                         <img alt=\"winners famina\" class=\"fl-photo-img wp-image-36072 size-large pp-post-img no-lazyload\" data-no-lazy=\"1\" decoding=\"async\" height=\"1024\" itemprop=\"image\" loading=\"lazy\" src=\"https://civmin.utoronto.ca/wp-content/uploads/bb-plugin/cache/winners-famina-1024x1024-square-3f1799096c33404510671349bddae18e-.png\" title=\"winners famina\" width=\"1024\"/>\n",
      "                        </div>\n",
      "                       </div>\n",
      "                      </div>\n",
      "                     </div>\n",
      "                     <div class=\"pp-content-grid-inner pp-content-body clearfix\">\n",
      "                      <div class=\"pp-content-post-data\">\n",
      "                       <h3 class=\"pp-content-grid-title pp-post-title\" itemprop=\"headline\">\n",
      "                        Introducing CivMin’s Club Chairs\n",
      "                       </h3>\n",
      "                       <div class=\"pp-content-post-meta pp-post-meta\">\n",
      "                        <span class=\"pp-content-post-author pp-post-author\">\n",
      "                         By\n",
      "                         <a href=\"https://civmin.utoronto.ca/author/rachael-gallant/\">\n",
      "                          <span>\n",
      "                           Rachael Gallant\n",
      "                          </span>\n",
      "                         </a>\n",
      "                        </span>\n",
      "                        <span>\n",
      "                         |\n",
      "                        </span>\n",
      "                        <span class=\"pp-content-grid-date pp-post-date\">\n",
      "                         September 12, 2023\n",
      "                        </span>\n",
      "                       </div>\n",
      "                      </div>\n",
      "                     </div>\n",
      "                    </div>\n",
      "                    <div class=\"pp-content-post pp-content-grid-post pp-post-2n pp-grid-style-7 post-36042 post type-post status-publish format-standard has-post-thumbnail hentry category-news tag-lassonde-mineral-engineering tag-mineral-engineering tag-sebastian-goodfellow\" data-id=\"36042\" itemscope=\"\" itemtype=\"https://schema.org/BlogPosting\">\n",
      "                     <meta content=\"CivMin’s Prof. Sebastian Goodfellow in “What’s Your Story?” video\" itemid=\"https://civmin.utoronto.ca/whats-your-story-sebastian-goodfellow/\" itemprop=\"mainEntityOfPage\" itemscope=\"\" itemtype=\"https://schema.org/WebPage\"/>\n",
      "                     <meta content=\"2023-09-11\" itemprop=\"datePublished\"/>\n",
      "                     <meta content=\"2023-09-13\" itemprop=\"dateModified\"/>\n",
      "                     <div itemprop=\"publisher\" itemscope=\"\" itemtype=\"https://schema.org/Organization\">\n",
      "                      <meta content=\"Department of Civil &amp; Mineral Engineering\" itemprop=\"name\"/>\n",
      "                     </div>\n",
      "                     <div itemprop=\"author\" itemscope=\"\" itemtype=\"https://schema.org/Person\">\n",
      "                      <meta content=\"https://civmin.utoronto.ca/author/galina-nikitina/\" itemprop=\"url\">\n",
      "                       <meta content=\"Galina Nikitina\" itemprop=\"name\"/>\n",
      "                      </meta>\n",
      "                     </div>\n",
      "                     <div itemprop=\"image\" itemscope=\"\" itemtype=\"https://schema.org/ImageObject\">\n",
      "                      <meta content=\"https://civmin.utoronto.ca/wp-content/uploads/2023/09/cover_whatsstory.png\" itemprop=\"url\"/>\n",
      "                      <meta content=\"629\" itemprop=\"width\"/>\n",
      "                      <meta content=\"590\" itemprop=\"height\"/>\n",
      "                     </div>\n",
      "                     <div itemprop=\"interactionStatistic\" itemscope=\"\" itemtype=\"https://schema.org/InteractionCounter\">\n",
      "                      <meta content=\"https://schema.org/CommentAction\" itemprop=\"interactionType\"/>\n",
      "                      <meta content=\"0\" itemprop=\"userInteractionCount\"/>\n",
      "                     </div>\n",
      "                     <a class=\"pp-post-link\" href=\"https://civmin.utoronto.ca/whats-your-story-sebastian-goodfellow/\" title=\"CivMin’s Prof. Sebastian Goodfellow in “What’s Your Story?” video\">\n",
      "                     </a>\n",
      "                     <div class=\"pp-content-grid-image pp-post-image\">\n",
      "                      <div class=\"pp-post-featured-img\">\n",
      "                       <div class=\"fl-photo fl-photo-crop-square fl-photo-align-center\" itemscope=\"\" itemtype=\"https://schema.org/ImageObject\">\n",
      "                        <div class=\"fl-photo-content fl-photo-img-png\">\n",
      "                         <img alt=\"cover_what'sstory\" class=\"fl-photo-img wp-image-36047 size-full pp-post-img no-lazyload\" data-no-lazy=\"1\" decoding=\"async\" height=\"590\" itemprop=\"image\" loading=\"lazy\" src=\"https://civmin.utoronto.ca/wp-content/uploads/bb-plugin/cache/cover_whatsstory-square-1ace041f2d5407dfd1d5d30842bf45bf-.png\" title=\"cover_what'sstory\" width=\"629\"/>\n",
      "                        </div>\n",
      "                       </div>\n",
      "                      </div>\n",
      "                     </div>\n",
      "                     <div class=\"pp-content-grid-inner pp-content-body clearfix\">\n",
      "                      <div class=\"pp-content-post-data\">\n",
      "                       <h3 class=\"pp-content-grid-title pp-post-title\" itemprop=\"headline\">\n",
      "                        CivMin’s Prof. Sebastian Goodfellow in “What’s Your Story?” video\n",
      "                       </h3>\n",
      "                       <div class=\"pp-content-post-meta pp-post-meta\">\n",
      "                        <span class=\"pp-content-post-author pp-post-author\">\n",
      "                         By\n",
      "                         <a href=\"https://civmin.utoronto.ca/author/galina-nikitina/\">\n",
      "                          <span>\n",
      "                           Galina Nikitina\n",
      "                          </span>\n",
      "                         </a>\n",
      "                        </span>\n",
      "                        <span>\n",
      "                         |\n",
      "                        </span>\n",
      "                        <span class=\"pp-content-grid-date pp-post-date\">\n",
      "                         September 11, 2023\n",
      "                        </span>\n",
      "                       </div>\n",
      "                      </div>\n",
      "                     </div>\n",
      "                    </div>\n",
      "                    <div class=\"pp-content-post pp-content-grid-post pp-grid-style-7 post-36016 post type-post status-publish format-standard has-post-thumbnail hentry category-news tag-certificate tag-diversity-and-inclusion-in-engineering tag-equity tag-ethics tag-justice tag-new-certification tag-new-course\" data-id=\"36016\" itemscope=\"\" itemtype=\"https://schema.org/BlogPosting\">\n",
      "                     <meta content=\"U of T Engineering launches new certificate in Justice, Equity, Diversity and Inclusion in Engineering\" itemid=\"https://civmin.utoronto.ca/u-of-t-engineering-launches-new-certificate-in-justice-equity-diversity-and-inclusion-in-engineering/\" itemprop=\"mainEntityOfPage\" itemscope=\"\" itemtype=\"https://schema.org/WebPage\"/>\n",
      "                     <meta content=\"2023-09-01\" itemprop=\"datePublished\"/>\n",
      "                     <meta content=\"2023-09-01\" itemprop=\"dateModified\"/>\n",
      "                     <div itemprop=\"publisher\" itemscope=\"\" itemtype=\"https://schema.org/Organization\">\n",
      "                      <meta content=\"Department of Civil &amp; Mineral Engineering\" itemprop=\"name\"/>\n",
      "                     </div>\n",
      "                     <div itemprop=\"author\" itemscope=\"\" itemtype=\"https://schema.org/Person\">\n",
      "                      <meta content=\"https://civmin.utoronto.ca/author/phill-snelutoronto-ca/\" itemprop=\"url\">\n",
      "                       <meta content=\"Phill Snel\" itemprop=\"name\"/>\n",
      "                      </meta>\n",
      "                     </div>\n",
      "                     <div itemprop=\"image\" itemscope=\"\" itemtype=\"https://schema.org/ImageObject\">\n",
      "                      <meta content=\"https://civmin.utoronto.ca/wp-content/uploads/2023/09/Eng-crop.jpg\" itemprop=\"url\"/>\n",
      "                      <meta content=\"226\" itemprop=\"width\"/>\n",
      "                      <meta content=\"226\" itemprop=\"height\"/>\n",
      "                     </div>\n",
      "                     <div itemprop=\"interactionStatistic\" itemscope=\"\" itemtype=\"https://schema.org/InteractionCounter\">\n",
      "                      <meta content=\"https://schema.org/CommentAction\" itemprop=\"interactionType\"/>\n",
      "                      <meta content=\"0\" itemprop=\"userInteractionCount\"/>\n",
      "                     </div>\n",
      "                     <a class=\"pp-post-link\" href=\"https://civmin.utoronto.ca/u-of-t-engineering-launches-new-certificate-in-justice-equity-diversity-and-inclusion-in-engineering/\" title=\"U of T Engineering launches new certificate in Justice, Equity, Diversity and Inclusion in Engineering\">\n",
      "                     </a>\n",
      "                     <div class=\"pp-content-grid-image pp-post-image\">\n",
      "                      <div class=\"pp-post-featured-img\">\n",
      "                       <div class=\"fl-photo fl-photo-crop-square fl-photo-align-center\" itemscope=\"\" itemtype=\"https://schema.org/ImageObject\">\n",
      "                        <div class=\"fl-photo-content fl-photo-img-jpg\">\n",
      "                         <img alt=\"Eng -crop\" class=\"fl-photo-img wp-image-36018 size-full pp-post-img no-lazyload\" data-no-lazy=\"1\" decoding=\"async\" height=\"226\" itemprop=\"image\" loading=\"lazy\" src=\"https://civmin.utoronto.ca/wp-content/uploads/bb-plugin/cache/Eng-crop-square-3b5fbc2c7f40d046fa62ee3eb208e589-.jpg\" title=\"Eng -crop\" width=\"226\"/>\n",
      "                        </div>\n",
      "                       </div>\n",
      "                      </div>\n",
      "                     </div>\n",
      "                     <div class=\"pp-content-grid-inner pp-content-body clearfix\">\n",
      "                      <div class=\"pp-content-post-data\">\n",
      "                       <h3 class=\"pp-content-grid-title pp-post-title\" itemprop=\"headline\">\n",
      "                        U of T Engineering launches new certificate in Justice, Equity, Diversity and Inclusion in Engineering\n",
      "                       </h3>\n",
      "                       <div class=\"pp-content-post-meta pp-post-meta\">\n",
      "                        <span class=\"pp-content-post-author pp-post-author\">\n",
      "                         By\n",
      "                         <a href=\"https://civmin.utoronto.ca/author/phill-snelutoronto-ca/\">\n",
      "                          <span>\n",
      "                           Phill Snel\n",
      "                          </span>\n",
      "                         </a>\n",
      "                        </span>\n",
      "                        <span>\n",
      "                         |\n",
      "                        </span>\n",
      "                        <span class=\"pp-content-grid-date pp-post-date\">\n",
      "                         September 1, 2023\n",
      "                        </span>\n",
      "                       </div>\n",
      "                      </div>\n",
      "                     </div>\n",
      "                    </div>\n",
      "                    <div class=\"pp-content-post pp-content-grid-post pp-post-2n pp-grid-style-7 post-35969 post type-post status-publish format-standard has-post-thumbnail hentry category-news tag-sarah-haines tag-sarah-r-haines\" data-id=\"35969\" itemscope=\"\" itemtype=\"https://schema.org/BlogPosting\">\n",
      "                     <meta content=\"Prof. Sarah Haines’s new laboratory passed certification by EHS\" itemid=\"https://civmin.utoronto.ca/prof-sarah-hainess-new-laboratory-passed-certification-by-ehs/\" itemprop=\"mainEntityOfPage\" itemscope=\"\" itemtype=\"https://schema.org/WebPage\"/>\n",
      "                     <meta content=\"2023-08-29\" itemprop=\"datePublished\"/>\n",
      "                     <meta content=\"2023-09-12\" itemprop=\"dateModified\"/>\n",
      "                     <div itemprop=\"publisher\" itemscope=\"\" itemtype=\"https://schema.org/Organization\">\n",
      "                      <meta content=\"Department of Civil &amp; Mineral Engineering\" itemprop=\"name\"/>\n",
      "                     </div>\n",
      "                     <div itemprop=\"author\" itemscope=\"\" itemtype=\"https://schema.org/Person\">\n",
      "                      <meta content=\"https://civmin.utoronto.ca/author/galina-nikitina/\" itemprop=\"url\">\n",
      "                       <meta content=\"Galina Nikitina\" itemprop=\"name\"/>\n",
      "                      </meta>\n",
      "                     </div>\n",
      "                     <div itemprop=\"image\" itemscope=\"\" itemtype=\"https://schema.org/ImageObject\">\n",
      "                      <meta content=\"https://civmin.utoronto.ca/wp-content/uploads/2023/08/MicrosoftTeams-image-2-scaled-e1693321826861.jpg\" itemprop=\"url\"/>\n",
      "                      <meta content=\"1143\" itemprop=\"width\"/>\n",
      "                      <meta content=\"1143\" itemprop=\"height\"/>\n",
      "                     </div>\n",
      "                     <div itemprop=\"interactionStatistic\" itemscope=\"\" itemtype=\"https://schema.org/InteractionCounter\">\n",
      "                      <meta content=\"https://schema.org/CommentAction\" itemprop=\"interactionType\"/>\n",
      "                      <meta content=\"0\" itemprop=\"userInteractionCount\"/>\n",
      "                     </div>\n",
      "                     <a class=\"pp-post-link\" href=\"https://civmin.utoronto.ca/prof-sarah-hainess-new-laboratory-passed-certification-by-ehs/\" title=\"Prof. Sarah Haines’s new laboratory passed certification by EHS\">\n",
      "                     </a>\n",
      "                     <div class=\"pp-content-grid-image pp-post-image\">\n",
      "                      <div class=\"pp-post-featured-img\">\n",
      "                       <div class=\"fl-photo fl-photo-crop-square fl-photo-align-center\" itemscope=\"\" itemtype=\"https://schema.org/ImageObject\">\n",
      "                        <div class=\"fl-photo-content fl-photo-img-jpg\">\n",
      "                         <img alt=\"MicrosoftTeams-image (2)\" class=\"fl-photo-img wp-image-35977 size-large pp-post-img no-lazyload\" data-no-lazy=\"1\" decoding=\"async\" height=\"1024\" itemprop=\"image\" loading=\"lazy\" src=\"https://civmin.utoronto.ca/wp-content/uploads/bb-plugin/cache/MicrosoftTeams-image-2-scaled-e1693321826861-1024x1024-square-ff13162d6c4fa88a753d96a9f74f8c9d-.jpg\" title=\"MicrosoftTeams-image (2)\" width=\"1024\"/>\n",
      "                        </div>\n",
      "                       </div>\n",
      "                      </div>\n",
      "                     </div>\n",
      "                     <div class=\"pp-content-grid-inner pp-content-body clearfix\">\n",
      "                      <div class=\"pp-content-post-data\">\n",
      "                       <h3 class=\"pp-content-grid-title pp-post-title\" itemprop=\"headline\">\n",
      "                        Prof. Sarah Haines’s new laboratory passed certification by EHS\n",
      "                       </h3>\n",
      "                       <div class=\"pp-content-post-meta pp-post-meta\">\n",
      "                        <span class=\"pp-content-post-author pp-post-author\">\n",
      "                         By\n",
      "                         <a href=\"https://civmin.utoronto.ca/author/galina-nikitina/\">\n",
      "                          <span>\n",
      "                           Galina Nikitina\n",
      "                          </span>\n",
      "                         </a>\n",
      "                        </span>\n",
      "                        <span>\n",
      "                         |\n",
      "                        </span>\n",
      "                        <span class=\"pp-content-grid-date pp-post-date\">\n",
      "                         August 29, 2023\n",
      "                        </span>\n",
      "                       </div>\n",
      "                      </div>\n",
      "                     </div>\n",
      "                    </div>\n",
      "                    <div class=\"pp-content-post pp-content-grid-post pp-grid-style-7 post-35667 post type-post status-publish format-standard has-post-thumbnail hentry category-news category-students tag-dear-saigon tag-ghafghazi tag-haobo-zhao tag-lizhi-qi tag-mason-ghafghazi tag-pey-co-op tag-summer-job tag-summer-research tag-undergraduate\" data-id=\"35667\" itemscope=\"\" itemtype=\"https://schema.org/BlogPosting\">\n",
      "                     <meta content=\"Meet our CivMin summer student: Haobo Zhao\" itemid=\"https://civmin.utoronto.ca/meet-our-civmin-summer-student-haobo-zhao/\" itemprop=\"mainEntityOfPage\" itemscope=\"\" itemtype=\"https://schema.org/WebPage\"/>\n",
      "                     <meta content=\"2023-08-24\" itemprop=\"datePublished\"/>\n",
      "                     <meta content=\"2023-08-24\" itemprop=\"dateModified\"/>\n",
      "                     <div itemprop=\"publisher\" itemscope=\"\" itemtype=\"https://schema.org/Organization\">\n",
      "                      <meta content=\"Department of Civil &amp; Mineral Engineering\" itemprop=\"name\"/>\n",
      "                     </div>\n",
      "                     <div itemprop=\"author\" itemscope=\"\" itemtype=\"https://schema.org/Person\">\n",
      "                      <meta content=\"https://civmin.utoronto.ca/author/rachael-gallant/\" itemprop=\"url\">\n",
      "                       <meta content=\"Rachael Gallant\" itemprop=\"name\"/>\n",
      "                      </meta>\n",
      "                     </div>\n",
      "                     <div itemprop=\"image\" itemscope=\"\" itemtype=\"https://schema.org/ImageObject\">\n",
      "                      <meta content=\"https://civmin.utoronto.ca/wp-content/uploads/2023/08/unnamed-1-1-scaled-e1692894662766.jpg\" itemprop=\"url\"/>\n",
      "                      <meta content=\"1587\" itemprop=\"width\"/>\n",
      "                      <meta content=\"1587\" itemprop=\"height\"/>\n",
      "                     </div>\n",
      "                     <div itemprop=\"interactionStatistic\" itemscope=\"\" itemtype=\"https://schema.org/InteractionCounter\">\n",
      "                      <meta content=\"https://schema.org/CommentAction\" itemprop=\"interactionType\"/>\n",
      "                      <meta content=\"0\" itemprop=\"userInteractionCount\"/>\n",
      "                     </div>\n",
      "                     <a class=\"pp-post-link\" href=\"https://civmin.utoronto.ca/meet-our-civmin-summer-student-haobo-zhao/\" title=\"Meet our CivMin summer student: Haobo Zhao\">\n",
      "                     </a>\n",
      "                     <div class=\"pp-content-grid-image pp-post-image\">\n",
      "                      <div class=\"pp-post-featured-img\">\n",
      "                       <div class=\"fl-photo fl-photo-crop-square fl-photo-align-center\" itemscope=\"\" itemtype=\"https://schema.org/ImageObject\">\n",
      "                        <div class=\"fl-photo-content fl-photo-img-jpg\">\n",
      "                         <img alt=\"unnamed (1)\" class=\"fl-photo-img wp-image-35939 size-large pp-post-img no-lazyload\" data-no-lazy=\"1\" decoding=\"async\" height=\"1024\" itemprop=\"image\" loading=\"lazy\" src=\"https://civmin.utoronto.ca/wp-content/uploads/bb-plugin/cache/unnamed-1-1-scaled-e1692894662766-1024x1024-square-5c17789068039c8c2c944033b1515f56-.jpg\" title=\"unnamed (1)\" width=\"1024\"/>\n",
      "                        </div>\n",
      "                       </div>\n",
      "                      </div>\n",
      "                     </div>\n",
      "                     <div class=\"pp-content-grid-inner pp-content-body clearfix\">\n",
      "                      <div class=\"pp-content-post-data\">\n",
      "                       <h3 class=\"pp-content-grid-title pp-post-title\" itemprop=\"headline\">\n",
      "                        Meet our CivMin summer student: Haobo Zhao\n",
      "                       </h3>\n",
      "                       <div class=\"pp-content-post-meta pp-post-meta\">\n",
      "                        <span class=\"pp-content-post-author pp-post-author\">\n",
      "                         By\n",
      "                         <a href=\"https://civmin.utoronto.ca/author/rachael-gallant/\">\n",
      "                          <span>\n",
      "                           Rachael Gallant\n",
      "                          </span>\n",
      "                         </a>\n",
      "                        </span>\n",
      "                        <span>\n",
      "                         |\n",
      "                        </span>\n",
      "                        <span class=\"pp-content-grid-date pp-post-date\">\n",
      "                         August 24, 2023\n",
      "                        </span>\n",
      "                       </div>\n",
      "                      </div>\n",
      "                     </div>\n",
      "                    </div>\n",
      "                    <div class=\"pp-content-post pp-content-grid-post pp-post-2n pp-grid-style-7 post-35700 post type-post status-publish format-standard has-post-thumbnail hentry category-news\" data-id=\"35700\" itemscope=\"\" itemtype=\"https://schema.org/BlogPosting\">\n",
      "                     <meta content=\"CivMin represented at UnERD 2023\" itemid=\"https://civmin.utoronto.ca/civmin-students-participated-in-unerd-2023/\" itemprop=\"mainEntityOfPage\" itemscope=\"\" itemtype=\"https://schema.org/WebPage\"/>\n",
      "                     <meta content=\"2023-08-22\" itemprop=\"datePublished\"/>\n",
      "                     <meta content=\"2023-08-23\" itemprop=\"dateModified\"/>\n",
      "                     <div itemprop=\"publisher\" itemscope=\"\" itemtype=\"https://schema.org/Organization\">\n",
      "                      <meta content=\"Department of Civil &amp; Mineral Engineering\" itemprop=\"name\"/>\n",
      "                     </div>\n",
      "                     <div itemprop=\"author\" itemscope=\"\" itemtype=\"https://schema.org/Person\">\n",
      "                      <meta content=\"https://civmin.utoronto.ca/author/galina-nikitina/\" itemprop=\"url\">\n",
      "                       <meta content=\"Galina Nikitina\" itemprop=\"name\"/>\n",
      "                      </meta>\n",
      "                     </div>\n",
      "                     <div itemprop=\"image\" itemscope=\"\" itemtype=\"https://schema.org/ImageObject\">\n",
      "                      <meta content=\"https://civmin.utoronto.ca/wp-content/uploads/2023/08/unerd2023_crop.png\" itemprop=\"url\"/>\n",
      "                      <meta content=\"549\" itemprop=\"width\"/>\n",
      "                      <meta content=\"549\" itemprop=\"height\"/>\n",
      "                     </div>\n",
      "                     <div itemprop=\"interactionStatistic\" itemscope=\"\" itemtype=\"https://schema.org/InteractionCounter\">\n",
      "                      <meta content=\"https://schema.org/CommentAction\" itemprop=\"interactionType\"/>\n",
      "                      <meta content=\"0\" itemprop=\"userInteractionCount\"/>\n",
      "                     </div>\n",
      "                     <a class=\"pp-post-link\" href=\"https://civmin.utoronto.ca/civmin-students-participated-in-unerd-2023/\" title=\"CivMin represented at UnERD 2023\">\n",
      "                     </a>\n",
      "                     <div class=\"pp-content-grid-image pp-post-image\">\n",
      "                      <div class=\"pp-post-featured-img\">\n",
      "                       <div class=\"fl-photo fl-photo-crop-square fl-photo-align-center\" itemscope=\"\" itemtype=\"https://schema.org/ImageObject\">\n",
      "                        <div class=\"fl-photo-content fl-photo-img-png\">\n",
      "                         <img alt=\"unerd2023_crop\" class=\"fl-photo-img wp-image-35858 size-full pp-post-img no-lazyload\" data-no-lazy=\"1\" decoding=\"async\" height=\"549\" itemprop=\"image\" loading=\"lazy\" src=\"https://civmin.utoronto.ca/wp-content/uploads/bb-plugin/cache/unerd2023_crop-square-1c9f08fd07451cdaeddc2ce769ad9b68-.png\" title=\"unerd2023_crop\" width=\"549\"/>\n",
      "                        </div>\n",
      "                       </div>\n",
      "                      </div>\n",
      "                     </div>\n",
      "                     <div class=\"pp-content-grid-inner pp-content-body clearfix\">\n",
      "                      <div class=\"pp-content-post-data\">\n",
      "                       <h3 class=\"pp-content-grid-title pp-post-title\" itemprop=\"headline\">\n",
      "                        CivMin represented at UnERD 2023\n",
      "                       </h3>\n",
      "                       <div class=\"pp-content-post-meta pp-post-meta\">\n",
      "                        <span class=\"pp-content-post-author pp-post-author\">\n",
      "                         By\n",
      "                         <a href=\"https://civmin.utoronto.ca/author/galina-nikitina/\">\n",
      "                          <span>\n",
      "                           Galina Nikitina\n",
      "                          </span>\n",
      "                         </a>\n",
      "                        </span>\n",
      "                        <span>\n",
      "                         |\n",
      "                        </span>\n",
      "                        <span class=\"pp-content-grid-date pp-post-date\">\n",
      "                         August 22, 2023\n",
      "                        </span>\n",
      "                       </div>\n",
      "                      </div>\n",
      "                     </div>\n",
      "                    </div>\n",
      "                   </div>\n",
      "                   <div class=\"fl-clear\">\n",
      "                   </div>\n",
      "                   <div class=\"pp-content-grid-pagination fl-builder-pagination\">\n",
      "                   </div>\n",
      "                  </div>\n",
      "                  <!-- .pp-content-posts -->\n",
      "                 </div>\n",
      "                </div>\n",
      "               </div>\n",
      "              </div>\n",
      "             </div>\n",
      "             <div class=\"fl-col fl-node-pxa3jebm5q8s fl-col-small\" data-node=\"pxa3jebm5q8s\">\n",
      "              <div class=\"fl-col-content fl-node-content\">\n",
      "               <div class=\"fl-module fl-module-heading fl-node-leb6y1ad8cpv\" data-node=\"leb6y1ad8cpv\">\n",
      "                <div class=\"fl-module-content fl-node-content\">\n",
      "                 <h2 class=\"fl-heading\">\n",
      "                  <a href=\"https://civmin.utoronto.ca/home/about-us/calendar/\" target=\"_self\" title=\"Upcoming Events\">\n",
      "                   <span class=\"fl-heading-text\">\n",
      "                    Upcoming Events\n",
      "                   </span>\n",
      "                  </a>\n",
      "                 </h2>\n",
      "                </div>\n",
      "               </div>\n",
      "               <div class=\"fl-module fl-module-widget fl-node-acs43eizd7tx\" data-node=\"acs43eizd7tx\">\n",
      "                <div class=\"fl-module-content fl-node-content\">\n",
      "                 <div class=\"fl-widget\">\n",
      "                  <div class=\"widget widget_ai1ec_agenda_widget\">\n",
      "                   <h2 class=\"widgettitle\">\n",
      "                   </h2>\n",
      "                   <style>\n",
      "                    <!--\n",
      "\n",
      "-->\n",
      "                   </style>\n",
      "                   <div class=\"timely ai1ec-agenda-widget-view ai1ec-clearfix\">\n",
      "                    <div>\n",
      "                     <div class=\"ai1ec-date\">\n",
      "                      <a class=\"ai1ec-date-title ai1ec-load-view\" href=\"https://civmin.utoronto.ca/home/about-us/calendar/action~oneday/exact_date~21-9-2023/\">\n",
      "                       <div class=\"ai1ec-month\">\n",
      "                        Sep\n",
      "                       </div>\n",
      "                       <div class=\"ai1ec-day\">\n",
      "                        21\n",
      "                       </div>\n",
      "                       <div class=\"ai1ec-weekday\">\n",
      "                        Thu\n",
      "                       </div>\n",
      "                      </a>\n",
      "                      <div class=\"ai1ec-date-events\">\n",
      "                       <div class=\"ai1ec-event ai1ec-event-id-36101 ai1ec-event-instance-id-1423\">\n",
      "                        <a class=\"ai1ec-popup-trigger ai1ec-load-event\" href=\"https://civmin.utoronto.ca/event/masc-presentation-by-victor-kehdi-frutuoso-groundwater-flow-and-transport-model-of-chloroanilines-chlorobenzenes-and-dichlorobenzenes-at-an-industrial-site-in-brazil/?instance_id=1423\">\n",
      "                         <span class=\"ai1ec-event-time\">\n",
      "                          9:00 am\n",
      "                         </span>\n",
      "                         <span class=\"ai1ec-event-title\">\n",
      "                          MASc presentation by Victor Kehd...\n",
      "                         </span>\n",
      "                        </a>\n",
      "                        <div class=\"ai1ec-popover ai1ec-popup ai1ec-event-instance-id-1423\">\n",
      "                         <span class=\"ai1ec-popup-title\">\n",
      "                          <a class=\"ai1ec-load-event\" href=\"https://civmin.utoronto.ca/event/masc-presentation-by-victor-kehdi-frutuoso-groundwater-flow-and-transport-model-of-chloroanilines-chlorobenzenes-and-dichlorobenzenes-at-an-industrial-site-in-brazil/?instance_id=1423\">\n",
      "                           MASc presentation by Victor Kehd...\n",
      "                          </a>\n",
      "                         </span>\n",
      "                         <div class=\"ai1ec-event-time\">\n",
      "                          Sep 21 @ 9:00 am – 10:30 am\n",
      "                         </div>\n",
      "                         <div class=\"ai1ec-popup-excerpt\">\n",
      "                          Groundwater Flow and Transport Model of Chloroanilines, Chlorobenzenes, and Dichlorobenzenes at an Industrial Site in Brazil  (MASc thesis presentation) Candidate: Victor Kehdi Frutuoso Supervisor:  Prof. Brent Sleep Thursday, September 21, 2023, 9 a.m. to 10:30 a.m. Location: SF1009,[...]\n",
      "                         </div>\n",
      "                        </div>\n",
      "                       </div>\n",
      "                      </div>\n",
      "                     </div>\n",
      "                     <div class=\"ai1ec-date\">\n",
      "                      <a class=\"ai1ec-date-title ai1ec-load-view\" href=\"https://civmin.utoronto.ca/home/about-us/calendar/action~oneday/exact_date~28-9-2023/\">\n",
      "                       <div class=\"ai1ec-month\">\n",
      "                        Sep\n",
      "                       </div>\n",
      "                       <div class=\"ai1ec-day\">\n",
      "                        28\n",
      "                       </div>\n",
      "                       <div class=\"ai1ec-weekday\">\n",
      "                        Thu\n",
      "                       </div>\n",
      "                      </a>\n",
      "                      <div class=\"ai1ec-date-events\">\n",
      "                       <div class=\"ai1ec-event ai1ec-event-id-36086 ai1ec-event-instance-id-1420\">\n",
      "                        <a class=\"ai1ec-popup-trigger ai1ec-load-event\" href=\"https://civmin.utoronto.ca/event/nsbe-at-u-of-t-invites-you-to-a-nasdaq-lunch-and-learn-2023/?instance_id=1420\">\n",
      "                         <span class=\"ai1ec-event-time\">\n",
      "                          6:00 pm\n",
      "                         </span>\n",
      "                         <span class=\"ai1ec-event-title\">\n",
      "                          NSBE at U of T invites you to a ...\n",
      "                         </span>\n",
      "                        </a>\n",
      "                        <div class=\"ai1ec-popover ai1ec-popup ai1ec-event-instance-id-1420\">\n",
      "                         <span class=\"ai1ec-popup-title\">\n",
      "                          <a class=\"ai1ec-load-event\" href=\"https://civmin.utoronto.ca/event/nsbe-at-u-of-t-invites-you-to-a-nasdaq-lunch-and-learn-2023/?instance_id=1420\">\n",
      "                           NSBE at U of T invites you to a ...\n",
      "                          </a>\n",
      "                         </span>\n",
      "                         <div class=\"ai1ec-event-time\">\n",
      "                          Sep 28 @ 6:00 pm – 8:00 pm\n",
      "                         </div>\n",
      "                         <a class=\"ai1ec-load-event\" href=\"https://civmin.utoronto.ca/event/nsbe-at-u-of-t-invites-you-to-a-nasdaq-lunch-and-learn-2023/?instance_id=1420\">\n",
      "                          <div class=\"ai1ec-event-avatar timely ai1ec-content_img ai1ec-landscape\">\n",
      "                           <img alt=\"NSBE at U of T invites you to a Nasdaq Lunch and Learn 2023\" decoding=\"async\" height=\"199\" loading=\"lazy\" src=\"https://mcusercontent.com/f6cfc2187f22636ea6c92ed2d/images/6ce37993-5be2-0444-95fc-2ef96942c59c.png\" width=\"355\"/>\n",
      "                          </div>\n",
      "                         </a>\n",
      "                         <div class=\"ai1ec-popup-excerpt\">\n",
      "                          NSBE at U of T invites you to a Nasdaq Lunch and Learn 2023 The National Society of Black Engineers (NSBE) at U of T hosts a Nasdaq Lunch and Learn 2023. If you want to[...]\n",
      "                         </div>\n",
      "                        </div>\n",
      "                       </div>\n",
      "                      </div>\n",
      "                     </div>\n",
      "                     <div class=\"ai1ec-date\">\n",
      "                      <a class=\"ai1ec-date-title ai1ec-load-view\" href=\"https://civmin.utoronto.ca/home/about-us/calendar/action~oneday/exact_date~29-9-2023/\">\n",
      "                       <div class=\"ai1ec-month\">\n",
      "                        Sep\n",
      "                       </div>\n",
      "                       <div class=\"ai1ec-day\">\n",
      "                        29\n",
      "                       </div>\n",
      "                       <div class=\"ai1ec-weekday\">\n",
      "                        Fri\n",
      "                       </div>\n",
      "                      </a>\n",
      "                      <div class=\"ai1ec-date-events\">\n",
      "                       <div class=\"ai1ec-event ai1ec-event-id-36050 ai1ec-event-instance-id-1415\">\n",
      "                        <a class=\"ai1ec-popup-trigger ai1ec-load-event\" href=\"https://civmin.utoronto.ca/event/carte-2023-student-networking-event/?instance_id=1415\">\n",
      "                         <span class=\"ai1ec-event-time\">\n",
      "                          1:00 pm\n",
      "                         </span>\n",
      "                         <span class=\"ai1ec-event-title\">\n",
      "                          CARTE 2023 Student Networking Event\n",
      "                         </span>\n",
      "                        </a>\n",
      "                        <div class=\"ai1ec-popover ai1ec-popup ai1ec-event-instance-id-1415\">\n",
      "                         <span class=\"ai1ec-popup-title\">\n",
      "                          <a class=\"ai1ec-load-event\" href=\"https://civmin.utoronto.ca/event/carte-2023-student-networking-event/?instance_id=1415\">\n",
      "                           CARTE 2023 Student Networking Event\n",
      "                          </a>\n",
      "                         </span>\n",
      "                         <div class=\"ai1ec-event-time\">\n",
      "                          Sep 29 @ 1:00 pm – 3:00 pm\n",
      "                         </div>\n",
      "                         <a class=\"ai1ec-load-event\" href=\"https://civmin.utoronto.ca/event/carte-2023-student-networking-event/?instance_id=1415\">\n",
      "                          <div class=\"ai1ec-event-avatar timely ai1ec-content_img ai1ec-landscape\">\n",
      "                           <img alt=\"CARTE 2023 Student Networking Event\" decoding=\"async\" height=\"191\" loading=\"lazy\" src=\"https://mcusercontent.com/f6cfc2187f22636ea6c92ed2d/images/8cc42b8e-c1ed-42fc-3d91-f3bcbdfa9b3c.jpg\" width=\"850\"/>\n",
      "                          </div>\n",
      "                         </a>\n",
      "                         <div class=\"ai1ec-popup-excerpt\">\n",
      "                          CARTE 2023 Student Networking Event Attention University of Toronto students: On Friday, September 29, from 1:00 – 3:00 p.m., join the in-person student networking event organized by the Centre for Analytics and AI Engineering (CARTE) and learn from[...]\n",
      "                         </div>\n",
      "                        </div>\n",
      "                       </div>\n",
      "                      </div>\n",
      "                     </div>\n",
      "                     <div class=\"ai1ec-date\">\n",
      "                      <a class=\"ai1ec-date-title ai1ec-load-view\" href=\"https://civmin.utoronto.ca/home/about-us/calendar/action~oneday/exact_date~30-9-2023/\">\n",
      "                       <div class=\"ai1ec-month\">\n",
      "                        Sep\n",
      "                       </div>\n",
      "                       <div class=\"ai1ec-day\">\n",
      "                        30\n",
      "                       </div>\n",
      "                       <div class=\"ai1ec-weekday\">\n",
      "                        Sat\n",
      "                       </div>\n",
      "                      </a>\n",
      "                      <div class=\"ai1ec-date-events\">\n",
      "                       <div class=\"ai1ec-event ai1ec-event-id-35565 ai1ec-event-instance-id-1400 ai1ec-allday\">\n",
      "                        <a class=\"ai1ec-popup-trigger ai1ec-load-event\" href=\"https://civmin.utoronto.ca/event/deadline-for-mining-industry-human-resources-councils-mihr-scholarship/?instance_id=1400\">\n",
      "                         <span class=\"ai1ec-allday-badge\">\n",
      "                          all-day\n",
      "                         </span>\n",
      "                         <span class=\"ai1ec-event-title\">\n",
      "                          DEADLINE for Mining Industry Hum...\n",
      "                         </span>\n",
      "                        </a>\n",
      "                        <div class=\"ai1ec-popover ai1ec-popup ai1ec-event-instance-id-1400\">\n",
      "                         <span class=\"ai1ec-popup-title\">\n",
      "                          <a class=\"ai1ec-load-event\" href=\"https://civmin.utoronto.ca/event/deadline-for-mining-industry-human-resources-councils-mihr-scholarship/?instance_id=1400\">\n",
      "                           DEADLINE for Mining Industry Hum...\n",
      "                          </a>\n",
      "                         </span>\n",
      "                         <div class=\"ai1ec-event-time\">\n",
      "                          Sep 30\n",
      "                          <span class=\"ai1ec-allday-badge\">\n",
      "                           all-day\n",
      "                          </span>\n",
      "                         </div>\n",
      "                         <div class=\"ai1ec-popup-excerpt\">\n",
      "                          The Mining Industry Human Resources Council’s (MiHR) I Chose Mining. Mining Chose Me. Scholarship Program for Mineral Engineering students.  MiHR is awarding 10 scholarships of $2,500 to students in mining-related programs over five years. Student requirements: registered in[...]\n",
      "                         </div>\n",
      "                        </div>\n",
      "                       </div>\n",
      "                      </div>\n",
      "                     </div>\n",
      "                     <div class=\"ai1ec-date\">\n",
      "                      <a class=\"ai1ec-date-title ai1ec-load-view\" href=\"https://civmin.utoronto.ca/home/about-us/calendar/action~oneday/exact_date~2-10-2023/\">\n",
      "                       <div class=\"ai1ec-month\">\n",
      "                        Oct\n",
      "                       </div>\n",
      "                       <div class=\"ai1ec-day\">\n",
      "                        2\n",
      "                       </div>\n",
      "                       <div class=\"ai1ec-weekday\">\n",
      "                        Mon\n",
      "                       </div>\n",
      "                      </a>\n",
      "                      <div class=\"ai1ec-date-events\">\n",
      "                       <div class=\"ai1ec-event ai1ec-event-id-36070 ai1ec-event-instance-id-1418\">\n",
      "                        <a class=\"ai1ec-popup-trigger ai1ec-load-event\" href=\"https://civmin.utoronto.ca/event/phd-departmental-defence-by-satya-narneni-macro-and-microstructural-effects-of-combined-exposures-of-alkali-silica-reaction-with-carbonation-freeze-thaw-and-chloride-ingress-on-concrete-deteriorat/?instance_id=1418\">\n",
      "                         <span class=\"ai1ec-event-time\">\n",
      "                          11:30 am\n",
      "                         </span>\n",
      "                         <span class=\"ai1ec-event-title\">\n",
      "                          PhD Departmental Defence by Saty...\n",
      "                         </span>\n",
      "                        </a>\n",
      "                        <div class=\"ai1ec-popover ai1ec-popup ai1ec-event-instance-id-1418\">\n",
      "                         <span class=\"ai1ec-popup-title\">\n",
      "                          <a class=\"ai1ec-load-event\" href=\"https://civmin.utoronto.ca/event/phd-departmental-defence-by-satya-narneni-macro-and-microstructural-effects-of-combined-exposures-of-alkali-silica-reaction-with-carbonation-freeze-thaw-and-chloride-ingress-on-concrete-deteriorat/?instance_id=1418\">\n",
      "                           PhD Departmental Defence by Saty...\n",
      "                          </a>\n",
      "                         </span>\n",
      "                         <div class=\"ai1ec-event-time\">\n",
      "                          Oct 2 @ 11:30 am – 1:00 pm\n",
      "                         </div>\n",
      "                         <a class=\"ai1ec-load-event\" href=\"https://civmin.utoronto.ca/event/phd-departmental-defence-by-satya-narneni-macro-and-microstructural-effects-of-combined-exposures-of-alkali-silica-reaction-with-carbonation-freeze-thaw-and-chloride-ingress-on-concrete-deteriorat/?instance_id=1418\">\n",
      "                          <div class=\"ai1ec-event-avatar timely ai1ec-content_img ai1ec-portrait\">\n",
      "                           <img alt=\"PhD Departmental Defence by Satya Narneni: Macro- and Microstructural Effects of Combined Exposures of Alkali-Silica Reaction with Carbonation, Freeze-Thaw, and Chloride Ingress on Concrete Deterioration \" decoding=\"async\" height=\"300\" loading=\"lazy\" src=\"https://civmin.utoronto.ca/wp-content/uploads/2023/09/satyanarayana-photo-225x300.jpg\" width=\"225\"/>\n",
      "                          </div>\n",
      "                         </a>\n",
      "                         <div class=\"ai1ec-popup-excerpt\">\n",
      "                          Macro- and Microstructural Effects of Combined Exposures of Alkali-Silica Reaction with Carbonation, Freeze-Thaw, and Chloride Ingress on Concrete Deterioration (PhD Departmental Defence) Candidate: Satya Narneni Supervisor: Prof. Daman Panesar Monday, October 2, 2023 at 11:30 a.m. [...]\n",
      "                         </div>\n",
      "                        </div>\n",
      "                       </div>\n",
      "                      </div>\n",
      "                     </div>\n",
      "                    </div>\n",
      "                    <div class=\"ai1ec-subscribe-buttons-widget\">\n",
      "                     <a class=\"ai1ec-btn ai1ec-btn-default ai1ec-btn-xs ai1ec-pull-right ai1ec-calendar-link\" href=\"https://civmin.utoronto.ca/home/about-us/calendar/\">\n",
      "                      View Calendar\n",
      "                      <i class=\"ai1ec-fa ai1ec-fa-arrow-right\">\n",
      "                      </i>\n",
      "                     </a>\n",
      "                    </div>\n",
      "                   </div>\n",
      "                  </div>\n",
      "                 </div>\n",
      "                </div>\n",
      "               </div>\n",
      "               <div class=\"fl-module fl-module-heading fl-node-ftepuc7w83m2\" data-node=\"ftepuc7w83m2\">\n",
      "                <div class=\"fl-module-content fl-node-content\">\n",
      "                 <h2 class=\"fl-heading\">\n",
      "                  <a href=\"https://civmin.utoronto.ca/page/in-the-news/\" target=\"_self\" title=\"CivMin Experts In The News\">\n",
      "                   <span class=\"fl-heading-text\">\n",
      "                    CivMin Experts In The News\n",
      "                   </span>\n",
      "                  </a>\n",
      "                 </h2>\n",
      "                </div>\n",
      "               </div>\n",
      "               <div class=\"fl-module fl-module-pp-content-grid fl-node-q50lrmh1sian\" data-node=\"q50lrmh1sian\">\n",
      "                <div class=\"fl-module-content fl-node-content\">\n",
      "                 <div class=\"pp-posts-wrapper\">\n",
      "                  <div class=\"pp-content-posts\" style=\"--items-count: 5;--column-xl: 1;--column-lg: 1;--column-md: 1;--column-sm: 1;\">\n",
      "                   <div class=\"pp-content-post-grid pp-masonry-active clearfix\" itemscope=\"itemscope\" itemtype=\"https://schema.org/Blog\">\n",
      "                    <div class=\"pp-content-post pp-content-grid-post pp-grid-default post-36078 post type-post status-publish format-standard hentry category-in-the-news tag-mohammed-basheer\" data-id=\"36078\" itemscope=\"\" itemtype=\"https://schema.org/BlogPosting\">\n",
      "                     <meta content=\"Prof. Mohammed Basheer | Why is Egypt worried about Ethiopia’s dam on the Nile?\" itemid=\"https://civmin.utoronto.ca/prof-mohammed-basheer-why-is-egypt-worried-about-ethiopias-dam-on-the-nile/\" itemprop=\"mainEntityOfPage\" itemscope=\"\" itemtype=\"https://schema.org/WebPage\"/>\n",
      "                     <meta content=\"2023-09-14\" itemprop=\"datePublished\"/>\n",
      "                     <meta content=\"2023-09-14\" itemprop=\"dateModified\"/>\n",
      "                     <div itemprop=\"publisher\" itemscope=\"\" itemtype=\"https://schema.org/Organization\">\n",
      "                      <meta content=\"Department of Civil &amp; Mineral Engineering\" itemprop=\"name\"/>\n",
      "                     </div>\n",
      "                     <div itemprop=\"author\" itemscope=\"\" itemtype=\"https://schema.org/Person\">\n",
      "                      <meta content=\"https://civmin.utoronto.ca/author/phill-snelutoronto-ca/\" itemprop=\"url\">\n",
      "                       <meta content=\"Phill Snel\" itemprop=\"name\"/>\n",
      "                      </meta>\n",
      "                     </div>\n",
      "                     <div itemprop=\"interactionStatistic\" itemscope=\"\" itemtype=\"https://schema.org/InteractionCounter\">\n",
      "                      <meta content=\"https://schema.org/CommentAction\" itemprop=\"interactionType\"/>\n",
      "                      <meta content=\"0\" itemprop=\"userInteractionCount\"/>\n",
      "                     </div>\n",
      "                     <div class=\"pp-content-grid-inner pp-content-body clearfix\">\n",
      "                      <div class=\"pp-content-post-data\">\n",
      "                       <h6 class=\"pp-content-grid-title pp-post-title\" itemprop=\"headline\">\n",
      "                        <a href=\"https://civmin.utoronto.ca/prof-mohammed-basheer-why-is-egypt-worried-about-ethiopias-dam-on-the-nile/\" title=\"Prof. Mohammed Basheer | Why is Egypt worried about Ethiopia’s dam on the Nile?\">\n",
      "                         Prof. Mohammed Basheer | Why is Egypt worried about Ethiopia’s dam on the Nile?\n",
      "                        </a>\n",
      "                       </h6>\n",
      "                       <div class=\"pp-content-grid-content pp-post-content content-type-excerpt\">\n",
      "                        <p>\n",
      "                         September 13, 2023 | BBC News\n",
      "                        </p>\n",
      "                       </div>\n",
      "                      </div>\n",
      "                     </div>\n",
      "                    </div>\n",
      "                    <div class=\"pp-content-post pp-content-grid-post pp-post-2n pp-grid-default post-36068 post type-post status-publish format-standard hentry category-in-the-news tag-jeff-siegel tag-jefffrey-siegel tag-jeffrey-siegel\" data-id=\"36068\" itemscope=\"\" itemtype=\"https://schema.org/BlogPosting\">\n",
      "                     <meta content=\"Prof. Jeffrey Siegel | Parents, teachers call for better air quality in schools amid wildfire, virus concerns\" itemid=\"https://civmin.utoronto.ca/prof-jeffrey-siegel-parents-teachers-call-for-better-air-quality-in-schools-amid-wildfire-virus-concerns/\" itemprop=\"mainEntityOfPage\" itemscope=\"\" itemtype=\"https://schema.org/WebPage\"/>\n",
      "                     <meta content=\"2023-09-13\" itemprop=\"datePublished\"/>\n",
      "                     <meta content=\"2023-09-13\" itemprop=\"dateModified\"/>\n",
      "                     <div itemprop=\"publisher\" itemscope=\"\" itemtype=\"https://schema.org/Organization\">\n",
      "                      <meta content=\"Department of Civil &amp; Mineral Engineering\" itemprop=\"name\"/>\n",
      "                     </div>\n",
      "                     <div itemprop=\"author\" itemscope=\"\" itemtype=\"https://schema.org/Person\">\n",
      "                      <meta content=\"https://civmin.utoronto.ca/author/galina-nikitina/\" itemprop=\"url\">\n",
      "                       <meta content=\"Galina Nikitina\" itemprop=\"name\"/>\n",
      "                      </meta>\n",
      "                     </div>\n",
      "                     <div itemprop=\"interactionStatistic\" itemscope=\"\" itemtype=\"https://schema.org/InteractionCounter\">\n",
      "                      <meta content=\"https://schema.org/CommentAction\" itemprop=\"interactionType\"/>\n",
      "                      <meta content=\"0\" itemprop=\"userInteractionCount\"/>\n",
      "                     </div>\n",
      "                     <div class=\"pp-content-grid-inner pp-content-body clearfix\">\n",
      "                      <div class=\"pp-content-post-data\">\n",
      "                       <h6 class=\"pp-content-grid-title pp-post-title\" itemprop=\"headline\">\n",
      "                        <a href=\"https://civmin.utoronto.ca/prof-jeffrey-siegel-parents-teachers-call-for-better-air-quality-in-schools-amid-wildfire-virus-concerns/\" title=\"Prof. Jeffrey Siegel | Parents, teachers call for better air quality in schools amid wildfire, virus concerns\">\n",
      "                         Prof. Jeffrey Siegel | Parents, teachers call for better air quality in schools amid wildfire, virus concerns\n",
      "                        </a>\n",
      "                       </h6>\n",
      "                       <div class=\"pp-content-grid-content pp-post-content content-type-excerpt\">\n",
      "                        <p>\n",
      "                         September 12, 2023 | Global News\n",
      "                        </p>\n",
      "                       </div>\n",
      "                      </div>\n",
      "                     </div>\n",
      "                    </div>\n",
      "                    <div class=\"pp-content-post pp-content-grid-post pp-grid-default post-36066 post type-post status-publish format-standard hentry category-in-the-news tag-jeff-siegel tag-jefffrey-siegel tag-jeffrey-siegel\" data-id=\"36066\" itemscope=\"\" itemtype=\"https://schema.org/BlogPosting\">\n",
      "                     <meta content=\"Prof. Jeffrey Siegel | Parents call for better air quality in schools to protect against viruses, fire smoke\" itemid=\"https://civmin.utoronto.ca/prof-jeffrey-siegel-parents-call-for-better-air-quality-in-schools-to-protect-against-viruses-fire-smoke/\" itemprop=\"mainEntityOfPage\" itemscope=\"\" itemtype=\"https://schema.org/WebPage\"/>\n",
      "                     <meta content=\"2023-09-13\" itemprop=\"datePublished\"/>\n",
      "                     <meta content=\"2023-09-14\" itemprop=\"dateModified\"/>\n",
      "                     <div itemprop=\"publisher\" itemscope=\"\" itemtype=\"https://schema.org/Organization\">\n",
      "                      <meta content=\"Department of Civil &amp; Mineral Engineering\" itemprop=\"name\"/>\n",
      "                     </div>\n",
      "                     <div itemprop=\"author\" itemscope=\"\" itemtype=\"https://schema.org/Person\">\n",
      "                      <meta content=\"https://civmin.utoronto.ca/author/galina-nikitina/\" itemprop=\"url\">\n",
      "                       <meta content=\"Galina Nikitina\" itemprop=\"name\"/>\n",
      "                      </meta>\n",
      "                     </div>\n",
      "                     <div itemprop=\"interactionStatistic\" itemscope=\"\" itemtype=\"https://schema.org/InteractionCounter\">\n",
      "                      <meta content=\"https://schema.org/CommentAction\" itemprop=\"interactionType\"/>\n",
      "                      <meta content=\"0\" itemprop=\"userInteractionCount\"/>\n",
      "                     </div>\n",
      "                     <div class=\"pp-content-grid-inner pp-content-body clearfix\">\n",
      "                      <div class=\"pp-content-post-data\">\n",
      "                       <h6 class=\"pp-content-grid-title pp-post-title\" itemprop=\"headline\">\n",
      "                        <a href=\"https://civmin.utoronto.ca/prof-jeffrey-siegel-parents-call-for-better-air-quality-in-schools-to-protect-against-viruses-fire-smoke/\" title=\"Prof. Jeffrey Siegel | Parents call for better air quality in schools to protect against viruses, fire smoke\">\n",
      "                         Prof. Jeffrey Siegel | Parents call for better air quality in schools to protect against viruses, fire smoke\n",
      "                        </a>\n",
      "                       </h6>\n",
      "                       <div class=\"pp-content-grid-content pp-post-content content-type-excerpt\">\n",
      "                        <p>\n",
      "                         September 12. 2023 | Toronto Star\n",
      "                        </p>\n",
      "                       </div>\n",
      "                      </div>\n",
      "                     </div>\n",
      "                    </div>\n",
      "                    <div class=\"pp-content-post pp-content-grid-post pp-post-2n pp-grid-default post-36064 post type-post status-publish format-standard hentry category-in-the-news tag-jef-siegel tag-jeff-siegel tag-jeffrey-siegel\" data-id=\"36064\" itemscope=\"\" itemtype=\"https://schema.org/BlogPosting\">\n",
      "                     <meta content=\"Prof. Jeffrey Siegel | Parents call for better air quality in schools to protect against viruses, wildfire smoke\" itemid=\"https://civmin.utoronto.ca/prof-jeffrey-siegel-parents-call-for-better-air-quality-in-schools-to-protect-against-viruses-wildfire-smoke/\" itemprop=\"mainEntityOfPage\" itemscope=\"\" itemtype=\"https://schema.org/WebPage\"/>\n",
      "                     <meta content=\"2023-09-13\" itemprop=\"datePublished\"/>\n",
      "                     <meta content=\"2023-09-13\" itemprop=\"dateModified\"/>\n",
      "                     <div itemprop=\"publisher\" itemscope=\"\" itemtype=\"https://schema.org/Organization\">\n",
      "                      <meta content=\"Department of Civil &amp; Mineral Engineering\" itemprop=\"name\"/>\n",
      "                     </div>\n",
      "                     <div itemprop=\"author\" itemscope=\"\" itemtype=\"https://schema.org/Person\">\n",
      "                      <meta content=\"https://civmin.utoronto.ca/author/galina-nikitina/\" itemprop=\"url\">\n",
      "                       <meta content=\"Galina Nikitina\" itemprop=\"name\"/>\n",
      "                      </meta>\n",
      "                     </div>\n",
      "                     <div itemprop=\"interactionStatistic\" itemscope=\"\" itemtype=\"https://schema.org/InteractionCounter\">\n",
      "                      <meta content=\"https://schema.org/CommentAction\" itemprop=\"interactionType\"/>\n",
      "                      <meta content=\"0\" itemprop=\"userInteractionCount\"/>\n",
      "                     </div>\n",
      "                     <div class=\"pp-content-grid-inner pp-content-body clearfix\">\n",
      "                      <div class=\"pp-content-post-data\">\n",
      "                       <h6 class=\"pp-content-grid-title pp-post-title\" itemprop=\"headline\">\n",
      "                        <a href=\"https://civmin.utoronto.ca/prof-jeffrey-siegel-parents-call-for-better-air-quality-in-schools-to-protect-against-viruses-wildfire-smoke/\" title=\"Prof. Jeffrey Siegel | Parents call for better air quality in schools to protect against viruses, wildfire smoke\">\n",
      "                         Prof. Jeffrey Siegel | Parents call for better air quality in schools to protect against viruses, wildfire smoke\n",
      "                        </a>\n",
      "                       </h6>\n",
      "                       <div class=\"pp-content-grid-content pp-post-content content-type-excerpt\">\n",
      "                        <p>\n",
      "                         September 12, 2023 | The Globe and Mail\n",
      "                        </p>\n",
      "                       </div>\n",
      "                      </div>\n",
      "                     </div>\n",
      "                    </div>\n",
      "                    <div class=\"pp-content-post pp-content-grid-post pp-grid-default post-36062 post type-post status-publish format-standard hentry category-in-the-news tag-jeff-siegel tag-jefffrey-siegel tag-jeffrey-siegel\" data-id=\"36062\" itemscope=\"\" itemtype=\"https://schema.org/BlogPosting\">\n",
      "                     <meta content=\"Prof. Jeffrey Siegel | Protecting Children’s Health: Urgent Demand for Improved School Air Quality amidst Wildfires and Pandemic – National Support from Parents and Teachers\" itemid=\"https://civmin.utoronto.ca/prof-jeffrey-siegel-protecting-childrens-health-urgent-demand-for-improved-school-air-quality-amidst-wildfires-and-pandemic-national-support-from-parents-and-teachers/\" itemprop=\"mainEntityOfPage\" itemscope=\"\" itemtype=\"https://schema.org/WebPage\"/>\n",
      "                     <meta content=\"2023-09-13\" itemprop=\"datePublished\"/>\n",
      "                     <meta content=\"2023-09-13\" itemprop=\"dateModified\"/>\n",
      "                     <div itemprop=\"publisher\" itemscope=\"\" itemtype=\"https://schema.org/Organization\">\n",
      "                      <meta content=\"Department of Civil &amp; Mineral Engineering\" itemprop=\"name\"/>\n",
      "                     </div>\n",
      "                     <div itemprop=\"author\" itemscope=\"\" itemtype=\"https://schema.org/Person\">\n",
      "                      <meta content=\"https://civmin.utoronto.ca/author/galina-nikitina/\" itemprop=\"url\">\n",
      "                       <meta content=\"Galina Nikitina\" itemprop=\"name\"/>\n",
      "                      </meta>\n",
      "                     </div>\n",
      "                     <div itemprop=\"interactionStatistic\" itemscope=\"\" itemtype=\"https://schema.org/InteractionCounter\">\n",
      "                      <meta content=\"https://schema.org/CommentAction\" itemprop=\"interactionType\"/>\n",
      "                      <meta content=\"0\" itemprop=\"userInteractionCount\"/>\n",
      "                     </div>\n",
      "                     <div class=\"pp-content-grid-inner pp-content-body clearfix\">\n",
      "                      <div class=\"pp-content-post-data\">\n",
      "                       <h6 class=\"pp-content-grid-title pp-post-title\" itemprop=\"headline\">\n",
      "                        <a href=\"https://civmin.utoronto.ca/prof-jeffrey-siegel-protecting-childrens-health-urgent-demand-for-improved-school-air-quality-amidst-wildfires-and-pandemic-national-support-from-parents-and-teachers/\" title=\"Prof. Jeffrey Siegel | Protecting Children’s Health: Urgent Demand for Improved School Air Quality amidst Wildfires and Pandemic – National Support from Parents and Teachers\">\n",
      "                         Prof. Jeffrey Siegel | Protecting Children’s Health: Urgent Demand for Improved School Air Quality amidst Wildfires and Pandemic – National Support from Parents and Teachers\n",
      "                        </a>\n",
      "                       </h6>\n",
      "                       <div class=\"pp-content-grid-content pp-post-content content-type-excerpt\">\n",
      "                        <p>\n",
      "                         September 9, 2023 | VigourTimes\n",
      "                        </p>\n",
      "                       </div>\n",
      "                      </div>\n",
      "                     </div>\n",
      "                    </div>\n",
      "                    <div class=\"pp-grid-space\">\n",
      "                    </div>\n",
      "                   </div>\n",
      "                   <div class=\"fl-clear\">\n",
      "                   </div>\n",
      "                  </div>\n",
      "                  <!-- .pp-content-posts -->\n",
      "                 </div>\n",
      "                </div>\n",
      "               </div>\n",
      "              </div>\n",
      "             </div>\n",
      "            </div>\n",
      "            <div class=\"fl-col-group fl-node-jgp57yi09fa6\" data-node=\"jgp57yi09fa6\">\n",
      "             <div class=\"fl-col fl-node-die4qfxabmt0\" data-node=\"die4qfxabmt0\">\n",
      "              <div class=\"fl-col-content fl-node-content\">\n",
      "               <div class=\"fl-module fl-module-pp-line-separator fl-node-k2cibwn4q0h8\" data-node=\"k2cibwn4q0h8\">\n",
      "                <div class=\"fl-module-content fl-node-content\">\n",
      "                 <div class=\"pp-line-separator-wrap\">\n",
      "                  <div class=\"pp-line-separator-inner pp-line-only\">\n",
      "                   <span class=\"pp-line-separator pp-line-only\">\n",
      "                   </span>\n",
      "                  </div>\n",
      "                 </div>\n",
      "                </div>\n",
      "               </div>\n",
      "              </div>\n",
      "             </div>\n",
      "            </div>\n",
      "           </div>\n",
      "          </div>\n",
      "         </div>\n",
      "         <div class=\"fl-row fl-row-full-width fl-row-bg-none fl-node-h05kq2r4amnt fl-row-default-height fl-row-align-center\" data-node=\"h05kq2r4amnt\">\n",
      "          <div class=\"fl-row-content-wrap\">\n",
      "           <div class=\"fl-row-content fl-row-fixed-width fl-node-content\">\n",
      "            <div class=\"fl-col-group fl-node-6plm1he5duki\" data-node=\"6plm1he5duki\">\n",
      "             <div class=\"fl-col fl-node-6b278jag3ctv fl-col-small\" data-node=\"6b278jag3ctv\">\n",
      "              <div class=\"fl-col-content fl-node-content\">\n",
      "               <div class=\"fl-module fl-module-heading fl-node-stylv175wxiu fl-visible-desktop fl-visible-large\" data-node=\"stylv175wxiu\">\n",
      "                <div class=\"fl-module-content fl-node-content\">\n",
      "                 <h2 class=\"fl-heading\">\n",
      "                  <a href=\"https://civmin.utoronto.ca/page/featured/\" target=\"_self\" title=\"Featured\">\n",
      "                   <span class=\"fl-heading-text\">\n",
      "                    Featured\n",
      "                   </span>\n",
      "                  </a>\n",
      "                 </h2>\n",
      "                </div>\n",
      "               </div>\n",
      "               <div class=\"fl-module fl-module-pp-content-grid fl-node-v3x4eh28ylnz fl-visible-desktop fl-visible-large fl-visible-medium\" data-node=\"v3x4eh28ylnz\">\n",
      "                <div class=\"fl-module-content fl-node-content\">\n",
      "                 <div class=\"pp-posts-wrapper\">\n",
      "                  <div class=\"pp-content-posts\" style=\"--items-count: 1;--column-xl: 1;--column-lg: 1;--column-md: 1;--column-sm: 1;\">\n",
      "                   <div class=\"pp-content-post-grid pp-equal-height pp-css-grid\" itemscope=\"itemscope\" itemtype=\"https://schema.org/Blog\">\n",
      "                    <div class=\"pp-content-post pp-content-grid-post pp-grid-default post-34037 post type-post status-publish format-standard has-post-thumbnail hentry category-featured category-news tag-adjustable-multidimensional tag-amd tag-canada-foundation-for-innovation tag-cfi tag-civil-engineering tag-constantin-christopoulos tag-renovation tag-stf tag-structural-testing-facilities tag-structural-testing-facility tag-sustainable-infrastructure\" data-id=\"34037\" itemscope=\"\" itemtype=\"https://schema.org/BlogPosting\">\n",
      "                     <meta content=\"World’s first adjustable multidimensional structural testing system coming to CivMin’s Structural Testing Facilities\" itemid=\"https://civmin.utoronto.ca/worlds-first-amd/\" itemprop=\"mainEntityOfPage\" itemscope=\"\" itemtype=\"https://schema.org/WebPage\"/>\n",
      "                     <meta content=\"2023-07-25\" itemprop=\"datePublished\"/>\n",
      "                     <meta content=\"2023-08-03\" itemprop=\"dateModified\"/>\n",
      "                     <div itemprop=\"publisher\" itemscope=\"\" itemtype=\"https://schema.org/Organization\">\n",
      "                      <meta content=\"Department of Civil &amp; Mineral Engineering\" itemprop=\"name\"/>\n",
      "                     </div>\n",
      "                     <div itemprop=\"author\" itemscope=\"\" itemtype=\"https://schema.org/Person\">\n",
      "                      <meta content=\"https://civmin.utoronto.ca/author/phill-snelutoronto-ca/\" itemprop=\"url\">\n",
      "                       <meta content=\"Phill Snel\" itemprop=\"name\"/>\n",
      "                      </meta>\n",
      "                     </div>\n",
      "                     <div itemprop=\"image\" itemscope=\"\" itemtype=\"https://schema.org/ImageObject\">\n",
      "                      <meta content=\"https://civmin.utoronto.ca/wp-content/uploads/2023/07/Screenshot-2023-07-12-at-2.11.35-PM.png\" itemprop=\"url\"/>\n",
      "                      <meta content=\"2092\" itemprop=\"width\"/>\n",
      "                      <meta content=\"1372\" itemprop=\"height\"/>\n",
      "                     </div>\n",
      "                     <div itemprop=\"interactionStatistic\" itemscope=\"\" itemtype=\"https://schema.org/InteractionCounter\">\n",
      "                      <meta content=\"https://schema.org/CommentAction\" itemprop=\"interactionType\"/>\n",
      "                      <meta content=\"0\" itemprop=\"userInteractionCount\"/>\n",
      "                     </div>\n",
      "                     <a class=\"pp-post-link\" href=\"https://civmin.utoronto.ca/worlds-first-amd/\" title=\"World’s first adjustable multidimensional structural testing system coming to CivMin’s Structural Testing Facilities\">\n",
      "                     </a>\n",
      "                     <div class=\"pp-content-grid-image pp-post-image\">\n",
      "                      <div class=\"pp-post-featured-img\">\n",
      "                       <div class=\"fl-photo fl-photo-crop-square fl-photo-align-center\" itemscope=\"\" itemtype=\"https://schema.org/ImageObject\">\n",
      "                        <div class=\"fl-photo-content fl-photo-img-png\">\n",
      "                         <img alt=\"An illustration of the adjustable multidimensional (AMD) testing device to be installed in CivMin's Galbraith side of the Structural Testing Facilities (STF). \" class=\"fl-photo-img wp-image-34970 size-large pp-post-img no-lazyload\" data-no-lazy=\"1\" decoding=\"async\" height=\"672\" itemprop=\"image\" loading=\"lazy\" src=\"https://civmin.utoronto.ca/wp-content/uploads/bb-plugin/cache/Screenshot-2023-07-12-at-2.11.35-PM-1024x672-square-6637875f34da6e8fc8b439c59b755923-.png\" title=\"Screenshot 2023-07-12 at 2.11.35 PM\" width=\"1024\"/>\n",
      "                        </div>\n",
      "                       </div>\n",
      "                      </div>\n",
      "                     </div>\n",
      "                     <div class=\"pp-content-grid-inner pp-content-body clearfix\">\n",
      "                      <div class=\"pp-content-post-data\">\n",
      "                       <h3 class=\"pp-content-grid-title pp-post-title\" itemprop=\"headline\">\n",
      "                        World’s first adjustable multidimensional structural testing system coming to CivMin’s Structural Testing Facilities\n",
      "                       </h3>\n",
      "                       <div class=\"pp-content-post-meta pp-post-meta\">\n",
      "                        <span class=\"pp-content-post-author pp-post-author\">\n",
      "                         By\n",
      "                         <a href=\"https://civmin.utoronto.ca/author/phill-snelutoronto-ca/\">\n",
      "                          <span>\n",
      "                           Phill Snel\n",
      "                          </span>\n",
      "                         </a>\n",
      "                        </span>\n",
      "                        <span>\n",
      "                         |\n",
      "                        </span>\n",
      "                        <span class=\"pp-content-grid-date pp-post-date\">\n",
      "                         July 25, 2023\n",
      "                        </span>\n",
      "                       </div>\n",
      "                      </div>\n",
      "                     </div>\n",
      "                    </div>\n",
      "                   </div>\n",
      "                   <div class=\"fl-clear\">\n",
      "                   </div>\n",
      "                  </div>\n",
      "                  <!-- .pp-content-posts -->\n",
      "                 </div>\n",
      "                </div>\n",
      "               </div>\n",
      "              </div>\n",
      "             </div>\n",
      "             <div class=\"fl-col fl-node-zacirymlohes fl-col-small\" data-node=\"zacirymlohes\">\n",
      "              <div class=\"fl-col-content fl-node-content\">\n",
      "               <div class=\"fl-module fl-module-heading fl-node-5g3xkc9ym1ro fl-visible-desktop fl-visible-large fl-visible-medium\" data-node=\"5g3xkc9ym1ro\">\n",
      "                <div class=\"fl-module-content fl-node-content\">\n",
      "                 <h2 class=\"fl-heading\">\n",
      "                  <a href=\"https://civmin.utoronto.ca/page/people/alumni/\" target=\"_self\" title=\"Alumni Updates\">\n",
      "                   <span class=\"fl-heading-text\">\n",
      "                    Alumni Updates\n",
      "                   </span>\n",
      "                  </a>\n",
      "                 </h2>\n",
      "                </div>\n",
      "               </div>\n",
      "               <div class=\"fl-module fl-module-pp-content-grid fl-node-e5uvfswqob17 fl-visible-desktop fl-visible-large fl-visible-medium\" data-node=\"e5uvfswqob17\">\n",
      "                <div class=\"fl-module-content fl-node-content\">\n",
      "                 <div class=\"pp-posts-wrapper\">\n",
      "                  <div class=\"pp-content-posts\" style=\"--items-count: 1;--column-xl: 1;--column-lg: 1;--column-md: 1;--column-sm: 1;\">\n",
      "                   <div class=\"pp-content-post-grid pp-equal-height pp-css-grid\" itemscope=\"itemscope\" itemtype=\"https://schema.org/Blog\">\n",
      "                    <div class=\"pp-content-post pp-content-grid-post pp-grid-default post-35701 post type-post status-publish format-standard has-post-thumbnail hentry category-alumni category-awards category-news\" data-id=\"35701\" itemscope=\"\" itemtype=\"https://schema.org/BlogPosting\">\n",
      "                     <meta content=\"Sarah Heffernan, LME alum and current member of the LME advisory Board recognized as a woman of inspiration by Women in Mining Canada\" itemid=\"https://civmin.utoronto.ca/sarah-heffernan-lme-alum-and-current-member-of-the-lme-advisory-board-recognized-as-a-woman-of-inspiration-by-women-in-mining-canada/\" itemprop=\"mainEntityOfPage\" itemscope=\"\" itemtype=\"https://schema.org/WebPage\"/>\n",
      "                     <meta content=\"2023-08-18\" itemprop=\"datePublished\"/>\n",
      "                     <meta content=\"2023-08-18\" itemprop=\"dateModified\"/>\n",
      "                     <div itemprop=\"publisher\" itemscope=\"\" itemtype=\"https://schema.org/Organization\">\n",
      "                      <meta content=\"Department of Civil &amp; Mineral Engineering\" itemprop=\"name\"/>\n",
      "                     </div>\n",
      "                     <div itemprop=\"author\" itemscope=\"\" itemtype=\"https://schema.org/Person\">\n",
      "                      <meta content=\"https://civmin.utoronto.ca/author/phill-snelutoronto-ca/\" itemprop=\"url\">\n",
      "                       <meta content=\"Phill Snel\" itemprop=\"name\"/>\n",
      "                      </meta>\n",
      "                     </div>\n",
      "                     <div itemprop=\"image\" itemscope=\"\" itemtype=\"https://schema.org/ImageObject\">\n",
      "                      <meta content=\"https://civmin.utoronto.ca/wp-content/uploads/2023/04/Sarah-Heffernan-enhanced-400x400-1.jpg\" itemprop=\"url\"/>\n",
      "                      <meta content=\"488\" itemprop=\"width\"/>\n",
      "                      <meta content=\"488\" itemprop=\"height\"/>\n",
      "                     </div>\n",
      "                     <div itemprop=\"interactionStatistic\" itemscope=\"\" itemtype=\"https://schema.org/InteractionCounter\">\n",
      "                      <meta content=\"https://schema.org/CommentAction\" itemprop=\"interactionType\"/>\n",
      "                      <meta content=\"0\" itemprop=\"userInteractionCount\"/>\n",
      "                     </div>\n",
      "                     <a class=\"pp-post-link\" href=\"https://civmin.utoronto.ca/sarah-heffernan-lme-alum-and-current-member-of-the-lme-advisory-board-recognized-as-a-woman-of-inspiration-by-women-in-mining-canada/\" title=\"Sarah Heffernan, LME alum and current member of the LME advisory Board recognized as a woman of inspiration by Women in Mining Canada\">\n",
      "                     </a>\n",
      "                     <div class=\"pp-content-grid-image pp-post-image\">\n",
      "                      <div class=\"pp-post-featured-img\">\n",
      "                       <div class=\"fl-photo fl-photo-crop-square fl-photo-align-center\" itemscope=\"\" itemtype=\"https://schema.org/ImageObject\">\n",
      "                        <div class=\"fl-photo-content fl-photo-img-jpg\">\n",
      "                         <img alt=\"Sarah Heffernan-enhanced 400x400\" class=\"fl-photo-img wp-image-33354 size-full pp-post-img no-lazyload\" data-no-lazy=\"1\" decoding=\"async\" height=\"488\" itemprop=\"image\" loading=\"lazy\" src=\"https://civmin.utoronto.ca/wp-content/uploads/bb-plugin/cache/Sarah-Heffernan-enhanced-400x400-1-square-6b9e0df03dbb88d25d7b5cd836480a22-.jpg\" title=\"Sarah Heffernan-enhanced 400x400\" width=\"488\"/>\n",
      "                        </div>\n",
      "                       </div>\n",
      "                      </div>\n",
      "                     </div>\n",
      "                     <div class=\"pp-content-grid-inner pp-content-body clearfix\">\n",
      "                      <div class=\"pp-content-post-data\">\n",
      "                       <h3 class=\"pp-content-grid-title pp-post-title\" itemprop=\"headline\">\n",
      "                        Sarah Heffernan, LME alum and current member of the LME advisory Board recognized as a woman of inspiration by Women in Mining Canada\n",
      "                       </h3>\n",
      "                       <div class=\"pp-content-post-meta pp-post-meta\">\n",
      "                        <span class=\"pp-content-post-author pp-post-author\">\n",
      "                         By\n",
      "                         <a href=\"https://civmin.utoronto.ca/author/phill-snelutoronto-ca/\">\n",
      "                          <span>\n",
      "                           Phill Snel\n",
      "                          </span>\n",
      "                         </a>\n",
      "                        </span>\n",
      "                        <span>\n",
      "                         |\n",
      "                        </span>\n",
      "                        <span class=\"pp-content-grid-date pp-post-date\">\n",
      "                         August 18, 2023\n",
      "                        </span>\n",
      "                       </div>\n",
      "                      </div>\n",
      "                     </div>\n",
      "                    </div>\n",
      "                   </div>\n",
      "                   <div class=\"fl-clear\">\n",
      "                   </div>\n",
      "                  </div>\n",
      "                  <!-- .pp-content-posts -->\n",
      "                 </div>\n",
      "                </div>\n",
      "               </div>\n",
      "              </div>\n",
      "             </div>\n",
      "             <div class=\"fl-col fl-node-d2ar5mlbp3h7 fl-col-small\" data-node=\"d2ar5mlbp3h7\">\n",
      "              <div class=\"fl-col-content fl-node-content\">\n",
      "               <div class=\"fl-module fl-module-heading fl-node-4cz2lwsyghra\" data-node=\"4cz2lwsyghra\">\n",
      "                <div class=\"fl-module-content fl-node-content\">\n",
      "                 <h2 class=\"fl-heading\">\n",
      "                  <a href=\"https://civmin.utoronto.ca/page/awards/\" target=\"_self\" title=\"Awards &amp; Recognition\">\n",
      "                   <span class=\"fl-heading-text\">\n",
      "                    Awards &amp; Recognition\n",
      "                   </span>\n",
      "                  </a>\n",
      "                 </h2>\n",
      "                </div>\n",
      "               </div>\n",
      "               <div class=\"fl-module fl-module-pp-content-grid fl-node-krzoms17w90p\" data-node=\"krzoms17w90p\">\n",
      "                <div class=\"fl-module-content fl-node-content\">\n",
      "                 <div class=\"pp-posts-wrapper\">\n",
      "                  <div class=\"pp-content-posts\" style=\"--items-count: 10;--column-xl: 1;--column-lg: 1;--column-md: 1;--column-sm: 1;\">\n",
      "                   <div class=\"pp-content-post-grid pp-masonry-active clearfix\" itemscope=\"itemscope\" itemtype=\"https://schema.org/Blog\">\n",
      "                    <div class=\"pp-content-post pp-content-grid-post pp-grid-default post-35701 post type-post status-publish format-standard has-post-thumbnail hentry category-alumni category-awards category-news\" data-id=\"35701\" itemscope=\"\" itemtype=\"https://schema.org/BlogPosting\">\n",
      "                     <meta content=\"Sarah Heffernan, LME alum and current member of the LME advisory Board recognized as a woman of inspiration by Women in Mining Canada\" itemid=\"https://civmin.utoronto.ca/sarah-heffernan-lme-alum-and-current-member-of-the-lme-advisory-board-recognized-as-a-woman-of-inspiration-by-women-in-mining-canada/\" itemprop=\"mainEntityOfPage\" itemscope=\"\" itemtype=\"https://schema.org/WebPage\"/>\n",
      "                     <meta content=\"2023-08-18\" itemprop=\"datePublished\"/>\n",
      "                     <meta content=\"2023-08-18\" itemprop=\"dateModified\"/>\n",
      "                     <div itemprop=\"publisher\" itemscope=\"\" itemtype=\"https://schema.org/Organization\">\n",
      "                      <meta content=\"Department of Civil &amp; Mineral Engineering\" itemprop=\"name\"/>\n",
      "                     </div>\n",
      "                     <div itemprop=\"author\" itemscope=\"\" itemtype=\"https://schema.org/Person\">\n",
      "                      <meta content=\"https://civmin.utoronto.ca/author/phill-snelutoronto-ca/\" itemprop=\"url\">\n",
      "                       <meta content=\"Phill Snel\" itemprop=\"name\"/>\n",
      "                      </meta>\n",
      "                     </div>\n",
      "                     <div itemprop=\"image\" itemscope=\"\" itemtype=\"https://schema.org/ImageObject\">\n",
      "                      <meta content=\"https://civmin.utoronto.ca/wp-content/uploads/2023/04/Sarah-Heffernan-enhanced-400x400-1.jpg\" itemprop=\"url\"/>\n",
      "                      <meta content=\"488\" itemprop=\"width\"/>\n",
      "                      <meta content=\"488\" itemprop=\"height\"/>\n",
      "                     </div>\n",
      "                     <div itemprop=\"interactionStatistic\" itemscope=\"\" itemtype=\"https://schema.org/InteractionCounter\">\n",
      "                      <meta content=\"https://schema.org/CommentAction\" itemprop=\"interactionType\"/>\n",
      "                      <meta content=\"0\" itemprop=\"userInteractionCount\"/>\n",
      "                     </div>\n",
      "                     <div class=\"pp-content-grid-inner pp-content-body clearfix\">\n",
      "                      <div class=\"pp-content-post-data\">\n",
      "                       <h6 class=\"pp-content-grid-title pp-post-title\" itemprop=\"headline\">\n",
      "                        <a href=\"https://civmin.utoronto.ca/sarah-heffernan-lme-alum-and-current-member-of-the-lme-advisory-board-recognized-as-a-woman-of-inspiration-by-women-in-mining-canada/\" title=\"Sarah Heffernan, LME alum and current member of the LME advisory Board recognized as a woman of inspiration by Women in Mining Canada\">\n",
      "                         Sarah Heffernan, LME alum and current member of the LME advisory Board recognized as a woman of inspiration by Women in Mining Canada\n",
      "                        </a>\n",
      "                       </h6>\n",
      "                      </div>\n",
      "                     </div>\n",
      "                    </div>\n",
      "                    <div class=\"pp-content-post pp-content-grid-post pp-post-2n pp-grid-default post-35477 post type-post status-publish format-standard has-post-thumbnail hentry category-awards category-news tag-kamran-esmaeili tag-negin-houshmand tag-sebastian-goodfellow tag-university-of-toronto-engineering-research-conference tag-uterc\" data-id=\"35477\" itemscope=\"\" itemtype=\"https://schema.org/BlogPosting\">\n",
      "                     <meta content=\"CivMin PhD candidate, Negin Houshmand, wins a first place at UTERC 2023\" itemid=\"https://civmin.utoronto.ca/civmin-phd-candidate-negin-houshmand-wins-first-place-at-uterc-2023/\" itemprop=\"mainEntityOfPage\" itemscope=\"\" itemtype=\"https://schema.org/WebPage\"/>\n",
      "                     <meta content=\"2023-08-03\" itemprop=\"datePublished\"/>\n",
      "                     <meta content=\"2023-08-03\" itemprop=\"dateModified\"/>\n",
      "                     <div itemprop=\"publisher\" itemscope=\"\" itemtype=\"https://schema.org/Organization\">\n",
      "                      <meta content=\"Department of Civil &amp; Mineral Engineering\" itemprop=\"name\"/>\n",
      "                     </div>\n",
      "                     <div itemprop=\"author\" itemscope=\"\" itemtype=\"https://schema.org/Person\">\n",
      "                      <meta content=\"https://civmin.utoronto.ca/author/phill-snelutoronto-ca/\" itemprop=\"url\">\n",
      "                       <meta content=\"Phill Snel\" itemprop=\"name\"/>\n",
      "                      </meta>\n",
      "                     </div>\n",
      "                     <div itemprop=\"image\" itemscope=\"\" itemtype=\"https://schema.org/ImageObject\">\n",
      "                      <meta content=\"https://civmin.utoronto.ca/wp-content/uploads/2023/08/Negin-Houshmand.jpg\" itemprop=\"url\"/>\n",
      "                      <meta content=\"512\" itemprop=\"width\"/>\n",
      "                      <meta content=\"512\" itemprop=\"height\"/>\n",
      "                     </div>\n",
      "                     <div itemprop=\"interactionStatistic\" itemscope=\"\" itemtype=\"https://schema.org/InteractionCounter\">\n",
      "                      <meta content=\"https://schema.org/CommentAction\" itemprop=\"interactionType\"/>\n",
      "                      <meta content=\"0\" itemprop=\"userInteractionCount\"/>\n",
      "                     </div>\n",
      "                     <div class=\"pp-content-grid-inner pp-content-body clearfix\">\n",
      "                      <div class=\"pp-content-post-data\">\n",
      "                       <h6 class=\"pp-content-grid-title pp-post-title\" itemprop=\"headline\">\n",
      "                        <a href=\"https://civmin.utoronto.ca/civmin-phd-candidate-negin-houshmand-wins-first-place-at-uterc-2023/\" title=\"CivMin PhD candidate, Negin Houshmand, wins a first place at UTERC 2023\">\n",
      "                         CivMin PhD candidate, Negin Houshmand, wins a first place at UTERC 2023\n",
      "                        </a>\n",
      "                       </h6>\n",
      "                      </div>\n",
      "                     </div>\n",
      "                    </div>\n",
      "                    <div class=\"pp-content-post pp-content-grid-post pp-grid-default post-35348 post type-post status-publish format-standard has-post-thumbnail hentry category-awards category-news tag-alia-galal tag-matt-roorda\" data-id=\"35348\" itemscope=\"\" itemtype=\"https://schema.org/BlogPosting\">\n",
      "                     <meta content=\"CivMin PhD candidate Alia Galal wins Excellence Award in Canada Safest Employers Awards\" itemid=\"https://civmin.utoronto.ca/civmin-phd-candidate-alia-galal-wins-excellence-award-in-canada-safest-employers-awards/\" itemprop=\"mainEntityOfPage\" itemscope=\"\" itemtype=\"https://schema.org/WebPage\"/>\n",
      "                     <meta content=\"2023-07-28\" itemprop=\"datePublished\"/>\n",
      "                     <meta content=\"2023-07-28\" itemprop=\"dateModified\"/>\n",
      "                     <div itemprop=\"publisher\" itemscope=\"\" itemtype=\"https://schema.org/Organization\">\n",
      "                      <meta content=\"Department of Civil &amp; Mineral Engineering\" itemprop=\"name\"/>\n",
      "                     </div>\n",
      "                     <div itemprop=\"author\" itemscope=\"\" itemtype=\"https://schema.org/Person\">\n",
      "                      <meta content=\"https://civmin.utoronto.ca/author/phill-snelutoronto-ca/\" itemprop=\"url\">\n",
      "                       <meta content=\"Phill Snel\" itemprop=\"name\"/>\n",
      "                      </meta>\n",
      "                     </div>\n",
      "                     <div itemprop=\"image\" itemscope=\"\" itemtype=\"https://schema.org/ImageObject\">\n",
      "                      <meta content=\"https://civmin.utoronto.ca/wp-content/uploads/2023/07/Photo-Alia-Galal-scaled.jpg\" itemprop=\"url\"/>\n",
      "                      <meta content=\"2309\" itemprop=\"width\"/>\n",
      "                      <meta content=\"2560\" itemprop=\"height\"/>\n",
      "                     </div>\n",
      "                     <div itemprop=\"interactionStatistic\" itemscope=\"\" itemtype=\"https://schema.org/InteractionCounter\">\n",
      "                      <meta content=\"https://schema.org/CommentAction\" itemprop=\"interactionType\"/>\n",
      "                      <meta content=\"0\" itemprop=\"userInteractionCount\"/>\n",
      "                     </div>\n",
      "                     <div class=\"pp-content-grid-inner pp-content-body clearfix\">\n",
      "                      <div class=\"pp-content-post-data\">\n",
      "                       <h6 class=\"pp-content-grid-title pp-post-title\" itemprop=\"headline\">\n",
      "                        <a href=\"https://civmin.utoronto.ca/civmin-phd-candidate-alia-galal-wins-excellence-award-in-canada-safest-employers-awards/\" title=\"CivMin PhD candidate Alia Galal wins Excellence Award in Canada Safest Employers Awards\">\n",
      "                         CivMin PhD candidate Alia Galal wins Excellence Award in Canada Safest Employers Awards\n",
      "                        </a>\n",
      "                       </h6>\n",
      "                      </div>\n",
      "                     </div>\n",
      "                    </div>\n",
      "                    <div class=\"pp-content-post pp-content-grid-post pp-post-2n pp-grid-default post-35104 post type-post status-publish format-standard hentry category-awards tag-femina-collective tag-katia-ossetchkina tag-negin-houshmand tag-scholarship\" data-id=\"35104\" itemscope=\"\" itemtype=\"https://schema.org/BlogPosting\">\n",
      "                     <meta content=\"Femina Collective Scholarship winners: Negin Houshmand and Katia Ossetchkina\" itemid=\"https://civmin.utoronto.ca/femina-collective-scholarship-winners-negin-houshmand-and-katia-ossetchkina/\" itemprop=\"mainEntityOfPage\" itemscope=\"\" itemtype=\"https://schema.org/WebPage\"/>\n",
      "                     <meta content=\"2023-07-17\" itemprop=\"datePublished\"/>\n",
      "                     <meta content=\"2023-08-03\" itemprop=\"dateModified\"/>\n",
      "                     <div itemprop=\"publisher\" itemscope=\"\" itemtype=\"https://schema.org/Organization\">\n",
      "                      <meta content=\"Department of Civil &amp; Mineral Engineering\" itemprop=\"name\"/>\n",
      "                     </div>\n",
      "                     <div itemprop=\"author\" itemscope=\"\" itemtype=\"https://schema.org/Person\">\n",
      "                      <meta content=\"https://civmin.utoronto.ca/author/phill-snelutoronto-ca/\" itemprop=\"url\">\n",
      "                       <meta content=\"Phill Snel\" itemprop=\"name\"/>\n",
      "                      </meta>\n",
      "                     </div>\n",
      "                     <div itemprop=\"interactionStatistic\" itemscope=\"\" itemtype=\"https://schema.org/InteractionCounter\">\n",
      "                      <meta content=\"https://schema.org/CommentAction\" itemprop=\"interactionType\"/>\n",
      "                      <meta content=\"0\" itemprop=\"userInteractionCount\"/>\n",
      "                     </div>\n",
      "                     <div class=\"pp-content-grid-inner pp-content-body clearfix\">\n",
      "                      <div class=\"pp-content-post-data\">\n",
      "                       <h6 class=\"pp-content-grid-title pp-post-title\" itemprop=\"headline\">\n",
      "                        <a href=\"https://civmin.utoronto.ca/femina-collective-scholarship-winners-negin-houshmand-and-katia-ossetchkina/\" title=\"Femina Collective Scholarship winners: Negin Houshmand and Katia Ossetchkina\">\n",
      "                         Femina Collective Scholarship winners: Negin Houshmand and Katia Ossetchkina\n",
      "                        </a>\n",
      "                       </h6>\n",
      "                      </div>\n",
      "                     </div>\n",
      "                    </div>\n",
      "                    <div class=\"pp-content-post pp-content-grid-post pp-grid-default post-34617 post type-post status-publish format-standard hentry category-awards tag-daniel-posen tag-mason-ghafghazi\" data-id=\"34617\" itemscope=\"\" itemtype=\"https://schema.org/BlogPosting\">\n",
      "                     <meta content=\"CivMin faculty members receive promotions \" itemid=\"https://civmin.utoronto.ca/civmin-faculty-members-receive-promotions/\" itemprop=\"mainEntityOfPage\" itemscope=\"\" itemtype=\"https://schema.org/WebPage\"/>\n",
      "                     <meta content=\"2023-06-29\" itemprop=\"datePublished\"/>\n",
      "                     <meta content=\"2023-06-29\" itemprop=\"dateModified\"/>\n",
      "                     <div itemprop=\"publisher\" itemscope=\"\" itemtype=\"https://schema.org/Organization\">\n",
      "                      <meta content=\"Department of Civil &amp; Mineral Engineering\" itemprop=\"name\"/>\n",
      "                     </div>\n",
      "                     <div itemprop=\"author\" itemscope=\"\" itemtype=\"https://schema.org/Person\">\n",
      "                      <meta content=\"https://civmin.utoronto.ca/author/phill-snelutoronto-ca/\" itemprop=\"url\">\n",
      "                       <meta content=\"Phill Snel\" itemprop=\"name\"/>\n",
      "                      </meta>\n",
      "                     </div>\n",
      "                     <div itemprop=\"interactionStatistic\" itemscope=\"\" itemtype=\"https://schema.org/InteractionCounter\">\n",
      "                      <meta content=\"https://schema.org/CommentAction\" itemprop=\"interactionType\"/>\n",
      "                      <meta content=\"0\" itemprop=\"userInteractionCount\"/>\n",
      "                     </div>\n",
      "                     <div class=\"pp-content-grid-inner pp-content-body clearfix\">\n",
      "                      <div class=\"pp-content-post-data\">\n",
      "                       <h6 class=\"pp-content-grid-title pp-post-title\" itemprop=\"headline\">\n",
      "                        <a href=\"https://civmin.utoronto.ca/civmin-faculty-members-receive-promotions/\" title=\"CivMin faculty members receive promotions \">\n",
      "                         CivMin faculty members receive promotions\n",
      "                        </a>\n",
      "                       </h6>\n",
      "                      </div>\n",
      "                     </div>\n",
      "                    </div>\n",
      "                    <div class=\"pp-content-post pp-content-grid-post pp-post-2n pp-grid-default post-34453 post type-post status-publish format-standard has-post-thumbnail hentry category-awards category-news tag-nelly-pietropaolo tag-scholarship\" data-id=\"34453\" itemscope=\"\" itemtype=\"https://schema.org/BlogPosting\">\n",
      "                     <meta content=\"New scholarship created in honour of CivMin’s own Nelly Pietropaolo\" itemid=\"https://civmin.utoronto.ca/new-scholarship-created-in-honour-of-civmins-own-nelly-pietropaolo/\" itemprop=\"mainEntityOfPage\" itemscope=\"\" itemtype=\"https://schema.org/WebPage\"/>\n",
      "                     <meta content=\"2023-06-23\" itemprop=\"datePublished\"/>\n",
      "                     <meta content=\"2023-06-26\" itemprop=\"dateModified\"/>\n",
      "                     <div itemprop=\"publisher\" itemscope=\"\" itemtype=\"https://schema.org/Organization\">\n",
      "                      <meta content=\"Department of Civil &amp; Mineral Engineering\" itemprop=\"name\"/>\n",
      "                     </div>\n",
      "                     <div itemprop=\"author\" itemscope=\"\" itemtype=\"https://schema.org/Person\">\n",
      "                      <meta content=\"https://civmin.utoronto.ca/author/phill-snelutoronto-ca/\" itemprop=\"url\">\n",
      "                       <meta content=\"Phill Snel\" itemprop=\"name\"/>\n",
      "                      </meta>\n",
      "                     </div>\n",
      "                     <div itemprop=\"image\" itemscope=\"\" itemtype=\"https://schema.org/ImageObject\">\n",
      "                      <meta content=\"https://civmin.utoronto.ca/wp-content/uploads/2023/06/Nelly-headshot_on-grey-SQ_DSC5863-1.jpg\" itemprop=\"url\"/>\n",
      "                      <meta content=\"1410\" itemprop=\"width\"/>\n",
      "                      <meta content=\"1410\" itemprop=\"height\"/>\n",
      "                     </div>\n",
      "                     <div itemprop=\"interactionStatistic\" itemscope=\"\" itemtype=\"https://schema.org/InteractionCounter\">\n",
      "                      <meta content=\"https://schema.org/CommentAction\" itemprop=\"interactionType\"/>\n",
      "                      <meta content=\"0\" itemprop=\"userInteractionCount\"/>\n",
      "                     </div>\n",
      "                     <div class=\"pp-content-grid-inner pp-content-body clearfix\">\n",
      "                      <div class=\"pp-content-post-data\">\n",
      "                       <h6 class=\"pp-content-grid-title pp-post-title\" itemprop=\"headline\">\n",
      "                        <a href=\"https://civmin.utoronto.ca/new-scholarship-created-in-honour-of-civmins-own-nelly-pietropaolo/\" title=\"New scholarship created in honour of CivMin’s own Nelly Pietropaolo\">\n",
      "                         New scholarship created in honour of CivMin’s own Nelly Pietropaolo\n",
      "                        </a>\n",
      "                       </h6>\n",
      "                      </div>\n",
      "                     </div>\n",
      "                    </div>\n",
      "                    <div class=\"pp-content-post pp-content-grid-post pp-grid-default post-34361 post type-post status-publish format-standard hentry category-awards\" data-id=\"34361\" itemscope=\"\" itemtype=\"https://schema.org/BlogPosting\">\n",
      "                     <meta content=\"CivMin undergraduate students receive awards for summer research\" itemid=\"https://civmin.utoronto.ca/civmin-undergraduate-students-receive-awards-for-summer-research/\" itemprop=\"mainEntityOfPage\" itemscope=\"\" itemtype=\"https://schema.org/WebPage\"/>\n",
      "                     <meta content=\"2023-06-19\" itemprop=\"datePublished\"/>\n",
      "                     <meta content=\"2023-06-19\" itemprop=\"dateModified\"/>\n",
      "                     <div itemprop=\"publisher\" itemscope=\"\" itemtype=\"https://schema.org/Organization\">\n",
      "                      <meta content=\"Department of Civil &amp; Mineral Engineering\" itemprop=\"name\"/>\n",
      "                     </div>\n",
      "                     <div itemprop=\"author\" itemscope=\"\" itemtype=\"https://schema.org/Person\">\n",
      "                      <meta content=\"https://civmin.utoronto.ca/author/rachael-gallant/\" itemprop=\"url\">\n",
      "                       <meta content=\"Rachael Gallant\" itemprop=\"name\"/>\n",
      "                      </meta>\n",
      "                     </div>\n",
      "                     <div itemprop=\"interactionStatistic\" itemscope=\"\" itemtype=\"https://schema.org/InteractionCounter\">\n",
      "                      <meta content=\"https://schema.org/CommentAction\" itemprop=\"interactionType\"/>\n",
      "                      <meta content=\"0\" itemprop=\"userInteractionCount\"/>\n",
      "                     </div>\n",
      "                     <div class=\"pp-content-grid-inner pp-content-body clearfix\">\n",
      "                      <div class=\"pp-content-post-data\">\n",
      "                       <h6 class=\"pp-content-grid-title pp-post-title\" itemprop=\"headline\">\n",
      "                        <a href=\"https://civmin.utoronto.ca/civmin-undergraduate-students-receive-awards-for-summer-research/\" title=\"CivMin undergraduate students receive awards for summer research\">\n",
      "                         CivMin undergraduate students receive awards for summer research\n",
      "                        </a>\n",
      "                       </h6>\n",
      "                      </div>\n",
      "                     </div>\n",
      "                    </div>\n",
      "                    <div class=\"pp-content-post pp-content-grid-post pp-post-2n pp-grid-default post-34257 post type-post status-publish format-standard has-post-thumbnail hentry category-awards tag-mwendwa-kiko\" data-id=\"34257\" itemscope=\"\" itemtype=\"https://schema.org/BlogPosting\">\n",
      "                     <meta content=\"Mwendwa Kiko wins Roschlau Graduate Fellowship in Sustainable Urban Mobility\" itemid=\"https://civmin.utoronto.ca/mwendwa-kiko-wins-roschlau-graduate-fellowship-in-sustainable-urban-mobility/\" itemprop=\"mainEntityOfPage\" itemscope=\"\" itemtype=\"https://schema.org/WebPage\"/>\n",
      "                     <meta content=\"2023-06-13\" itemprop=\"datePublished\"/>\n",
      "                     <meta content=\"2023-06-13\" itemprop=\"dateModified\"/>\n",
      "                     <div itemprop=\"publisher\" itemscope=\"\" itemtype=\"https://schema.org/Organization\">\n",
      "                      <meta content=\"Department of Civil &amp; Mineral Engineering\" itemprop=\"name\"/>\n",
      "                     </div>\n",
      "                     <div itemprop=\"author\" itemscope=\"\" itemtype=\"https://schema.org/Person\">\n",
      "                      <meta content=\"https://civmin.utoronto.ca/author/phill-snelutoronto-ca/\" itemprop=\"url\">\n",
      "                       <meta content=\"Phill Snel\" itemprop=\"name\"/>\n",
      "                      </meta>\n",
      "                     </div>\n",
      "                     <div itemprop=\"image\" itemscope=\"\" itemtype=\"https://schema.org/ImageObject\">\n",
      "                      <meta content=\"https://civmin.utoronto.ca/wp-content/uploads/2023/06/Mwendwa-Kiko.png\" itemprop=\"url\"/>\n",
      "                      <meta content=\"664\" itemprop=\"width\"/>\n",
      "                      <meta content=\"812\" itemprop=\"height\"/>\n",
      "                     </div>\n",
      "                     <div itemprop=\"interactionStatistic\" itemscope=\"\" itemtype=\"https://schema.org/InteractionCounter\">\n",
      "                      <meta content=\"https://schema.org/CommentAction\" itemprop=\"interactionType\"/>\n",
      "                      <meta content=\"0\" itemprop=\"userInteractionCount\"/>\n",
      "                     </div>\n",
      "                     <div class=\"pp-content-grid-inner pp-content-body clearfix\">\n",
      "                      <div class=\"pp-content-post-data\">\n",
      "                       <h6 class=\"pp-content-grid-title pp-post-title\" itemprop=\"headline\">\n",
      "                        <a href=\"https://civmin.utoronto.ca/mwendwa-kiko-wins-roschlau-graduate-fellowship-in-sustainable-urban-mobility/\" title=\"Mwendwa Kiko wins Roschlau Graduate Fellowship in Sustainable Urban Mobility\">\n",
      "                         Mwendwa Kiko wins Roschlau Graduate Fellowship in Sustainable Urban Mobility\n",
      "                        </a>\n",
      "                       </h6>\n",
      "                      </div>\n",
      "                     </div>\n",
      "                    </div>\n",
      "                    <div class=\"pp-content-post pp-content-grid-post pp-grid-default post-34254 post type-post status-publish format-standard has-post-thumbnail hentry category-awards tag-aly-abdelaziz\" data-id=\"34254\" itemscope=\"\" itemtype=\"https://schema.org/BlogPosting\">\n",
      "                     <meta content=\"Aly Abdelaziz wins Murty Devata Graduate Student Scholarship\" itemid=\"https://civmin.utoronto.ca/aly-abdelaziz-wins-murty-devata-graduate-student-scholarship/\" itemprop=\"mainEntityOfPage\" itemscope=\"\" itemtype=\"https://schema.org/WebPage\"/>\n",
      "                     <meta content=\"2023-06-13\" itemprop=\"datePublished\"/>\n",
      "                     <meta content=\"2023-06-13\" itemprop=\"dateModified\"/>\n",
      "                     <div itemprop=\"publisher\" itemscope=\"\" itemtype=\"https://schema.org/Organization\">\n",
      "                      <meta content=\"Department of Civil &amp; Mineral Engineering\" itemprop=\"name\"/>\n",
      "                     </div>\n",
      "                     <div itemprop=\"author\" itemscope=\"\" itemtype=\"https://schema.org/Person\">\n",
      "                      <meta content=\"https://civmin.utoronto.ca/author/phill-snelutoronto-ca/\" itemprop=\"url\">\n",
      "                       <meta content=\"Phill Snel\" itemprop=\"name\"/>\n",
      "                      </meta>\n",
      "                     </div>\n",
      "                     <div itemprop=\"image\" itemscope=\"\" itemtype=\"https://schema.org/ImageObject\">\n",
      "                      <meta content=\"https://civmin.utoronto.ca/wp-content/uploads/2023/06/ALY.jpeg\" itemprop=\"url\"/>\n",
      "                      <meta content=\"830\" itemprop=\"width\"/>\n",
      "                      <meta content=\"914\" itemprop=\"height\"/>\n",
      "                     </div>\n",
      "                     <div itemprop=\"interactionStatistic\" itemscope=\"\" itemtype=\"https://schema.org/InteractionCounter\">\n",
      "                      <meta content=\"https://schema.org/CommentAction\" itemprop=\"interactionType\"/>\n",
      "                      <meta content=\"0\" itemprop=\"userInteractionCount\"/>\n",
      "                     </div>\n",
      "                     <div class=\"pp-content-grid-inner pp-content-body clearfix\">\n",
      "                      <div class=\"pp-content-post-data\">\n",
      "                       <h6 class=\"pp-content-grid-title pp-post-title\" itemprop=\"headline\">\n",
      "                        <a href=\"https://civmin.utoronto.ca/aly-abdelaziz-wins-murty-devata-graduate-student-scholarship/\" title=\"Aly Abdelaziz wins Murty Devata Graduate Student Scholarship\">\n",
      "                         Aly Abdelaziz wins Murty Devata Graduate Student Scholarship\n",
      "                        </a>\n",
      "                       </h6>\n",
      "                      </div>\n",
      "                     </div>\n",
      "                    </div>\n",
      "                    <div class=\"pp-content-post pp-content-grid-post pp-post-2n pp-grid-default post-34195 post type-post status-publish format-standard has-post-thumbnail hentry category-awards tag-doug-hooton tag-douglas-hooton tag-hooton\" data-id=\"34195\" itemscope=\"\" itemtype=\"https://schema.org/BlogPosting\">\n",
      "                     <meta content=\"Professor R. Douglas Hooton awarded the 2023 Howard Medal by the Institute of Civil Engineers (ICE) (UK)\" itemid=\"https://civmin.utoronto.ca/professor-r-douglas-hooton-awarded-the-2023-howard-medal-by-the-institute-of-civil-engineers-ice-uk/\" itemprop=\"mainEntityOfPage\" itemscope=\"\" itemtype=\"https://schema.org/WebPage\"/>\n",
      "                     <meta content=\"2023-06-06\" itemprop=\"datePublished\"/>\n",
      "                     <meta content=\"2023-06-06\" itemprop=\"dateModified\"/>\n",
      "                     <div itemprop=\"publisher\" itemscope=\"\" itemtype=\"https://schema.org/Organization\">\n",
      "                      <meta content=\"Department of Civil &amp; Mineral Engineering\" itemprop=\"name\"/>\n",
      "                     </div>\n",
      "                     <div itemprop=\"author\" itemscope=\"\" itemtype=\"https://schema.org/Person\">\n",
      "                      <meta content=\"https://civmin.utoronto.ca/author/rachael-gallant/\" itemprop=\"url\">\n",
      "                       <meta content=\"Rachael Gallant\" itemprop=\"name\"/>\n",
      "                      </meta>\n",
      "                     </div>\n",
      "                     <div itemprop=\"image\" itemscope=\"\" itemtype=\"https://schema.org/ImageObject\">\n",
      "                      <meta content=\"https://civmin.utoronto.ca/wp-content/uploads/2023/06/Doug-1-1.jpg\" itemprop=\"url\"/>\n",
      "                      <meta content=\"809\" itemprop=\"width\"/>\n",
      "                      <meta content=\"1157\" itemprop=\"height\"/>\n",
      "                     </div>\n",
      "                     <div itemprop=\"interactionStatistic\" itemscope=\"\" itemtype=\"https://schema.org/InteractionCounter\">\n",
      "                      <meta content=\"https://schema.org/CommentAction\" itemprop=\"interactionType\"/>\n",
      "                      <meta content=\"0\" itemprop=\"userInteractionCount\"/>\n",
      "                     </div>\n",
      "                     <div class=\"pp-content-grid-inner pp-content-body clearfix\">\n",
      "                      <div class=\"pp-content-post-data\">\n",
      "                       <h6 class=\"pp-content-grid-title pp-post-title\" itemprop=\"headline\">\n",
      "                        <a href=\"https://civmin.utoronto.ca/professor-r-douglas-hooton-awarded-the-2023-howard-medal-by-the-institute-of-civil-engineers-ice-uk/\" title=\"Professor R. Douglas Hooton awarded the 2023 Howard Medal by the Institute of Civil Engineers (ICE) (UK)\">\n",
      "                         Professor R. Douglas Hooton awarded the 2023 Howard Medal by the Institute of Civil Engineers (ICE) (UK)\n",
      "                        </a>\n",
      "                       </h6>\n",
      "                      </div>\n",
      "                     </div>\n",
      "                    </div>\n",
      "                    <div class=\"pp-grid-space\">\n",
      "                    </div>\n",
      "                   </div>\n",
      "                   <div class=\"fl-clear\">\n",
      "                   </div>\n",
      "                  </div>\n",
      "                  <!-- .pp-content-posts -->\n",
      "                 </div>\n",
      "                </div>\n",
      "               </div>\n",
      "               <div class=\"fl-module fl-module-heading fl-node-pxbvo862fjsr\" data-node=\"pxbvo862fjsr\">\n",
      "                <div class=\"fl-module-content fl-node-content\">\n",
      "                 <h2 class=\"fl-heading\">\n",
      "                  <span class=\"fl-heading-text\">\n",
      "                   Get Involved With CivMin\n",
      "                  </span>\n",
      "                 </h2>\n",
      "                </div>\n",
      "               </div>\n",
      "              </div>\n",
      "             </div>\n",
      "            </div>\n",
      "           </div>\n",
      "          </div>\n",
      "         </div>\n",
      "         <div class=\"fl-row fl-row-full-width fl-row-bg-color fl-node-l1czvms7en95 fl-row-default-height fl-row-align-center\" data-node=\"l1czvms7en95\">\n",
      "          <div class=\"fl-row-content-wrap\">\n",
      "           <div class=\"fl-row-content fl-row-fixed-width fl-node-content\">\n",
      "            <div class=\"fl-col-group fl-node-jlkuz1rq5sdw\" data-node=\"jlkuz1rq5sdw\">\n",
      "             <div class=\"fl-col fl-node-muj7lxop1fak\" data-node=\"muj7lxop1fak\">\n",
      "              <div class=\"fl-col-content fl-node-content\">\n",
      "               <div class=\"fl-module fl-module-heading fl-node-342esy7t0xgz\" data-node=\"342esy7t0xgz\">\n",
      "                <div class=\"fl-module-content fl-node-content\">\n",
      "                 <h2 class=\"fl-heading\">\n",
      "                  <span class=\"fl-heading-text\">\n",
      "                   Get involved\n",
      "                  </span>\n",
      "                 </h2>\n",
      "                </div>\n",
      "               </div>\n",
      "              </div>\n",
      "             </div>\n",
      "            </div>\n",
      "            <div class=\"fl-col-group fl-node-sm92lfhq7w3p\" data-node=\"sm92lfhq7w3p\">\n",
      "             <div class=\"fl-col fl-node-n80zkm9vhxbe fl-col-has-cols\" data-node=\"n80zkm9vhxbe\">\n",
      "              <div class=\"fl-col-content fl-node-content\">\n",
      "               <div class=\"fl-col-group fl-node-s9o20en73myi fl-col-group-nested\" data-node=\"s9o20en73myi\">\n",
      "                <div class=\"fl-col fl-node-e3ca7o5ngpm6 fl-col-small\" data-node=\"e3ca7o5ngpm6\">\n",
      "                 <div class=\"fl-col-content fl-node-content\">\n",
      "                  <div class=\"fl-module fl-module-icon fl-node-i2a5sbocy4vf\" data-node=\"i2a5sbocy4vf\">\n",
      "                   <div class=\"fl-module-content fl-node-content\">\n",
      "                    <div class=\"fl-icon-wrap\">\n",
      "                     <span class=\"fl-icon\">\n",
      "                      <a aria-hidden=\"true\" aria-labelledby=\"fl-icon-text-i2a5sbocy4vf\" href=\"https://uoftengineeringconnect.ca/feed\" rel=\"noopener\" tabindex=\"-1\" target=\"_blank\">\n",
      "                       <i aria-hidden=\"true\" class=\"fab fa-connectdevelop\">\n",
      "                       </i>\n",
      "                      </a>\n",
      "                     </span>\n",
      "                     <div class=\"fl-icon-text\" id=\"fl-icon-text-i2a5sbocy4vf\">\n",
      "                      <a class=\"fl-icon-text-link fl-icon-text-wrap\" href=\"https://uoftengineeringconnect.ca/feed\" rel=\"noopener\" target=\"_blank\">\n",
      "                       <h5>\n",
      "                        U of T Engineering Connect\n",
      "                       </h5>\n",
      "                      </a>\n",
      "                     </div>\n",
      "                    </div>\n",
      "                   </div>\n",
      "                  </div>\n",
      "                 </div>\n",
      "                </div>\n",
      "                <div class=\"fl-col fl-node-hua1gfb8ocvi fl-col-small\" data-node=\"hua1gfb8ocvi\">\n",
      "                 <div class=\"fl-col-content fl-node-content\">\n",
      "                  <div class=\"fl-module fl-module-icon fl-node-licars0mpdvo\" data-node=\"licars0mpdvo\">\n",
      "                   <div class=\"fl-module-content fl-node-content\">\n",
      "                    <div class=\"fl-icon-wrap\">\n",
      "                     <span class=\"fl-icon\">\n",
      "                      <a aria-hidden=\"true\" aria-labelledby=\"fl-icon-text-licars0mpdvo\" href=\"https://civmin.utoronto.ca/home/partner-with-us/industry-advisory-board/#:~:text=Purpose%3A,Department's%20undergraduate%20and%20graduate%20students.\" rel=\"noopener\" tabindex=\"-1\" target=\"_blank\">\n",
      "                       <i aria-hidden=\"true\" class=\"fas fa-people-carry\">\n",
      "                       </i>\n",
      "                      </a>\n",
      "                     </span>\n",
      "                     <div class=\"fl-icon-text\" id=\"fl-icon-text-licars0mpdvo\">\n",
      "                      <a class=\"fl-icon-text-link fl-icon-text-wrap\" href=\"https://civmin.utoronto.ca/home/partner-with-us/industry-advisory-board/#:~:text=Purpose%3A,Department's%20undergraduate%20and%20graduate%20students.\" rel=\"noopener\" target=\"_blank\">\n",
      "                       <h5>\n",
      "                        Industry Advisory Board\n",
      "                       </h5>\n",
      "                      </a>\n",
      "                     </div>\n",
      "                    </div>\n",
      "                   </div>\n",
      "                  </div>\n",
      "                 </div>\n",
      "                </div>\n",
      "               </div>\n",
      "              </div>\n",
      "             </div>\n",
      "            </div>\n",
      "           </div>\n",
      "          </div>\n",
      "         </div>\n",
      "        </div>\n",
      "       </section>\n",
      "       <!-- .entry-content -->\n",
      "      </article>\n",
      "      <!-- #post-## -->\n",
      "     </div>\n",
      "     <!-- .dflex -->\n",
      "    </div>\n",
      "    <!-- #main -->\n",
      "   </main>\n",
      "   <!-- #content -->\n",
      "   <footer class=\"footer\" id=\"footer\">\n",
      "    <div class=\"site-footer content-wrap\">\n",
      "     <div class=\"footer-wordmark\">\n",
      "      <div class=\"wordmark-wrapper d-flex align-items-center justify-content-center\">\n",
      "       <a href=\"https://civmin.utoronto.ca\">\n",
      "        <img alt=\"U of T Enginering Home\" class=\"lazyload\" data-src=\"https://civmin.utoronto.ca/wp-content/uploads/2023/02/CivMin_Signature_Reverse.svg\" height=\"94\" src=\"https://civmin.utoronto.ca/wp-content/themes/fase-theme-2023-master/assets/img/ll-placeholder.png\" width=\"442\"/>\n",
      "       </a>\n",
      "      </div>\n",
      "     </div>\n",
      "     <div class=\"footer-social\">\n",
      "      <div class=\"footer-social-menu\">\n",
      "       <div class=\"menu-social-container\">\n",
      "        <ul class=\"social-nav\" id=\"menu-social-1\">\n",
      "         <li class=\"menu-item menu-item-type-custom menu-item-object-custom menu-item-14159 nav-item\" itemscope=\"itemscope\" itemtype=\"https://www.schema.org/SiteNavigationElement\">\n",
      "          <a class=\"nav-link\" href=\"https://www.facebook.com/civminutoronto/\">\n",
      "           <span class=\"soc-icon-facebook\">\n",
      "           </span>\n",
      "           <span class=\"screen-reader-text\">\n",
      "            Facebook\n",
      "           </span>\n",
      "          </a>\n",
      "         </li>\n",
      "         <li class=\"menu-item menu-item-type-custom menu-item-object-custom menu-item-14160 nav-item\" itemscope=\"itemscope\" itemtype=\"https://www.schema.org/SiteNavigationElement\">\n",
      "          <a class=\"nav-link\" href=\"https://twitter.com/civmin?lang=en\">\n",
      "           <span class=\"soc-icon-twitter\">\n",
      "           </span>\n",
      "           <span class=\"screen-reader-text\">\n",
      "            Twitter\n",
      "           </span>\n",
      "          </a>\n",
      "         </li>\n",
      "         <li class=\"menu-item menu-item-type-custom menu-item-object-custom menu-item-14161 nav-item\" itemscope=\"itemscope\" itemtype=\"https://www.schema.org/SiteNavigationElement\">\n",
      "          <a class=\"nav-link\" href=\"https://www.instagram.com/civmin/\">\n",
      "           <span class=\"soc-icon-instagram\">\n",
      "           </span>\n",
      "           <span class=\"screen-reader-text\">\n",
      "            Instagram\n",
      "           </span>\n",
      "          </a>\n",
      "         </li>\n",
      "         <li class=\"menu-item menu-item-type-custom menu-item-object-custom menu-item-22663 nav-item\" itemscope=\"itemscope\" itemtype=\"https://www.schema.org/SiteNavigationElement\">\n",
      "          <a class=\"nav-link\" href=\"https://www.linkedin.com/school/civmin/\">\n",
      "           <span class=\"soc-icon-linkedin\">\n",
      "           </span>\n",
      "           <span class=\"screen-reader-text\">\n",
      "            LinkedIn\n",
      "           </span>\n",
      "          </a>\n",
      "         </li>\n",
      "         <li class=\"menu-item menu-item-type-custom menu-item-object-custom menu-item-24105 nav-item\" itemscope=\"itemscope\" itemtype=\"https://www.schema.org/SiteNavigationElement\">\n",
      "          <a class=\"nav-link\" href=\"https://www.youtube.com/user/civmin\">\n",
      "           <span class=\"soc-icon-youtube\">\n",
      "           </span>\n",
      "           <span class=\"screen-reader-text\">\n",
      "            Youtube\n",
      "           </span>\n",
      "          </a>\n",
      "         </li>\n",
      "        </ul>\n",
      "       </div>\n",
      "      </div>\n",
      "      <address>\n",
      "       Department of Civil &amp; Mineral Engineering\n",
      "       <br/>\n",
      "       35 St. George St.\n",
      "       <br/>\n",
      "       Toronto, Ontario, Canada\n",
      "       <br/>\n",
      "       M5S 1A4\n",
      "      </address>\n",
      "     </div>\n",
      "     <div class=\"footer-gravity d-flex align-items-center justify-content-center\">\n",
      "      <a alt=\"Link to Defy Gravity Campaign\" href=\"https://defygravitycampaign.utoronto.ca/\">\n",
      "       <img alt=\"Defy Gravity\" class=\"lazyload\" data-src=\"https://civmin.utoronto.ca/wp-content/themes/fase-theme-2023-master/assets/img/defy_gravity_reverse_digital.svg\" height=\"75\" src=\"https://civmin.utoronto.ca/wp-content/themes/fase-theme-2023-master/assets/img/ll-placeholder.png\" width=\"140\"/>\n",
      "      </a>\n",
      "     </div>\n",
      "    </div>\n",
      "    <div class=\"site-footer content-wrap tla d-flex flex-column align-items-center justify-content-center\">\n",
      "     <h2>\n",
      "      Traditional Land Acknowledgement\n",
      "     </h2>\n",
      "     <p>\n",
      "      We wish to acknowledge this land on which the University of Toronto operates. For thousands of years it has been the traditional land of the Huron-Wendat, the Seneca, and the Mississaugas of the Credit. Today, this meeting place is still the home to many Indigenous people from across Turtle Island and we are grateful to have the opportunity to work on this land.\n",
      "     </p>\n",
      "    </div>\n",
      "   </footer>\n",
      "   <!-- .site-footer container-->\n",
      "   <section aria-label=\"Copyright\" class=\"small-footer\">\n",
      "    <div class=\"copyright d-flex flex-column flex-sm-column flex-md-row justify-content-md-between align-items-md-center content-wrap pb-2 pt-2\">\n",
      "     <div class=\"copy-text p-2\">\n",
      "      <p>\n",
      "       <p>\n",
      "        © 2023 Faculty of Applied Science and Engineering\n",
      "       </p>\n",
      "      </p>\n",
      "     </div>\n",
      "     <div class=\"copy-nav p-2\">\n",
      "      <div class=\"menu-footer-quick-links-container\">\n",
      "       <ul class=\"footer-nav-3\" id=\"menu-footer-quick-links\">\n",
      "        <li class=\"menu-item menu-item-type-custom menu-item-object-custom menu-item-24106\" id=\"menu-item-24106\">\n",
      "         <a href=\"https://www.utoronto.ca/\">\n",
      "          U of T Home\n",
      "         </a>\n",
      "        </li>\n",
      "        <li class=\"menu-item menu-item-type-custom menu-item-object-custom menu-item-24107\" id=\"menu-item-24107\">\n",
      "         <a href=\"https://www.utoronto.ca/accessibility\">\n",
      "          Accessibility\n",
      "         </a>\n",
      "        </li>\n",
      "        <li class=\"menu-item menu-item-type-custom menu-item-object-custom menu-item-24108\" id=\"menu-item-24108\">\n",
      "         <a href=\"https://www.utoronto.ca/privacy\">\n",
      "          Privacy\n",
      "         </a>\n",
      "        </li>\n",
      "        <li class=\"menu-item menu-item-type-custom menu-item-object-custom menu-item-24109\" id=\"menu-item-24109\">\n",
      "         <a href=\"mailto:civ.communications@utoronto.ca\">\n",
      "          Website Feedback\n",
      "         </a>\n",
      "        </li>\n",
      "       </ul>\n",
      "      </div>\n",
      "     </div>\n",
      "    </div>\n",
      "   </section>\n",
      "  </div>\n",
      "  <!-- #page -->\n",
      "  <script type=\"text/javascript\">\n",
      "   /* MonsterInsights Scroll Tracking */\n",
      "\t\tif ( typeof(jQuery) !== 'undefined' ) {\n",
      "\t\tjQuery( document ).ready(function(){\n",
      "\t\tfunction monsterinsights_scroll_tracking_load() {\n",
      "\t\tif ( ( typeof(__gaTracker) !== 'undefined' && __gaTracker && __gaTracker.hasOwnProperty( \"loaded\" ) && __gaTracker.loaded == true ) || ( typeof(__gtagTracker) !== 'undefined' && __gtagTracker ) ) {\n",
      "\t\t(function(factory) {\n",
      "\t\tfactory(jQuery);\n",
      "\t\t}(function($) {\n",
      "\n",
      "\t\t/* Scroll Depth */\n",
      "\t\t\"use strict\";\n",
      "\t\tvar defaults = {\n",
      "\t\tpercentage: true\n",
      "\t\t};\n",
      "\n",
      "\t\tvar $window = $(window),\n",
      "\t\tcache = [],\n",
      "\t\tscrollEventBound = false,\n",
      "\t\tlastPixelDepth = 0;\n",
      "\n",
      "\t\t/*\n",
      "\t\t* Plugin\n",
      "\t\t*/\n",
      "\n",
      "\t\t$.scrollDepth = function(options) {\n",
      "\n",
      "\t\tvar startTime = +new Date();\n",
      "\n",
      "\t\toptions = $.extend({}, defaults, options);\n",
      "\n",
      "\t\t/*\n",
      "\t\t* Functions\n",
      "\t\t*/\n",
      "\n",
      "\t\tfunction sendEvent(action, label, scrollDistance, timing) {\n",
      "\t\tif ( 'undefined' === typeof MonsterInsightsObject || 'undefined' === typeof MonsterInsightsObject.sendEvent ) {\n",
      "\t\treturn;\n",
      "\t\t}\n",
      "\t\t\tvar paramName = action.toLowerCase();\n",
      "\tvar fieldsArray = {\n",
      "\tsend_to: 'G-2E9NND0N6Y',\n",
      "\tnon_interaction: true\n",
      "\t};\n",
      "\tfieldsArray[paramName] = label;\n",
      "\n",
      "\tif (arguments.length > 3) {\n",
      "\tfieldsArray.scroll_timing = timing\n",
      "\tMonsterInsightsObject.sendEvent('event', 'scroll_depth', fieldsArray);\n",
      "\t} else {\n",
      "\tMonsterInsightsObject.sendEvent('event', 'scroll_depth', fieldsArray);\n",
      "\t}\n",
      "\t\t\t}\n",
      "\n",
      "\t\tfunction calculateMarks(docHeight) {\n",
      "\t\treturn {\n",
      "\t\t'25%' : parseInt(docHeight * 0.25, 10),\n",
      "\t\t'50%' : parseInt(docHeight * 0.50, 10),\n",
      "\t\t'75%' : parseInt(docHeight * 0.75, 10),\n",
      "\t\t/* Cushion to trigger 100% event in iOS */\n",
      "\t\t'100%': docHeight - 5\n",
      "\t\t};\n",
      "\t\t}\n",
      "\n",
      "\t\tfunction checkMarks(marks, scrollDistance, timing) {\n",
      "\t\t/* Check each active mark */\n",
      "\t\t$.each(marks, function(key, val) {\n",
      "\t\tif ( $.inArray(key, cache) === -1 && scrollDistance >= val ) {\n",
      "\t\tsendEvent('Percentage', key, scrollDistance, timing);\n",
      "\t\tcache.push(key);\n",
      "\t\t}\n",
      "\t\t});\n",
      "\t\t}\n",
      "\n",
      "\t\tfunction rounded(scrollDistance) {\n",
      "\t\t/* Returns String */\n",
      "\t\treturn (Math.floor(scrollDistance/250) * 250).toString();\n",
      "\t\t}\n",
      "\n",
      "\t\tfunction init() {\n",
      "\t\tbindScrollDepth();\n",
      "\t\t}\n",
      "\n",
      "\t\t/*\n",
      "\t\t* Public Methods\n",
      "\t\t*/\n",
      "\n",
      "\t\t/* Reset Scroll Depth with the originally initialized options */\n",
      "\t\t$.scrollDepth.reset = function() {\n",
      "\t\tcache = [];\n",
      "\t\tlastPixelDepth = 0;\n",
      "\t\t$window.off('scroll.scrollDepth');\n",
      "\t\tbindScrollDepth();\n",
      "\t\t};\n",
      "\n",
      "\t\t/* Add DOM elements to be tracked */\n",
      "\t\t$.scrollDepth.addElements = function(elems) {\n",
      "\n",
      "\t\tif (typeof elems == \"undefined\" || !$.isArray(elems)) {\n",
      "\t\treturn;\n",
      "\t\t}\n",
      "\n",
      "\t\t$.merge(options.elements, elems);\n",
      "\n",
      "\t\t/* If scroll event has been unbound from window, rebind */\n",
      "\t\tif (!scrollEventBound) {\n",
      "\t\tbindScrollDepth();\n",
      "\t\t}\n",
      "\n",
      "\t\t};\n",
      "\n",
      "\t\t/* Remove DOM elements currently tracked */\n",
      "\t\t$.scrollDepth.removeElements = function(elems) {\n",
      "\n",
      "\t\tif (typeof elems == \"undefined\" || !$.isArray(elems)) {\n",
      "\t\treturn;\n",
      "\t\t}\n",
      "\n",
      "\t\t$.each(elems, function(index, elem) {\n",
      "\n",
      "\t\tvar inElementsArray = $.inArray(elem, options.elements);\n",
      "\t\tvar inCacheArray = $.inArray(elem, cache);\n",
      "\n",
      "\t\tif (inElementsArray != -1) {\n",
      "\t\toptions.elements.splice(inElementsArray, 1);\n",
      "\t\t}\n",
      "\n",
      "\t\tif (inCacheArray != -1) {\n",
      "\t\tcache.splice(inCacheArray, 1);\n",
      "\t\t}\n",
      "\n",
      "\t\t});\n",
      "\n",
      "\t\t};\n",
      "\n",
      "\t\t/*\n",
      "\t\t* Throttle function borrowed from:\n",
      "\t\t* Underscore.js 1.5.2\n",
      "\t\t* http://underscorejs.org\n",
      "\t\t* (c) 2009-2013 Jeremy Ashkenas, DocumentCloud and Investigative Reporters & Editors\n",
      "\t\t* Underscore may be freely distributed under the MIT license.\n",
      "\t\t*/\n",
      "\n",
      "\t\tfunction throttle(func, wait) {\n",
      "\t\tvar context, args, result;\n",
      "\t\tvar timeout = null;\n",
      "\t\tvar previous = 0;\n",
      "\t\tvar later = function() {\n",
      "\t\tprevious = new Date;\n",
      "\t\ttimeout = null;\n",
      "\t\tresult = func.apply(context, args);\n",
      "\t\t};\n",
      "\t\treturn function() {\n",
      "\t\tvar now = new Date;\n",
      "\t\tif (!previous) previous = now;\n",
      "\t\tvar remaining = wait - (now - previous);\n",
      "\t\tcontext = this;\n",
      "\t\targs = arguments;\n",
      "\t\tif (remaining <= 0) {\n",
      "\t\tclearTimeout(timeout);\n",
      "\t\ttimeout = null;\n",
      "\t\tprevious = now;\n",
      "\t\tresult = func.apply(context, args);\n",
      "\t\t} else if (!timeout) {\n",
      "\t\ttimeout = setTimeout(later, remaining);\n",
      "\t\t}\n",
      "\t\treturn result;\n",
      "\t\t};\n",
      "\t\t}\n",
      "\n",
      "\t\t/*\n",
      "\t\t* Scroll Event\n",
      "\t\t*/\n",
      "\n",
      "\t\tfunction bindScrollDepth() {\n",
      "\n",
      "\t\tscrollEventBound = true;\n",
      "\n",
      "\t\t$window.on('scroll.scrollDepth', throttle(function() {\n",
      "\t\t/*\n",
      "\t\t* We calculate document and window height on each scroll event to\n",
      "\t\t* account for dynamic DOM changes.\n",
      "\t\t*/\n",
      "\n",
      "\t\tvar docHeight = $(document).height(),\n",
      "\t\twinHeight = window.innerHeight ? window.innerHeight : $window.height(),\n",
      "\t\tscrollDistance = $window.scrollTop() + winHeight,\n",
      "\n",
      "\t\t/* Recalculate percentage marks */\n",
      "\t\tmarks = calculateMarks(docHeight),\n",
      "\n",
      "\t\t/* Timing */\n",
      "\t\ttiming = +new Date - startTime;\n",
      "\n",
      "\t\tcheckMarks(marks, scrollDistance, timing);\n",
      "\t\t}, 500));\n",
      "\n",
      "\t\t}\n",
      "\n",
      "\t\tinit();\n",
      "\t\t};\n",
      "\n",
      "\t\t/* UMD export */\n",
      "\t\treturn $.scrollDepth;\n",
      "\n",
      "\t\t}));\n",
      "\n",
      "\t\tjQuery.scrollDepth();\n",
      "\t\t} else {\n",
      "\t\tsetTimeout(monsterinsights_scroll_tracking_load, 200);\n",
      "\t\t}\n",
      "\t\t}\n",
      "\t\tmonsterinsights_scroll_tracking_load();\n",
      "\t\t});\n",
      "\t\t}\n",
      "\t\t/* End MonsterInsights Scroll Tracking */\n",
      "  </script>\n",
      "  <script id=\"dtgs_nonce_frontend-js\" src=\"https://civmin.utoronto.ca/wp-content/plugins/data-tables-generator-by-supsystic/app/assets/js/dtgsnonce.js?ver=0.01\" type=\"text/javascript\">\n",
      "  </script>\n",
      "  <script id=\"dtgs_nonce_frontend-js-after\" type=\"text/javascript\">\n",
      "   var DTGS_NONCE_FRONTEND = \"a5cad19b68\"\n",
      "  </script>\n",
      "  <script id=\"jquery-waypoints-js\" src=\"https://civmin.utoronto.ca/wp-content/plugins/bb-plugin/js/jquery.waypoints.min.js?ver=2.7.2\" type=\"text/javascript\">\n",
      "  </script>\n",
      "  <script id=\"jquery-isotope-js\" src=\"https://civmin.utoronto.ca/wp-content/plugins/bbpowerpack/assets/js/isotope.pkgd.min.js?ver=3.0.1\" type=\"text/javascript\">\n",
      "  </script>\n",
      "  <script id=\"fl-builder-layout-27502-js\" src=\"https://civmin.utoronto.ca/wp-content/uploads/bb-plugin/cache/27502-layout.js?ver=8450da577582fb907081b12b16a53a9b\" type=\"text/javascript\">\n",
      "  </script>\n",
      "  <script id=\"bootstrap-util-js\" src=\"https://civmin.utoronto.ca/wp-content/themes/fase-theme-2023-master/dist/js/bootstrap/util.min.js?ver=4.0.0\" type=\"text/javascript\">\n",
      "  </script>\n",
      "  <script id=\"bootstrap-theme-js\" src=\"https://civmin.utoronto.ca/wp-content/themes/fase-theme-2023-master/dist/js/bundled/bootstrap.js?ver=4.0.4\" type=\"text/javascript\">\n",
      "  </script>\n",
      "  <script defer=\"defer\" id=\"main-js\" src=\"https://civmin.utoronto.ca/wp-content/themes/fase-theme-2023-master/dist/js/site.min.js?ver=1.0.0\" type=\"text/javascript\">\n",
      "  </script>\n",
      "  <script id=\"ai1ec_requirejs-js\" src=\"https://civmin.utoronto.ca/?ai1ec_render_js=common_frontend&amp;is_backend=false&amp;ver=3.0.0\" type=\"text/javascript\">\n",
      "  </script>\n",
      " </body>\n",
      "</html>\n",
      "\n"
     ]
    }
   ],
   "source": [
    "from bs4 import BeautifulSoup\n",
    "soup = BeautifulSoup(my_response.text, 'html.parser')\n",
    "print(soup.prettify())"
   ]
  },
  {
   "cell_type": "markdown",
   "metadata": {},
   "source": [
    "### Request\n",
    "Now, let's check out the different attribute of our get request.\n",
    "\n",
    "**URL**"
   ]
  },
  {
   "cell_type": "code",
   "execution_count": 5,
   "metadata": {},
   "outputs": [
    {
     "data": {
      "text/plain": [
       "'https://civmin.utoronto.ca/'"
      ]
     },
     "execution_count": 5,
     "metadata": {},
     "output_type": "execute_result"
    }
   ],
   "source": [
    "my_response.request.url"
   ]
  },
  {
   "cell_type": "markdown",
   "metadata": {},
   "source": [
    "**Headers**"
   ]
  },
  {
   "cell_type": "code",
   "execution_count": 6,
   "metadata": {},
   "outputs": [
    {
     "name": "stdout",
     "output_type": "stream",
     "text": [
      "User-Agent: python-requests/2.28.1\n",
      "Accept-Encoding: gzip, deflate, br\n",
      "Accept: */*\n",
      "Connection: keep-alive\n"
     ]
    }
   ],
   "source": [
    "for key in my_response.request.headers:\n",
    "    print(f'{key}: {my_response.request.headers[key]}')"
   ]
  },
  {
   "cell_type": "markdown",
   "metadata": {},
   "source": [
    "**Body**"
   ]
  },
  {
   "cell_type": "code",
   "execution_count": 27,
   "metadata": {},
   "outputs": [],
   "source": [
    "my_response.request.body"
   ]
  },
  {
   "cell_type": "markdown",
   "metadata": {},
   "source": [
    "### Response\n",
    "Now, let's check out the different attribute of our the response.\n",
    "\n",
    "**Status Code**"
   ]
  },
  {
   "cell_type": "code",
   "execution_count": 31,
   "metadata": {},
   "outputs": [
    {
     "data": {
      "text/plain": [
       "200"
      ]
     },
     "execution_count": 31,
     "metadata": {},
     "output_type": "execute_result"
    }
   ],
   "source": [
    "my_response.status_code"
   ]
  },
  {
   "cell_type": "markdown",
   "metadata": {},
   "source": [
    "**Encoding**"
   ]
  },
  {
   "cell_type": "code",
   "execution_count": 32,
   "metadata": {},
   "outputs": [
    {
     "data": {
      "text/plain": [
       "'UTF-8'"
      ]
     },
     "execution_count": 32,
     "metadata": {},
     "output_type": "execute_result"
    }
   ],
   "source": [
    "my_response.encoding"
   ]
  },
  {
   "cell_type": "markdown",
   "metadata": {},
   "source": [
    "**Headers**"
   ]
  },
  {
   "cell_type": "code",
   "execution_count": 7,
   "metadata": {},
   "outputs": [
    {
     "name": "stdout",
     "output_type": "stream",
     "text": [
      "Date: Tue, 19 Sep 2023 20:28:33 GMT\n",
      "Server: Apache/2.4.6\n",
      "X-Powered-By: PHP/7.3.33\n",
      "X-Pingback: https://civmin.utoronto.ca/xmlrpc.php\n",
      "Link: <https://civmin.utoronto.ca/wp-json/>; rel=\"https://api.w.org/\", <https://civmin.utoronto.ca/wp-json/wp/v2/pages/27502>; rel=\"alternate\"; type=\"application/json\", <https://civmin.utoronto.ca/>; rel=shortlink\n",
      "Keep-Alive: timeout=5, max=100\n",
      "Connection: Keep-Alive\n",
      "Transfer-Encoding: chunked\n",
      "Content-Type: text/html; charset=UTF-8\n"
     ]
    }
   ],
   "source": [
    "for key in my_response.headers:\n",
    "    print(f'{key}: {my_response.headers[key]}')"
   ]
  },
  {
   "cell_type": "markdown",
   "metadata": {},
   "source": [
    "**Text**"
   ]
  },
  {
   "cell_type": "code",
   "execution_count": 9,
   "metadata": {},
   "outputs": [
    {
     "data": {
      "text/plain": [
       "'<!DOCTYPE html>\\r\\n<html lang=\"en-US\">\\r\\n\\r\\n<head>\\r\\n\\r\\n\\t<meta charset=\"UTF-8\">\\r\\n\\t<meta name=\"viewport\" content=\"width=device-width, initial-scale=1\">\\r\\n\\t<link rel=\"profile\" href=\"https://gmpg.org/xfn/11\">\\r\\n\\t<link rel=\"pingback\" href=\"https://civmin.utoronto.ca/xmlrpc.php\">\\r\\n\\r\\n\\t\\t<meta name=\"description\" content=\"\">\\r\\n\\t<meta property=\"og:url\" content=\"https://civmin.utoronto.ca\"/>\\r\\n\\t<meta property=\"og:site_name\" content=\"Department of Civil &amp; Mineral Engineering\" />\\r\\n\\t<meta property=\"og:image\" conten'"
      ]
     },
     "execution_count": 9,
     "metadata": {},
     "output_type": "execute_result"
    }
   ],
   "source": [
    "my_response.text[0:500]"
   ]
  },
  {
   "cell_type": "code",
   "execution_count": 14,
   "metadata": {},
   "outputs": [
    {
     "data": {
      "text/plain": [
       "str"
      ]
     },
     "execution_count": 14,
     "metadata": {},
     "output_type": "execute_result"
    }
   ],
   "source": [
    "type(my_response.text[0:500])"
   ]
  },
  {
   "cell_type": "markdown",
   "metadata": {},
   "source": [
    "**Content**"
   ]
  },
  {
   "cell_type": "code",
   "execution_count": 13,
   "metadata": {},
   "outputs": [
    {
     "data": {
      "text/plain": [
       "b'<!DOCTYPE html>\\r\\n<html lang=\"en-US\">\\r\\n\\r\\n<head>\\r\\n\\r\\n\\t<meta charset=\"UTF-8\">\\r\\n\\t<meta name=\"viewport\" content=\"width=device-width, initial-scale=1\">\\r\\n\\t<link rel=\"profile\" href=\"https://gmpg.org/xfn/11\">\\r\\n\\t<link rel=\"pingback\" href=\"https://civmin.utoronto.ca/xmlrpc.php\">\\r\\n\\r\\n\\t\\t<meta name=\"description\" content=\"\">\\r\\n\\t<meta property=\"og:url\" content=\"https://civmin.utoronto.ca\"/>\\r\\n\\t<meta property=\"og:site_name\" content=\"Department of Civil &amp; Mineral Engineering\" />\\r\\n\\t<meta property=\"og:image\" conten'"
      ]
     },
     "execution_count": 13,
     "metadata": {},
     "output_type": "execute_result"
    }
   ],
   "source": [
    "my_response.content[0:500]"
   ]
  },
  {
   "cell_type": "code",
   "execution_count": 15,
   "metadata": {},
   "outputs": [
    {
     "data": {
      "text/plain": [
       "bytes"
      ]
     },
     "execution_count": 15,
     "metadata": {},
     "output_type": "execute_result"
    }
   ],
   "source": [
    "type(my_response.content[0:500])"
   ]
  },
  {
   "cell_type": "markdown",
   "metadata": {},
   "source": [
    "### Bad Request"
   ]
  },
  {
   "cell_type": "code",
   "execution_count": 26,
   "metadata": {},
   "outputs": [],
   "source": [
    "my_response = requests.get('http://www.civmin.utoronto.ca/sebs_mug_shot.jpg')"
   ]
  },
  {
   "cell_type": "code",
   "execution_count": 27,
   "metadata": {},
   "outputs": [
    {
     "data": {
      "text/plain": [
       "404"
      ]
     },
     "execution_count": 27,
     "metadata": {},
     "output_type": "execute_result"
    }
   ],
   "source": [
    "my_response.status_code"
   ]
  },
  {
   "cell_type": "markdown",
   "metadata": {},
   "source": [
    "### Requesting an Image Resource\n",
    "Check out [this](https://civmin.utoronto.ca/wp-content/uploads/bb-plugin/cache/IMG_5997_cropped-portrait-6ba5eb61ff3b97f3ca8b900ec4c00e9e-5e33200789147.jpg) picture of Seb."
   ]
  },
  {
   "cell_type": "code",
   "execution_count": 29,
   "metadata": {},
   "outputs": [],
   "source": [
    "my_response = requests.get('https://civmin.utoronto.ca/wp-content/uploads/bb-plugin/cache/IMG_5997_cropped-portrait-6ba5eb61ff3b97f3ca8b900ec4c00e9e-5e33200789147.jpg')"
   ]
  },
  {
   "cell_type": "code",
   "execution_count": 34,
   "metadata": {},
   "outputs": [
    {
     "data": {
      "text/plain": [
       "200"
      ]
     },
     "execution_count": 34,
     "metadata": {},
     "output_type": "execute_result"
    }
   ],
   "source": [
    "my_response.status_code"
   ]
  },
  {
   "cell_type": "code",
   "execution_count": 35,
   "metadata": {},
   "outputs": [],
   "source": [
    "my_response.encoding"
   ]
  },
  {
   "cell_type": "code",
   "execution_count": 38,
   "metadata": {},
   "outputs": [
    {
     "data": {
      "text/plain": [
       "'����\\x00\\x10JFIF\\x00\\x01\\x01\\x01\\x00H\\x00H\\x00\\x00�� �Exif\\x00\\x00MM\\x00*\\x00\\x00\\x00\\x08\\x00\\x0f\\x01\\x00\\x00\\x03\\x00\\x00\\x00\\x01\\x0b�\\x00\\x00\\x01\\x01\\x00\\x03\\x00\\x00\\x00\\x01\\x0f�\\x00\\x00\\x01\\x02\\x00\\x03\\x00\\x00\\x00\\x03\\x00\\x00\\x00�\\x01\\x06\\x00\\x03\\x00\\x00\\x00\\x01\\x00\\x02\\x00\\x00\\x01\\x0f\\x00\\x02\\x00\\x00\\x00\\x06\\x00\\x00\\x00�\\x01\\x10\\x00\\x02\\x00\\x00\\x00\\t\\x00\\x00\\x00�\\x01\\x12\\x00\\x03\\x00\\x00\\x00\\x01\\x00\\x01\\x00\\x00\\x01\\x15\\x00\\x03\\x00\\x00\\x00\\x01\\x00\\x03\\x00\\x00\\x01\\x1a\\x00\\x05\\x00\\x00\\x00\\x01\\x00\\x00\\x00�\\x01\\x1b\\x00\\x05\\x00\\x00\\x00\\x01\\x00\\x00\\x00�\\x01(\\x00\\x03\\x00\\x00\\x00\\x01\\x00\\x02\\x00\\x00\\x011\\x00\\x02\\x00\\x00\\x00\"\\x00\\x00\\x00�\\x012\\x00\\x02\\x00\\x00\\x00\\x14\\x00\\x00\\x01\\t\\x02\\x13\\x00\\x03'"
      ]
     },
     "execution_count": 38,
     "metadata": {},
     "output_type": "execute_result"
    }
   ],
   "source": [
    "my_response.text[0:200]"
   ]
  },
  {
   "cell_type": "code",
   "execution_count": 39,
   "metadata": {},
   "outputs": [
    {
     "data": {
      "text/plain": [
       "b'\\xff\\xd8\\xff\\xe0\\x00\\x10JFIF\\x00\\x01\\x01\\x01\\x00H\\x00H\\x00\\x00\\xff\\xe1 \\xfcExif\\x00\\x00MM\\x00*\\x00\\x00\\x00\\x08\\x00\\x0f\\x01\\x00\\x00\\x03\\x00\\x00\\x00\\x01\\x0b\\xd0\\x00\\x00\\x01\\x01\\x00\\x03\\x00\\x00\\x00\\x01\\x0f\\xc0\\x00\\x00\\x01\\x02\\x00\\x03\\x00\\x00\\x00\\x03\\x00\\x00\\x00\\xc2\\x01\\x06\\x00\\x03\\x00\\x00\\x00\\x01\\x00\\x02\\x00\\x00\\x01\\x0f\\x00\\x02\\x00\\x00\\x00\\x06\\x00\\x00\\x00\\xc8\\x01\\x10\\x00\\x02\\x00\\x00\\x00\\t\\x00\\x00\\x00\\xce\\x01\\x12\\x00\\x03\\x00\\x00\\x00\\x01\\x00\\x01\\x00\\x00\\x01\\x15\\x00\\x03\\x00\\x00\\x00\\x01\\x00\\x03\\x00\\x00\\x01\\x1a\\x00\\x05\\x00\\x00\\x00\\x01\\x00\\x00\\x00\\xd7\\x01\\x1b\\x00\\x05\\x00\\x00\\x00\\x01\\x00\\x00\\x00\\xdf\\x01(\\x00\\x03\\x00\\x00\\x00\\x01\\x00\\x02\\x00\\x00\\x011\\x00\\x02\\x00\\x00\\x00\"\\x00\\x00\\x00\\xe7\\x012\\x00\\x02\\x00\\x00\\x00\\x14\\x00\\x00\\x01\\t\\x02\\x13\\x00\\x03'"
      ]
     },
     "execution_count": 39,
     "metadata": {},
     "output_type": "execute_result"
    }
   ],
   "source": [
    "my_response.content[0:200]"
   ]
  },
  {
   "attachments": {},
   "cell_type": "markdown",
   "metadata": {
    "pycharm": {
     "name": "#%% md\n"
    }
   },
   "source": [
    "<a id='section7'></a>\n",
    "## 7. Web Technologies (REST API)\n",
    "You can learn how to work with the CoinGecko API [here](https://www.coingecko.com/en/api/documentation).\n",
    "\n",
    "Let's first work with the `/simple/price` route. "
   ]
  },
  {
   "cell_type": "code",
   "execution_count": 9,
   "metadata": {},
   "outputs": [
    {
     "data": {
      "text/html": [
       "<div>\n",
       "<style scoped>\n",
       "    .dataframe tbody tr th:only-of-type {\n",
       "        vertical-align: middle;\n",
       "    }\n",
       "\n",
       "    .dataframe tbody tr th {\n",
       "        vertical-align: top;\n",
       "    }\n",
       "\n",
       "    .dataframe thead th {\n",
       "        text-align: right;\n",
       "    }\n",
       "</style>\n",
       "<table border=\"1\" class=\"dataframe\">\n",
       "  <thead>\n",
       "    <tr style=\"text-align: right;\">\n",
       "      <th></th>\n",
       "      <th>bitcoin</th>\n",
       "      <th>ethereum</th>\n",
       "      <th>fantom</th>\n",
       "      <th>litecoin</th>\n",
       "    </tr>\n",
       "  </thead>\n",
       "  <tbody>\n",
       "    <tr>\n",
       "      <th>usd</th>\n",
       "      <td>27323</td>\n",
       "      <td>1648.06</td>\n",
       "      <td>0.194803</td>\n",
       "      <td>67.32</td>\n",
       "    </tr>\n",
       "    <tr>\n",
       "      <th>eur</th>\n",
       "      <td>25571</td>\n",
       "      <td>1542.37</td>\n",
       "      <td>0.182311</td>\n",
       "      <td>63.00</td>\n",
       "    </tr>\n",
       "    <tr>\n",
       "      <th>aud</th>\n",
       "      <td>42343</td>\n",
       "      <td>2554.06</td>\n",
       "      <td>0.301894</td>\n",
       "      <td>104.32</td>\n",
       "    </tr>\n",
       "    <tr>\n",
       "      <th>cad</th>\n",
       "      <td>36742</td>\n",
       "      <td>2216.18</td>\n",
       "      <td>0.261956</td>\n",
       "      <td>90.52</td>\n",
       "    </tr>\n",
       "  </tbody>\n",
       "</table>\n",
       "</div>"
      ],
      "text/plain": [
       "     bitcoin  ethereum    fantom  litecoin\n",
       "usd    27323   1648.06  0.194803     67.32\n",
       "eur    25571   1542.37  0.182311     63.00\n",
       "aud    42343   2554.06  0.301894    104.32\n",
       "cad    36742   2216.18  0.261956     90.52"
      ]
     },
     "execution_count": 9,
     "metadata": {},
     "output_type": "execute_result"
    }
   ],
   "source": [
    "base_url = 'https://api.coingecko.com/api/v3/'\n",
    "route = 'simple/price'\n",
    "params = {'ids': 'bitcoin,litecoin,ethereum,fantom,', 'vs_currencies': 'usd,eur,aud,cad'}\n",
    "\n",
    "my_response = requests.get(base_url + route, params=params)\n",
    "\n",
    "price_df = pd.DataFrame(my_response.json())\n",
    "price_df.head() "
   ]
  },
  {
   "cell_type": "markdown",
   "metadata": {},
   "source": [
    "Let's check out the `URL` we created."
   ]
  },
  {
   "cell_type": "code",
   "execution_count": 10,
   "metadata": {},
   "outputs": [
    {
     "data": {
      "text/plain": [
       "'https://api.coingecko.com/api/v3/simple/price?ids=bitcoin%2Clitecoin%2Cethereum%2Cfantom%2C&vs_currencies=usd%2Ceur%2Caud%2Ccad'"
      ]
     },
     "execution_count": 10,
     "metadata": {},
     "output_type": "execute_result"
    }
   ],
   "source": [
    "my_response.url"
   ]
  },
  {
   "cell_type": "markdown",
   "metadata": {},
   "source": [
    "Now let's work with the `/coins/list` route."
   ]
  },
  {
   "cell_type": "code",
   "execution_count": 15,
   "metadata": {},
   "outputs": [
    {
     "data": {
      "text/html": [
       "<div>\n",
       "<style scoped>\n",
       "    .dataframe tbody tr th:only-of-type {\n",
       "        vertical-align: middle;\n",
       "    }\n",
       "\n",
       "    .dataframe tbody tr th {\n",
       "        vertical-align: top;\n",
       "    }\n",
       "\n",
       "    .dataframe thead th {\n",
       "        text-align: right;\n",
       "    }\n",
       "</style>\n",
       "<table border=\"1\" class=\"dataframe\">\n",
       "  <thead>\n",
       "    <tr style=\"text-align: right;\">\n",
       "      <th></th>\n",
       "      <th>id</th>\n",
       "      <th>symbol</th>\n",
       "      <th>name</th>\n",
       "    </tr>\n",
       "  </thead>\n",
       "  <tbody>\n",
       "    <tr>\n",
       "      <th>0</th>\n",
       "      <td>01coin</td>\n",
       "      <td>zoc</td>\n",
       "      <td>01coin</td>\n",
       "    </tr>\n",
       "    <tr>\n",
       "      <th>1</th>\n",
       "      <td>0chain</td>\n",
       "      <td>zcn</td>\n",
       "      <td>Zus</td>\n",
       "    </tr>\n",
       "    <tr>\n",
       "      <th>2</th>\n",
       "      <td>0-knowledge-network</td>\n",
       "      <td>0kn</td>\n",
       "      <td>0 Knowledge Network</td>\n",
       "    </tr>\n",
       "    <tr>\n",
       "      <th>3</th>\n",
       "      <td>0vix-protocol</td>\n",
       "      <td>vix</td>\n",
       "      <td>0VIX Protocol</td>\n",
       "    </tr>\n",
       "    <tr>\n",
       "      <th>4</th>\n",
       "      <td>0x</td>\n",
       "      <td>zrx</td>\n",
       "      <td>0x Protocol</td>\n",
       "    </tr>\n",
       "  </tbody>\n",
       "</table>\n",
       "</div>"
      ],
      "text/plain": [
       "                    id symbol                 name\n",
       "0               01coin    zoc               01coin\n",
       "1               0chain    zcn                  Zus\n",
       "2  0-knowledge-network    0kn  0 Knowledge Network\n",
       "3        0vix-protocol    vix        0VIX Protocol\n",
       "4                   0x    zrx          0x Protocol"
      ]
     },
     "execution_count": 15,
     "metadata": {},
     "output_type": "execute_result"
    }
   ],
   "source": [
    "base_url = 'https://api.coingecko.com/api/v3/'\n",
    "route = 'coins/list'\n",
    "\n",
    "my_response = requests.get(base_url + route)\n",
    "\n",
    "coins_df = pd.DataFrame(my_response.json())\n",
    "coins_df.head() "
   ]
  },
  {
   "cell_type": "markdown",
   "metadata": {},
   "source": [
    "Now let's work with the `/coins/{id}/market_chart` route."
   ]
  },
  {
   "cell_type": "code",
   "execution_count": 34,
   "metadata": {
    "scrolled": false
   },
   "outputs": [
    {
     "data": {
      "text/html": [
       "<div>\n",
       "<style scoped>\n",
       "    .dataframe tbody tr th:only-of-type {\n",
       "        vertical-align: middle;\n",
       "    }\n",
       "\n",
       "    .dataframe tbody tr th {\n",
       "        vertical-align: top;\n",
       "    }\n",
       "\n",
       "    .dataframe thead th {\n",
       "        text-align: right;\n",
       "    }\n",
       "</style>\n",
       "<table border=\"1\" class=\"dataframe\">\n",
       "  <thead>\n",
       "    <tr style=\"text-align: right;\">\n",
       "      <th></th>\n",
       "      <th>TimeStamp</th>\n",
       "      <th>Price</th>\n",
       "      <th>Date</th>\n",
       "    </tr>\n",
       "  </thead>\n",
       "  <tbody>\n",
       "    <tr>\n",
       "      <th>0</th>\n",
       "      <td>1692583250503</td>\n",
       "      <td>26126.441144</td>\n",
       "      <td>2023-08-21 02:00:50.503</td>\n",
       "    </tr>\n",
       "    <tr>\n",
       "      <th>1</th>\n",
       "      <td>1692586845016</td>\n",
       "      <td>26091.929554</td>\n",
       "      <td>2023-08-21 03:00:45.016</td>\n",
       "    </tr>\n",
       "    <tr>\n",
       "      <th>2</th>\n",
       "      <td>1692590459472</td>\n",
       "      <td>26083.627019</td>\n",
       "      <td>2023-08-21 04:00:59.472</td>\n",
       "    </tr>\n",
       "    <tr>\n",
       "      <th>3</th>\n",
       "      <td>1692594043716</td>\n",
       "      <td>26045.598640</td>\n",
       "      <td>2023-08-21 05:00:43.716</td>\n",
       "    </tr>\n",
       "    <tr>\n",
       "      <th>4</th>\n",
       "      <td>1692597716659</td>\n",
       "      <td>26095.680485</td>\n",
       "      <td>2023-08-21 06:01:56.659</td>\n",
       "    </tr>\n",
       "  </tbody>\n",
       "</table>\n",
       "</div>"
      ],
      "text/plain": [
       "       TimeStamp         Price                    Date\n",
       "0  1692583250503  26126.441144 2023-08-21 02:00:50.503\n",
       "1  1692586845016  26091.929554 2023-08-21 03:00:45.016\n",
       "2  1692590459472  26083.627019 2023-08-21 04:00:59.472\n",
       "3  1692594043716  26045.598640 2023-08-21 05:00:43.716\n",
       "4  1692597716659  26095.680485 2023-08-21 06:01:56.659"
      ]
     },
     "execution_count": 34,
     "metadata": {},
     "output_type": "execute_result"
    }
   ],
   "source": [
    "base_url = 'https://api.coingecko.com/api/v3/'\n",
    "coin = 'bitcoin'\n",
    "route = 'coins/{}/market_chart'.format(coin)\n",
    "params = {'vs_currency': 'usd', 'days': '30'}\n",
    "\n",
    "my_response = requests.get(base_url + route, params=params)\n",
    "\n",
    "market_chart_data = pd.DataFrame(my_response.json()['prices'], columns=['TimeStamp', 'Price'])\n",
    "market_chart_data['Date'] = pd.to_datetime(market_chart_data['TimeStamp'], unit='ms')\n",
    "market_chart_data.head()"
   ]
  },
  {
   "cell_type": "markdown",
   "metadata": {},
   "source": [
    "Now let's aggrigate the data to set the opening, closing, min and max price for each dat."
   ]
  },
  {
   "cell_type": "code",
   "execution_count": 35,
   "metadata": {},
   "outputs": [
    {
     "data": {
      "text/html": [
       "<div>\n",
       "<style scoped>\n",
       "    .dataframe tbody tr th:only-of-type {\n",
       "        vertical-align: middle;\n",
       "    }\n",
       "\n",
       "    .dataframe tbody tr th {\n",
       "        vertical-align: top;\n",
       "    }\n",
       "\n",
       "    .dataframe thead tr th {\n",
       "        text-align: left;\n",
       "    }\n",
       "\n",
       "    .dataframe thead tr:last-of-type th {\n",
       "        text-align: right;\n",
       "    }\n",
       "</style>\n",
       "<table border=\"1\" class=\"dataframe\">\n",
       "  <thead>\n",
       "    <tr>\n",
       "      <th></th>\n",
       "      <th colspan=\"4\" halign=\"left\">Price</th>\n",
       "    </tr>\n",
       "    <tr>\n",
       "      <th></th>\n",
       "      <th>min</th>\n",
       "      <th>max</th>\n",
       "      <th>first</th>\n",
       "      <th>last</th>\n",
       "    </tr>\n",
       "    <tr>\n",
       "      <th>Date</th>\n",
       "      <th></th>\n",
       "      <th></th>\n",
       "      <th></th>\n",
       "      <th></th>\n",
       "    </tr>\n",
       "  </thead>\n",
       "  <tbody>\n",
       "    <tr>\n",
       "      <th>2023-08-21</th>\n",
       "      <td>25929.420521</td>\n",
       "      <td>26206.036112</td>\n",
       "      <td>26126.441144</td>\n",
       "      <td>26139.901849</td>\n",
       "    </tr>\n",
       "    <tr>\n",
       "      <th>2023-08-22</th>\n",
       "      <td>25670.789710</td>\n",
       "      <td>26119.005959</td>\n",
       "      <td>26119.005959</td>\n",
       "      <td>25798.381381</td>\n",
       "    </tr>\n",
       "    <tr>\n",
       "      <th>2023-08-23</th>\n",
       "      <td>25872.696876</td>\n",
       "      <td>26641.120068</td>\n",
       "      <td>26033.675407</td>\n",
       "      <td>26442.264848</td>\n",
       "    </tr>\n",
       "    <tr>\n",
       "      <th>2023-08-24</th>\n",
       "      <td>25999.028648</td>\n",
       "      <td>26507.185074</td>\n",
       "      <td>26425.544590</td>\n",
       "      <td>26099.954008</td>\n",
       "    </tr>\n",
       "    <tr>\n",
       "      <th>2023-08-25</th>\n",
       "      <td>25836.021433</td>\n",
       "      <td>26141.325678</td>\n",
       "      <td>26137.987984</td>\n",
       "      <td>26037.451965</td>\n",
       "    </tr>\n",
       "  </tbody>\n",
       "</table>\n",
       "</div>"
      ],
      "text/plain": [
       "                   Price                                          \n",
       "                     min           max         first          last\n",
       "Date                                                              \n",
       "2023-08-21  25929.420521  26206.036112  26126.441144  26139.901849\n",
       "2023-08-22  25670.789710  26119.005959  26119.005959  25798.381381\n",
       "2023-08-23  25872.696876  26641.120068  26033.675407  26442.264848\n",
       "2023-08-24  25999.028648  26507.185074  26425.544590  26099.954008\n",
       "2023-08-25  25836.021433  26141.325678  26137.987984  26037.451965"
      ]
     },
     "execution_count": 35,
     "metadata": {},
     "output_type": "execute_result"
    }
   ],
   "source": [
    "candlestick_data = market_chart_data.groupby(market_chart_data.Date.dt.date).agg({'Price': ['min', 'max', 'first', 'last']})\n",
    "candlestick_data.head()"
   ]
  },
  {
   "cell_type": "markdown",
   "metadata": {},
   "source": [
    "Lastly, let's plot the data using the amazing Plotly package."
   ]
  },
  {
   "cell_type": "code",
   "execution_count": 36,
   "metadata": {},
   "outputs": [
    {
     "data": {
      "application/vnd.plotly.v1+json": {
       "config": {
        "plotlyServerURL": "https://plot.ly"
       },
       "data": [
        {
         "close": [
          26139.90184913791,
          25798.38138085542,
          26442.26484833214,
          26099.95400758799,
          26037.45196492003,
          26015.129877063653,
          26075.02349234685,
          26023.061810715473,
          27642.983915634417,
          27250.84045367146,
          26011.40473601613,
          25789.78984311876,
          25859.36428638706,
          25948.197964470794,
          25749.106735136127,
          25753.95929850106,
          25725.087827734977,
          26387.74791739874,
          25905.63785593694,
          25900.10190570366,
          25857.257728995824,
          25140.138898899415,
          25979.21538462445,
          26234.18982796697,
          26615.532123428224,
          26792.60882462043,
          26566.033844441456,
          26468.617801591503,
          26867.0605755984,
          27200.83584839815,
          27272.82950655929
         ],
         "high": [
          26206.036112249363,
          26119.005958595222,
          26641.120068058513,
          26507.185074035457,
          26141.325677974113,
          26078.307413208233,
          26145.13700493861,
          26138.837727532824,
          27974.418744529936,
          27730.50373550554,
          27357.39988619997,
          26079.22308095293,
          25898.432073032756,
          26054.793419062265,
          25998.296229842043,
          25829.364772941324,
          25835.942668563916,
          26387.74791739874,
          26355.95434081812,
          25907.292127847395,
          25889.67163888094,
          25836.14289431529,
          26288.334884466993,
          26304.01546518303,
          26751.79664567292,
          26792.60882462043,
          26704.25388242849,
          26605.36747233914,
          27394.588104693972,
          27289.4248902988,
          27272.82950655929
         ],
         "low": [
          25929.42052057213,
          25670.789710355362,
          25872.6968761395,
          25999.028648457854,
          25836.021432995323,
          26002.51040088705,
          25986.93362954747,
          25906.617275936336,
          25960.814259657403,
          27119.168598219276,
          25991.00615533169,
          25461.332422814383,
          25764.43533909715,
          25836.905638144235,
          25659.620573078173,
          25652.30731623389,
          25576.564268541297,
          25647.715450955635,
          25764.72345705586,
          25813.384607397376,
          25682.08207006774,
          25023.24918499984,
          25133.303106566527,
          25843.107804557887,
          26193.031945995655,
          26251.615685201057,
          26471.09371981062,
          26462.58323203275,
          26456.81769925053,
          26682.841448803098,
          27173.66776619467
         ],
         "open": [
          26126.441143899236,
          26119.005958595222,
          26033.675406585844,
          26425.54459030144,
          26137.987984091673,
          26044.036209289134,
          26002.015717319366,
          26082.717178218525,
          26109.693155388202,
          27730.50373550554,
          27303.35348313254,
          25927.417005779287,
          25812.33049442542,
          25853.65684277757,
          25959.596311463454,
          25829.364772941324,
          25770.129054916044,
          25752.958418589413,
          26192.333433090567,
          25907.228137249735,
          25889.67163888094,
          25834.8856281802,
          25133.303106566527,
          25850.322299629544,
          26222.013303986474,
          26531.39556626326,
          26610.403126161622,
          26557.768691994646,
          26520.988254783886,
          26741.461110948952,
          27213.18465907596
         ],
         "type": "candlestick",
         "x": [
          "2023-08-21",
          "2023-08-22",
          "2023-08-23",
          "2023-08-24",
          "2023-08-25",
          "2023-08-26",
          "2023-08-27",
          "2023-08-28",
          "2023-08-29",
          "2023-08-30",
          "2023-08-31",
          "2023-09-01",
          "2023-09-02",
          "2023-09-03",
          "2023-09-04",
          "2023-09-05",
          "2023-09-06",
          "2023-09-07",
          "2023-09-08",
          "2023-09-09",
          "2023-09-10",
          "2023-09-11",
          "2023-09-12",
          "2023-09-13",
          "2023-09-14",
          "2023-09-15",
          "2023-09-16",
          "2023-09-17",
          "2023-09-18",
          "2023-09-19",
          "2023-09-20"
         ]
        }
       ],
       "layout": {
        "template": {
         "data": {
          "bar": [
           {
            "error_x": {
             "color": "#2a3f5f"
            },
            "error_y": {
             "color": "#2a3f5f"
            },
            "marker": {
             "line": {
              "color": "#E5ECF6",
              "width": 0.5
             },
             "pattern": {
              "fillmode": "overlay",
              "size": 10,
              "solidity": 0.2
             }
            },
            "type": "bar"
           }
          ],
          "barpolar": [
           {
            "marker": {
             "line": {
              "color": "#E5ECF6",
              "width": 0.5
             },
             "pattern": {
              "fillmode": "overlay",
              "size": 10,
              "solidity": 0.2
             }
            },
            "type": "barpolar"
           }
          ],
          "carpet": [
           {
            "aaxis": {
             "endlinecolor": "#2a3f5f",
             "gridcolor": "white",
             "linecolor": "white",
             "minorgridcolor": "white",
             "startlinecolor": "#2a3f5f"
            },
            "baxis": {
             "endlinecolor": "#2a3f5f",
             "gridcolor": "white",
             "linecolor": "white",
             "minorgridcolor": "white",
             "startlinecolor": "#2a3f5f"
            },
            "type": "carpet"
           }
          ],
          "choropleth": [
           {
            "colorbar": {
             "outlinewidth": 0,
             "ticks": ""
            },
            "type": "choropleth"
           }
          ],
          "contour": [
           {
            "colorbar": {
             "outlinewidth": 0,
             "ticks": ""
            },
            "colorscale": [
             [
              0,
              "#0d0887"
             ],
             [
              0.1111111111111111,
              "#46039f"
             ],
             [
              0.2222222222222222,
              "#7201a8"
             ],
             [
              0.3333333333333333,
              "#9c179e"
             ],
             [
              0.4444444444444444,
              "#bd3786"
             ],
             [
              0.5555555555555556,
              "#d8576b"
             ],
             [
              0.6666666666666666,
              "#ed7953"
             ],
             [
              0.7777777777777778,
              "#fb9f3a"
             ],
             [
              0.8888888888888888,
              "#fdca26"
             ],
             [
              1,
              "#f0f921"
             ]
            ],
            "type": "contour"
           }
          ],
          "contourcarpet": [
           {
            "colorbar": {
             "outlinewidth": 0,
             "ticks": ""
            },
            "type": "contourcarpet"
           }
          ],
          "heatmap": [
           {
            "colorbar": {
             "outlinewidth": 0,
             "ticks": ""
            },
            "colorscale": [
             [
              0,
              "#0d0887"
             ],
             [
              0.1111111111111111,
              "#46039f"
             ],
             [
              0.2222222222222222,
              "#7201a8"
             ],
             [
              0.3333333333333333,
              "#9c179e"
             ],
             [
              0.4444444444444444,
              "#bd3786"
             ],
             [
              0.5555555555555556,
              "#d8576b"
             ],
             [
              0.6666666666666666,
              "#ed7953"
             ],
             [
              0.7777777777777778,
              "#fb9f3a"
             ],
             [
              0.8888888888888888,
              "#fdca26"
             ],
             [
              1,
              "#f0f921"
             ]
            ],
            "type": "heatmap"
           }
          ],
          "heatmapgl": [
           {
            "colorbar": {
             "outlinewidth": 0,
             "ticks": ""
            },
            "colorscale": [
             [
              0,
              "#0d0887"
             ],
             [
              0.1111111111111111,
              "#46039f"
             ],
             [
              0.2222222222222222,
              "#7201a8"
             ],
             [
              0.3333333333333333,
              "#9c179e"
             ],
             [
              0.4444444444444444,
              "#bd3786"
             ],
             [
              0.5555555555555556,
              "#d8576b"
             ],
             [
              0.6666666666666666,
              "#ed7953"
             ],
             [
              0.7777777777777778,
              "#fb9f3a"
             ],
             [
              0.8888888888888888,
              "#fdca26"
             ],
             [
              1,
              "#f0f921"
             ]
            ],
            "type": "heatmapgl"
           }
          ],
          "histogram": [
           {
            "marker": {
             "pattern": {
              "fillmode": "overlay",
              "size": 10,
              "solidity": 0.2
             }
            },
            "type": "histogram"
           }
          ],
          "histogram2d": [
           {
            "colorbar": {
             "outlinewidth": 0,
             "ticks": ""
            },
            "colorscale": [
             [
              0,
              "#0d0887"
             ],
             [
              0.1111111111111111,
              "#46039f"
             ],
             [
              0.2222222222222222,
              "#7201a8"
             ],
             [
              0.3333333333333333,
              "#9c179e"
             ],
             [
              0.4444444444444444,
              "#bd3786"
             ],
             [
              0.5555555555555556,
              "#d8576b"
             ],
             [
              0.6666666666666666,
              "#ed7953"
             ],
             [
              0.7777777777777778,
              "#fb9f3a"
             ],
             [
              0.8888888888888888,
              "#fdca26"
             ],
             [
              1,
              "#f0f921"
             ]
            ],
            "type": "histogram2d"
           }
          ],
          "histogram2dcontour": [
           {
            "colorbar": {
             "outlinewidth": 0,
             "ticks": ""
            },
            "colorscale": [
             [
              0,
              "#0d0887"
             ],
             [
              0.1111111111111111,
              "#46039f"
             ],
             [
              0.2222222222222222,
              "#7201a8"
             ],
             [
              0.3333333333333333,
              "#9c179e"
             ],
             [
              0.4444444444444444,
              "#bd3786"
             ],
             [
              0.5555555555555556,
              "#d8576b"
             ],
             [
              0.6666666666666666,
              "#ed7953"
             ],
             [
              0.7777777777777778,
              "#fb9f3a"
             ],
             [
              0.8888888888888888,
              "#fdca26"
             ],
             [
              1,
              "#f0f921"
             ]
            ],
            "type": "histogram2dcontour"
           }
          ],
          "mesh3d": [
           {
            "colorbar": {
             "outlinewidth": 0,
             "ticks": ""
            },
            "type": "mesh3d"
           }
          ],
          "parcoords": [
           {
            "line": {
             "colorbar": {
              "outlinewidth": 0,
              "ticks": ""
             }
            },
            "type": "parcoords"
           }
          ],
          "pie": [
           {
            "automargin": true,
            "type": "pie"
           }
          ],
          "scatter": [
           {
            "fillpattern": {
             "fillmode": "overlay",
             "size": 10,
             "solidity": 0.2
            },
            "type": "scatter"
           }
          ],
          "scatter3d": [
           {
            "line": {
             "colorbar": {
              "outlinewidth": 0,
              "ticks": ""
             }
            },
            "marker": {
             "colorbar": {
              "outlinewidth": 0,
              "ticks": ""
             }
            },
            "type": "scatter3d"
           }
          ],
          "scattercarpet": [
           {
            "marker": {
             "colorbar": {
              "outlinewidth": 0,
              "ticks": ""
             }
            },
            "type": "scattercarpet"
           }
          ],
          "scattergeo": [
           {
            "marker": {
             "colorbar": {
              "outlinewidth": 0,
              "ticks": ""
             }
            },
            "type": "scattergeo"
           }
          ],
          "scattergl": [
           {
            "marker": {
             "colorbar": {
              "outlinewidth": 0,
              "ticks": ""
             }
            },
            "type": "scattergl"
           }
          ],
          "scattermapbox": [
           {
            "marker": {
             "colorbar": {
              "outlinewidth": 0,
              "ticks": ""
             }
            },
            "type": "scattermapbox"
           }
          ],
          "scatterpolar": [
           {
            "marker": {
             "colorbar": {
              "outlinewidth": 0,
              "ticks": ""
             }
            },
            "type": "scatterpolar"
           }
          ],
          "scatterpolargl": [
           {
            "marker": {
             "colorbar": {
              "outlinewidth": 0,
              "ticks": ""
             }
            },
            "type": "scatterpolargl"
           }
          ],
          "scatterternary": [
           {
            "marker": {
             "colorbar": {
              "outlinewidth": 0,
              "ticks": ""
             }
            },
            "type": "scatterternary"
           }
          ],
          "surface": [
           {
            "colorbar": {
             "outlinewidth": 0,
             "ticks": ""
            },
            "colorscale": [
             [
              0,
              "#0d0887"
             ],
             [
              0.1111111111111111,
              "#46039f"
             ],
             [
              0.2222222222222222,
              "#7201a8"
             ],
             [
              0.3333333333333333,
              "#9c179e"
             ],
             [
              0.4444444444444444,
              "#bd3786"
             ],
             [
              0.5555555555555556,
              "#d8576b"
             ],
             [
              0.6666666666666666,
              "#ed7953"
             ],
             [
              0.7777777777777778,
              "#fb9f3a"
             ],
             [
              0.8888888888888888,
              "#fdca26"
             ],
             [
              1,
              "#f0f921"
             ]
            ],
            "type": "surface"
           }
          ],
          "table": [
           {
            "cells": {
             "fill": {
              "color": "#EBF0F8"
             },
             "line": {
              "color": "white"
             }
            },
            "header": {
             "fill": {
              "color": "#C8D4E3"
             },
             "line": {
              "color": "white"
             }
            },
            "type": "table"
           }
          ]
         },
         "layout": {
          "annotationdefaults": {
           "arrowcolor": "#2a3f5f",
           "arrowhead": 0,
           "arrowwidth": 1
          },
          "autotypenumbers": "strict",
          "coloraxis": {
           "colorbar": {
            "outlinewidth": 0,
            "ticks": ""
           }
          },
          "colorscale": {
           "diverging": [
            [
             0,
             "#8e0152"
            ],
            [
             0.1,
             "#c51b7d"
            ],
            [
             0.2,
             "#de77ae"
            ],
            [
             0.3,
             "#f1b6da"
            ],
            [
             0.4,
             "#fde0ef"
            ],
            [
             0.5,
             "#f7f7f7"
            ],
            [
             0.6,
             "#e6f5d0"
            ],
            [
             0.7,
             "#b8e186"
            ],
            [
             0.8,
             "#7fbc41"
            ],
            [
             0.9,
             "#4d9221"
            ],
            [
             1,
             "#276419"
            ]
           ],
           "sequential": [
            [
             0,
             "#0d0887"
            ],
            [
             0.1111111111111111,
             "#46039f"
            ],
            [
             0.2222222222222222,
             "#7201a8"
            ],
            [
             0.3333333333333333,
             "#9c179e"
            ],
            [
             0.4444444444444444,
             "#bd3786"
            ],
            [
             0.5555555555555556,
             "#d8576b"
            ],
            [
             0.6666666666666666,
             "#ed7953"
            ],
            [
             0.7777777777777778,
             "#fb9f3a"
            ],
            [
             0.8888888888888888,
             "#fdca26"
            ],
            [
             1,
             "#f0f921"
            ]
           ],
           "sequentialminus": [
            [
             0,
             "#0d0887"
            ],
            [
             0.1111111111111111,
             "#46039f"
            ],
            [
             0.2222222222222222,
             "#7201a8"
            ],
            [
             0.3333333333333333,
             "#9c179e"
            ],
            [
             0.4444444444444444,
             "#bd3786"
            ],
            [
             0.5555555555555556,
             "#d8576b"
            ],
            [
             0.6666666666666666,
             "#ed7953"
            ],
            [
             0.7777777777777778,
             "#fb9f3a"
            ],
            [
             0.8888888888888888,
             "#fdca26"
            ],
            [
             1,
             "#f0f921"
            ]
           ]
          },
          "colorway": [
           "#636efa",
           "#EF553B",
           "#00cc96",
           "#ab63fa",
           "#FFA15A",
           "#19d3f3",
           "#FF6692",
           "#B6E880",
           "#FF97FF",
           "#FECB52"
          ],
          "font": {
           "color": "#2a3f5f"
          },
          "geo": {
           "bgcolor": "white",
           "lakecolor": "white",
           "landcolor": "#E5ECF6",
           "showlakes": true,
           "showland": true,
           "subunitcolor": "white"
          },
          "hoverlabel": {
           "align": "left"
          },
          "hovermode": "closest",
          "mapbox": {
           "style": "light"
          },
          "paper_bgcolor": "white",
          "plot_bgcolor": "#E5ECF6",
          "polar": {
           "angularaxis": {
            "gridcolor": "white",
            "linecolor": "white",
            "ticks": ""
           },
           "bgcolor": "#E5ECF6",
           "radialaxis": {
            "gridcolor": "white",
            "linecolor": "white",
            "ticks": ""
           }
          },
          "scene": {
           "xaxis": {
            "backgroundcolor": "#E5ECF6",
            "gridcolor": "white",
            "gridwidth": 2,
            "linecolor": "white",
            "showbackground": true,
            "ticks": "",
            "zerolinecolor": "white"
           },
           "yaxis": {
            "backgroundcolor": "#E5ECF6",
            "gridcolor": "white",
            "gridwidth": 2,
            "linecolor": "white",
            "showbackground": true,
            "ticks": "",
            "zerolinecolor": "white"
           },
           "zaxis": {
            "backgroundcolor": "#E5ECF6",
            "gridcolor": "white",
            "gridwidth": 2,
            "linecolor": "white",
            "showbackground": true,
            "ticks": "",
            "zerolinecolor": "white"
           }
          },
          "shapedefaults": {
           "line": {
            "color": "#2a3f5f"
           }
          },
          "ternary": {
           "aaxis": {
            "gridcolor": "white",
            "linecolor": "white",
            "ticks": ""
           },
           "baxis": {
            "gridcolor": "white",
            "linecolor": "white",
            "ticks": ""
           },
           "bgcolor": "#E5ECF6",
           "caxis": {
            "gridcolor": "white",
            "linecolor": "white",
            "ticks": ""
           }
          },
          "title": {
           "x": 0.05
          },
          "xaxis": {
           "automargin": true,
           "gridcolor": "white",
           "linecolor": "white",
           "ticks": "",
           "title": {
            "standoff": 15
           },
           "zerolinecolor": "white",
           "zerolinewidth": 2
          },
          "yaxis": {
           "automargin": true,
           "gridcolor": "white",
           "linecolor": "white",
           "ticks": "",
           "title": {
            "standoff": 15
           },
           "zerolinecolor": "white",
           "zerolinewidth": 2
          }
         }
        }
       }
      },
      "text/html": [
       "<div>                            <div id=\"c7a5361d-fbf3-4311-911b-fabfeccc9f6b\" class=\"plotly-graph-div\" style=\"height:525px; width:100%;\"></div>            <script type=\"text/javascript\">                require([\"plotly\"], function(Plotly) {                    window.PLOTLYENV=window.PLOTLYENV || {};                                    if (document.getElementById(\"c7a5361d-fbf3-4311-911b-fabfeccc9f6b\")) {                    Plotly.newPlot(                        \"c7a5361d-fbf3-4311-911b-fabfeccc9f6b\",                        [{\"close\":[26139.90184913791,25798.38138085542,26442.26484833214,26099.95400758799,26037.45196492003,26015.129877063653,26075.02349234685,26023.061810715473,27642.983915634417,27250.84045367146,26011.40473601613,25789.78984311876,25859.36428638706,25948.197964470794,25749.106735136127,25753.95929850106,25725.087827734977,26387.74791739874,25905.63785593694,25900.10190570366,25857.257728995824,25140.138898899415,25979.21538462445,26234.18982796697,26615.532123428224,26792.60882462043,26566.033844441456,26468.617801591503,26867.0605755984,27200.83584839815,27272.82950655929],\"high\":[26206.036112249363,26119.005958595222,26641.120068058513,26507.185074035457,26141.325677974113,26078.307413208233,26145.13700493861,26138.837727532824,27974.418744529936,27730.50373550554,27357.39988619997,26079.22308095293,25898.432073032756,26054.793419062265,25998.296229842043,25829.364772941324,25835.942668563916,26387.74791739874,26355.95434081812,25907.292127847395,25889.67163888094,25836.14289431529,26288.334884466993,26304.01546518303,26751.79664567292,26792.60882462043,26704.25388242849,26605.36747233914,27394.588104693972,27289.4248902988,27272.82950655929],\"low\":[25929.42052057213,25670.789710355362,25872.6968761395,25999.028648457854,25836.021432995323,26002.51040088705,25986.93362954747,25906.617275936336,25960.814259657403,27119.168598219276,25991.00615533169,25461.332422814383,25764.43533909715,25836.905638144235,25659.620573078173,25652.30731623389,25576.564268541297,25647.715450955635,25764.72345705586,25813.384607397376,25682.08207006774,25023.24918499984,25133.303106566527,25843.107804557887,26193.031945995655,26251.615685201057,26471.09371981062,26462.58323203275,26456.81769925053,26682.841448803098,27173.66776619467],\"open\":[26126.441143899236,26119.005958595222,26033.675406585844,26425.54459030144,26137.987984091673,26044.036209289134,26002.015717319366,26082.717178218525,26109.693155388202,27730.50373550554,27303.35348313254,25927.417005779287,25812.33049442542,25853.65684277757,25959.596311463454,25829.364772941324,25770.129054916044,25752.958418589413,26192.333433090567,25907.228137249735,25889.67163888094,25834.8856281802,25133.303106566527,25850.322299629544,26222.013303986474,26531.39556626326,26610.403126161622,26557.768691994646,26520.988254783886,26741.461110948952,27213.18465907596],\"x\":[\"2023-08-21\",\"2023-08-22\",\"2023-08-23\",\"2023-08-24\",\"2023-08-25\",\"2023-08-26\",\"2023-08-27\",\"2023-08-28\",\"2023-08-29\",\"2023-08-30\",\"2023-08-31\",\"2023-09-01\",\"2023-09-02\",\"2023-09-03\",\"2023-09-04\",\"2023-09-05\",\"2023-09-06\",\"2023-09-07\",\"2023-09-08\",\"2023-09-09\",\"2023-09-10\",\"2023-09-11\",\"2023-09-12\",\"2023-09-13\",\"2023-09-14\",\"2023-09-15\",\"2023-09-16\",\"2023-09-17\",\"2023-09-18\",\"2023-09-19\",\"2023-09-20\"],\"type\":\"candlestick\"}],                        {\"template\":{\"data\":{\"histogram2dcontour\":[{\"type\":\"histogram2dcontour\",\"colorbar\":{\"outlinewidth\":0,\"ticks\":\"\"},\"colorscale\":[[0.0,\"#0d0887\"],[0.1111111111111111,\"#46039f\"],[0.2222222222222222,\"#7201a8\"],[0.3333333333333333,\"#9c179e\"],[0.4444444444444444,\"#bd3786\"],[0.5555555555555556,\"#d8576b\"],[0.6666666666666666,\"#ed7953\"],[0.7777777777777778,\"#fb9f3a\"],[0.8888888888888888,\"#fdca26\"],[1.0,\"#f0f921\"]]}],\"choropleth\":[{\"type\":\"choropleth\",\"colorbar\":{\"outlinewidth\":0,\"ticks\":\"\"}}],\"histogram2d\":[{\"type\":\"histogram2d\",\"colorbar\":{\"outlinewidth\":0,\"ticks\":\"\"},\"colorscale\":[[0.0,\"#0d0887\"],[0.1111111111111111,\"#46039f\"],[0.2222222222222222,\"#7201a8\"],[0.3333333333333333,\"#9c179e\"],[0.4444444444444444,\"#bd3786\"],[0.5555555555555556,\"#d8576b\"],[0.6666666666666666,\"#ed7953\"],[0.7777777777777778,\"#fb9f3a\"],[0.8888888888888888,\"#fdca26\"],[1.0,\"#f0f921\"]]}],\"heatmap\":[{\"type\":\"heatmap\",\"colorbar\":{\"outlinewidth\":0,\"ticks\":\"\"},\"colorscale\":[[0.0,\"#0d0887\"],[0.1111111111111111,\"#46039f\"],[0.2222222222222222,\"#7201a8\"],[0.3333333333333333,\"#9c179e\"],[0.4444444444444444,\"#bd3786\"],[0.5555555555555556,\"#d8576b\"],[0.6666666666666666,\"#ed7953\"],[0.7777777777777778,\"#fb9f3a\"],[0.8888888888888888,\"#fdca26\"],[1.0,\"#f0f921\"]]}],\"heatmapgl\":[{\"type\":\"heatmapgl\",\"colorbar\":{\"outlinewidth\":0,\"ticks\":\"\"},\"colorscale\":[[0.0,\"#0d0887\"],[0.1111111111111111,\"#46039f\"],[0.2222222222222222,\"#7201a8\"],[0.3333333333333333,\"#9c179e\"],[0.4444444444444444,\"#bd3786\"],[0.5555555555555556,\"#d8576b\"],[0.6666666666666666,\"#ed7953\"],[0.7777777777777778,\"#fb9f3a\"],[0.8888888888888888,\"#fdca26\"],[1.0,\"#f0f921\"]]}],\"contourcarpet\":[{\"type\":\"contourcarpet\",\"colorbar\":{\"outlinewidth\":0,\"ticks\":\"\"}}],\"contour\":[{\"type\":\"contour\",\"colorbar\":{\"outlinewidth\":0,\"ticks\":\"\"},\"colorscale\":[[0.0,\"#0d0887\"],[0.1111111111111111,\"#46039f\"],[0.2222222222222222,\"#7201a8\"],[0.3333333333333333,\"#9c179e\"],[0.4444444444444444,\"#bd3786\"],[0.5555555555555556,\"#d8576b\"],[0.6666666666666666,\"#ed7953\"],[0.7777777777777778,\"#fb9f3a\"],[0.8888888888888888,\"#fdca26\"],[1.0,\"#f0f921\"]]}],\"surface\":[{\"type\":\"surface\",\"colorbar\":{\"outlinewidth\":0,\"ticks\":\"\"},\"colorscale\":[[0.0,\"#0d0887\"],[0.1111111111111111,\"#46039f\"],[0.2222222222222222,\"#7201a8\"],[0.3333333333333333,\"#9c179e\"],[0.4444444444444444,\"#bd3786\"],[0.5555555555555556,\"#d8576b\"],[0.6666666666666666,\"#ed7953\"],[0.7777777777777778,\"#fb9f3a\"],[0.8888888888888888,\"#fdca26\"],[1.0,\"#f0f921\"]]}],\"mesh3d\":[{\"type\":\"mesh3d\",\"colorbar\":{\"outlinewidth\":0,\"ticks\":\"\"}}],\"scatter\":[{\"fillpattern\":{\"fillmode\":\"overlay\",\"size\":10,\"solidity\":0.2},\"type\":\"scatter\"}],\"parcoords\":[{\"type\":\"parcoords\",\"line\":{\"colorbar\":{\"outlinewidth\":0,\"ticks\":\"\"}}}],\"scatterpolargl\":[{\"type\":\"scatterpolargl\",\"marker\":{\"colorbar\":{\"outlinewidth\":0,\"ticks\":\"\"}}}],\"bar\":[{\"error_x\":{\"color\":\"#2a3f5f\"},\"error_y\":{\"color\":\"#2a3f5f\"},\"marker\":{\"line\":{\"color\":\"#E5ECF6\",\"width\":0.5},\"pattern\":{\"fillmode\":\"overlay\",\"size\":10,\"solidity\":0.2}},\"type\":\"bar\"}],\"scattergeo\":[{\"type\":\"scattergeo\",\"marker\":{\"colorbar\":{\"outlinewidth\":0,\"ticks\":\"\"}}}],\"scatterpolar\":[{\"type\":\"scatterpolar\",\"marker\":{\"colorbar\":{\"outlinewidth\":0,\"ticks\":\"\"}}}],\"histogram\":[{\"marker\":{\"pattern\":{\"fillmode\":\"overlay\",\"size\":10,\"solidity\":0.2}},\"type\":\"histogram\"}],\"scattergl\":[{\"type\":\"scattergl\",\"marker\":{\"colorbar\":{\"outlinewidth\":0,\"ticks\":\"\"}}}],\"scatter3d\":[{\"type\":\"scatter3d\",\"line\":{\"colorbar\":{\"outlinewidth\":0,\"ticks\":\"\"}},\"marker\":{\"colorbar\":{\"outlinewidth\":0,\"ticks\":\"\"}}}],\"scattermapbox\":[{\"type\":\"scattermapbox\",\"marker\":{\"colorbar\":{\"outlinewidth\":0,\"ticks\":\"\"}}}],\"scatterternary\":[{\"type\":\"scatterternary\",\"marker\":{\"colorbar\":{\"outlinewidth\":0,\"ticks\":\"\"}}}],\"scattercarpet\":[{\"type\":\"scattercarpet\",\"marker\":{\"colorbar\":{\"outlinewidth\":0,\"ticks\":\"\"}}}],\"carpet\":[{\"aaxis\":{\"endlinecolor\":\"#2a3f5f\",\"gridcolor\":\"white\",\"linecolor\":\"white\",\"minorgridcolor\":\"white\",\"startlinecolor\":\"#2a3f5f\"},\"baxis\":{\"endlinecolor\":\"#2a3f5f\",\"gridcolor\":\"white\",\"linecolor\":\"white\",\"minorgridcolor\":\"white\",\"startlinecolor\":\"#2a3f5f\"},\"type\":\"carpet\"}],\"table\":[{\"cells\":{\"fill\":{\"color\":\"#EBF0F8\"},\"line\":{\"color\":\"white\"}},\"header\":{\"fill\":{\"color\":\"#C8D4E3\"},\"line\":{\"color\":\"white\"}},\"type\":\"table\"}],\"barpolar\":[{\"marker\":{\"line\":{\"color\":\"#E5ECF6\",\"width\":0.5},\"pattern\":{\"fillmode\":\"overlay\",\"size\":10,\"solidity\":0.2}},\"type\":\"barpolar\"}],\"pie\":[{\"automargin\":true,\"type\":\"pie\"}]},\"layout\":{\"autotypenumbers\":\"strict\",\"colorway\":[\"#636efa\",\"#EF553B\",\"#00cc96\",\"#ab63fa\",\"#FFA15A\",\"#19d3f3\",\"#FF6692\",\"#B6E880\",\"#FF97FF\",\"#FECB52\"],\"font\":{\"color\":\"#2a3f5f\"},\"hovermode\":\"closest\",\"hoverlabel\":{\"align\":\"left\"},\"paper_bgcolor\":\"white\",\"plot_bgcolor\":\"#E5ECF6\",\"polar\":{\"bgcolor\":\"#E5ECF6\",\"angularaxis\":{\"gridcolor\":\"white\",\"linecolor\":\"white\",\"ticks\":\"\"},\"radialaxis\":{\"gridcolor\":\"white\",\"linecolor\":\"white\",\"ticks\":\"\"}},\"ternary\":{\"bgcolor\":\"#E5ECF6\",\"aaxis\":{\"gridcolor\":\"white\",\"linecolor\":\"white\",\"ticks\":\"\"},\"baxis\":{\"gridcolor\":\"white\",\"linecolor\":\"white\",\"ticks\":\"\"},\"caxis\":{\"gridcolor\":\"white\",\"linecolor\":\"white\",\"ticks\":\"\"}},\"coloraxis\":{\"colorbar\":{\"outlinewidth\":0,\"ticks\":\"\"}},\"colorscale\":{\"sequential\":[[0.0,\"#0d0887\"],[0.1111111111111111,\"#46039f\"],[0.2222222222222222,\"#7201a8\"],[0.3333333333333333,\"#9c179e\"],[0.4444444444444444,\"#bd3786\"],[0.5555555555555556,\"#d8576b\"],[0.6666666666666666,\"#ed7953\"],[0.7777777777777778,\"#fb9f3a\"],[0.8888888888888888,\"#fdca26\"],[1.0,\"#f0f921\"]],\"sequentialminus\":[[0.0,\"#0d0887\"],[0.1111111111111111,\"#46039f\"],[0.2222222222222222,\"#7201a8\"],[0.3333333333333333,\"#9c179e\"],[0.4444444444444444,\"#bd3786\"],[0.5555555555555556,\"#d8576b\"],[0.6666666666666666,\"#ed7953\"],[0.7777777777777778,\"#fb9f3a\"],[0.8888888888888888,\"#fdca26\"],[1.0,\"#f0f921\"]],\"diverging\":[[0,\"#8e0152\"],[0.1,\"#c51b7d\"],[0.2,\"#de77ae\"],[0.3,\"#f1b6da\"],[0.4,\"#fde0ef\"],[0.5,\"#f7f7f7\"],[0.6,\"#e6f5d0\"],[0.7,\"#b8e186\"],[0.8,\"#7fbc41\"],[0.9,\"#4d9221\"],[1,\"#276419\"]]},\"xaxis\":{\"gridcolor\":\"white\",\"linecolor\":\"white\",\"ticks\":\"\",\"title\":{\"standoff\":15},\"zerolinecolor\":\"white\",\"automargin\":true,\"zerolinewidth\":2},\"yaxis\":{\"gridcolor\":\"white\",\"linecolor\":\"white\",\"ticks\":\"\",\"title\":{\"standoff\":15},\"zerolinecolor\":\"white\",\"automargin\":true,\"zerolinewidth\":2},\"scene\":{\"xaxis\":{\"backgroundcolor\":\"#E5ECF6\",\"gridcolor\":\"white\",\"linecolor\":\"white\",\"showbackground\":true,\"ticks\":\"\",\"zerolinecolor\":\"white\",\"gridwidth\":2},\"yaxis\":{\"backgroundcolor\":\"#E5ECF6\",\"gridcolor\":\"white\",\"linecolor\":\"white\",\"showbackground\":true,\"ticks\":\"\",\"zerolinecolor\":\"white\",\"gridwidth\":2},\"zaxis\":{\"backgroundcolor\":\"#E5ECF6\",\"gridcolor\":\"white\",\"linecolor\":\"white\",\"showbackground\":true,\"ticks\":\"\",\"zerolinecolor\":\"white\",\"gridwidth\":2}},\"shapedefaults\":{\"line\":{\"color\":\"#2a3f5f\"}},\"annotationdefaults\":{\"arrowcolor\":\"#2a3f5f\",\"arrowhead\":0,\"arrowwidth\":1},\"geo\":{\"bgcolor\":\"white\",\"landcolor\":\"#E5ECF6\",\"subunitcolor\":\"white\",\"showland\":true,\"showlakes\":true,\"lakecolor\":\"white\"},\"title\":{\"x\":0.05},\"mapbox\":{\"style\":\"light\"}}}},                        {\"responsive\": true}                    ).then(function(){\n",
       "                            \n",
       "var gd = document.getElementById('c7a5361d-fbf3-4311-911b-fabfeccc9f6b');\n",
       "var x = new MutationObserver(function (mutations, observer) {{\n",
       "        var display = window.getComputedStyle(gd).display;\n",
       "        if (!display || display === 'none') {{\n",
       "            console.log([gd, 'removed!']);\n",
       "            Plotly.purge(gd);\n",
       "            observer.disconnect();\n",
       "        }}\n",
       "}});\n",
       "\n",
       "// Listen for the removal of the full notebook cells\n",
       "var notebookContainer = gd.closest('#notebook-container');\n",
       "if (notebookContainer) {{\n",
       "    x.observe(notebookContainer, {childList: true});\n",
       "}}\n",
       "\n",
       "// Listen for the clearing of the current output cell\n",
       "var outputEl = gd.closest('.output');\n",
       "if (outputEl) {{\n",
       "    x.observe(outputEl, {childList: true});\n",
       "}}\n",
       "\n",
       "                        })                };                });            </script>        </div>"
      ]
     },
     "metadata": {},
     "output_type": "display_data"
    }
   ],
   "source": [
    "import plotly.graph_objects as go\n",
    "\n",
    "fig = go.Figure(data=[go.Candlestick(x=candlestick_data.index,\n",
    "                open=candlestick_data['Price']['first'],\n",
    "                high=candlestick_data['Price']['max'],\n",
    "                low=candlestick_data['Price']['min'],\n",
    "                close=candlestick_data['Price']['last'])])\n",
    "\n",
    "fig.show()"
   ]
  },
  {
   "cell_type": "markdown",
   "metadata": {
    "pycharm": {
     "name": "#%% md\n"
    }
   },
   "source": [
    "<a id='section8'></a>\n",
    "## 8. Web Technologies (HTML)\n",
    "HTML stands for Hyper Text Markup Language and is the language that defines the structure of every webpage you visit. Most browsers haver a builtin debug tool that will allow you to see the HTML associated with each webpage you visit. Checkout [the CivMin](https://civmin.utoronto.ca/) site and press F12 on your keyboard.\n",
    "\n",
    "Below is an example of some simple HTML.\n",
    "\n",
    "```html\n",
    "<html>\n",
    "    <head>\n",
    "        <title>\n",
    "            A Simple HTML Document\n",
    "        </title>\n",
    "    </head>\n",
    "    <body>\n",
    "        <p>This is a very simple HTML document</p>\n",
    "        <p>It only has two paragraphs</p>\n",
    "    </body>\n",
    "</html>\n",
    "```\n",
    "\n",
    "Text surrounded with `< >` are called `tags` and as you can see from the HTML above, there are manu different types of tags.\n",
    "\n",
    "- HTML tag: It is the root of the html document which is used to specify that the document is html. <br>\n",
    "  `<html> Statements... </html>` <br>\n",
    "- Head tag: Head tag is used to contain all the head element in the html file. It contains the title, style, meta, … etc tag. <br>\n",
    "  `<head> Statements... </head>` <br>\n",
    "- Body tag: It is used to define the body of html document. It contains image, tables, lists, … etc. <br>\n",
    "  `<body> Statements... </body>` <br>\n",
    "- Title tag: It is used to define the title of html document. <br>\n",
    " `<title> Statements... </title>` <br>\n",
    "- Heading tag: It is used to define the heading of html document. <br>\n",
    "  `<h1> Statements... </h1>` <br>\n",
    "  `<h2> Statements... </h2>` <br>\n",
    "  `<h3> Statements... </h3>` <br>\n",
    "  `<h4> Statements... </h4>` <br>\n",
    "  `<h5> Statements... </h5>` <br>\n",
    "  `<h6> Statements... </h6>` <br>\n",
    "- Paragraph tag: It is used to define paragraph content in html document. <br>\n",
    "  `<p> Statements... </p>` <br>\n",
    "- Anchor tag: It is used to link one page to another page. <br>\n",
    "  `<a href=\"...\"> Statements... </a>` <br>\n",
    "- List tag: It is used to list the content. <br>\n",
    "  `<li> Statements... </li>` <br>\n",
    "- Ordered List tag: It is used to list the content in a particular order. <br>\n",
    "  `<ol> Statements... </ol>` <br>\n",
    "- Unordered List tag: It is used to list the content without order. <br>\n",
    "  `<ul> Statements... </ul>`\n",
    "  \n",
    "Let's first check out a very simple webpage. Remember the NOAA file we worked with in [Section 2: Loosely Formatted Text Data](#section2)? This [website](https://www.glerl.noaa.gov/emf/waves/GLERL-Donelan-Archive/2021/) contains forecast files and measurements for Wave parameters such as heigh and direction. Let's say we want to analysis this data and need a way to programmatically extract the download links for all Wave Height forcast files. The HTML on this webpage looks like this (Go to the webpage and hit F12 to check it our for yourself).\n",
    "\n",
    "```html\n",
    "<!DOCTYPE HTML PUBLIC \"-//W3C//DTD HTML 3.2 Final//EN\">\n",
    "<html>\n",
    " <head>\n",
    "  <title>Index of /emf/waves/GLERL-Donelan-Archive/2021</title>\n",
    " </head>\n",
    " <body>\n",
    "  <h1>Index of /emf/waves/GLERL-Donelan-Archive/2021</h1>\n",
    "  <table>\n",
    "   <tbody>   \n",
    "    <tr></tr>\n",
    "    <tr></tr>\n",
    "    <tr></tr> \n",
    "    <tr>\n",
    "     <td></td>\n",
    "     <td></td>\n",
    "     <td>2021-02-23 06:12</td>  \n",
    "     <td>67M</td>\n",
    "     <td></td>   \n",
    "    </tr>\n",
    "```\n",
    "\n",
    "Let's use the `requests.get()` function to get the HTML code from this home page."
   ]
  },
  {
   "cell_type": "code",
   "execution_count": 33,
   "metadata": {
    "pycharm": {
     "name": "#%%\n"
    },
    "scrolled": true
   },
   "outputs": [
    {
     "data": {
      "text/plain": [
       "'<!DOCTYPE HTML PUBLIC \"-//W3C//DTD HTML 3.2 Final//EN\">\\n<html>\\n <head>\\n  <title>Index of /emf/waves/GLERL-Donelan-Archive/2021</title>\\n </head>\\n <body>\\n<h1>Index of /emf/waves/GLERL-Donelan-Archive/2021</h1>\\n  <table>\\n   <tr><th valign=\"top\"><img src=\"/icons/blank.gif\" alt=\"[ICO]\"></th><th><a href=\"?C=N;O=D\">Name</a></th><th><a href=\"?C=M;O=A\">Last modified</a></th><th><a href=\"?C=S;O=A\">Size</a></th><th><a href=\"?C=D;O=A\">Description</a></th></tr>\\n   <tr><th colspan=\"5\"><hr></th></tr>\\n<tr><td valign=\"top\"><img src=\"/icons/back.gif\" alt=\"[PARENTDIR]\"></td><td><a href=\"/emf/waves/GLERL-Donelan-Archive/\">Parent Directory</a></td><td>&nbsp;</td><td align=\"right\">  - </td><td>&nbsp;</td></tr>\\n<tr><td valign=\"top\"><img src=\"/icons/unknown.gif\" alt=\"[   ]\"></td><td><a href=\"c2021.nc\">c2021.nc</a></td><td align=\"right\">2022-02-15 14:20  </td><td align=\"right\">779M</td><td>&nbsp;</td></tr>\\n<tr><td valign=\"top\"><img src=\"/icons/unknown.gif\" alt=\"[   ]\"></td><td><a href=\"c2021_05.in1.nc\">c2021_0'"
      ]
     },
     "execution_count": 33,
     "metadata": {},
     "output_type": "execute_result"
    }
   ],
   "source": [
    "response = requests.get('https://www.glerl.noaa.gov/emf/waves/GLERL-Donelan-Archive/2021/')\n",
    "response.text[0:1000]"
   ]
  },
  {
   "cell_type": "markdown",
   "metadata": {},
   "source": [
    "<a id='section9'></a>\n",
    "## 9. Web Technologies (Web Scraping)"
   ]
  },
  {
   "cell_type": "markdown",
   "metadata": {
    "pycharm": {
     "name": "#%% md\n"
    }
   },
   "source": [
    "Next, we'll use BeautifulSoup to parse the HTML from the [IMDB \"Top 100\" (Sorted by Popularity Ascending)](https://www.imdb.com/search/title/?groups=top_100&ref_=adv_prv). \n",
    "\n",
    "First, let's get the HTML."
   ]
  },
  {
   "cell_type": "code",
   "execution_count": 4,
   "metadata": {},
   "outputs": [
    {
     "name": "stdout",
     "output_type": "stream",
     "text": [
      "\n",
      "\n",
      "<!DOCTYPE html>\n",
      "<html\n",
      "    xmlns:og=\"http://ogp.me/ns#\"\n",
      "    xmlns:fb=\"http://www.facebook.com/2008/fbml\">\n",
      "    <head>\n",
      "         \n",
      "\n",
      "        <meta charset=\"utf-8\">\n",
      "\n",
      "\n",
      "\n",
      "\n",
      "        <script type=\"text/javascrip\n"
     ]
    }
   ],
   "source": [
    "imdb_url = \"https://www.imdb.com/search/title/?groups=top_100&ref_=adv_prv\"\n",
    "\n",
    "response = requests.get(imdb_url)\n",
    "print(response.text[0:200])"
   ]
  },
  {
   "cell_type": "markdown",
   "metadata": {},
   "source": [
    "Next, let's use `BeautifulSoup` to help use parse and search the HTML code."
   ]
  },
  {
   "cell_type": "code",
   "execution_count": 6,
   "metadata": {},
   "outputs": [],
   "source": [
    "soup = BeautifulSoup(response.text, \"html.parser\")"
   ]
  },
  {
   "cell_type": "markdown",
   "metadata": {},
   "source": [
    "This `BeautifulSoup` object can be used to look for tags with particular attributes that contain the data we want to scrape. in this case, we want to look for `<div>` tags with `class='lister-item mode-advanced'`."
   ]
  },
  {
   "cell_type": "code",
   "execution_count": 30,
   "metadata": {},
   "outputs": [],
   "source": [
    "movies = soup.find_all('div', class_='lister-item mode-advanced')"
   ]
  },
  {
   "cell_type": "markdown",
   "metadata": {},
   "source": [
    "`divs` is a list of 100 contains each containing a movie. Let's check out the first item in the list. At the time this Notebook was created, this should be the movie Oppenheimer."
   ]
  },
  {
   "cell_type": "code",
   "execution_count": 31,
   "metadata": {
    "scrolled": false
   },
   "outputs": [
    {
     "name": "stdout",
     "output_type": "stream",
     "text": [
      "<div class=\"lister-item mode-advanced\">\n",
      " <div class=\"lister-top-right\">\n",
      "  <div class=\"ribbonize\" data-caller=\"filmosearch\" data-tconst=\"tt15398776\">\n",
      "  </div>\n",
      " </div>\n",
      " <div class=\"lister-item-image float-left\">\n",
      "  <a href=\"/title/tt15398776/\">\n",
      "   <img alt=\"Oppenheimer\" class=\"loadlate\" data-tconst=\"tt15398776\" height=\"98\" loadlate=\"https://m.media-amazon.com/images/M/MV5BMDBmYTZjNjUtN2M1MS00MTQ2LTk2ODgtNzc2M2QyZGE5NTVjXkEyXkFqcGdeQXVyNzAwMjU2MTY@._V1_UX67_CR0,0,67,98_AL_.jpg\" src=\"https://m.media-amazon.com/images/S/sash/4FyxwxECzL-U1J8.png\" width=\"67\"/>\n",
      "  </a>\n",
      " </div>\n",
      " <div class=\"lister-item-content\">\n",
      "  <h3 class=\"lister-item-header\">\n",
      "   <span class=\"lister-item-index unbold text-primary\">\n",
      "    1.\n",
      "   </span>\n",
      "   <a href=\"/title/tt15398776/\">\n",
      "    Oppenheimer\n",
      "   </a>\n",
      "   <span class=\"lister-item-year text-muted unbold\">\n",
      "    (2023)\n",
      "   </span>\n",
      "  </h3>\n",
      "  <p class=\"text-muted\">\n",
      "   <span class=\"certificate\">\n",
      "    14A\n",
      "   </span>\n",
      "   <span class=\"ghost\">\n",
      "    |\n",
      "   </span>\n",
      "   <span class=\"runtime\">\n",
      "    180 min\n",
      "   </span>\n",
      "   <span class=\"ghost\">\n",
      "    |\n",
      "   </span>\n",
      "   <span class=\"genre\">\n",
      "    Biography, Drama, History\n",
      "   </span>\n",
      "  </p>\n",
      "  <div class=\"ratings-bar\">\n",
      "   <div class=\"inline-block ratings-imdb-rating\" data-value=\"8.6\" name=\"ir\">\n",
      "    <span class=\"global-sprite rating-star imdb-rating\">\n",
      "    </span>\n",
      "    <strong>\n",
      "     8.6\n",
      "    </strong>\n",
      "   </div>\n",
      "   <div class=\"inline-block ratings-user-rating\">\n",
      "    <span class=\"userRatingValue\" data-tconst=\"tt15398776\" id=\"urv_tt15398776\">\n",
      "     <span class=\"global-sprite rating-star no-rating\">\n",
      "     </span>\n",
      "     <span class=\"rate\" data-no-rating=\"Rate this\" data-value=\"0\" name=\"ur\">\n",
      "      Rate this\n",
      "     </span>\n",
      "    </span>\n",
      "    <div class=\"starBarWidget\" id=\"sb_tt15398776\">\n",
      "     <div class=\"rating rating-list\" data-csrf-token=\"\" data-ga-identifier=\"\" data-starbar-class=\"rating-list\" data-user=\"\" id=\"tt15398776|imdb|8.6|8.6|adv_li_tt||advsearch|title\" itemprop=\"aggregateRating\" itemscope=\"\" itemtype=\"http://schema.org/AggregateRating\" title=\"Users rated this 8.6/10 (438,110 votes) - click stars to rate\">\n",
      "      <meta content=\"8.6\" itemprop=\"ratingValue\"/>\n",
      "      <meta content=\"10\" itemprop=\"bestRating\"/>\n",
      "      <meta content=\"438110\" itemprop=\"ratingCount\"/>\n",
      "      <span class=\"rating-bg\">\n",
      "      </span>\n",
      "      <span class=\"rating-imdb\" style=\"width: 120.4px\">\n",
      "      </span>\n",
      "      <span class=\"rating-stars\">\n",
      "       <a href=\"/register/login?why=vote\" rel=\"nofollow\" title=\"Register or login to rate this title\">\n",
      "        <span>\n",
      "         1\n",
      "        </span>\n",
      "       </a>\n",
      "       <a href=\"/register/login?why=vote\" rel=\"nofollow\" title=\"Register or login to rate this title\">\n",
      "        <span>\n",
      "         2\n",
      "        </span>\n",
      "       </a>\n",
      "       <a href=\"/register/login?why=vote\" rel=\"nofollow\" title=\"Register or login to rate this title\">\n",
      "        <span>\n",
      "         3\n",
      "        </span>\n",
      "       </a>\n",
      "       <a href=\"/register/login?why=vote\" rel=\"nofollow\" title=\"Register or login to rate this title\">\n",
      "        <span>\n",
      "         4\n",
      "        </span>\n",
      "       </a>\n",
      "       <a href=\"/register/login?why=vote\" rel=\"nofollow\" title=\"Register or login to rate this title\">\n",
      "        <span>\n",
      "         5\n",
      "        </span>\n",
      "       </a>\n",
      "       <a href=\"/register/login?why=vote\" rel=\"nofollow\" title=\"Register or login to rate this title\">\n",
      "        <span>\n",
      "         6\n",
      "        </span>\n",
      "       </a>\n",
      "       <a href=\"/register/login?why=vote\" rel=\"nofollow\" title=\"Register or login to rate this title\">\n",
      "        <span>\n",
      "         7\n",
      "        </span>\n",
      "       </a>\n",
      "       <a href=\"/register/login?why=vote\" rel=\"nofollow\" title=\"Register or login to rate this title\">\n",
      "        <span>\n",
      "         8\n",
      "        </span>\n",
      "       </a>\n",
      "       <a href=\"/register/login?why=vote\" rel=\"nofollow\" title=\"Register or login to rate this title\">\n",
      "        <span>\n",
      "         9\n",
      "        </span>\n",
      "       </a>\n",
      "       <a href=\"/register/login?why=vote\" rel=\"nofollow\" title=\"Register or login to rate this title\">\n",
      "        <span>\n",
      "         10\n",
      "        </span>\n",
      "       </a>\n",
      "      </span>\n",
      "      <span class=\"rating-rating\">\n",
      "       <span class=\"value\">\n",
      "        8.6\n",
      "       </span>\n",
      "       <span class=\"grey\">\n",
      "        /\n",
      "       </span>\n",
      "       <span class=\"grey\">\n",
      "        10\n",
      "       </span>\n",
      "      </span>\n",
      "      <span class=\"rating-cancel\">\n",
      "       <a href=\"/title/tt15398776/vote\" rel=\"nofollow\" title=\"Delete\">\n",
      "        <span>\n",
      "         X\n",
      "        </span>\n",
      "       </a>\n",
      "      </span>\n",
      "     </div>\n",
      "    </div>\n",
      "   </div>\n",
      "   <div class=\"inline-block ratings-metascore\">\n",
      "    <span class=\"metascore favorable\">\n",
      "     88\n",
      "    </span>\n",
      "    Metascore\n",
      "   </div>\n",
      "  </div>\n",
      "  <p class=\"text-muted\">\n",
      "   The story of American scientist,\n",
      "   <a href=\"/name/nm0649185\">\n",
      "    J. Robert Oppenheimer\n",
      "   </a>\n",
      "   , and his role in the development of the atomic bomb.\n",
      "  </p>\n",
      "  <p class=\"\">\n",
      "   Director:\n",
      "   <a href=\"/name/nm0634240/\">\n",
      "    Christopher Nolan\n",
      "   </a>\n",
      "   <span class=\"ghost\">\n",
      "    |\n",
      "   </span>\n",
      "   Stars:\n",
      "   <a href=\"/name/nm0614165/\">\n",
      "    Cillian Murphy\n",
      "   </a>\n",
      "   ,\n",
      "   <a href=\"/name/nm1289434/\">\n",
      "    Emily Blunt\n",
      "   </a>\n",
      "   ,\n",
      "   <a href=\"/name/nm0000354/\">\n",
      "    Matt Damon\n",
      "   </a>\n",
      "   ,\n",
      "   <a href=\"/name/nm0000375/\">\n",
      "    Robert Downey Jr.\n",
      "   </a>\n",
      "  </p>\n",
      "  <p class=\"sort-num_votes-visible\">\n",
      "   <span class=\"text-muted\">\n",
      "    Votes:\n",
      "   </span>\n",
      "   <span data-value=\"438110\" name=\"nv\">\n",
      "    438,110\n",
      "   </span>\n",
      "   <span class=\"ghost\">\n",
      "    |\n",
      "   </span>\n",
      "   <span class=\"text-muted top-chart-rank\">\n",
      "    <a href=\"https://www.imdb.com/chart/top/?ref_=ats_top250badge_intop100_to_top250chart\">\n",
      "     Top 250\n",
      "    </a>\n",
      "    :\n",
      "   </span>\n",
      "   <span data-value=\"43\" name=\"nv\">\n",
      "    #43\n",
      "   </span>\n",
      "  </p>\n",
      " </div>\n",
      "</div>\n",
      "\n"
     ]
    }
   ],
   "source": [
    "print(movies[0].prettify())"
   ]
  },
  {
   "cell_type": "markdown",
   "metadata": {},
   "source": [
    "Next, let's figure out how to extract the `name`, `year`, `runtime`, and `rating` of each movie. First, let's grab the first movie and save it to a variable called `movie`."
   ]
  },
  {
   "cell_type": "code",
   "execution_count": 32,
   "metadata": {},
   "outputs": [],
   "source": [
    "movie = movies[0]"
   ]
  },
  {
   "cell_type": "markdown",
   "metadata": {},
   "source": [
    "### Movie Name\n",
    "Let's figure out how to find the movie name."
   ]
  },
  {
   "cell_type": "code",
   "execution_count": 21,
   "metadata": {},
   "outputs": [
    {
     "name": "stdout",
     "output_type": "stream",
     "text": [
      "Oppenheimer\n"
     ]
    }
   ],
   "source": [
    "name = movie.h3.a.text\n",
    "print(name)"
   ]
  },
  {
   "cell_type": "markdown",
   "metadata": {},
   "source": [
    "### Year Released\n",
    "Let's figure out how to find the year the movie was released."
   ]
  },
  {
   "cell_type": "code",
   "execution_count": 24,
   "metadata": {},
   "outputs": [
    {
     "name": "stdout",
     "output_type": "stream",
     "text": [
      "2023\n"
     ]
    }
   ],
   "source": [
    "year = movie.h3.find('span', class_='lister-item-year').text.strip('()')\n",
    "print(year)"
   ]
  },
  {
   "cell_type": "markdown",
   "metadata": {},
   "source": [
    "### Movie Runtime\n",
    "Let's figure out how to find the run time of the movie."
   ]
  },
  {
   "cell_type": "code",
   "execution_count": 26,
   "metadata": {},
   "outputs": [
    {
     "name": "stdout",
     "output_type": "stream",
     "text": [
      "180\n"
     ]
    }
   ],
   "source": [
    "runtime = int(movie.p.find('span', class_='runtime').text.strip(' min'))\n",
    "print(runtime)"
   ]
  },
  {
   "cell_type": "markdown",
   "metadata": {},
   "source": [
    "### Movie Rating\n",
    "Let's figure out how to find the movie rating."
   ]
  },
  {
   "cell_type": "code",
   "execution_count": 28,
   "metadata": {},
   "outputs": [
    {
     "name": "stdout",
     "output_type": "stream",
     "text": [
      "8.6\n"
     ]
    }
   ],
   "source": [
    "rating = float(movie.strong.text)\n",
    "print(rating)"
   ]
  },
  {
   "cell_type": "markdown",
   "metadata": {},
   "source": [
    "How was can build a `for` loop to loop through all 100 movies and extract these four attributes."
   ]
  },
  {
   "cell_type": "code",
   "execution_count": 34,
   "metadata": {},
   "outputs": [
    {
     "data": {
      "text/html": [
       "<div>\n",
       "<style scoped>\n",
       "    .dataframe tbody tr th:only-of-type {\n",
       "        vertical-align: middle;\n",
       "    }\n",
       "\n",
       "    .dataframe tbody tr th {\n",
       "        vertical-align: top;\n",
       "    }\n",
       "\n",
       "    .dataframe thead th {\n",
       "        text-align: right;\n",
       "    }\n",
       "</style>\n",
       "<table border=\"1\" class=\"dataframe\">\n",
       "  <thead>\n",
       "    <tr style=\"text-align: right;\">\n",
       "      <th></th>\n",
       "      <th>name</th>\n",
       "      <th>year</th>\n",
       "      <th>runtime</th>\n",
       "      <th>rating</th>\n",
       "    </tr>\n",
       "  </thead>\n",
       "  <tbody>\n",
       "    <tr>\n",
       "      <th>0</th>\n",
       "      <td>Oppenheimer</td>\n",
       "      <td>2023</td>\n",
       "      <td>180</td>\n",
       "      <td>8.6</td>\n",
       "    </tr>\n",
       "    <tr>\n",
       "      <th>1</th>\n",
       "      <td>Spider-Man: Across the Spider-Verse</td>\n",
       "      <td>2023</td>\n",
       "      <td>140</td>\n",
       "      <td>8.7</td>\n",
       "    </tr>\n",
       "    <tr>\n",
       "      <th>2</th>\n",
       "      <td>Interstellar</td>\n",
       "      <td>2014</td>\n",
       "      <td>169</td>\n",
       "      <td>8.7</td>\n",
       "    </tr>\n",
       "    <tr>\n",
       "      <th>3</th>\n",
       "      <td>The Godfather</td>\n",
       "      <td>1972</td>\n",
       "      <td>175</td>\n",
       "      <td>9.2</td>\n",
       "    </tr>\n",
       "    <tr>\n",
       "      <th>4</th>\n",
       "      <td>The Shawshank Redemption</td>\n",
       "      <td>1994</td>\n",
       "      <td>142</td>\n",
       "      <td>9.3</td>\n",
       "    </tr>\n",
       "  </tbody>\n",
       "</table>\n",
       "</div>"
      ],
      "text/plain": [
       "                                  name  year  runtime  rating\n",
       "0                          Oppenheimer  2023      180     8.6\n",
       "1  Spider-Man: Across the Spider-Verse  2023      140     8.7\n",
       "2                         Interstellar  2014      169     8.7\n",
       "3                        The Godfather  1972      175     9.2\n",
       "4             The Shawshank Redemption  1994      142     9.3"
      ]
     },
     "execution_count": 34,
     "metadata": {},
     "output_type": "execute_result"
    }
   ],
   "source": [
    "names = []\n",
    "years = []\n",
    "runtimes = []\n",
    "ratings = []\n",
    "\n",
    "for movie in movies:\n",
    "    \n",
    "    name = movie.h3.a.text\n",
    "    names.append(name)\n",
    "    \n",
    "    year = movie.h3.find('span', class_='lister-item-year').text.strip('()')\n",
    "    years.append(year)\n",
    "    \n",
    "    runtime = int(movie.p.find('span', class_='runtime').text.strip(' min'))\n",
    "    runtimes.append(runtime)\n",
    "    \n",
    "    rating = float(movie.strong.text)\n",
    "    ratings.append(rating)\n",
    "       \n",
    "movies_df = pd.DataFrame({\n",
    "    'name': names,\n",
    "    'year': years,\n",
    "    'runtime': runtimes,\n",
    "    'rating': ratings\n",
    "})    \n",
    "\n",
    "movies_df.head()"
   ]
  },
  {
   "cell_type": "markdown",
   "metadata": {},
   "source": [
    "Now let's sort by the rating."
   ]
  },
  {
   "cell_type": "code",
   "execution_count": 38,
   "metadata": {},
   "outputs": [
    {
     "data": {
      "text/html": [
       "<div>\n",
       "<style scoped>\n",
       "    .dataframe tbody tr th:only-of-type {\n",
       "        vertical-align: middle;\n",
       "    }\n",
       "\n",
       "    .dataframe tbody tr th {\n",
       "        vertical-align: top;\n",
       "    }\n",
       "\n",
       "    .dataframe thead th {\n",
       "        text-align: right;\n",
       "    }\n",
       "</style>\n",
       "<table border=\"1\" class=\"dataframe\">\n",
       "  <thead>\n",
       "    <tr style=\"text-align: right;\">\n",
       "      <th></th>\n",
       "      <th>name</th>\n",
       "      <th>year</th>\n",
       "      <th>runtime</th>\n",
       "      <th>rating</th>\n",
       "    </tr>\n",
       "  </thead>\n",
       "  <tbody>\n",
       "    <tr>\n",
       "      <th>4</th>\n",
       "      <td>The Shawshank Redemption</td>\n",
       "      <td>1994</td>\n",
       "      <td>142</td>\n",
       "      <td>9.3</td>\n",
       "    </tr>\n",
       "    <tr>\n",
       "      <th>3</th>\n",
       "      <td>The Godfather</td>\n",
       "      <td>1972</td>\n",
       "      <td>175</td>\n",
       "      <td>9.2</td>\n",
       "    </tr>\n",
       "    <tr>\n",
       "      <th>45</th>\n",
       "      <td>The Lord of the Rings: The Return of the King</td>\n",
       "      <td>2003</td>\n",
       "      <td>201</td>\n",
       "      <td>9.0</td>\n",
       "    </tr>\n",
       "    <tr>\n",
       "      <th>26</th>\n",
       "      <td>Schindler's List</td>\n",
       "      <td>1993</td>\n",
       "      <td>195</td>\n",
       "      <td>9.0</td>\n",
       "    </tr>\n",
       "    <tr>\n",
       "      <th>5</th>\n",
       "      <td>The Dark Knight</td>\n",
       "      <td>2008</td>\n",
       "      <td>152</td>\n",
       "      <td>9.0</td>\n",
       "    </tr>\n",
       "  </tbody>\n",
       "</table>\n",
       "</div>"
      ],
      "text/plain": [
       "                                             name  year  runtime  rating\n",
       "4                        The Shawshank Redemption  1994      142     9.3\n",
       "3                                   The Godfather  1972      175     9.2\n",
       "45  The Lord of the Rings: The Return of the King  2003      201     9.0\n",
       "26                               Schindler's List  1993      195     9.0\n",
       "5                                 The Dark Knight  2008      152     9.0"
      ]
     },
     "execution_count": 38,
     "metadata": {},
     "output_type": "execute_result"
    }
   ],
   "source": [
    "movies_df.sort_values('rating', ascending=False).head()"
   ]
  }
 ],
 "metadata": {
  "kernelspec": {
   "display_name": "Python 3 (ipykernel)",
   "language": "python",
   "name": "python3"
  },
  "language_info": {
   "codemirror_mode": {
    "name": "ipython",
    "version": 3
   },
   "file_extension": ".py",
   "mimetype": "text/x-python",
   "name": "python",
   "nbconvert_exporter": "python",
   "pygments_lexer": "ipython3",
   "version": "3.10.9"
  }
 },
 "nbformat": 4,
 "nbformat_minor": 4
}
